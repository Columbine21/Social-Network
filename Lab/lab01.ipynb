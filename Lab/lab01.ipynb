{
 "cells": [
  {
   "cell_type": "code",
   "execution_count": 4,
   "metadata": {
    "deletable": false,
    "editable": false
   },
   "outputs": [
    {
     "name": "stdout",
     "output_type": "stream",
     "text": [
      "=====================================================================\n",
      "Assignment: lab01\n",
      "OK, version v1.12.5\n",
      "=====================================================================\n",
      "\n"
     ]
    }
   ],
   "source": [
    "# Initialize OK\n",
    "from client.api.notebook import Notebook\n",
    "ok = Notebook('lab01.ok')"
   ]
  },
  {
   "cell_type": "markdown",
   "metadata": {},
   "source": [
    "# Lab 1 Basics of using python notebook\n",
    "\n",
    "Welcome to the labs of Demog 180. This lab1 is designed to help students who would like to have some hands-on tutorial with the Python language and use of Jupyter notebook. Lab1 is constructed based on lab1 and lab2 in Data 8.\n",
    "\n",
    "Good resources for knowledge, tutorial and training in python:\n",
    "\n",
    "1. The website for Data8: http://data8.org/\n",
    " 1) Datascience documentation: http://data8.org/datascience/#\n",
    " 2) Textbook for Data 8: Computational and Inferential thinking  https://www.inferentialthinking.com/chapters/intro.html\n",
    "2. Cheatsheet for syntext: https://www.datacamp.com/community/data-science-cheatsheets\n",
    "\n",
    "\n",
    "Lab policies:\n",
    "\n",
    "1. For the labs in this semester, you are not required to attend the lab sessions but **required to submit labs.** \n",
    "2. Labs are not graded based on the accuracy of your answers, but on effort; to get full credit, you have to make a good faith attempt at solving all of the lab. Labs are intended to help prepare you for the homework, so completing the labs will also help make the homework easier.\n",
    "3. You are welcome to ask any questions during labs and on Piazza. We strongly encourage students to help each other with labs and try new things.\n",
    "\n",
    "Let's get started."
   ]
  },
  {
   "cell_type": "code",
   "execution_count": null,
   "metadata": {},
   "outputs": [],
   "source": [
    "# run this line if you need to upgrade the pip\n",
    "!pip install --upgrade pip"
   ]
  },
  {
   "cell_type": "code",
   "execution_count": 113,
   "metadata": {},
   "outputs": [
    {
     "name": "stdout",
     "output_type": "stream",
     "text": [
      "Collecting jassign\n",
      "  Using cached https://files.pythonhosted.org/packages/74/e2/b0c116e0644b61721d89dcbfae0bb1042d92391e4f780987eb6f53ffe3da/jassign-0.0.7-py3-none-any.whl\n",
      "Requirement already satisfied: pyyaml in /srv/app/venv/lib/python3.6/site-packages (from jassign)\n",
      "Requirement already satisfied: nbformat in /srv/app/venv/lib/python3.6/site-packages (from jassign)\n",
      "Requirement already satisfied: tqdm in /srv/app/venv/lib/python3.6/site-packages (from jassign)\n",
      "Requirement already satisfied: ipython in /srv/app/venv/lib/python3.6/site-packages (from jassign)\n",
      "Requirement already satisfied: nbconvert in /srv/app/venv/lib/python3.6/site-packages (from jassign)\n",
      "Requirement already satisfied: setuptools in /srv/app/venv/lib/python3.6/site-packages (from jassign)\n",
      "Requirement already satisfied: jupyter-core in /srv/app/venv/lib/python3.6/site-packages (from nbformat->jassign)\n",
      "Requirement already satisfied: traitlets>=4.1 in /srv/app/venv/lib/python3.6/site-packages (from nbformat->jassign)\n",
      "Requirement already satisfied: jsonschema!=2.5.0,>=2.4 in /srv/app/venv/lib/python3.6/site-packages (from nbformat->jassign)\n",
      "Requirement already satisfied: ipython-genutils in /srv/app/venv/lib/python3.6/site-packages (from nbformat->jassign)\n",
      "Requirement already satisfied: pickleshare in /srv/app/venv/lib/python3.6/site-packages (from ipython->jassign)\n",
      "Requirement already satisfied: decorator in /srv/app/venv/lib/python3.6/site-packages (from ipython->jassign)\n",
      "Requirement already satisfied: backcall in /srv/app/venv/lib/python3.6/site-packages (from ipython->jassign)\n",
      "Requirement already satisfied: jedi>=0.10 in /srv/app/venv/lib/python3.6/site-packages (from ipython->jassign)\n",
      "Requirement already satisfied: pygments in /srv/app/venv/lib/python3.6/site-packages (from ipython->jassign)\n",
      "Requirement already satisfied: prompt-toolkit<2.1.0,>=2.0.0 in /srv/app/venv/lib/python3.6/site-packages (from ipython->jassign)\n",
      "Requirement already satisfied: pexpect; sys_platform != \"win32\" in /srv/app/venv/lib/python3.6/site-packages (from ipython->jassign)\n",
      "Requirement already satisfied: mistune>=0.8.1 in /srv/app/venv/lib/python3.6/site-packages (from nbconvert->jassign)\n",
      "Requirement already satisfied: defusedxml in /srv/app/venv/lib/python3.6/site-packages (from nbconvert->jassign)\n",
      "Requirement already satisfied: jinja2>=2.4 in /srv/app/venv/lib/python3.6/site-packages (from nbconvert->jassign)\n",
      "Requirement already satisfied: entrypoints>=0.2.2 in /srv/app/venv/lib/python3.6/site-packages (from nbconvert->jassign)\n",
      "Requirement already satisfied: bleach in /srv/app/venv/lib/python3.6/site-packages (from nbconvert->jassign)\n",
      "Requirement already satisfied: testpath in /srv/app/venv/lib/python3.6/site-packages (from nbconvert->jassign)\n",
      "Requirement already satisfied: pandocfilters>=1.4.1 in /srv/app/venv/lib/python3.6/site-packages (from nbconvert->jassign)\n",
      "Requirement already satisfied: six in /srv/app/venv/lib/python3.6/site-packages (from traitlets>=4.1->nbformat->jassign)\n",
      "Requirement already satisfied: attrs>=17.4.0 in /srv/app/venv/lib/python3.6/site-packages (from jsonschema!=2.5.0,>=2.4->nbformat->jassign)\n",
      "Requirement already satisfied: pyrsistent>=0.14.0 in /srv/app/venv/lib/python3.6/site-packages (from jsonschema!=2.5.0,>=2.4->nbformat->jassign)\n",
      "Requirement already satisfied: parso>=0.3.0 in /srv/app/venv/lib/python3.6/site-packages (from jedi>=0.10->ipython->jassign)\n",
      "Requirement already satisfied: wcwidth in /srv/app/venv/lib/python3.6/site-packages (from prompt-toolkit<2.1.0,>=2.0.0->ipython->jassign)\n",
      "Requirement already satisfied: ptyprocess>=0.5 in /srv/app/venv/lib/python3.6/site-packages (from pexpect; sys_platform != \"win32\"->ipython->jassign)\n",
      "Requirement already satisfied: MarkupSafe>=0.23 in /srv/app/venv/lib/python3.6/site-packages (from jinja2>=2.4->nbconvert->jassign)\n",
      "Requirement already satisfied: webencodings in /srv/app/venv/lib/python3.6/site-packages (from bleach->nbconvert->jassign)\n",
      "Installing collected packages: jassign\n",
      "Successfully installed jassign-0.0.7\n"
     ]
    }
   ],
   "source": [
    "!pip install jassign"
   ]
  },
  {
   "cell_type": "code",
   "execution_count": 114,
   "metadata": {},
   "outputs": [],
   "source": [
    "# We need to import some modules before we start\n",
    "# modules have functions built in, and we need to import them first in order to use the functions we need\n",
    "from datascience import Table\n",
    "import jassign\n",
    "\n",
    "import matplotlib # the lines involving matplotlib allow for plotting\n",
    "matplotlib.use('Agg')\n",
    "%matplotlib inline\n",
    "import matplotlib.pyplot as plt\n",
    "import numpy as np\n",
    "plt.style.use('fivethirtyeight') # 538 is a style in matplotlib, \n",
    "                                 # see https://tonysyu.github.io/raw_content/matplotlib-style-gallery/gallery.html for some other styles"
   ]
  },
  {
   "cell_type": "markdown",
   "metadata": {},
   "source": [
    "# 1. Jupyter Notebook\n",
    "This webpage is called a Jupyter notebook. A notebook is a place to write programs and view their results.\n",
    "\n",
    "## 1.1. Text cells\n",
    "In a notebook, each rectangle containing text or code is called a cell.\n",
    "\n",
    "Text cells (like this one) can be edited by double-clicking on them. They're written in a simple format called *Markdown* to add formatting and section headings. You don't need to learn Markdown, but you might want to.\n",
    "\n",
    "After you edit a text cell, click the \"run cell\" button at the top that looks like ▶| to confirm any changes. (Try not to delete the instructions of the lab.)\n",
    "\n",
    "**Practice** This paragraph is in its own text cell.  Try editing it so that this sentence is the last sentence in the paragraph above, and then click the \"run cell\" ▶| button ."
   ]
  },
  {
   "cell_type": "markdown",
   "metadata": {},
   "source": [
    "**Practice** This paragraph is in its own text cell.  Try editing it so that this sentence is the last sentence in the paragraph above, and then click the \"run cell\" ▶| button ."
   ]
  },
  {
   "cell_type": "markdown",
   "metadata": {},
   "source": [
    "## 1.2 Code cells\n",
    "Other cells contain code in the Python 3 language. Running a code cell will execute all of the code it contains.\n",
    "\n",
    "To run the code in a code cell, first click on that cell to activate it. It'll be highlighted with a little green or blue rectangle. Next, either press ▶| or hold down the shift key and press return or enter.\n",
    "\n",
    "Try running this cell:"
   ]
  },
  {
   "cell_type": "code",
   "execution_count": 1,
   "metadata": {},
   "outputs": [
    {
     "name": "stdout",
     "output_type": "stream",
     "text": [
      "Hello, World!\n"
     ]
    }
   ],
   "source": [
    "print(\"Hello, World!\")"
   ]
  },
  {
   "cell_type": "markdown",
   "metadata": {},
   "source": [
    "And this one:"
   ]
  },
  {
   "cell_type": "code",
   "execution_count": 7,
   "metadata": {},
   "outputs": [
    {
     "name": "stdout",
     "output_type": "stream",
     "text": [
      "👋, 🌏!\n"
     ]
    }
   ],
   "source": [
    "print(\"\\N{WAVING HAND SIGN}, \\N{EARTH GLOBE ASIA-AUSTRALIA}!\")"
   ]
  },
  {
   "cell_type": "markdown",
   "metadata": {},
   "source": [
    "The fundamental building block of Python code is an expression. Cells can contain multiple lines with multiple expressions. When you run a cell, the lines of code are executed in the order in which they appear. Every print expression prints a line. Run the next cell and notice the order of the output."
   ]
  },
  {
   "cell_type": "code",
   "execution_count": 8,
   "metadata": {},
   "outputs": [
    {
     "name": "stdout",
     "output_type": "stream",
     "text": [
      "First this line, then the whole 🌏, and then this one.\n"
     ]
    }
   ],
   "source": [
    "# print(\"First this line is printed,\")\n",
    "# print(\"and then this one.\")\n",
    "\n",
    "print(\"First this line,\", end = ' ')\n",
    "print(\"then the whole \\N{EARTH GLOBE ASIA-AUSTRALIA},\", end = ' ')\n",
    "print(\"and then this one.\", end = '\\n')"
   ]
  },
  {
   "cell_type": "markdown",
   "metadata": {},
   "source": [
    "**Practice** Change the cell above so that it prints out:\n",
    "\n",
    "First this line,\n",
    "then the whole 🌏,\n",
    "and then this one.\n",
    "Hint: If you're stuck on the Earth symbol for more than a few minutes, try talking to a neighbor or the instructor. That's a good idea for any lab problem."
   ]
  },
  {
   "cell_type": "markdown",
   "metadata": {},
   "source": [
    "## 1.3. Writing Jupyter notebooks\n",
    "You can use Jupyter notebooks for your own projects or documents.  When you make your own notebook, you'll need to create your own cells for text and code.\n",
    "\n",
    "To add a cell, click the + button in the menu bar.  You can change the cell to a code cell or marktown (text) cell by clicking inside it so it's highlighted, clicking the drop-down box next to the restart (⟳) button in the menu bar, and choosing \"Code\" or \"Markdown\".\n",
    "\n",
    "**Practice** Add a code cell below this one.  Write code in it that prints out:\n",
    "   \n",
    "    A whole new cell! ♪🌏♪\n",
    "\n",
    "(That musical note symbol is like the Earth symbol.  Its long-form name is `\\N{EIGHTH NOTE}`.)\n",
    "\n",
    "Run your cell to verify that it works."
   ]
  },
  {
   "cell_type": "markdown",
   "metadata": {},
   "source": []
  },
  {
   "cell_type": "code",
   "execution_count": 9,
   "metadata": {},
   "outputs": [
    {
     "name": "stdout",
     "output_type": "stream",
     "text": [
      "A whole new cell! ♪🌏♪\n"
     ]
    }
   ],
   "source": [
    "print(\"A whole new cell! \\N{EIGHTH NOTE}\\N{EARTH GLOBE ASIA-AUSTRALIA}\\N{EIGHTH NOTE}\")"
   ]
  },
  {
   "cell_type": "markdown",
   "metadata": {},
   "source": [
    "## 1.4. The Kernel\n",
    "The kernel is a program that executes the code inside your notebook and outputs the results. In the top right of your window, you can see a circle that indicates the status of your kernel. If the circle is empty (⚪), the kernel is idle and ready to execute code. If the circle is filled in (⚫), the kernel is busy running some code. \n",
    "\n",
    "You may run into problems where your kernel is stuck for an excessive amount of time, your notebook is very slow and unresponsive, or your kernel loses its connection. If this happens, try the following steps:\n",
    "1. At the top of your screen (between \"Cell\" and \"Widgets“） , click **Kernel**, then **Interrupt**.\n",
    "2. If that doesn't help, click **Kernel**, then **Restart**. If you do this, you will have to run your code cells from the start of your notebook up until where you paused your work.\n",
    "3. If that doesn't help, restart your server. First, save your work by clicking **File** at the top left of your screen, then **Save and Checkpoint**. Next, click **Control Panel** at the top right. Choose **Stop My Server** to shut it down, then **My Server** to start it back up. Then, navigate back to the notebook you were working on."
   ]
  },
  {
   "cell_type": "markdown",
   "metadata": {},
   "source": [
    "# 2. Numbers and arithmetic"
   ]
  },
  {
   "cell_type": "markdown",
   "metadata": {},
   "source": [
    "Python could do arithmetic directly.\n",
    "The line in the next cell subtracts.  Its value is what you'd expect.  Run it."
   ]
  },
  {
   "cell_type": "code",
   "execution_count": 10,
   "metadata": {},
   "outputs": [
    {
     "data": {
      "text/plain": [
       "1.75"
      ]
     },
     "execution_count": 10,
     "metadata": {},
     "output_type": "execute_result"
    }
   ],
   "source": [
    "3.25 - 1.5"
   ]
  },
  {
   "cell_type": "markdown",
   "metadata": {},
   "source": [
    "Many basic arithmetic operations are built in to Python. The textbook section on Expressions describes all the arithmetic operators used in the course.\n",
    "\n",
    "Note that the common operator that differs from typical math notation is, which raises one number to the power of the other. So, 2\\**3 evaluates to 8. Using ^ to denote power will return an error.\n",
    "\n",
    "The order of operations is what you learned in elementary school, and Python also has parentheses."
   ]
  },
  {
   "cell_type": "code",
   "execution_count": 11,
   "metadata": {},
   "outputs": [
    {
     "data": {
      "text/plain": [
       "-723.0"
      ]
     },
     "execution_count": 11,
     "metadata": {},
     "output_type": "execute_result"
    }
   ],
   "source": [
    "3+6*5-6*3**2*2**3/4*7"
   ]
  },
  {
   "cell_type": "code",
   "execution_count": 12,
   "metadata": {},
   "outputs": [
    {
     "data": {
      "text/plain": [
       "2019.0"
      ]
     },
     "execution_count": 12,
     "metadata": {},
     "output_type": "execute_result"
    }
   ],
   "source": [
    "3+(6*5-(6*3))**2*((2**3)/4*7)"
   ]
  },
  {
   "cell_type": "markdown",
   "metadata": {
    "deletable": false,
    "editable": false
   },
   "source": [
    "**Question 1** Write a Python expression in this next cell that's equal to $5 \\times (3 \\frac{10}{11}) - 50 \\frac{1}{3} + 2^{.5 \\times 22} - \\frac{7}{33} + 2$.  That's five times three and ten elevenths, minus fifty and a third, plus two to the power of half 22, minus 7 33rds plus 1.  By \"$3 \\frac{10}{11}$\" we mean $3+\\frac{10}{11}$, not $3 \\times \\frac{10}{11}$.\n",
    "\n",
    "Replace the ellipses (`...`) with your expression.  Try to use parentheses only when necessary.\n",
    "\n",
    "<!--\n",
    "BEGIN QUESTION\n",
    "name: q1\n",
    "points: 2\n",
    "manual: False\n",
    "-->"
   ]
  },
  {
   "cell_type": "code",
   "execution_count": 13,
   "metadata": {},
   "outputs": [
    {
     "data": {
      "text/plain": [
       "2019.0"
      ]
     },
     "execution_count": 13,
     "metadata": {},
     "output_type": "execute_result"
    }
   ],
   "source": [
    "answer = 5 *(3 + 10 / 11) - (50 + 1 / 3) + 2 ** (0.5 * 22) - 7 / 33 + 2   # Please replace ... with your answer\n",
    "answer"
   ]
  },
  {
   "cell_type": "code",
   "execution_count": 14,
   "metadata": {
    "deletable": false,
    "editable": false
   },
   "outputs": [
    {
     "name": "stdout",
     "output_type": "stream",
     "text": [
      "~~~~~~~~~~~~~~~~~~~~~~~~~~~~~~~~~~~~~~~~~~~~~~~~~~~~~~~~~~~~~~~~~~~~~\n",
      "Running tests\n",
      "\n",
      "---------------------------------------------------------------------\n",
      "Test summary\n",
      "    Passed: 1\n",
      "    Failed: 0\n",
      "[ooooooooook] 100.0% passed\n",
      "\n"
     ]
    }
   ],
   "source": [
    "ok.grade(\"q1\");"
   ]
  },
  {
   "cell_type": "markdown",
   "metadata": {},
   "source": [
    "## 3. Checking and commenting your code\n",
    "Now that you know how to name things, you can start using the built-in *tests* to check whether your work is correct (like the cell above). Try not to change the contents of the test cells. Running the testing cell will tell you whether you have q1 correctly in Question 1."
   ]
  },
  {
   "cell_type": "markdown",
   "metadata": {},
   "source": [
    "You may have noticed this line in the cell above:\n",
    "\n",
    "    # Please replace ... with your answer\n",
    "\n",
    "That is called a *comment*.  It doesn't make anything happen in Python; Python ignores anything on a line after a #.  Instead, it's there to communicate something about the code to you, the human reader.  Comments are extremely useful and it is helpful to have a consistent way of commenting and keep notes about things. This habit will help you when you go back to a project after two years and try to have others read your work.\n",
    "\n",
    "<img src=\"http://imgs.xkcd.com/comics/future_self.png\">"
   ]
  },
  {
   "cell_type": "markdown",
   "metadata": {},
   "source": [
    "## 4. Calling functions and nesting\n",
    "\n",
    "The most common way to combine or manipulate values in Python is by calling functions. Python comes with many built-in functions that perform common operations.\n",
    "\n",
    "For example, the `abs` function takes a single number as its argument and returns the absolute value of that number.  The absolute value of a number is its distance from 0 on the number line, so `abs(5)` is 5 and `abs(-5)` is also 5."
   ]
  },
  {
   "cell_type": "code",
   "execution_count": 15,
   "metadata": {},
   "outputs": [
    {
     "data": {
      "text/plain": [
       "5"
      ]
     },
     "execution_count": 15,
     "metadata": {},
     "output_type": "execute_result"
    }
   ],
   "source": [
    "abs(5)"
   ]
  },
  {
   "cell_type": "code",
   "execution_count": 16,
   "metadata": {},
   "outputs": [
    {
     "data": {
      "text/plain": [
       "5"
      ]
     },
     "execution_count": 16,
     "metadata": {},
     "output_type": "execute_result"
    }
   ],
   "source": [
    "abs(-5)"
   ]
  },
  {
   "cell_type": "markdown",
   "metadata": {},
   "source": [
    "After calling the function `abs`, you get a value 5 from this **expression** abs(-5).\n",
    "You can assign this value to a name by an equal sign so that we could use this value in other contexts. This process takes an **assignment statement**.\n",
    "An assignment statement works as we're **evaluating the right-hand side** of the equals sign and **assigning it to the left-hand side**.\n",
    "\n",
    "The **statements** and **expressions** are the building blocks of python code."
   ]
  },
  {
   "cell_type": "markdown",
   "metadata": {},
   "source": [
    "**Practice** Use the `abs` function to calculate how much shorter is A, 1.24 meters tall, from average human height, 1.68 meters tall. Assign the result to the answer variable called 'short'."
   ]
  },
  {
   "cell_type": "code",
   "execution_count": 17,
   "metadata": {},
   "outputs": [],
   "source": [
    "short = abs(1.24 - 1.68)"
   ]
  },
  {
   "cell_type": "markdown",
   "metadata": {},
   "source": [
    "An additional layer of nesting: the function `max` takes two values and return the bigger one, and the `min` function returns the smallest of values. Call functions to answer the following question."
   ]
  },
  {
   "cell_type": "markdown",
   "metadata": {
    "deletable": false,
    "editable": false
   },
   "source": [
    "**Question 2** Among A (1.24m), B (1.53m) and C (1.72m), which one deviates the most from the average height (1.68m)? Assign the biggest distance from average as the answer 'biggest'.\n",
    "\n",
    "<!--\n",
    "BEGIN QUESTION\n",
    "name: q2\n",
    "points: 2\n",
    "manual: False\n",
    "-->"
   ]
  },
  {
   "cell_type": "code",
   "execution_count": 18,
   "metadata": {},
   "outputs": [
    {
     "data": {
      "text/plain": [
       "0.43999999999999995"
      ]
     },
     "execution_count": 18,
     "metadata": {},
     "output_type": "execute_result"
    }
   ],
   "source": [
    "dis_A = abs(1.24 - 1.68)\n",
    "dis_B = abs(1.53 - 1.68)\n",
    "dis_C = abs(1.72 - 1.68)\n",
    "\n",
    "max(dis_A, dis_B, dis_C)"
   ]
  },
  {
   "cell_type": "code",
   "execution_count": 19,
   "metadata": {
    "deletable": false,
    "editable": false
   },
   "outputs": [
    {
     "name": "stdout",
     "output_type": "stream",
     "text": [
      "~~~~~~~~~~~~~~~~~~~~~~~~~~~~~~~~~~~~~~~~~~~~~~~~~~~~~~~~~~~~~~~~~~~~~\n",
      "Running tests\n",
      "\n",
      "---------------------------------------------------------------------\n",
      "Test summary\n",
      "    Passed: 1\n",
      "    Failed: 0\n",
      "[ooooooooook] 100.0% passed\n",
      "\n"
     ]
    }
   ],
   "source": [
    "ok.grade(\"q2\");"
   ]
  },
  {
   "cell_type": "markdown",
   "metadata": {},
   "source": [
    "# 5. Importing code and functions"
   ]
  },
  {
   "cell_type": "markdown",
   "metadata": {},
   "source": [
    "ost programming involves work that is very similar to work that has been done before.  Since writing code is time-consuming, it's good to rely on others' published code when you can.  Rather than copy-pasting, Python allows us to **import** other code, creating a **module** that contains all of the names created by that code.\n",
    "\n",
    "Python includes many useful modules that are just an `import` away.  We'll look at the `math` module as a first example. The `math` module is extremely useful in computing mathematical expressions in Python. \n",
    "\n",
    "Suppose we want to very accurately compute the area of a circle with radius 5 meters.  For that, we need the constant $\\pi$, which is roughly 3.14.  Conveniently, the `math` module has `pi` defined for us:"
   ]
  },
  {
   "cell_type": "code",
   "execution_count": 20,
   "metadata": {},
   "outputs": [],
   "source": [
    "import math\n",
    "radius = 5\n",
    "area_of_circle = radius**2 * math.pi"
   ]
  },
  {
   "cell_type": "markdown",
   "metadata": {},
   "source": [
    "`pi` is defined inside `math`, and the way that we access names that are inside modules is by writing the module's name, then a dot, then the name of the thing we want:\n",
    "\n",
    "    <module name>.<name>\n",
    "    \n",
    "In order to use a module at all, we must first write the statement `import <module name>`.  That statement creates a module object with things like `pi` in it and then assigns the name `math` to that module.  Above we have done that for `math`."
   ]
  },
  {
   "cell_type": "markdown",
   "metadata": {},
   "source": [
    "**Practice** The module `math` also provides the name `e` for the base of the natural logarithm, which is roughly 2.71.  Compute $e^{\\pi}-\\pi$, giving it the name `near_twenty`."
   ]
  },
  {
   "cell_type": "code",
   "execution_count": 21,
   "metadata": {},
   "outputs": [
    {
     "data": {
      "text/plain": [
       "19.99909997918947"
      ]
     },
     "execution_count": 21,
     "metadata": {},
     "output_type": "execute_result"
    }
   ],
   "source": [
    "near_twenty = math.e ** math.pi - math.pi \n",
    "near_twenty"
   ]
  },
  {
   "cell_type": "markdown",
   "metadata": {},
   "source": [
    "**Modules** can provide other named things, including **functions**.  For example, `math` provides the name `sin` for the sine function.  Having imported `math` already, we can write `math.sin(3)` to compute the sine of 3.  (Note that this sine function considers its argument to be in [radians](https://en.wikipedia.org/wiki/Radian), not degrees.  180 degrees are equivalent to $\\pi$ radians.)"
   ]
  },
  {
   "cell_type": "markdown",
   "metadata": {
    "deletable": false,
    "editable": false
   },
   "source": [
    "**Question 3** A $\\frac{\\pi}{4}$-radian (45-degree) angle forms a right triangle with equal base and height, pictured below.  If the hypotenuse (the radius of the circle in the picture) is 1, then the height is $\\sin(\\frac{\\pi}{4})$.  Compute that using `sin` and `pi` from the `math` module.  Give the result the name `sine_of_pi_over_four`.\n",
    "\n",
    "<img src=\"http://mathworld.wolfram.com/images/eps-gif/TrigonometryAnglesPi4_1000.gif\">\n",
    "(Source: [Wolfram MathWorld](http://mathworld.wolfram.com/images/eps-gif/TrigonometryAnglesPi4_1000.gif))\n",
    "\n",
    "<!--\n",
    "BEGIN QUESTION\n",
    "name: q3\n",
    "points: 2\n",
    "manual: False\n",
    "-->"
   ]
  },
  {
   "cell_type": "code",
   "execution_count": 22,
   "metadata": {},
   "outputs": [
    {
     "data": {
      "text/plain": [
       "0.7071067811865475"
      ]
     },
     "execution_count": 22,
     "metadata": {},
     "output_type": "execute_result"
    }
   ],
   "source": [
    "sine_of_pi_over_four = math.sin(math.pi / 4)\n",
    "sine_of_pi_over_four"
   ]
  },
  {
   "cell_type": "code",
   "execution_count": 23,
   "metadata": {
    "deletable": false,
    "editable": false
   },
   "outputs": [
    {
     "name": "stdout",
     "output_type": "stream",
     "text": [
      "~~~~~~~~~~~~~~~~~~~~~~~~~~~~~~~~~~~~~~~~~~~~~~~~~~~~~~~~~~~~~~~~~~~~~\n",
      "Running tests\n",
      "\n",
      "---------------------------------------------------------------------\n",
      "Test summary\n",
      "    Passed: 1\n",
      "    Failed: 0\n",
      "[ooooooooook] 100.0% passed\n",
      "\n"
     ]
    }
   ],
   "source": [
    "ok.grade(\"q3\");"
   ]
  },
  {
   "cell_type": "markdown",
   "metadata": {},
   "source": [
    "You can try the other functions in the `math` module: `log`,`factorial`,`sqrt`,etc."
   ]
  },
  {
   "cell_type": "markdown",
   "metadata": {},
   "source": [
    "There's many variations of how we can import methods from outside sources. For example, we can import just a specific method from an outside source, we can rename a library we import, and we can import every single method from a whole library. "
   ]
  },
  {
   "cell_type": "code",
   "execution_count": 24,
   "metadata": {},
   "outputs": [
    {
     "name": "stdout",
     "output_type": "stream",
     "text": [
      "-1.0\n"
     ]
    },
    {
     "data": {
      "text/plain": [
       "1.1447298858494002"
      ]
     },
     "execution_count": 24,
     "metadata": {},
     "output_type": "execute_result"
    }
   ],
   "source": [
    "#Importing just cos and pi from math.\n",
    "#Notice that we don't have to use math. before hand for cos and pi\n",
    "from math import cos, pi\n",
    "print(cos(pi))\n",
    "#We do have to use it infront of other methods from math, though\n",
    "math.log(pi) # Note that the log in math module take the natural logrithm (base e) of a number"
   ]
  },
  {
   "cell_type": "code",
   "execution_count": 25,
   "metadata": {},
   "outputs": [
    {
     "data": {
      "text/plain": [
       "1.1447298858494002"
      ]
     },
     "execution_count": 25,
     "metadata": {},
     "output_type": "execute_result"
    }
   ],
   "source": [
    "#We can nickname math as something else, if we don't want to type math\n",
    "import math as m\n",
    "m.log(m.pi)"
   ]
  },
  {
   "cell_type": "code",
   "execution_count": 26,
   "metadata": {},
   "outputs": [
    {
     "data": {
      "text/plain": [
       "1.1447298858494002"
      ]
     },
     "execution_count": 26,
     "metadata": {},
     "output_type": "execute_result"
    }
   ],
   "source": [
    "#Lastly, we can import ever thing from math\n",
    "from math import *\n",
    "log(pi)"
   ]
  },
  {
   "cell_type": "markdown",
   "metadata": {},
   "source": [
    "# 6. Defining functions\n",
    "\n",
    "Sometimes the functions written by other people are not convenient enough to serve our purposes. In such case, we can define new functions to simply the coding process. \n",
    "\n",
    "Let's write a very simple function that converts a proportion to a percentage by multiplying it by 100.  For example, the value of `to_percentage(.5)` should be the number 50.  (No percent sign)\n",
    "\n",
    "A function definition has a few parts.\n",
    "\n",
    "##### `def`\n",
    "It always starts with `def` (short for **def**ine):\n",
    "\n",
    "    def\n",
    "\n",
    "##### Name\n",
    "Next comes the name of the function.  Let's call our function `to_percentage`.\n",
    "    \n",
    "    def to_percentage\n",
    "\n",
    "##### Signature\n",
    "Next comes something called the *signature* of the function.  This tells Python how many arguments your function should have, and what names you'll use to refer to those arguments in the function's code.  `to_percentage` should take one argument, and we'll call that argument `proportion` since it should be a proportion.\n",
    "\n",
    "    def to_percentage(proportion)\n",
    "\n",
    "We put a colon after the signature to tell Python it's over.\n",
    "\n",
    "    def to_percentage(proportion):\n",
    "\n",
    "##### Documentation\n",
    "Functions can do complicated things, so you should write an explanation of what your function does.  For small functions, this is less important, but it's a good habit to learn from the start.  Conventionally, Python functions are documented by writing a triple-quoted string:\n",
    "\n",
    "    def to_percentage(proportion):\n",
    "        \"\"\"Converts a proportion to a percentage.\"\"\"\n",
    "    \n",
    "    \n",
    "##### Body\n",
    "Now we start writing code that runs when the function is called.  This is called the *body* of the function.  We can write anything we could write anywhere else.  First let's give a name to the number we multiply a proportion by to get a percentage.\n",
    "\n",
    "    def to_percentage(proportion):\n",
    "        \"\"\"Converts a proportion to a percentage.\"\"\"\n",
    "        factor = 100\n",
    "\n",
    "##### `return`\n",
    "The special instruction `return` in a function's body tells Python to make the value of the function call equal to whatever comes right after `return`.  We want the value of `to_percentage(.5)` to be the proportion .5 times the factor 100, so we write:\n",
    "\n",
    "    def to_percentage(proportion):\n",
    "        \"\"\"Converts a proportion to a percentage.\"\"\"\n",
    "        factor = 100\n",
    "        return proportion * factor\n",
    "Note that `return` inside a function gives the function a value, while `print`, which we have used before, is a function which has no `return` value and just prints a certain value out to the console. The two are **very** different. \n",
    "However, you can use print() if you just want to print out a value and you don't need to store the value in a name."
   ]
  },
  {
   "cell_type": "code",
   "execution_count": 27,
   "metadata": {},
   "outputs": [
    {
     "data": {
      "text/plain": [
       "18.0"
      ]
     },
     "execution_count": 27,
     "metadata": {},
     "output_type": "execute_result"
    }
   ],
   "source": [
    "# Define and run the to_percentage function\n",
    "def to_percentage(proportion):\n",
    "    \"\"\"Converts a proportion to a percentage.\"\"\"\n",
    "    factor = 100\n",
    "    return proportion * factor\n",
    "to_percentage(0.18)"
   ]
  },
  {
   "cell_type": "markdown",
   "metadata": {},
   "source": [
    "Here's something important about functions: the names assigned within a function body are only accessible within the function body. Once the function has returned, those names are gone.  So even though you defined `factor = 100` inside  the body of the `to_percentage` function up above and then called `to_percentage`, you cannot refer to `factor` anywhere except inside the body of `to_percentage`:"
   ]
  },
  {
   "cell_type": "code",
   "execution_count": 28,
   "metadata": {},
   "outputs": [
    {
     "ename": "NameError",
     "evalue": "name 'factor' is not defined",
     "output_type": "error",
     "traceback": [
      "\u001b[0;31m---------------------------------------------------------------------------\u001b[0m",
      "\u001b[0;31mNameError\u001b[0m                                 Traceback (most recent call last)",
      "\u001b[0;32m<ipython-input-28-a219be0dab32>\u001b[0m in \u001b[0;36m<module>\u001b[0;34m\u001b[0m\n\u001b[1;32m      1\u001b[0m \u001b[0;31m# You should see an error when you run this.  (If you don't, you might\u001b[0m\u001b[0;34m\u001b[0m\u001b[0;34m\u001b[0m\u001b[0;34m\u001b[0m\u001b[0m\n\u001b[1;32m      2\u001b[0m \u001b[0;31m# have defined factor somewhere above.)\u001b[0m\u001b[0;34m\u001b[0m\u001b[0;34m\u001b[0m\u001b[0;34m\u001b[0m\u001b[0m\n\u001b[0;32m----> 3\u001b[0;31m \u001b[0mfactor\u001b[0m\u001b[0;34m\u001b[0m\u001b[0;34m\u001b[0m\u001b[0m\n\u001b[0m",
      "\u001b[0;31mNameError\u001b[0m: name 'factor' is not defined"
     ]
    }
   ],
   "source": [
    "# You should see an error when you run this.  (If you don't, you might\n",
    "# have defined factor somewhere above.)\n",
    "factor"
   ]
  },
  {
   "cell_type": "markdown",
   "metadata": {},
   "source": [
    "# 7. Ifelse and loops\n",
    "## 7.1 Conditional Statements\n",
    "\n",
    "A conditional statement is composed of a sequence of conditions that allow Python to choose from different alternatives based on whether some condition is true.\n",
    "\n",
    "Here is a basic example.\n",
    "\n",
    "```\n",
    "def sign(x):\n",
    "    if x > 0:\n",
    "        return 'Positive'\n",
    "    else:\n",
    "        return 'Negative'\n",
    "```\n",
    "\n",
    "If the input `x` is greater than `0`, we return the string `'Positive'`. Otherwise, we return `'Negative'`.\n",
    "\n",
    "If we want to test multiple conditions at once, we use the following general format.\n",
    "\n",
    "```\n",
    "if <if expression>:\n",
    "    <if body>\n",
    "elif <elif expression 0>:\n",
    "    <elif body 0>\n",
    "elif <elif expression 1>:\n",
    "    <elif body 1>\n",
    "...\n",
    "else:\n",
    "    <else body>\n",
    "```\n",
    "\n",
    "Only the body for which the conditional expression is true will be evaluated. Each `if` and `elif` expression is evaluated and considered in order, starting at the top. As soon as a true value is found, the corresponding body is executed, and the rest of the conditional statement is skipped. If none of the `if` or `elif` expressions are true, then the `else body` is executed. \n",
    "\n",
    "For more examples and explanation, refer to the section on conditional statements [here](https://www.inferentialthinking.com/chapters/09/1/conditional-statements.html)."
   ]
  },
  {
   "cell_type": "markdown",
   "metadata": {},
   "source": [
    "**Practice** Build a abs_log function that it returns the absolute value of the log of a positive number, and returns an error message saying \"Error: the input number should be positive.\" Test this function by yourself."
   ]
  },
  {
   "cell_type": "code",
   "execution_count": 29,
   "metadata": {},
   "outputs": [],
   "source": [
    "def abs_log_improve(number):\n",
    "    if number > 0:\n",
    "        return abs(math.log(positive))\n",
    "    else:\n",
    "        return 'Error: the input number should be positive.'"
   ]
  },
  {
   "cell_type": "markdown",
   "metadata": {},
   "source": [
    "## 7.2 Loops\n",
    "Using a `for` statement, we can perform a task multiple times. This is known as iteration.\n",
    "Here is an example that prints out the color of the rainbow."
   ]
  },
  {
   "cell_type": "code",
   "execution_count": 30,
   "metadata": {},
   "outputs": [
    {
     "name": "stdout",
     "output_type": "stream",
     "text": [
      "red\n",
      "orange\n",
      "yellow\n",
      "green\n",
      "blue\n",
      "indigo\n",
      "violet\n"
     ]
    }
   ],
   "source": [
    "from datascience import * # you need the function make_array in datascience module\n",
    "rainbow = make_array(\"red\", \"orange\", \"yellow\", \"green\", \"blue\", \"indigo\", \"violet\") #make_array creates an array of these string values.\n",
    "\n",
    "for color in rainbow:\n",
    "    print(color)"
   ]
  },
  {
   "cell_type": "markdown",
   "metadata": {},
   "source": [
    "Here is an example of printing numbers 2 integers apart from the starting number to the end point."
   ]
  },
  {
   "cell_type": "code",
   "execution_count": 31,
   "metadata": {},
   "outputs": [
    {
     "name": "stdout",
     "output_type": "stream",
     "text": [
      "1\n",
      "3\n",
      "5\n",
      "7\n",
      "9\n"
     ]
    }
   ],
   "source": [
    "for x in range(1,11,2): #range(start, end, step), the end point is open-ended aka not included\n",
    "    print(x)"
   ]
  },
  {
   "cell_type": "markdown",
   "metadata": {
    "deletable": false,
    "editable": false
   },
   "source": [
    "**Question 4** Try to define a function `sd` that takes a list of numbers and calculate the standard deviation of this array of numbers. The standard deviation is a measure that is used to quantify the amount of variation of a set of data values. The formula is: \n",
    "$sd = \\sqrt{\\frac{\\sum{(x-\\bar{x})^2}}{n}}$\n",
    "\n",
    "Apply this function to an array:(2,4,6,8,10).\n",
    "\n",
    "*Hint1: you need a mean value to calculate the deviation for each number*;\n",
    "*Hint2: you need to sum up all the results produced by the loop.*\n",
    "\n",
    "<!--\n",
    "BEGIN QUESTION\n",
    "name: q4\n",
    "points: 2\n",
    "manual: False\n",
    "-->"
   ]
  },
  {
   "cell_type": "code",
   "execution_count": 32,
   "metadata": {},
   "outputs": [
    {
     "data": {
      "text/plain": [
       "2.8284271247461903"
      ]
     },
     "execution_count": 32,
     "metadata": {},
     "output_type": "execute_result"
    }
   ],
   "source": [
    "import numpy as np #import the module that contains the mean function\n",
    "def sd(array):\n",
    "    sum = 0\n",
    "    mean_value = np.mean(array)\n",
    "    for a in array:\n",
    "        sum += (a - mean_value) ** 2\n",
    "    return math.sqrt(sum / len(array))\n",
    "sd([2,4,6,8,10])"
   ]
  },
  {
   "cell_type": "code",
   "execution_count": 33,
   "metadata": {
    "deletable": false,
    "editable": false
   },
   "outputs": [
    {
     "name": "stdout",
     "output_type": "stream",
     "text": [
      "~~~~~~~~~~~~~~~~~~~~~~~~~~~~~~~~~~~~~~~~~~~~~~~~~~~~~~~~~~~~~~~~~~~~~\n",
      "Running tests\n",
      "\n",
      "---------------------------------------------------------------------\n",
      "Test summary\n",
      "    Passed: 1\n",
      "    Failed: 0\n",
      "[ooooooooook] 100.0% passed\n",
      "\n"
     ]
    }
   ],
   "source": [
    "ok.grade(\"q4\");"
   ]
  },
  {
   "cell_type": "markdown",
   "metadata": {},
   "source": [
    "# 8 Tables\n",
    "A Table is a sequence of labeled columns of data.\n",
    "\n",
    "A Table can be constructed from scratch by extending an empty table with columns."
   ]
  },
  {
   "cell_type": "markdown",
   "metadata": {},
   "source": [
    "## Common method of table\n",
    "### Construct a table\n",
    "1. Using columns \n",
    "   ```\n",
    "   Table().with_columns([\n",
    "       string1, [col_1],\n",
    "       string2, [col_2],\n",
    "       string3, [col_3],\n",
    "   ])\n",
    "   ```\n",
    "2. Read table from a .csv\n",
    "    ```\n",
    "    Table.read_table(string)\n",
    "    ```\n",
    "3. get a subtable(top 10 columns in a table)\n",
    "    ```\n",
    "    Table.takes[:] # using slice\n",
    "    ```\n",
    "### Access data from table\n",
    "1. Get a row of the specified name\n",
    "    ```\n",
    "    table.column(col_name)\n",
    "    ```\n",
    "### Manipulating data\n",
    "1. Adding a column \n",
    "2. simplify the table (table.select([,,]))\n",
    "3. You can renaming columns with relabeled():"
   ]
  },
  {
   "cell_type": "code",
   "execution_count": 34,
   "metadata": {},
   "outputs": [],
   "source": [
    "# Construct a table from strach and assign it to a name 't'\n",
    "t = Table().with_columns([\n",
    "    'letter', ['a','b','c','z'], # contents in quotes '' are string texts. Words without quotes refer to variable names or function names.\n",
    "    'count', [9, 3, 3, 1],\n",
    "    'points', [1, 2, 2, 10],\n",
    "])"
   ]
  },
  {
   "cell_type": "code",
   "execution_count": 35,
   "metadata": {},
   "outputs": [
    {
     "name": "stdout",
     "output_type": "stream",
     "text": [
      "letter | count | points\n",
      "a      | 9     | 1\n",
      "b      | 3     | 2\n",
      "c      | 3     | 2\n",
      "z      | 1     | 10\n"
     ]
    }
   ],
   "source": [
    "# Let's see what you constructed\n",
    "print(t)"
   ]
  },
  {
   "cell_type": "markdown",
   "metadata": {},
   "source": [
    "More usually, we load the dataset that we want to analyze via a path to the file."
   ]
  },
  {
   "cell_type": "code",
   "execution_count": 36,
   "metadata": {},
   "outputs": [
    {
     "data": {
      "text/html": [
       "<table border=\"1\" class=\"dataframe\">\n",
       "    <thead>\n",
       "        <tr>\n",
       "            <th>interview_number</th> <th>interview_date</th> <th>interview_time</th> <th>respondent_gender</th> <th>respondent_age</th> <th>respondent_class</th> <th>respondent_home</th> <th>number_alters</th> <th>alter1_gender</th> <th>alter1_age</th> <th>alter1_class</th> <th>alter1_home</th> <th>alter1_howclose</th> <th>alter1_howoften</th> <th>alter2_gender</th> <th>alter2_age</th> <th>alter2_class</th> <th>alter2_home</th> <th>alter2_howclose</th> <th>alter2_howoften</th> <th>alter3_gender</th> <th>alter3_age</th> <th>alter3_class</th> <th>alter3_home</th> <th>alter3_howclose</th> <th>alter3_howoften</th> <th>alter4_gender</th> <th>alter4_age</th> <th>alter4_class</th> <th>alter4_home</th> <th>alter4_howclose</th> <th>alter4_howoften</th> <th>alter5_gender</th> <th>alter5_age</th> <th>alter5_class</th> <th>alter5_home</th> <th>alter5_howclose</th> <th>alter5_howoften</th>\n",
       "        </tr>\n",
       "    </thead>\n",
       "    <tbody>\n",
       "        <tr>\n",
       "            <td>1               </td> <td>1/24/2019     </td> <td>10:40:00      </td> <td>Male             </td> <td>21            </td> <td>Senior          </td> <td>Bay Area             </td> <td>5            </td> <td>Male         </td> <td>21        </td> <td>Senior      </td> <td>LA Area              </td> <td>Close friend   </td> <td>Once a week          </td> <td>Male         </td> <td>22        </td> <td>Senior      </td> <td>LA Area              </td> <td>Friend         </td> <td>Once a week          </td> <td>Male         </td> <td>20        </td> <td>Junior      </td> <td>Rest of United States</td> <td>Close friend   </td> <td>Once a week          </td> <td>Male         </td> <td>21        </td> <td>Senior      </td> <td>Rest of World        </td> <td>Friend         </td> <td>nan                  </td> <td>Female       </td> <td>22        </td> <td>Senior      </td> <td>Bay Area             </td> <td>Close friend   </td> <td>Once a week          </td>\n",
       "        </tr>\n",
       "        <tr>\n",
       "            <td>2               </td> <td>1/24/2019     </td> <td>11:14:00      </td> <td>Male             </td> <td>25            </td> <td>Other           </td> <td>Bay Area             </td> <td>3            </td> <td>Male         </td> <td>26        </td> <td>Other       </td> <td>Bay Area             </td> <td>Close friend   </td> <td>More than once a week</td> <td>Female       </td> <td>24        </td> <td>Other       </td> <td>Rest of United States</td> <td>Close friend   </td> <td>More than once a week</td> <td>Male         </td> <td>26        </td> <td>Other       </td> <td>Rest of United States</td> <td>Close friend   </td> <td>More than once a week</td> <td>nan          </td> <td>nan       </td> <td>nan         </td> <td>nan                  </td> <td>nan            </td> <td>nan                  </td> <td>nan          </td> <td>nan       </td> <td>nan         </td> <td>nan                  </td> <td>nan            </td> <td>nan                  </td>\n",
       "        </tr>\n",
       "        <tr>\n",
       "            <td>3               </td> <td>1/24/2019     </td> <td>11:19:00      </td> <td>Female           </td> <td>25            </td> <td>Other           </td> <td>Rest of United States</td> <td>4            </td> <td>Female       </td> <td>26        </td> <td>Other       </td> <td>Rest of United States</td> <td>Close friend   </td> <td>More than once a week</td> <td>Female       </td> <td>28        </td> <td>Other       </td> <td>Rest of World        </td> <td>Close friend   </td> <td>More than once a week</td> <td>Male         </td> <td>27        </td> <td>Other       </td> <td>Rest of United States</td> <td>Close friend   </td> <td>Once a week          </td> <td>Female       </td> <td>23        </td> <td>Other       </td> <td>Rest of United States</td> <td>Close friend   </td> <td>More than once a week</td> <td>nan          </td> <td>nan       </td> <td>nan         </td> <td>nan                  </td> <td>nan            </td> <td>nan                  </td>\n",
       "        </tr>\n",
       "        <tr>\n",
       "            <td>1               </td> <td>1/24/2019     </td> <td>10:34:00      </td> <td>Female           </td> <td>21            </td> <td>Senior          </td> <td>Bay Area             </td> <td>5            </td> <td>Female       </td> <td>20        </td> <td>Junior      </td> <td>Bay Area             </td> <td>Close friend   </td> <td>More than once a week</td> <td>Female       </td> <td>21        </td> <td>Senior      </td> <td>Bay Area             </td> <td>Friend         </td> <td>More than once a week</td> <td>Female       </td> <td>40        </td> <td>Other       </td> <td>Rest of World        </td> <td>Close friend   </td> <td>Once a week          </td> <td>Female       </td> <td>17        </td> <td>Other       </td> <td>Rest of United States</td> <td>Close friend   </td> <td>Once a week          </td> <td>Female       </td> <td>21        </td> <td>Senior      </td> <td>Bay Area             </td> <td>Close friend   </td> <td>Once a week          </td>\n",
       "        </tr>\n",
       "        <tr>\n",
       "            <td>2               </td> <td>1/24/2019     </td> <td>15:21:00      </td> <td>Female           </td> <td>31            </td> <td>Other           </td> <td>Bay Area             </td> <td>5            </td> <td>Female       </td> <td>24        </td> <td>Other       </td> <td>Rest of United States</td> <td>Close friend   </td> <td>More than once a week</td> <td>Female       </td> <td>24        </td> <td>Other       </td> <td>Rest of United States</td> <td>Close friend   </td> <td>Once a week          </td> <td>Female       </td> <td>36        </td> <td>Other       </td> <td>Rest of United States</td> <td>Close friend   </td> <td>Once a week          </td> <td>Female       </td> <td>26        </td> <td>Other       </td> <td>Rest of United States</td> <td>Close friend   </td> <td>Once a month         </td> <td>Female       </td> <td>28        </td> <td>Other       </td> <td>Rest of United States</td> <td>Close friend   </td> <td>Once a week          </td>\n",
       "        </tr>\n",
       "        <tr>\n",
       "            <td>3               </td> <td>1/24/2019     </td> <td>18:23:00      </td> <td>Female           </td> <td>25            </td> <td>Other           </td> <td>Bay Area             </td> <td>6+           </td> <td>Female       </td> <td>25        </td> <td>Other       </td> <td>Rest of United States</td> <td>Close friend   </td> <td>More than once a week</td> <td>Female       </td> <td>60        </td> <td>Other       </td> <td>Rest of United States</td> <td>Close friend   </td> <td>Once a week          </td> <td>Male         </td> <td>62        </td> <td>Other       </td> <td>Bay Area             </td> <td>Close friend   </td> <td>Once a week          </td> <td>Female       </td> <td>25        </td> <td>Other       </td> <td>Bay Area             </td> <td>Friend         </td> <td>Once a year          </td> <td>Female       </td> <td>39        </td> <td>Other       </td> <td>Rest of World        </td> <td>Acquaintance   </td> <td>Once a month         </td>\n",
       "        </tr>\n",
       "        <tr>\n",
       "            <td>1               </td> <td>1/24/2019     </td> <td>10:30:00      </td> <td>Female           </td> <td>23            </td> <td>Junior          </td> <td>Rest of World        </td> <td>6+           </td> <td>Female       </td> <td>53        </td> <td>Other       </td> <td>Rest of World        </td> <td>Close friend   </td> <td>More than once a week</td> <td>Female       </td> <td>21        </td> <td>Junior      </td> <td>Rest of World        </td> <td>Close friend   </td> <td>Once a week          </td> <td>Male         </td> <td>21        </td> <td>Junior      </td> <td>Rest of World        </td> <td>Close friend   </td> <td>Once a week          </td> <td>Female       </td> <td>21        </td> <td>Junior      </td> <td>Rest of World        </td> <td>Close friend   </td> <td>Once a week          </td> <td>Male         </td> <td>21        </td> <td>Junior      </td> <td>Rest of World        </td> <td>Friend         </td> <td>More than once a week</td>\n",
       "        </tr>\n",
       "        <tr>\n",
       "            <td>2               </td> <td>1/25/2019     </td> <td>11:20:00      </td> <td>Female           </td> <td>21            </td> <td>Other           </td> <td>Rest of World        </td> <td>4            </td> <td>Female       </td> <td>21        </td> <td>Other       </td> <td>Bay Area             </td> <td>Close friend   </td> <td>More than once a week</td> <td>Female       </td> <td>21        </td> <td>Senior      </td> <td>Bay Area             </td> <td>Close friend   </td> <td>Once a week          </td> <td>Female       </td> <td>21        </td> <td>Other       </td> <td>Bay Area             </td> <td>Close friend   </td> <td>Once a week          </td> <td>Female       </td> <td>53        </td> <td>Other       </td> <td>Bay Area             </td> <td>Friend         </td> <td>Once a week          </td> <td>nan          </td> <td>nan       </td> <td>nan         </td> <td>nan                  </td> <td>nan            </td> <td>nan                  </td>\n",
       "        </tr>\n",
       "        <tr>\n",
       "            <td>1               </td> <td>1/24/2019     </td> <td>10:41:00      </td> <td>Female           </td> <td>19            </td> <td>Sophomore       </td> <td>Rest of World        </td> <td>6+           </td> <td>Female       </td> <td>20        </td> <td>Sophomore   </td> <td>Rest of World        </td> <td>Close friend   </td> <td>More than once a week</td> <td>Female       </td> <td>20        </td> <td>Sophomore   </td> <td>Rest of World        </td> <td>Close friend   </td> <td>More than once a week</td> <td>Female       </td> <td>18        </td> <td>Sophomore   </td> <td>Rest of World        </td> <td>Friend         </td> <td>Once a week          </td> <td>Male         </td> <td>19        </td> <td>Sophomore   </td> <td>Rest of World        </td> <td>Friend         </td> <td>Once a week          </td> <td>Male         </td> <td>19        </td> <td>Sophomore   </td> <td>Rest of World        </td> <td>Friend         </td> <td>Once a year          </td>\n",
       "        </tr>\n",
       "        <tr>\n",
       "            <td>2               </td> <td>1/24/2019     </td> <td>21:35:00      </td> <td>Female           </td> <td>18            </td> <td>Freshman        </td> <td>Rest of United States</td> <td>4            </td> <td>Female       </td> <td>18        </td> <td>Freshman    </td> <td>Rest of United States</td> <td>Close friend   </td> <td>Once a week          </td> <td>Female       </td> <td>19        </td> <td>Freshman    </td> <td>LA Area              </td> <td>Close friend   </td> <td>More than once a week</td> <td>Male         </td> <td>18        </td> <td>Freshman    </td> <td>Rest of United States</td> <td>Close friend   </td> <td>Once a week          </td> <td>Female       </td> <td>18        </td> <td>Freshman    </td> <td>Rest of United States</td> <td>Close friend   </td> <td>Once a month         </td> <td>nan          </td> <td>nan       </td> <td>nan         </td> <td>nan                  </td> <td>nan            </td> <td>nan                  </td>\n",
       "        </tr>\n",
       "    </tbody>\n",
       "</table>\n",
       "<p>... (93 rows omitted)</p>"
      ],
      "text/plain": [
       "interview_number | interview_date | interview_time | respondent_gender | respondent_age | respondent_class | respondent_home       | number_alters | alter1_gender | alter1_age | alter1_class | alter1_home           | alter1_howclose | alter1_howoften       | alter2_gender | alter2_age | alter2_class | alter2_home           | alter2_howclose | alter2_howoften       | alter3_gender | alter3_age | alter3_class | alter3_home           | alter3_howclose | alter3_howoften       | alter4_gender | alter4_age | alter4_class | alter4_home           | alter4_howclose | alter4_howoften       | alter5_gender | alter5_age | alter5_class | alter5_home           | alter5_howclose | alter5_howoften\n",
       "1                | 1/24/2019      | 10:40:00       | Male              | 21             | Senior           | Bay Area              | 5             | Male          | 21         | Senior       | LA Area               | Close friend    | Once a week           | Male          | 22         | Senior       | LA Area               | Friend          | Once a week           | Male          | 20         | Junior       | Rest of United States | Close friend    | Once a week           | Male          | 21         | Senior       | Rest of World         | Friend          | nan                   | Female        | 22         | Senior       | Bay Area              | Close friend    | Once a week\n",
       "2                | 1/24/2019      | 11:14:00       | Male              | 25             | Other            | Bay Area              | 3             | Male          | 26         | Other        | Bay Area              | Close friend    | More than once a week | Female        | 24         | Other        | Rest of United States | Close friend    | More than once a week | Male          | 26         | Other        | Rest of United States | Close friend    | More than once a week | nan           | nan        | nan          | nan                   | nan             | nan                   | nan           | nan        | nan          | nan                   | nan             | nan\n",
       "3                | 1/24/2019      | 11:19:00       | Female            | 25             | Other            | Rest of United States | 4             | Female        | 26         | Other        | Rest of United States | Close friend    | More than once a week | Female        | 28         | Other        | Rest of World         | Close friend    | More than once a week | Male          | 27         | Other        | Rest of United States | Close friend    | Once a week           | Female        | 23         | Other        | Rest of United States | Close friend    | More than once a week | nan           | nan        | nan          | nan                   | nan             | nan\n",
       "1                | 1/24/2019      | 10:34:00       | Female            | 21             | Senior           | Bay Area              | 5             | Female        | 20         | Junior       | Bay Area              | Close friend    | More than once a week | Female        | 21         | Senior       | Bay Area              | Friend          | More than once a week | Female        | 40         | Other        | Rest of World         | Close friend    | Once a week           | Female        | 17         | Other        | Rest of United States | Close friend    | Once a week           | Female        | 21         | Senior       | Bay Area              | Close friend    | Once a week\n",
       "2                | 1/24/2019      | 15:21:00       | Female            | 31             | Other            | Bay Area              | 5             | Female        | 24         | Other        | Rest of United States | Close friend    | More than once a week | Female        | 24         | Other        | Rest of United States | Close friend    | Once a week           | Female        | 36         | Other        | Rest of United States | Close friend    | Once a week           | Female        | 26         | Other        | Rest of United States | Close friend    | Once a month          | Female        | 28         | Other        | Rest of United States | Close friend    | Once a week\n",
       "3                | 1/24/2019      | 18:23:00       | Female            | 25             | Other            | Bay Area              | 6+            | Female        | 25         | Other        | Rest of United States | Close friend    | More than once a week | Female        | 60         | Other        | Rest of United States | Close friend    | Once a week           | Male          | 62         | Other        | Bay Area              | Close friend    | Once a week           | Female        | 25         | Other        | Bay Area              | Friend          | Once a year           | Female        | 39         | Other        | Rest of World         | Acquaintance    | Once a month\n",
       "1                | 1/24/2019      | 10:30:00       | Female            | 23             | Junior           | Rest of World         | 6+            | Female        | 53         | Other        | Rest of World         | Close friend    | More than once a week | Female        | 21         | Junior       | Rest of World         | Close friend    | Once a week           | Male          | 21         | Junior       | Rest of World         | Close friend    | Once a week           | Female        | 21         | Junior       | Rest of World         | Close friend    | Once a week           | Male          | 21         | Junior       | Rest of World         | Friend          | More than once a week\n",
       "2                | 1/25/2019      | 11:20:00       | Female            | 21             | Other            | Rest of World         | 4             | Female        | 21         | Other        | Bay Area              | Close friend    | More than once a week | Female        | 21         | Senior       | Bay Area              | Close friend    | Once a week           | Female        | 21         | Other        | Bay Area              | Close friend    | Once a week           | Female        | 53         | Other        | Bay Area              | Friend          | Once a week           | nan           | nan        | nan          | nan                   | nan             | nan\n",
       "1                | 1/24/2019      | 10:41:00       | Female            | 19             | Sophomore        | Rest of World         | 6+            | Female        | 20         | Sophomore    | Rest of World         | Close friend    | More than once a week | Female        | 20         | Sophomore    | Rest of World         | Close friend    | More than once a week | Female        | 18         | Sophomore    | Rest of World         | Friend          | Once a week           | Male          | 19         | Sophomore    | Rest of World         | Friend          | Once a week           | Male          | 19         | Sophomore    | Rest of World         | Friend          | Once a year\n",
       "2                | 1/24/2019      | 21:35:00       | Female            | 18             | Freshman         | Rest of United States | 4             | Female        | 18         | Freshman     | Rest of United States | Close friend    | Once a week           | Female        | 19         | Freshman     | LA Area               | Close friend    | More than once a week | Male          | 18         | Freshman     | Rest of United States | Close friend    | Once a week           | Female        | 18         | Freshman     | Rest of United States | Close friend    | Once a month          | nan           | nan        | nan          | nan                   | nan             | nan\n",
       "... (93 rows omitted)"
      ]
     },
     "execution_count": 36,
     "metadata": {},
     "output_type": "execute_result"
    }
   ],
   "source": [
    "Table.read_table('ucb_personal_networks_clean.csv')"
   ]
  },
  {
   "cell_type": "markdown",
   "metadata": {},
   "source": [
    "Let's work with the first 10 rows of this data as an example to learn basic syntax."
   ]
  },
  {
   "cell_type": "code",
   "execution_count": 37,
   "metadata": {},
   "outputs": [
    {
     "data": {
      "text/html": [
       "<table border=\"1\" class=\"dataframe\">\n",
       "    <thead>\n",
       "        <tr>\n",
       "            <th>interview_number</th> <th>interview_date</th> <th>interview_time</th> <th>respondent_gender</th> <th>respondent_age</th> <th>respondent_class</th> <th>respondent_home</th> <th>number_alters</th> <th>alter1_gender</th> <th>alter1_age</th> <th>alter1_class</th> <th>alter1_home</th> <th>alter1_howclose</th> <th>alter1_howoften</th> <th>alter2_gender</th> <th>alter2_age</th> <th>alter2_class</th> <th>alter2_home</th> <th>alter2_howclose</th> <th>alter2_howoften</th> <th>alter3_gender</th> <th>alter3_age</th> <th>alter3_class</th> <th>alter3_home</th> <th>alter3_howclose</th> <th>alter3_howoften</th> <th>alter4_gender</th> <th>alter4_age</th> <th>alter4_class</th> <th>alter4_home</th> <th>alter4_howclose</th> <th>alter4_howoften</th> <th>alter5_gender</th> <th>alter5_age</th> <th>alter5_class</th> <th>alter5_home</th> <th>alter5_howclose</th> <th>alter5_howoften</th>\n",
       "        </tr>\n",
       "    </thead>\n",
       "    <tbody>\n",
       "        <tr>\n",
       "            <td>1               </td> <td>1/24/2019     </td> <td>10:40:00      </td> <td>Male             </td> <td>21            </td> <td>Senior          </td> <td>Bay Area             </td> <td>5            </td> <td>Male         </td> <td>21        </td> <td>Senior      </td> <td>LA Area              </td> <td>Close friend   </td> <td>Once a week          </td> <td>Male         </td> <td>22        </td> <td>Senior      </td> <td>LA Area              </td> <td>Friend         </td> <td>Once a week          </td> <td>Male         </td> <td>20        </td> <td>Junior      </td> <td>Rest of United States</td> <td>Close friend   </td> <td>Once a week          </td> <td>Male         </td> <td>21        </td> <td>Senior      </td> <td>Rest of World        </td> <td>Friend         </td> <td>nan                  </td> <td>Female       </td> <td>22        </td> <td>Senior      </td> <td>Bay Area             </td> <td>Close friend   </td> <td>Once a week          </td>\n",
       "        </tr>\n",
       "        <tr>\n",
       "            <td>2               </td> <td>1/24/2019     </td> <td>11:14:00      </td> <td>Male             </td> <td>25            </td> <td>Other           </td> <td>Bay Area             </td> <td>3            </td> <td>Male         </td> <td>26        </td> <td>Other       </td> <td>Bay Area             </td> <td>Close friend   </td> <td>More than once a week</td> <td>Female       </td> <td>24        </td> <td>Other       </td> <td>Rest of United States</td> <td>Close friend   </td> <td>More than once a week</td> <td>Male         </td> <td>26        </td> <td>Other       </td> <td>Rest of United States</td> <td>Close friend   </td> <td>More than once a week</td> <td>nan          </td> <td>nan       </td> <td>nan         </td> <td>nan                  </td> <td>nan            </td> <td>nan                  </td> <td>nan          </td> <td>nan       </td> <td>nan         </td> <td>nan                  </td> <td>nan            </td> <td>nan                  </td>\n",
       "        </tr>\n",
       "        <tr>\n",
       "            <td>3               </td> <td>1/24/2019     </td> <td>11:19:00      </td> <td>Female           </td> <td>25            </td> <td>Other           </td> <td>Rest of United States</td> <td>4            </td> <td>Female       </td> <td>26        </td> <td>Other       </td> <td>Rest of United States</td> <td>Close friend   </td> <td>More than once a week</td> <td>Female       </td> <td>28        </td> <td>Other       </td> <td>Rest of World        </td> <td>Close friend   </td> <td>More than once a week</td> <td>Male         </td> <td>27        </td> <td>Other       </td> <td>Rest of United States</td> <td>Close friend   </td> <td>Once a week          </td> <td>Female       </td> <td>23        </td> <td>Other       </td> <td>Rest of United States</td> <td>Close friend   </td> <td>More than once a week</td> <td>nan          </td> <td>nan       </td> <td>nan         </td> <td>nan                  </td> <td>nan            </td> <td>nan                  </td>\n",
       "        </tr>\n",
       "        <tr>\n",
       "            <td>1               </td> <td>1/24/2019     </td> <td>10:34:00      </td> <td>Female           </td> <td>21            </td> <td>Senior          </td> <td>Bay Area             </td> <td>5            </td> <td>Female       </td> <td>20        </td> <td>Junior      </td> <td>Bay Area             </td> <td>Close friend   </td> <td>More than once a week</td> <td>Female       </td> <td>21        </td> <td>Senior      </td> <td>Bay Area             </td> <td>Friend         </td> <td>More than once a week</td> <td>Female       </td> <td>40        </td> <td>Other       </td> <td>Rest of World        </td> <td>Close friend   </td> <td>Once a week          </td> <td>Female       </td> <td>17        </td> <td>Other       </td> <td>Rest of United States</td> <td>Close friend   </td> <td>Once a week          </td> <td>Female       </td> <td>21        </td> <td>Senior      </td> <td>Bay Area             </td> <td>Close friend   </td> <td>Once a week          </td>\n",
       "        </tr>\n",
       "        <tr>\n",
       "            <td>2               </td> <td>1/24/2019     </td> <td>15:21:00      </td> <td>Female           </td> <td>31            </td> <td>Other           </td> <td>Bay Area             </td> <td>5            </td> <td>Female       </td> <td>24        </td> <td>Other       </td> <td>Rest of United States</td> <td>Close friend   </td> <td>More than once a week</td> <td>Female       </td> <td>24        </td> <td>Other       </td> <td>Rest of United States</td> <td>Close friend   </td> <td>Once a week          </td> <td>Female       </td> <td>36        </td> <td>Other       </td> <td>Rest of United States</td> <td>Close friend   </td> <td>Once a week          </td> <td>Female       </td> <td>26        </td> <td>Other       </td> <td>Rest of United States</td> <td>Close friend   </td> <td>Once a month         </td> <td>Female       </td> <td>28        </td> <td>Other       </td> <td>Rest of United States</td> <td>Close friend   </td> <td>Once a week          </td>\n",
       "        </tr>\n",
       "        <tr>\n",
       "            <td>3               </td> <td>1/24/2019     </td> <td>18:23:00      </td> <td>Female           </td> <td>25            </td> <td>Other           </td> <td>Bay Area             </td> <td>6+           </td> <td>Female       </td> <td>25        </td> <td>Other       </td> <td>Rest of United States</td> <td>Close friend   </td> <td>More than once a week</td> <td>Female       </td> <td>60        </td> <td>Other       </td> <td>Rest of United States</td> <td>Close friend   </td> <td>Once a week          </td> <td>Male         </td> <td>62        </td> <td>Other       </td> <td>Bay Area             </td> <td>Close friend   </td> <td>Once a week          </td> <td>Female       </td> <td>25        </td> <td>Other       </td> <td>Bay Area             </td> <td>Friend         </td> <td>Once a year          </td> <td>Female       </td> <td>39        </td> <td>Other       </td> <td>Rest of World        </td> <td>Acquaintance   </td> <td>Once a month         </td>\n",
       "        </tr>\n",
       "        <tr>\n",
       "            <td>1               </td> <td>1/24/2019     </td> <td>10:30:00      </td> <td>Female           </td> <td>23            </td> <td>Junior          </td> <td>Rest of World        </td> <td>6+           </td> <td>Female       </td> <td>53        </td> <td>Other       </td> <td>Rest of World        </td> <td>Close friend   </td> <td>More than once a week</td> <td>Female       </td> <td>21        </td> <td>Junior      </td> <td>Rest of World        </td> <td>Close friend   </td> <td>Once a week          </td> <td>Male         </td> <td>21        </td> <td>Junior      </td> <td>Rest of World        </td> <td>Close friend   </td> <td>Once a week          </td> <td>Female       </td> <td>21        </td> <td>Junior      </td> <td>Rest of World        </td> <td>Close friend   </td> <td>Once a week          </td> <td>Male         </td> <td>21        </td> <td>Junior      </td> <td>Rest of World        </td> <td>Friend         </td> <td>More than once a week</td>\n",
       "        </tr>\n",
       "        <tr>\n",
       "            <td>2               </td> <td>1/25/2019     </td> <td>11:20:00      </td> <td>Female           </td> <td>21            </td> <td>Other           </td> <td>Rest of World        </td> <td>4            </td> <td>Female       </td> <td>21        </td> <td>Other       </td> <td>Bay Area             </td> <td>Close friend   </td> <td>More than once a week</td> <td>Female       </td> <td>21        </td> <td>Senior      </td> <td>Bay Area             </td> <td>Close friend   </td> <td>Once a week          </td> <td>Female       </td> <td>21        </td> <td>Other       </td> <td>Bay Area             </td> <td>Close friend   </td> <td>Once a week          </td> <td>Female       </td> <td>53        </td> <td>Other       </td> <td>Bay Area             </td> <td>Friend         </td> <td>Once a week          </td> <td>nan          </td> <td>nan       </td> <td>nan         </td> <td>nan                  </td> <td>nan            </td> <td>nan                  </td>\n",
       "        </tr>\n",
       "        <tr>\n",
       "            <td>1               </td> <td>1/24/2019     </td> <td>10:41:00      </td> <td>Female           </td> <td>19            </td> <td>Sophomore       </td> <td>Rest of World        </td> <td>6+           </td> <td>Female       </td> <td>20        </td> <td>Sophomore   </td> <td>Rest of World        </td> <td>Close friend   </td> <td>More than once a week</td> <td>Female       </td> <td>20        </td> <td>Sophomore   </td> <td>Rest of World        </td> <td>Close friend   </td> <td>More than once a week</td> <td>Female       </td> <td>18        </td> <td>Sophomore   </td> <td>Rest of World        </td> <td>Friend         </td> <td>Once a week          </td> <td>Male         </td> <td>19        </td> <td>Sophomore   </td> <td>Rest of World        </td> <td>Friend         </td> <td>Once a week          </td> <td>Male         </td> <td>19        </td> <td>Sophomore   </td> <td>Rest of World        </td> <td>Friend         </td> <td>Once a year          </td>\n",
       "        </tr>\n",
       "        <tr>\n",
       "            <td>2               </td> <td>1/24/2019     </td> <td>21:35:00      </td> <td>Female           </td> <td>18            </td> <td>Freshman        </td> <td>Rest of United States</td> <td>4            </td> <td>Female       </td> <td>18        </td> <td>Freshman    </td> <td>Rest of United States</td> <td>Close friend   </td> <td>Once a week          </td> <td>Female       </td> <td>19        </td> <td>Freshman    </td> <td>LA Area              </td> <td>Close friend   </td> <td>More than once a week</td> <td>Male         </td> <td>18        </td> <td>Freshman    </td> <td>Rest of United States</td> <td>Close friend   </td> <td>Once a week          </td> <td>Female       </td> <td>18        </td> <td>Freshman    </td> <td>Rest of United States</td> <td>Close friend   </td> <td>Once a month         </td> <td>nan          </td> <td>nan       </td> <td>nan         </td> <td>nan                  </td> <td>nan            </td> <td>nan                  </td>\n",
       "        </tr>\n",
       "    </tbody>\n",
       "</table>"
      ],
      "text/plain": [
       "interview_number | interview_date | interview_time | respondent_gender | respondent_age | respondent_class | respondent_home       | number_alters | alter1_gender | alter1_age | alter1_class | alter1_home           | alter1_howclose | alter1_howoften       | alter2_gender | alter2_age | alter2_class | alter2_home           | alter2_howclose | alter2_howoften       | alter3_gender | alter3_age | alter3_class | alter3_home           | alter3_howclose | alter3_howoften       | alter4_gender | alter4_age | alter4_class | alter4_home           | alter4_howclose | alter4_howoften       | alter5_gender | alter5_age | alter5_class | alter5_home           | alter5_howclose | alter5_howoften\n",
       "1                | 1/24/2019      | 10:40:00       | Male              | 21             | Senior           | Bay Area              | 5             | Male          | 21         | Senior       | LA Area               | Close friend    | Once a week           | Male          | 22         | Senior       | LA Area               | Friend          | Once a week           | Male          | 20         | Junior       | Rest of United States | Close friend    | Once a week           | Male          | 21         | Senior       | Rest of World         | Friend          | nan                   | Female        | 22         | Senior       | Bay Area              | Close friend    | Once a week\n",
       "2                | 1/24/2019      | 11:14:00       | Male              | 25             | Other            | Bay Area              | 3             | Male          | 26         | Other        | Bay Area              | Close friend    | More than once a week | Female        | 24         | Other        | Rest of United States | Close friend    | More than once a week | Male          | 26         | Other        | Rest of United States | Close friend    | More than once a week | nan           | nan        | nan          | nan                   | nan             | nan                   | nan           | nan        | nan          | nan                   | nan             | nan\n",
       "3                | 1/24/2019      | 11:19:00       | Female            | 25             | Other            | Rest of United States | 4             | Female        | 26         | Other        | Rest of United States | Close friend    | More than once a week | Female        | 28         | Other        | Rest of World         | Close friend    | More than once a week | Male          | 27         | Other        | Rest of United States | Close friend    | Once a week           | Female        | 23         | Other        | Rest of United States | Close friend    | More than once a week | nan           | nan        | nan          | nan                   | nan             | nan\n",
       "1                | 1/24/2019      | 10:34:00       | Female            | 21             | Senior           | Bay Area              | 5             | Female        | 20         | Junior       | Bay Area              | Close friend    | More than once a week | Female        | 21         | Senior       | Bay Area              | Friend          | More than once a week | Female        | 40         | Other        | Rest of World         | Close friend    | Once a week           | Female        | 17         | Other        | Rest of United States | Close friend    | Once a week           | Female        | 21         | Senior       | Bay Area              | Close friend    | Once a week\n",
       "2                | 1/24/2019      | 15:21:00       | Female            | 31             | Other            | Bay Area              | 5             | Female        | 24         | Other        | Rest of United States | Close friend    | More than once a week | Female        | 24         | Other        | Rest of United States | Close friend    | Once a week           | Female        | 36         | Other        | Rest of United States | Close friend    | Once a week           | Female        | 26         | Other        | Rest of United States | Close friend    | Once a month          | Female        | 28         | Other        | Rest of United States | Close friend    | Once a week\n",
       "3                | 1/24/2019      | 18:23:00       | Female            | 25             | Other            | Bay Area              | 6+            | Female        | 25         | Other        | Rest of United States | Close friend    | More than once a week | Female        | 60         | Other        | Rest of United States | Close friend    | Once a week           | Male          | 62         | Other        | Bay Area              | Close friend    | Once a week           | Female        | 25         | Other        | Bay Area              | Friend          | Once a year           | Female        | 39         | Other        | Rest of World         | Acquaintance    | Once a month\n",
       "1                | 1/24/2019      | 10:30:00       | Female            | 23             | Junior           | Rest of World         | 6+            | Female        | 53         | Other        | Rest of World         | Close friend    | More than once a week | Female        | 21         | Junior       | Rest of World         | Close friend    | Once a week           | Male          | 21         | Junior       | Rest of World         | Close friend    | Once a week           | Female        | 21         | Junior       | Rest of World         | Close friend    | Once a week           | Male          | 21         | Junior       | Rest of World         | Friend          | More than once a week\n",
       "2                | 1/25/2019      | 11:20:00       | Female            | 21             | Other            | Rest of World         | 4             | Female        | 21         | Other        | Bay Area              | Close friend    | More than once a week | Female        | 21         | Senior       | Bay Area              | Close friend    | Once a week           | Female        | 21         | Other        | Bay Area              | Close friend    | Once a week           | Female        | 53         | Other        | Bay Area              | Friend          | Once a week           | nan           | nan        | nan          | nan                   | nan             | nan\n",
       "1                | 1/24/2019      | 10:41:00       | Female            | 19             | Sophomore        | Rest of World         | 6+            | Female        | 20         | Sophomore    | Rest of World         | Close friend    | More than once a week | Female        | 20         | Sophomore    | Rest of World         | Close friend    | More than once a week | Female        | 18         | Sophomore    | Rest of World         | Friend          | Once a week           | Male          | 19         | Sophomore    | Rest of World         | Friend          | Once a week           | Male          | 19         | Sophomore    | Rest of World         | Friend          | Once a year\n",
       "2                | 1/24/2019      | 21:35:00       | Female            | 18             | Freshman         | Rest of United States | 4             | Female        | 18         | Freshman     | Rest of United States | Close friend    | Once a week           | Female        | 19         | Freshman     | LA Area               | Close friend    | More than once a week | Male          | 18         | Freshman     | Rest of United States | Close friend    | Once a week           | Female        | 18         | Freshman     | Rest of United States | Close friend    | Once a month          | nan           | nan        | nan          | nan                   | nan             | nan"
      ]
     },
     "execution_count": 37,
     "metadata": {},
     "output_type": "execute_result"
    }
   ],
   "source": [
    "# Assign this table to a name called survey\n",
    "### path needs to be updated for this year's data\n",
    "survey = Table.read_table('ucb_personal_networks_clean.csv')\n",
    "\n",
    "# Then choose the first 10 rows as an example\n",
    "example = survey.take[:10]\n",
    "\n",
    "# Take a look at this dataset called example\n",
    "example"
   ]
  },
  {
   "cell_type": "markdown",
   "metadata": {},
   "source": [
    "## 8.1 Accessing data in the table"
   ]
  },
  {
   "cell_type": "markdown",
   "metadata": {},
   "source": [
    "To access values of columns in the table, use `column()`, which takes a column label or index and returns an array. Alternatively, `columns()` returns a list of columns (arrays).\n",
    "\n",
    "Let's use `example` data."
   ]
  },
  {
   "cell_type": "code",
   "execution_count": 38,
   "metadata": {},
   "outputs": [
    {
     "data": {
      "text/plain": [
       "array(['Male', 'Male', 'Female', 'Female', 'Female', 'Female', 'Female',\n",
       "       'Female', 'Female', 'Female'], dtype='<U6')"
      ]
     },
     "execution_count": 38,
     "metadata": {},
     "output_type": "execute_result"
    }
   ],
   "source": [
    "example.column('respondent_gender') # This line returns the description of the column called \"letter\". You use quotes because you are refering to a name"
   ]
  },
  {
   "cell_type": "markdown",
   "metadata": {},
   "source": [
    "You can also refer to the \"letter\" column by index.\n",
    "** Indexing starts from 0.** The \"interview_number\" column, which is the 1st column, is column(0)."
   ]
  },
  {
   "cell_type": "code",
   "execution_count": 39,
   "metadata": {},
   "outputs": [
    {
     "data": {
      "text/plain": [
       "array([1, 2, 3, 1, 2, 3, 1, 2, 1, 2])"
      ]
     },
     "execution_count": 39,
     "metadata": {},
     "output_type": "execute_result"
    }
   ],
   "source": [
    "example.column(0) # indexing takes numbers, don't put numbers in quotes!"
   ]
  },
  {
   "cell_type": "code",
   "execution_count": 40,
   "metadata": {},
   "outputs": [
    {
     "data": {
      "text/plain": [
       "array(['1/24/2019', '1/24/2019', '1/24/2019', '1/24/2019', '1/24/2019',\n",
       "       '1/24/2019', '1/24/2019', '1/25/2019', '1/24/2019', '1/24/2019'],\n",
       "      dtype='<U9')"
      ]
     },
     "execution_count": 40,
     "metadata": {},
     "output_type": "execute_result"
    }
   ],
   "source": [
    "example.column(1)"
   ]
  },
  {
   "cell_type": "markdown",
   "metadata": {},
   "source": [
    "You can use square brackets to do the same thing as the .column function as a short hand."
   ]
  },
  {
   "cell_type": "code",
   "execution_count": 41,
   "metadata": {},
   "outputs": [
    {
     "data": {
      "text/plain": [
       "array([1, 2, 3, 1, 2, 3, 1, 2, 1, 2])"
      ]
     },
     "execution_count": 41,
     "metadata": {},
     "output_type": "execute_result"
    }
   ],
   "source": [
    "example['interview_number']"
   ]
  },
  {
   "cell_type": "code",
   "execution_count": 42,
   "metadata": {},
   "outputs": [
    {
     "data": {
      "text/plain": [
       "array([1, 2, 3, 1, 2, 3, 1, 2, 1, 2])"
      ]
     },
     "execution_count": 42,
     "metadata": {},
     "output_type": "execute_result"
    }
   ],
   "source": [
    "example[0]"
   ]
  },
  {
   "cell_type": "markdown",
   "metadata": {},
   "source": [
    "You can also get the number of rows (often used for counting):"
   ]
  },
  {
   "cell_type": "code",
   "execution_count": 43,
   "metadata": {},
   "outputs": [
    {
     "data": {
      "text/plain": [
       "10"
      ]
     },
     "execution_count": 43,
     "metadata": {},
     "output_type": "execute_result"
    }
   ],
   "source": [
    "example.num_rows"
   ]
  },
  {
   "cell_type": "markdown",
   "metadata": {},
   "source": [
    "## 8.2 Manipulating data"
   ]
  },
  {
   "cell_type": "markdown",
   "metadata": {},
   "source": [
    "Adding a column:"
   ]
  },
  {
   "cell_type": "code",
   "execution_count": 44,
   "metadata": {},
   "outputs": [
    {
     "data": {
      "text/html": [
       "<table border=\"1\" class=\"dataframe\">\n",
       "    <thead>\n",
       "        <tr>\n",
       "            <th>interview_number</th> <th>interview_date</th> <th>interview_time</th> <th>respondent_gender</th> <th>respondent_age</th> <th>respondent_class</th> <th>respondent_home</th> <th>number_alters</th> <th>alter1_gender</th> <th>alter1_age</th> <th>alter1_class</th> <th>alter1_home</th> <th>alter1_howclose</th> <th>alter1_howoften</th> <th>alter2_gender</th> <th>alter2_age</th> <th>alter2_class</th> <th>alter2_home</th> <th>alter2_howclose</th> <th>alter2_howoften</th> <th>alter3_gender</th> <th>alter3_age</th> <th>alter3_class</th> <th>alter3_home</th> <th>alter3_howclose</th> <th>alter3_howoften</th> <th>alter4_gender</th> <th>alter4_age</th> <th>alter4_class</th> <th>alter4_home</th> <th>alter4_howclose</th> <th>alter4_howoften</th> <th>alter5_gender</th> <th>alter5_age</th> <th>alter5_class</th> <th>alter5_home</th> <th>alter5_howclose</th> <th>alter5_howoften</th> <th>interviewer_id</th>\n",
       "        </tr>\n",
       "    </thead>\n",
       "    <tbody>\n",
       "        <tr>\n",
       "            <td>1               </td> <td>1/24/2019     </td> <td>10:40:00      </td> <td>Male             </td> <td>21            </td> <td>Senior          </td> <td>Bay Area             </td> <td>5            </td> <td>Male         </td> <td>21        </td> <td>Senior      </td> <td>LA Area              </td> <td>Close friend   </td> <td>Once a week          </td> <td>Male         </td> <td>22        </td> <td>Senior      </td> <td>LA Area              </td> <td>Friend         </td> <td>Once a week          </td> <td>Male         </td> <td>20        </td> <td>Junior      </td> <td>Rest of United States</td> <td>Close friend   </td> <td>Once a week          </td> <td>Male         </td> <td>21        </td> <td>Senior      </td> <td>Rest of World        </td> <td>Friend         </td> <td>nan                  </td> <td>Female       </td> <td>22        </td> <td>Senior      </td> <td>Bay Area             </td> <td>Close friend   </td> <td>Once a week          </td> <td>1             </td>\n",
       "        </tr>\n",
       "        <tr>\n",
       "            <td>2               </td> <td>1/24/2019     </td> <td>11:14:00      </td> <td>Male             </td> <td>25            </td> <td>Other           </td> <td>Bay Area             </td> <td>3            </td> <td>Male         </td> <td>26        </td> <td>Other       </td> <td>Bay Area             </td> <td>Close friend   </td> <td>More than once a week</td> <td>Female       </td> <td>24        </td> <td>Other       </td> <td>Rest of United States</td> <td>Close friend   </td> <td>More than once a week</td> <td>Male         </td> <td>26        </td> <td>Other       </td> <td>Rest of United States</td> <td>Close friend   </td> <td>More than once a week</td> <td>nan          </td> <td>nan       </td> <td>nan         </td> <td>nan                  </td> <td>nan            </td> <td>nan                  </td> <td>nan          </td> <td>nan       </td> <td>nan         </td> <td>nan                  </td> <td>nan            </td> <td>nan                  </td> <td>1             </td>\n",
       "        </tr>\n",
       "        <tr>\n",
       "            <td>3               </td> <td>1/24/2019     </td> <td>11:19:00      </td> <td>Female           </td> <td>25            </td> <td>Other           </td> <td>Rest of United States</td> <td>4            </td> <td>Female       </td> <td>26        </td> <td>Other       </td> <td>Rest of United States</td> <td>Close friend   </td> <td>More than once a week</td> <td>Female       </td> <td>28        </td> <td>Other       </td> <td>Rest of World        </td> <td>Close friend   </td> <td>More than once a week</td> <td>Male         </td> <td>27        </td> <td>Other       </td> <td>Rest of United States</td> <td>Close friend   </td> <td>Once a week          </td> <td>Female       </td> <td>23        </td> <td>Other       </td> <td>Rest of United States</td> <td>Close friend   </td> <td>More than once a week</td> <td>nan          </td> <td>nan       </td> <td>nan         </td> <td>nan                  </td> <td>nan            </td> <td>nan                  </td> <td>1             </td>\n",
       "        </tr>\n",
       "        <tr>\n",
       "            <td>1               </td> <td>1/24/2019     </td> <td>10:34:00      </td> <td>Female           </td> <td>21            </td> <td>Senior          </td> <td>Bay Area             </td> <td>5            </td> <td>Female       </td> <td>20        </td> <td>Junior      </td> <td>Bay Area             </td> <td>Close friend   </td> <td>More than once a week</td> <td>Female       </td> <td>21        </td> <td>Senior      </td> <td>Bay Area             </td> <td>Friend         </td> <td>More than once a week</td> <td>Female       </td> <td>40        </td> <td>Other       </td> <td>Rest of World        </td> <td>Close friend   </td> <td>Once a week          </td> <td>Female       </td> <td>17        </td> <td>Other       </td> <td>Rest of United States</td> <td>Close friend   </td> <td>Once a week          </td> <td>Female       </td> <td>21        </td> <td>Senior      </td> <td>Bay Area             </td> <td>Close friend   </td> <td>Once a week          </td> <td>2             </td>\n",
       "        </tr>\n",
       "        <tr>\n",
       "            <td>2               </td> <td>1/24/2019     </td> <td>15:21:00      </td> <td>Female           </td> <td>31            </td> <td>Other           </td> <td>Bay Area             </td> <td>5            </td> <td>Female       </td> <td>24        </td> <td>Other       </td> <td>Rest of United States</td> <td>Close friend   </td> <td>More than once a week</td> <td>Female       </td> <td>24        </td> <td>Other       </td> <td>Rest of United States</td> <td>Close friend   </td> <td>Once a week          </td> <td>Female       </td> <td>36        </td> <td>Other       </td> <td>Rest of United States</td> <td>Close friend   </td> <td>Once a week          </td> <td>Female       </td> <td>26        </td> <td>Other       </td> <td>Rest of United States</td> <td>Close friend   </td> <td>Once a month         </td> <td>Female       </td> <td>28        </td> <td>Other       </td> <td>Rest of United States</td> <td>Close friend   </td> <td>Once a week          </td> <td>2             </td>\n",
       "        </tr>\n",
       "        <tr>\n",
       "            <td>3               </td> <td>1/24/2019     </td> <td>18:23:00      </td> <td>Female           </td> <td>25            </td> <td>Other           </td> <td>Bay Area             </td> <td>6+           </td> <td>Female       </td> <td>25        </td> <td>Other       </td> <td>Rest of United States</td> <td>Close friend   </td> <td>More than once a week</td> <td>Female       </td> <td>60        </td> <td>Other       </td> <td>Rest of United States</td> <td>Close friend   </td> <td>Once a week          </td> <td>Male         </td> <td>62        </td> <td>Other       </td> <td>Bay Area             </td> <td>Close friend   </td> <td>Once a week          </td> <td>Female       </td> <td>25        </td> <td>Other       </td> <td>Bay Area             </td> <td>Friend         </td> <td>Once a year          </td> <td>Female       </td> <td>39        </td> <td>Other       </td> <td>Rest of World        </td> <td>Acquaintance   </td> <td>Once a month         </td> <td>2             </td>\n",
       "        </tr>\n",
       "        <tr>\n",
       "            <td>1               </td> <td>1/24/2019     </td> <td>10:30:00      </td> <td>Female           </td> <td>23            </td> <td>Junior          </td> <td>Rest of World        </td> <td>6+           </td> <td>Female       </td> <td>53        </td> <td>Other       </td> <td>Rest of World        </td> <td>Close friend   </td> <td>More than once a week</td> <td>Female       </td> <td>21        </td> <td>Junior      </td> <td>Rest of World        </td> <td>Close friend   </td> <td>Once a week          </td> <td>Male         </td> <td>21        </td> <td>Junior      </td> <td>Rest of World        </td> <td>Close friend   </td> <td>Once a week          </td> <td>Female       </td> <td>21        </td> <td>Junior      </td> <td>Rest of World        </td> <td>Close friend   </td> <td>Once a week          </td> <td>Male         </td> <td>21        </td> <td>Junior      </td> <td>Rest of World        </td> <td>Friend         </td> <td>More than once a week</td> <td>3             </td>\n",
       "        </tr>\n",
       "        <tr>\n",
       "            <td>2               </td> <td>1/25/2019     </td> <td>11:20:00      </td> <td>Female           </td> <td>21            </td> <td>Other           </td> <td>Rest of World        </td> <td>4            </td> <td>Female       </td> <td>21        </td> <td>Other       </td> <td>Bay Area             </td> <td>Close friend   </td> <td>More than once a week</td> <td>Female       </td> <td>21        </td> <td>Senior      </td> <td>Bay Area             </td> <td>Close friend   </td> <td>Once a week          </td> <td>Female       </td> <td>21        </td> <td>Other       </td> <td>Bay Area             </td> <td>Close friend   </td> <td>Once a week          </td> <td>Female       </td> <td>53        </td> <td>Other       </td> <td>Bay Area             </td> <td>Friend         </td> <td>Once a week          </td> <td>nan          </td> <td>nan       </td> <td>nan         </td> <td>nan                  </td> <td>nan            </td> <td>nan                  </td> <td>3             </td>\n",
       "        </tr>\n",
       "        <tr>\n",
       "            <td>1               </td> <td>1/24/2019     </td> <td>10:41:00      </td> <td>Female           </td> <td>19            </td> <td>Sophomore       </td> <td>Rest of World        </td> <td>6+           </td> <td>Female       </td> <td>20        </td> <td>Sophomore   </td> <td>Rest of World        </td> <td>Close friend   </td> <td>More than once a week</td> <td>Female       </td> <td>20        </td> <td>Sophomore   </td> <td>Rest of World        </td> <td>Close friend   </td> <td>More than once a week</td> <td>Female       </td> <td>18        </td> <td>Sophomore   </td> <td>Rest of World        </td> <td>Friend         </td> <td>Once a week          </td> <td>Male         </td> <td>19        </td> <td>Sophomore   </td> <td>Rest of World        </td> <td>Friend         </td> <td>Once a week          </td> <td>Male         </td> <td>19        </td> <td>Sophomore   </td> <td>Rest of World        </td> <td>Friend         </td> <td>Once a year          </td> <td>3             </td>\n",
       "        </tr>\n",
       "        <tr>\n",
       "            <td>2               </td> <td>1/24/2019     </td> <td>21:35:00      </td> <td>Female           </td> <td>18            </td> <td>Freshman        </td> <td>Rest of United States</td> <td>4            </td> <td>Female       </td> <td>18        </td> <td>Freshman    </td> <td>Rest of United States</td> <td>Close friend   </td> <td>Once a week          </td> <td>Female       </td> <td>19        </td> <td>Freshman    </td> <td>LA Area              </td> <td>Close friend   </td> <td>More than once a week</td> <td>Male         </td> <td>18        </td> <td>Freshman    </td> <td>Rest of United States</td> <td>Close friend   </td> <td>Once a week          </td> <td>Female       </td> <td>18        </td> <td>Freshman    </td> <td>Rest of United States</td> <td>Close friend   </td> <td>Once a month         </td> <td>nan          </td> <td>nan       </td> <td>nan         </td> <td>nan                  </td> <td>nan            </td> <td>nan                  </td> <td>4             </td>\n",
       "        </tr>\n",
       "    </tbody>\n",
       "</table>"
      ],
      "text/plain": [
       "interview_number | interview_date | interview_time | respondent_gender | respondent_age | respondent_class | respondent_home       | number_alters | alter1_gender | alter1_age | alter1_class | alter1_home           | alter1_howclose | alter1_howoften       | alter2_gender | alter2_age | alter2_class | alter2_home           | alter2_howclose | alter2_howoften       | alter3_gender | alter3_age | alter3_class | alter3_home           | alter3_howclose | alter3_howoften       | alter4_gender | alter4_age | alter4_class | alter4_home           | alter4_howclose | alter4_howoften       | alter5_gender | alter5_age | alter5_class | alter5_home           | alter5_howclose | alter5_howoften       | interviewer_id\n",
       "1                | 1/24/2019      | 10:40:00       | Male              | 21             | Senior           | Bay Area              | 5             | Male          | 21         | Senior       | LA Area               | Close friend    | Once a week           | Male          | 22         | Senior       | LA Area               | Friend          | Once a week           | Male          | 20         | Junior       | Rest of United States | Close friend    | Once a week           | Male          | 21         | Senior       | Rest of World         | Friend          | nan                   | Female        | 22         | Senior       | Bay Area              | Close friend    | Once a week           | 1\n",
       "2                | 1/24/2019      | 11:14:00       | Male              | 25             | Other            | Bay Area              | 3             | Male          | 26         | Other        | Bay Area              | Close friend    | More than once a week | Female        | 24         | Other        | Rest of United States | Close friend    | More than once a week | Male          | 26         | Other        | Rest of United States | Close friend    | More than once a week | nan           | nan        | nan          | nan                   | nan             | nan                   | nan           | nan        | nan          | nan                   | nan             | nan                   | 1\n",
       "3                | 1/24/2019      | 11:19:00       | Female            | 25             | Other            | Rest of United States | 4             | Female        | 26         | Other        | Rest of United States | Close friend    | More than once a week | Female        | 28         | Other        | Rest of World         | Close friend    | More than once a week | Male          | 27         | Other        | Rest of United States | Close friend    | Once a week           | Female        | 23         | Other        | Rest of United States | Close friend    | More than once a week | nan           | nan        | nan          | nan                   | nan             | nan                   | 1\n",
       "1                | 1/24/2019      | 10:34:00       | Female            | 21             | Senior           | Bay Area              | 5             | Female        | 20         | Junior       | Bay Area              | Close friend    | More than once a week | Female        | 21         | Senior       | Bay Area              | Friend          | More than once a week | Female        | 40         | Other        | Rest of World         | Close friend    | Once a week           | Female        | 17         | Other        | Rest of United States | Close friend    | Once a week           | Female        | 21         | Senior       | Bay Area              | Close friend    | Once a week           | 2\n",
       "2                | 1/24/2019      | 15:21:00       | Female            | 31             | Other            | Bay Area              | 5             | Female        | 24         | Other        | Rest of United States | Close friend    | More than once a week | Female        | 24         | Other        | Rest of United States | Close friend    | Once a week           | Female        | 36         | Other        | Rest of United States | Close friend    | Once a week           | Female        | 26         | Other        | Rest of United States | Close friend    | Once a month          | Female        | 28         | Other        | Rest of United States | Close friend    | Once a week           | 2\n",
       "3                | 1/24/2019      | 18:23:00       | Female            | 25             | Other            | Bay Area              | 6+            | Female        | 25         | Other        | Rest of United States | Close friend    | More than once a week | Female        | 60         | Other        | Rest of United States | Close friend    | Once a week           | Male          | 62         | Other        | Bay Area              | Close friend    | Once a week           | Female        | 25         | Other        | Bay Area              | Friend          | Once a year           | Female        | 39         | Other        | Rest of World         | Acquaintance    | Once a month          | 2\n",
       "1                | 1/24/2019      | 10:30:00       | Female            | 23             | Junior           | Rest of World         | 6+            | Female        | 53         | Other        | Rest of World         | Close friend    | More than once a week | Female        | 21         | Junior       | Rest of World         | Close friend    | Once a week           | Male          | 21         | Junior       | Rest of World         | Close friend    | Once a week           | Female        | 21         | Junior       | Rest of World         | Close friend    | Once a week           | Male          | 21         | Junior       | Rest of World         | Friend          | More than once a week | 3\n",
       "2                | 1/25/2019      | 11:20:00       | Female            | 21             | Other            | Rest of World         | 4             | Female        | 21         | Other        | Bay Area              | Close friend    | More than once a week | Female        | 21         | Senior       | Bay Area              | Close friend    | Once a week           | Female        | 21         | Other        | Bay Area              | Close friend    | Once a week           | Female        | 53         | Other        | Bay Area              | Friend          | Once a week           | nan           | nan        | nan          | nan                   | nan             | nan                   | 3\n",
       "1                | 1/24/2019      | 10:41:00       | Female            | 19             | Sophomore        | Rest of World         | 6+            | Female        | 20         | Sophomore    | Rest of World         | Close friend    | More than once a week | Female        | 20         | Sophomore    | Rest of World         | Close friend    | More than once a week | Female        | 18         | Sophomore    | Rest of World         | Friend          | Once a week           | Male          | 19         | Sophomore    | Rest of World         | Friend          | Once a week           | Male          | 19         | Sophomore    | Rest of World         | Friend          | Once a year           | 3\n",
       "2                | 1/24/2019      | 21:35:00       | Female            | 18             | Freshman         | Rest of United States | 4             | Female        | 18         | Freshman     | Rest of United States | Close friend    | Once a week           | Female        | 19         | Freshman     | LA Area               | Close friend    | More than once a week | Male          | 18         | Freshman     | Rest of United States | Close friend    | Once a week           | Female        | 18         | Freshman     | Rest of United States | Close friend    | Once a month          | nan           | nan        | nan          | nan                   | nan             | nan                   | 4"
      ]
     },
     "execution_count": 44,
     "metadata": {},
     "output_type": "execute_result"
    }
   ],
   "source": [
    "example.with_column('interviewer_id', [1,1,1,2,2,2,3,3,3,4]) # here we add a column that counts the interviewers\n",
    "                                                             # You will see this column on the right of the table (scroll to the right)"
   ]
  },
  {
   "cell_type": "code",
   "execution_count": 45,
   "metadata": {},
   "outputs": [
    {
     "data": {
      "text/html": [
       "<table border=\"1\" class=\"dataframe\">\n",
       "    <thead>\n",
       "        <tr>\n",
       "            <th>interview_number</th> <th>interview_date</th> <th>interview_time</th> <th>respondent_gender</th> <th>respondent_age</th> <th>respondent_class</th> <th>respondent_home</th> <th>number_alters</th> <th>alter1_gender</th> <th>alter1_age</th> <th>alter1_class</th> <th>alter1_home</th> <th>alter1_howclose</th> <th>alter1_howoften</th> <th>alter2_gender</th> <th>alter2_age</th> <th>alter2_class</th> <th>alter2_home</th> <th>alter2_howclose</th> <th>alter2_howoften</th> <th>alter3_gender</th> <th>alter3_age</th> <th>alter3_class</th> <th>alter3_home</th> <th>alter3_howclose</th> <th>alter3_howoften</th> <th>alter4_gender</th> <th>alter4_age</th> <th>alter4_class</th> <th>alter4_home</th> <th>alter4_howclose</th> <th>alter4_howoften</th> <th>alter5_gender</th> <th>alter5_age</th> <th>alter5_class</th> <th>alter5_home</th> <th>alter5_howclose</th> <th>alter5_howoften</th>\n",
       "        </tr>\n",
       "    </thead>\n",
       "    <tbody>\n",
       "        <tr>\n",
       "            <td>1               </td> <td>1/24/2019     </td> <td>10:40:00      </td> <td>Male             </td> <td>21            </td> <td>Senior          </td> <td>Bay Area             </td> <td>5            </td> <td>Male         </td> <td>21        </td> <td>Senior      </td> <td>LA Area              </td> <td>Close friend   </td> <td>Once a week          </td> <td>Male         </td> <td>22        </td> <td>Senior      </td> <td>LA Area              </td> <td>Friend         </td> <td>Once a week          </td> <td>Male         </td> <td>20        </td> <td>Junior      </td> <td>Rest of United States</td> <td>Close friend   </td> <td>Once a week          </td> <td>Male         </td> <td>21        </td> <td>Senior      </td> <td>Rest of World        </td> <td>Friend         </td> <td>nan                  </td> <td>Female       </td> <td>22        </td> <td>Senior      </td> <td>Bay Area             </td> <td>Close friend   </td> <td>Once a week          </td>\n",
       "        </tr>\n",
       "        <tr>\n",
       "            <td>2               </td> <td>1/24/2019     </td> <td>11:14:00      </td> <td>Male             </td> <td>25            </td> <td>Other           </td> <td>Bay Area             </td> <td>3            </td> <td>Male         </td> <td>26        </td> <td>Other       </td> <td>Bay Area             </td> <td>Close friend   </td> <td>More than once a week</td> <td>Female       </td> <td>24        </td> <td>Other       </td> <td>Rest of United States</td> <td>Close friend   </td> <td>More than once a week</td> <td>Male         </td> <td>26        </td> <td>Other       </td> <td>Rest of United States</td> <td>Close friend   </td> <td>More than once a week</td> <td>nan          </td> <td>nan       </td> <td>nan         </td> <td>nan                  </td> <td>nan            </td> <td>nan                  </td> <td>nan          </td> <td>nan       </td> <td>nan         </td> <td>nan                  </td> <td>nan            </td> <td>nan                  </td>\n",
       "        </tr>\n",
       "        <tr>\n",
       "            <td>3               </td> <td>1/24/2019     </td> <td>11:19:00      </td> <td>Female           </td> <td>25            </td> <td>Other           </td> <td>Rest of United States</td> <td>4            </td> <td>Female       </td> <td>26        </td> <td>Other       </td> <td>Rest of United States</td> <td>Close friend   </td> <td>More than once a week</td> <td>Female       </td> <td>28        </td> <td>Other       </td> <td>Rest of World        </td> <td>Close friend   </td> <td>More than once a week</td> <td>Male         </td> <td>27        </td> <td>Other       </td> <td>Rest of United States</td> <td>Close friend   </td> <td>Once a week          </td> <td>Female       </td> <td>23        </td> <td>Other       </td> <td>Rest of United States</td> <td>Close friend   </td> <td>More than once a week</td> <td>nan          </td> <td>nan       </td> <td>nan         </td> <td>nan                  </td> <td>nan            </td> <td>nan                  </td>\n",
       "        </tr>\n",
       "        <tr>\n",
       "            <td>1               </td> <td>1/24/2019     </td> <td>10:34:00      </td> <td>Female           </td> <td>21            </td> <td>Senior          </td> <td>Bay Area             </td> <td>5            </td> <td>Female       </td> <td>20        </td> <td>Junior      </td> <td>Bay Area             </td> <td>Close friend   </td> <td>More than once a week</td> <td>Female       </td> <td>21        </td> <td>Senior      </td> <td>Bay Area             </td> <td>Friend         </td> <td>More than once a week</td> <td>Female       </td> <td>40        </td> <td>Other       </td> <td>Rest of World        </td> <td>Close friend   </td> <td>Once a week          </td> <td>Female       </td> <td>17        </td> <td>Other       </td> <td>Rest of United States</td> <td>Close friend   </td> <td>Once a week          </td> <td>Female       </td> <td>21        </td> <td>Senior      </td> <td>Bay Area             </td> <td>Close friend   </td> <td>Once a week          </td>\n",
       "        </tr>\n",
       "        <tr>\n",
       "            <td>2               </td> <td>1/24/2019     </td> <td>15:21:00      </td> <td>Female           </td> <td>31            </td> <td>Other           </td> <td>Bay Area             </td> <td>5            </td> <td>Female       </td> <td>24        </td> <td>Other       </td> <td>Rest of United States</td> <td>Close friend   </td> <td>More than once a week</td> <td>Female       </td> <td>24        </td> <td>Other       </td> <td>Rest of United States</td> <td>Close friend   </td> <td>Once a week          </td> <td>Female       </td> <td>36        </td> <td>Other       </td> <td>Rest of United States</td> <td>Close friend   </td> <td>Once a week          </td> <td>Female       </td> <td>26        </td> <td>Other       </td> <td>Rest of United States</td> <td>Close friend   </td> <td>Once a month         </td> <td>Female       </td> <td>28        </td> <td>Other       </td> <td>Rest of United States</td> <td>Close friend   </td> <td>Once a week          </td>\n",
       "        </tr>\n",
       "        <tr>\n",
       "            <td>3               </td> <td>1/24/2019     </td> <td>18:23:00      </td> <td>Female           </td> <td>25            </td> <td>Other           </td> <td>Bay Area             </td> <td>6+           </td> <td>Female       </td> <td>25        </td> <td>Other       </td> <td>Rest of United States</td> <td>Close friend   </td> <td>More than once a week</td> <td>Female       </td> <td>60        </td> <td>Other       </td> <td>Rest of United States</td> <td>Close friend   </td> <td>Once a week          </td> <td>Male         </td> <td>62        </td> <td>Other       </td> <td>Bay Area             </td> <td>Close friend   </td> <td>Once a week          </td> <td>Female       </td> <td>25        </td> <td>Other       </td> <td>Bay Area             </td> <td>Friend         </td> <td>Once a year          </td> <td>Female       </td> <td>39        </td> <td>Other       </td> <td>Rest of World        </td> <td>Acquaintance   </td> <td>Once a month         </td>\n",
       "        </tr>\n",
       "        <tr>\n",
       "            <td>1               </td> <td>1/24/2019     </td> <td>10:30:00      </td> <td>Female           </td> <td>23            </td> <td>Junior          </td> <td>Rest of World        </td> <td>6+           </td> <td>Female       </td> <td>53        </td> <td>Other       </td> <td>Rest of World        </td> <td>Close friend   </td> <td>More than once a week</td> <td>Female       </td> <td>21        </td> <td>Junior      </td> <td>Rest of World        </td> <td>Close friend   </td> <td>Once a week          </td> <td>Male         </td> <td>21        </td> <td>Junior      </td> <td>Rest of World        </td> <td>Close friend   </td> <td>Once a week          </td> <td>Female       </td> <td>21        </td> <td>Junior      </td> <td>Rest of World        </td> <td>Close friend   </td> <td>Once a week          </td> <td>Male         </td> <td>21        </td> <td>Junior      </td> <td>Rest of World        </td> <td>Friend         </td> <td>More than once a week</td>\n",
       "        </tr>\n",
       "        <tr>\n",
       "            <td>2               </td> <td>1/25/2019     </td> <td>11:20:00      </td> <td>Female           </td> <td>21            </td> <td>Other           </td> <td>Rest of World        </td> <td>4            </td> <td>Female       </td> <td>21        </td> <td>Other       </td> <td>Bay Area             </td> <td>Close friend   </td> <td>More than once a week</td> <td>Female       </td> <td>21        </td> <td>Senior      </td> <td>Bay Area             </td> <td>Close friend   </td> <td>Once a week          </td> <td>Female       </td> <td>21        </td> <td>Other       </td> <td>Bay Area             </td> <td>Close friend   </td> <td>Once a week          </td> <td>Female       </td> <td>53        </td> <td>Other       </td> <td>Bay Area             </td> <td>Friend         </td> <td>Once a week          </td> <td>nan          </td> <td>nan       </td> <td>nan         </td> <td>nan                  </td> <td>nan            </td> <td>nan                  </td>\n",
       "        </tr>\n",
       "        <tr>\n",
       "            <td>1               </td> <td>1/24/2019     </td> <td>10:41:00      </td> <td>Female           </td> <td>19            </td> <td>Sophomore       </td> <td>Rest of World        </td> <td>6+           </td> <td>Female       </td> <td>20        </td> <td>Sophomore   </td> <td>Rest of World        </td> <td>Close friend   </td> <td>More than once a week</td> <td>Female       </td> <td>20        </td> <td>Sophomore   </td> <td>Rest of World        </td> <td>Close friend   </td> <td>More than once a week</td> <td>Female       </td> <td>18        </td> <td>Sophomore   </td> <td>Rest of World        </td> <td>Friend         </td> <td>Once a week          </td> <td>Male         </td> <td>19        </td> <td>Sophomore   </td> <td>Rest of World        </td> <td>Friend         </td> <td>Once a week          </td> <td>Male         </td> <td>19        </td> <td>Sophomore   </td> <td>Rest of World        </td> <td>Friend         </td> <td>Once a year          </td>\n",
       "        </tr>\n",
       "        <tr>\n",
       "            <td>2               </td> <td>1/24/2019     </td> <td>21:35:00      </td> <td>Female           </td> <td>18            </td> <td>Freshman        </td> <td>Rest of United States</td> <td>4            </td> <td>Female       </td> <td>18        </td> <td>Freshman    </td> <td>Rest of United States</td> <td>Close friend   </td> <td>Once a week          </td> <td>Female       </td> <td>19        </td> <td>Freshman    </td> <td>LA Area              </td> <td>Close friend   </td> <td>More than once a week</td> <td>Male         </td> <td>18        </td> <td>Freshman    </td> <td>Rest of United States</td> <td>Close friend   </td> <td>Once a week          </td> <td>Female       </td> <td>18        </td> <td>Freshman    </td> <td>Rest of United States</td> <td>Close friend   </td> <td>Once a month         </td> <td>nan          </td> <td>nan       </td> <td>nan         </td> <td>nan                  </td> <td>nan            </td> <td>nan                  </td>\n",
       "        </tr>\n",
       "    </tbody>\n",
       "</table>"
      ],
      "text/plain": [
       "interview_number | interview_date | interview_time | respondent_gender | respondent_age | respondent_class | respondent_home       | number_alters | alter1_gender | alter1_age | alter1_class | alter1_home           | alter1_howclose | alter1_howoften       | alter2_gender | alter2_age | alter2_class | alter2_home           | alter2_howclose | alter2_howoften       | alter3_gender | alter3_age | alter3_class | alter3_home           | alter3_howclose | alter3_howoften       | alter4_gender | alter4_age | alter4_class | alter4_home           | alter4_howclose | alter4_howoften       | alter5_gender | alter5_age | alter5_class | alter5_home           | alter5_howclose | alter5_howoften\n",
       "1                | 1/24/2019      | 10:40:00       | Male              | 21             | Senior           | Bay Area              | 5             | Male          | 21         | Senior       | LA Area               | Close friend    | Once a week           | Male          | 22         | Senior       | LA Area               | Friend          | Once a week           | Male          | 20         | Junior       | Rest of United States | Close friend    | Once a week           | Male          | 21         | Senior       | Rest of World         | Friend          | nan                   | Female        | 22         | Senior       | Bay Area              | Close friend    | Once a week\n",
       "2                | 1/24/2019      | 11:14:00       | Male              | 25             | Other            | Bay Area              | 3             | Male          | 26         | Other        | Bay Area              | Close friend    | More than once a week | Female        | 24         | Other        | Rest of United States | Close friend    | More than once a week | Male          | 26         | Other        | Rest of United States | Close friend    | More than once a week | nan           | nan        | nan          | nan                   | nan             | nan                   | nan           | nan        | nan          | nan                   | nan             | nan\n",
       "3                | 1/24/2019      | 11:19:00       | Female            | 25             | Other            | Rest of United States | 4             | Female        | 26         | Other        | Rest of United States | Close friend    | More than once a week | Female        | 28         | Other        | Rest of World         | Close friend    | More than once a week | Male          | 27         | Other        | Rest of United States | Close friend    | Once a week           | Female        | 23         | Other        | Rest of United States | Close friend    | More than once a week | nan           | nan        | nan          | nan                   | nan             | nan\n",
       "1                | 1/24/2019      | 10:34:00       | Female            | 21             | Senior           | Bay Area              | 5             | Female        | 20         | Junior       | Bay Area              | Close friend    | More than once a week | Female        | 21         | Senior       | Bay Area              | Friend          | More than once a week | Female        | 40         | Other        | Rest of World         | Close friend    | Once a week           | Female        | 17         | Other        | Rest of United States | Close friend    | Once a week           | Female        | 21         | Senior       | Bay Area              | Close friend    | Once a week\n",
       "2                | 1/24/2019      | 15:21:00       | Female            | 31             | Other            | Bay Area              | 5             | Female        | 24         | Other        | Rest of United States | Close friend    | More than once a week | Female        | 24         | Other        | Rest of United States | Close friend    | Once a week           | Female        | 36         | Other        | Rest of United States | Close friend    | Once a week           | Female        | 26         | Other        | Rest of United States | Close friend    | Once a month          | Female        | 28         | Other        | Rest of United States | Close friend    | Once a week\n",
       "3                | 1/24/2019      | 18:23:00       | Female            | 25             | Other            | Bay Area              | 6+            | Female        | 25         | Other        | Rest of United States | Close friend    | More than once a week | Female        | 60         | Other        | Rest of United States | Close friend    | Once a week           | Male          | 62         | Other        | Bay Area              | Close friend    | Once a week           | Female        | 25         | Other        | Bay Area              | Friend          | Once a year           | Female        | 39         | Other        | Rest of World         | Acquaintance    | Once a month\n",
       "1                | 1/24/2019      | 10:30:00       | Female            | 23             | Junior           | Rest of World         | 6+            | Female        | 53         | Other        | Rest of World         | Close friend    | More than once a week | Female        | 21         | Junior       | Rest of World         | Close friend    | Once a week           | Male          | 21         | Junior       | Rest of World         | Close friend    | Once a week           | Female        | 21         | Junior       | Rest of World         | Close friend    | Once a week           | Male          | 21         | Junior       | Rest of World         | Friend          | More than once a week\n",
       "2                | 1/25/2019      | 11:20:00       | Female            | 21             | Other            | Rest of World         | 4             | Female        | 21         | Other        | Bay Area              | Close friend    | More than once a week | Female        | 21         | Senior       | Bay Area              | Close friend    | Once a week           | Female        | 21         | Other        | Bay Area              | Close friend    | Once a week           | Female        | 53         | Other        | Bay Area              | Friend          | Once a week           | nan           | nan        | nan          | nan                   | nan             | nan\n",
       "1                | 1/24/2019      | 10:41:00       | Female            | 19             | Sophomore        | Rest of World         | 6+            | Female        | 20         | Sophomore    | Rest of World         | Close friend    | More than once a week | Female        | 20         | Sophomore    | Rest of World         | Close friend    | More than once a week | Female        | 18         | Sophomore    | Rest of World         | Friend          | Once a week           | Male          | 19         | Sophomore    | Rest of World         | Friend          | Once a week           | Male          | 19         | Sophomore    | Rest of World         | Friend          | Once a year\n",
       "2                | 1/24/2019      | 21:35:00       | Female            | 18             | Freshman         | Rest of United States | 4             | Female        | 18         | Freshman     | Rest of United States | Close friend    | Once a week           | Female        | 19         | Freshman     | LA Area               | Close friend    | More than once a week | Male          | 18         | Freshman     | Rest of United States | Close friend    | Once a week           | Female        | 18         | Freshman     | Rest of United States | Close friend    | Once a month          | nan           | nan        | nan          | nan                   | nan             | nan"
      ]
     },
     "execution_count": 45,
     "metadata": {},
     "output_type": "execute_result"
    }
   ],
   "source": [
    "# NOTE that .with_column returns a new table without modifying the original one. The table t is still the same.\n",
    "example"
   ]
  },
  {
   "cell_type": "markdown",
   "metadata": {},
   "source": [
    "Let's reduce the table to only contain the information about the respondents for a simpler illustration.\n",
    "\n",
    "You select columns with `select()`."
   ]
  },
  {
   "cell_type": "code",
   "execution_count": 46,
   "metadata": {},
   "outputs": [
    {
     "data": {
      "text/html": [
       "<table border=\"1\" class=\"dataframe\">\n",
       "    <thead>\n",
       "        <tr>\n",
       "            <th>interview_number</th> <th>respondent_gender</th> <th>respondent_age</th> <th>respondent_class</th> <th>respondent_home</th>\n",
       "        </tr>\n",
       "    </thead>\n",
       "    <tbody>\n",
       "        <tr>\n",
       "            <td>1               </td> <td>Male             </td> <td>21            </td> <td>Senior          </td> <td>Bay Area             </td>\n",
       "        </tr>\n",
       "        <tr>\n",
       "            <td>2               </td> <td>Male             </td> <td>25            </td> <td>Other           </td> <td>Bay Area             </td>\n",
       "        </tr>\n",
       "        <tr>\n",
       "            <td>3               </td> <td>Female           </td> <td>25            </td> <td>Other           </td> <td>Rest of United States</td>\n",
       "        </tr>\n",
       "        <tr>\n",
       "            <td>1               </td> <td>Female           </td> <td>21            </td> <td>Senior          </td> <td>Bay Area             </td>\n",
       "        </tr>\n",
       "        <tr>\n",
       "            <td>2               </td> <td>Female           </td> <td>31            </td> <td>Other           </td> <td>Bay Area             </td>\n",
       "        </tr>\n",
       "        <tr>\n",
       "            <td>3               </td> <td>Female           </td> <td>25            </td> <td>Other           </td> <td>Bay Area             </td>\n",
       "        </tr>\n",
       "        <tr>\n",
       "            <td>1               </td> <td>Female           </td> <td>23            </td> <td>Junior          </td> <td>Rest of World        </td>\n",
       "        </tr>\n",
       "        <tr>\n",
       "            <td>2               </td> <td>Female           </td> <td>21            </td> <td>Other           </td> <td>Rest of World        </td>\n",
       "        </tr>\n",
       "        <tr>\n",
       "            <td>1               </td> <td>Female           </td> <td>19            </td> <td>Sophomore       </td> <td>Rest of World        </td>\n",
       "        </tr>\n",
       "        <tr>\n",
       "            <td>2               </td> <td>Female           </td> <td>18            </td> <td>Freshman        </td> <td>Rest of United States</td>\n",
       "        </tr>\n",
       "    </tbody>\n",
       "</table>"
      ],
      "text/plain": [
       "interview_number | respondent_gender | respondent_age | respondent_class | respondent_home\n",
       "1                | Male              | 21             | Senior           | Bay Area\n",
       "2                | Male              | 25             | Other            | Bay Area\n",
       "3                | Female            | 25             | Other            | Rest of United States\n",
       "1                | Female            | 21             | Senior           | Bay Area\n",
       "2                | Female            | 31             | Other            | Bay Area\n",
       "3                | Female            | 25             | Other            | Bay Area\n",
       "1                | Female            | 23             | Junior           | Rest of World\n",
       "2                | Female            | 21             | Other            | Rest of World\n",
       "1                | Female            | 19             | Sophomore        | Rest of World\n",
       "2                | Female            | 18             | Freshman         | Rest of United States"
      ]
     },
     "execution_count": 46,
     "metadata": {},
     "output_type": "execute_result"
    }
   ],
   "source": [
    "example.select(['interview_number','respondent_gender','respondent_age','respondent_class',\n",
    "               'respondent_home'])"
   ]
  },
  {
   "cell_type": "code",
   "execution_count": 47,
   "metadata": {},
   "outputs": [],
   "source": [
    "# Let's assign this as a new dataset\n",
    "example2 = example.select(['interview_number','respondent_gender','respondent_age','respondent_class',\n",
    "               'respondent_home'])"
   ]
  },
  {
   "cell_type": "markdown",
   "metadata": {},
   "source": [
    "You can renaming columns with `relabeled()`:"
   ]
  },
  {
   "cell_type": "code",
   "execution_count": 48,
   "metadata": {},
   "outputs": [
    {
     "data": {
      "text/html": [
       "<table border=\"1\" class=\"dataframe\">\n",
       "    <thead>\n",
       "        <tr>\n",
       "            <th>interview_number</th> <th>respondent_gender</th> <th>respondent_age</th> <th>respondent_class</th> <th>respondent_residency</th>\n",
       "        </tr>\n",
       "    </thead>\n",
       "    <tbody>\n",
       "        <tr>\n",
       "            <td>1               </td> <td>Male             </td> <td>21            </td> <td>Senior          </td> <td>Bay Area             </td>\n",
       "        </tr>\n",
       "        <tr>\n",
       "            <td>2               </td> <td>Male             </td> <td>25            </td> <td>Other           </td> <td>Bay Area             </td>\n",
       "        </tr>\n",
       "        <tr>\n",
       "            <td>3               </td> <td>Female           </td> <td>25            </td> <td>Other           </td> <td>Rest of United States</td>\n",
       "        </tr>\n",
       "        <tr>\n",
       "            <td>1               </td> <td>Female           </td> <td>21            </td> <td>Senior          </td> <td>Bay Area             </td>\n",
       "        </tr>\n",
       "        <tr>\n",
       "            <td>2               </td> <td>Female           </td> <td>31            </td> <td>Other           </td> <td>Bay Area             </td>\n",
       "        </tr>\n",
       "        <tr>\n",
       "            <td>3               </td> <td>Female           </td> <td>25            </td> <td>Other           </td> <td>Bay Area             </td>\n",
       "        </tr>\n",
       "        <tr>\n",
       "            <td>1               </td> <td>Female           </td> <td>23            </td> <td>Junior          </td> <td>Rest of World        </td>\n",
       "        </tr>\n",
       "        <tr>\n",
       "            <td>2               </td> <td>Female           </td> <td>21            </td> <td>Other           </td> <td>Rest of World        </td>\n",
       "        </tr>\n",
       "        <tr>\n",
       "            <td>1               </td> <td>Female           </td> <td>19            </td> <td>Sophomore       </td> <td>Rest of World        </td>\n",
       "        </tr>\n",
       "        <tr>\n",
       "            <td>2               </td> <td>Female           </td> <td>18            </td> <td>Freshman        </td> <td>Rest of United States</td>\n",
       "        </tr>\n",
       "    </tbody>\n",
       "</table>"
      ],
      "text/plain": [
       "interview_number | respondent_gender | respondent_age | respondent_class | respondent_residency\n",
       "1                | Male              | 21             | Senior           | Bay Area\n",
       "2                | Male              | 25             | Other            | Bay Area\n",
       "3                | Female            | 25             | Other            | Rest of United States\n",
       "1                | Female            | 21             | Senior           | Bay Area\n",
       "2                | Female            | 31             | Other            | Bay Area\n",
       "3                | Female            | 25             | Other            | Bay Area\n",
       "1                | Female            | 23             | Junior           | Rest of World\n",
       "2                | Female            | 21             | Other            | Rest of World\n",
       "1                | Female            | 19             | Sophomore        | Rest of World\n",
       "2                | Female            | 18             | Freshman         | Rest of United States"
      ]
     },
     "execution_count": 48,
     "metadata": {},
     "output_type": "execute_result"
    }
   ],
   "source": [
    "example2.relabeled('respondent_home', 'respondent_residency')"
   ]
  },
  {
   "cell_type": "code",
   "execution_count": 49,
   "metadata": {},
   "outputs": [
    {
     "data": {
      "text/html": [
       "<table border=\"1\" class=\"dataframe\">\n",
       "    <thead>\n",
       "        <tr>\n",
       "            <th>interview_number</th> <th>respondent_gender</th> <th>respondent_age</th> <th>respondent_class</th> <th>respondent_home</th>\n",
       "        </tr>\n",
       "    </thead>\n",
       "    <tbody>\n",
       "        <tr>\n",
       "            <td>1               </td> <td>Male             </td> <td>21            </td> <td>Senior          </td> <td>Bay Area             </td>\n",
       "        </tr>\n",
       "        <tr>\n",
       "            <td>2               </td> <td>Male             </td> <td>25            </td> <td>Other           </td> <td>Bay Area             </td>\n",
       "        </tr>\n",
       "        <tr>\n",
       "            <td>3               </td> <td>Female           </td> <td>25            </td> <td>Other           </td> <td>Rest of United States</td>\n",
       "        </tr>\n",
       "        <tr>\n",
       "            <td>1               </td> <td>Female           </td> <td>21            </td> <td>Senior          </td> <td>Bay Area             </td>\n",
       "        </tr>\n",
       "        <tr>\n",
       "            <td>2               </td> <td>Female           </td> <td>31            </td> <td>Other           </td> <td>Bay Area             </td>\n",
       "        </tr>\n",
       "        <tr>\n",
       "            <td>3               </td> <td>Female           </td> <td>25            </td> <td>Other           </td> <td>Bay Area             </td>\n",
       "        </tr>\n",
       "        <tr>\n",
       "            <td>1               </td> <td>Female           </td> <td>23            </td> <td>Junior          </td> <td>Rest of World        </td>\n",
       "        </tr>\n",
       "        <tr>\n",
       "            <td>2               </td> <td>Female           </td> <td>21            </td> <td>Other           </td> <td>Rest of World        </td>\n",
       "        </tr>\n",
       "        <tr>\n",
       "            <td>1               </td> <td>Female           </td> <td>19            </td> <td>Sophomore       </td> <td>Rest of World        </td>\n",
       "        </tr>\n",
       "        <tr>\n",
       "            <td>2               </td> <td>Female           </td> <td>18            </td> <td>Freshman        </td> <td>Rest of United States</td>\n",
       "        </tr>\n",
       "    </tbody>\n",
       "</table>"
      ],
      "text/plain": [
       "interview_number | respondent_gender | respondent_age | respondent_class | respondent_home\n",
       "1                | Male              | 21             | Senior           | Bay Area\n",
       "2                | Male              | 25             | Other            | Bay Area\n",
       "3                | Female            | 25             | Other            | Rest of United States\n",
       "1                | Female            | 21             | Senior           | Bay Area\n",
       "2                | Female            | 31             | Other            | Bay Area\n",
       "3                | Female            | 25             | Other            | Bay Area\n",
       "1                | Female            | 23             | Junior           | Rest of World\n",
       "2                | Female            | 21             | Other            | Rest of World\n",
       "1                | Female            | 19             | Sophomore        | Rest of World\n",
       "2                | Female            | 18             | Freshman         | Rest of United States"
      ]
     },
     "execution_count": 49,
     "metadata": {},
     "output_type": "execute_result"
    }
   ],
   "source": [
    "# Like .with_column(), renaming doens't change the original example1\n",
    "example2"
   ]
  },
  {
   "cell_type": "markdown",
   "metadata": {},
   "source": [
    "You can selecting rows by index with `take()` and conditionally with `where()`:"
   ]
  },
  {
   "cell_type": "code",
   "execution_count": 50,
   "metadata": {},
   "outputs": [
    {
     "data": {
      "text/html": [
       "<table border=\"1\" class=\"dataframe\">\n",
       "    <thead>\n",
       "        <tr>\n",
       "            <th>interview_number</th> <th>respondent_gender</th> <th>respondent_age</th> <th>respondent_class</th> <th>respondent_home</th>\n",
       "        </tr>\n",
       "    </thead>\n",
       "    <tbody>\n",
       "        <tr>\n",
       "            <td>3               </td> <td>Female           </td> <td>25            </td> <td>Other           </td> <td>Rest of United States</td>\n",
       "        </tr>\n",
       "    </tbody>\n",
       "</table>"
      ],
      "text/plain": [
       "interview_number | respondent_gender | respondent_age | respondent_class | respondent_home\n",
       "3                | Female            | 25             | Other            | Rest of United States"
      ]
     },
     "execution_count": 50,
     "metadata": {},
     "output_type": "execute_result"
    }
   ],
   "source": [
    "example2.take(2) # returns the 3RD row"
   ]
  },
  {
   "cell_type": "code",
   "execution_count": 51,
   "metadata": {
    "scrolled": true
   },
   "outputs": [
    {
     "data": {
      "text/html": [
       "<table border=\"1\" class=\"dataframe\">\n",
       "    <thead>\n",
       "        <tr>\n",
       "            <th>interview_number</th> <th>respondent_gender</th> <th>respondent_age</th> <th>respondent_class</th> <th>respondent_home</th>\n",
       "        </tr>\n",
       "    </thead>\n",
       "    <tbody>\n",
       "        <tr>\n",
       "            <td>3               </td> <td>Female           </td> <td>25            </td> <td>Other           </td> <td>Rest of United States</td>\n",
       "        </tr>\n",
       "        <tr>\n",
       "            <td>1               </td> <td>Female           </td> <td>21            </td> <td>Senior          </td> <td>Bay Area             </td>\n",
       "        </tr>\n",
       "        <tr>\n",
       "            <td>2               </td> <td>Female           </td> <td>31            </td> <td>Other           </td> <td>Bay Area             </td>\n",
       "        </tr>\n",
       "        <tr>\n",
       "            <td>3               </td> <td>Female           </td> <td>25            </td> <td>Other           </td> <td>Bay Area             </td>\n",
       "        </tr>\n",
       "        <tr>\n",
       "            <td>1               </td> <td>Female           </td> <td>23            </td> <td>Junior          </td> <td>Rest of World        </td>\n",
       "        </tr>\n",
       "        <tr>\n",
       "            <td>2               </td> <td>Female           </td> <td>21            </td> <td>Other           </td> <td>Rest of World        </td>\n",
       "        </tr>\n",
       "        <tr>\n",
       "            <td>1               </td> <td>Female           </td> <td>19            </td> <td>Sophomore       </td> <td>Rest of World        </td>\n",
       "        </tr>\n",
       "        <tr>\n",
       "            <td>2               </td> <td>Female           </td> <td>18            </td> <td>Freshman        </td> <td>Rest of United States</td>\n",
       "        </tr>\n",
       "    </tbody>\n",
       "</table>"
      ],
      "text/plain": [
       "interview_number | respondent_gender | respondent_age | respondent_class | respondent_home\n",
       "3                | Female            | 25             | Other            | Rest of United States\n",
       "1                | Female            | 21             | Senior           | Bay Area\n",
       "2                | Female            | 31             | Other            | Bay Area\n",
       "3                | Female            | 25             | Other            | Bay Area\n",
       "1                | Female            | 23             | Junior           | Rest of World\n",
       "2                | Female            | 21             | Other            | Rest of World\n",
       "1                | Female            | 19             | Sophomore        | Rest of World\n",
       "2                | Female            | 18             | Freshman         | Rest of United States"
      ]
     },
     "execution_count": 51,
     "metadata": {},
     "output_type": "execute_result"
    }
   ],
   "source": [
    "example2.where('respondent_gender', 'Female') # returns the rows where the respondent_gender is \"Female\""
   ]
  },
  {
   "cell_type": "code",
   "execution_count": 52,
   "metadata": {},
   "outputs": [
    {
     "data": {
      "text/html": [
       "<table border=\"1\" class=\"dataframe\">\n",
       "    <thead>\n",
       "        <tr>\n",
       "            <th>interview_number</th> <th>respondent_gender</th> <th>respondent_age</th> <th>respondent_class</th> <th>respondent_home</th>\n",
       "        </tr>\n",
       "    </thead>\n",
       "    <tbody>\n",
       "        <tr>\n",
       "            <td>1               </td> <td>Female           </td> <td>19            </td> <td>Sophomore       </td> <td>Rest of World        </td>\n",
       "        </tr>\n",
       "        <tr>\n",
       "            <td>2               </td> <td>Female           </td> <td>18            </td> <td>Freshman        </td> <td>Rest of United States</td>\n",
       "        </tr>\n",
       "    </tbody>\n",
       "</table>"
      ],
      "text/plain": [
       "interview_number | respondent_gender | respondent_age | respondent_class | respondent_home\n",
       "1                | Female            | 19             | Sophomore        | Rest of World\n",
       "2                | Female            | 18             | Freshman         | Rest of United States"
      ]
     },
     "execution_count": 52,
     "metadata": {},
     "output_type": "execute_result"
    }
   ],
   "source": [
    "example2.where(example2['respondent_age'] < 20) # example1['count'] refers to the values in column 'count', you could only compare values to values\n",
    "                        # this whole function returns the rows where respondent_age < 20"
   ]
  },
  {
   "cell_type": "code",
   "execution_count": 53,
   "metadata": {},
   "outputs": [
    {
     "data": {
      "text/plain": [
       "array([False, False, False, False, False, False, False, False,  True,\n",
       "        True])"
      ]
     },
     "execution_count": 53,
     "metadata": {},
     "output_type": "execute_result"
    }
   ],
   "source": [
    "# Let's see what example2['respondent_age'] < 20 returns\n",
    "example2['respondent_age'] < 20 # the results of comparison are an array of booleans (trues or falses)"
   ]
  },
  {
   "cell_type": "markdown",
   "metadata": {},
   "source": [
    "Further operation on table data with `sort()`, `group()`, and `pivot()`."
   ]
  },
  {
   "cell_type": "code",
   "execution_count": 54,
   "metadata": {},
   "outputs": [
    {
     "data": {
      "text/html": [
       "<table border=\"1\" class=\"dataframe\">\n",
       "    <thead>\n",
       "        <tr>\n",
       "            <th>interview_number</th> <th>respondent_gender</th> <th>respondent_age</th> <th>respondent_class</th> <th>respondent_home</th>\n",
       "        </tr>\n",
       "    </thead>\n",
       "    <tbody>\n",
       "        <tr>\n",
       "            <td>2               </td> <td>Female           </td> <td>18            </td> <td>Freshman        </td> <td>Rest of United States</td>\n",
       "        </tr>\n",
       "        <tr>\n",
       "            <td>1               </td> <td>Female           </td> <td>19            </td> <td>Sophomore       </td> <td>Rest of World        </td>\n",
       "        </tr>\n",
       "        <tr>\n",
       "            <td>1               </td> <td>Male             </td> <td>21            </td> <td>Senior          </td> <td>Bay Area             </td>\n",
       "        </tr>\n",
       "        <tr>\n",
       "            <td>1               </td> <td>Female           </td> <td>21            </td> <td>Senior          </td> <td>Bay Area             </td>\n",
       "        </tr>\n",
       "        <tr>\n",
       "            <td>2               </td> <td>Female           </td> <td>21            </td> <td>Other           </td> <td>Rest of World        </td>\n",
       "        </tr>\n",
       "        <tr>\n",
       "            <td>1               </td> <td>Female           </td> <td>23            </td> <td>Junior          </td> <td>Rest of World        </td>\n",
       "        </tr>\n",
       "        <tr>\n",
       "            <td>2               </td> <td>Male             </td> <td>25            </td> <td>Other           </td> <td>Bay Area             </td>\n",
       "        </tr>\n",
       "        <tr>\n",
       "            <td>3               </td> <td>Female           </td> <td>25            </td> <td>Other           </td> <td>Rest of United States</td>\n",
       "        </tr>\n",
       "        <tr>\n",
       "            <td>3               </td> <td>Female           </td> <td>25            </td> <td>Other           </td> <td>Bay Area             </td>\n",
       "        </tr>\n",
       "        <tr>\n",
       "            <td>2               </td> <td>Female           </td> <td>31            </td> <td>Other           </td> <td>Bay Area             </td>\n",
       "        </tr>\n",
       "    </tbody>\n",
       "</table>"
      ],
      "text/plain": [
       "interview_number | respondent_gender | respondent_age | respondent_class | respondent_home\n",
       "2                | Female            | 18             | Freshman         | Rest of United States\n",
       "1                | Female            | 19             | Sophomore        | Rest of World\n",
       "1                | Male              | 21             | Senior           | Bay Area\n",
       "1                | Female            | 21             | Senior           | Bay Area\n",
       "2                | Female            | 21             | Other            | Rest of World\n",
       "1                | Female            | 23             | Junior           | Rest of World\n",
       "2                | Male              | 25             | Other            | Bay Area\n",
       "3                | Female            | 25             | Other            | Rest of United States\n",
       "3                | Female            | 25             | Other            | Bay Area\n",
       "2                | Female            | 31             | Other            | Bay Area"
      ]
     },
     "execution_count": 54,
     "metadata": {},
     "output_type": "execute_result"
    }
   ],
   "source": [
    "example2.sort('respondent_age') # this function sorts the table based on the values in 'respondent_age' column"
   ]
  },
  {
   "cell_type": "code",
   "execution_count": 55,
   "metadata": {},
   "outputs": [
    {
     "data": {
      "text/html": [
       "<table border=\"1\" class=\"dataframe\">\n",
       "    <thead>\n",
       "        <tr>\n",
       "            <th>interview_number</th> <th>respondent_gender</th> <th>respondent_age</th> <th>respondent_class</th> <th>respondent_home</th>\n",
       "        </tr>\n",
       "    </thead>\n",
       "    <tbody>\n",
       "        <tr>\n",
       "            <td>2               </td> <td>Male             </td> <td>25            </td> <td>Other           </td> <td>Bay Area             </td>\n",
       "        </tr>\n",
       "        <tr>\n",
       "            <td>1               </td> <td>Male             </td> <td>21            </td> <td>Senior          </td> <td>Bay Area             </td>\n",
       "        </tr>\n",
       "        <tr>\n",
       "            <td>2               </td> <td>Female           </td> <td>18            </td> <td>Freshman        </td> <td>Rest of United States</td>\n",
       "        </tr>\n",
       "        <tr>\n",
       "            <td>1               </td> <td>Female           </td> <td>19            </td> <td>Sophomore       </td> <td>Rest of World        </td>\n",
       "        </tr>\n",
       "        <tr>\n",
       "            <td>2               </td> <td>Female           </td> <td>21            </td> <td>Other           </td> <td>Rest of World        </td>\n",
       "        </tr>\n",
       "        <tr>\n",
       "            <td>1               </td> <td>Female           </td> <td>23            </td> <td>Junior          </td> <td>Rest of World        </td>\n",
       "        </tr>\n",
       "        <tr>\n",
       "            <td>3               </td> <td>Female           </td> <td>25            </td> <td>Other           </td> <td>Bay Area             </td>\n",
       "        </tr>\n",
       "        <tr>\n",
       "            <td>2               </td> <td>Female           </td> <td>31            </td> <td>Other           </td> <td>Bay Area             </td>\n",
       "        </tr>\n",
       "        <tr>\n",
       "            <td>1               </td> <td>Female           </td> <td>21            </td> <td>Senior          </td> <td>Bay Area             </td>\n",
       "        </tr>\n",
       "        <tr>\n",
       "            <td>3               </td> <td>Female           </td> <td>25            </td> <td>Other           </td> <td>Rest of United States</td>\n",
       "        </tr>\n",
       "    </tbody>\n",
       "</table>"
      ],
      "text/plain": [
       "interview_number | respondent_gender | respondent_age | respondent_class | respondent_home\n",
       "2                | Male              | 25             | Other            | Bay Area\n",
       "1                | Male              | 21             | Senior           | Bay Area\n",
       "2                | Female            | 18             | Freshman         | Rest of United States\n",
       "1                | Female            | 19             | Sophomore        | Rest of World\n",
       "2                | Female            | 21             | Other            | Rest of World\n",
       "1                | Female            | 23             | Junior           | Rest of World\n",
       "3                | Female            | 25             | Other            | Bay Area\n",
       "2                | Female            | 31             | Other            | Bay Area\n",
       "1                | Female            | 21             | Senior           | Bay Area\n",
       "3                | Female            | 25             | Other            | Rest of United States"
      ]
     },
     "execution_count": 55,
     "metadata": {},
     "output_type": "execute_result"
    }
   ],
   "source": [
    "example2.sort('respondent_gender', descending = True) # You can also sort the first letters of words from z to a."
   ]
  },
  {
   "cell_type": "code",
   "execution_count": 56,
   "metadata": {},
   "outputs": [
    {
     "data": {
      "text/html": [
       "<table border=\"1\" class=\"dataframe\">\n",
       "    <thead>\n",
       "        <tr>\n",
       "            <th>respondent_home</th> <th>respondent_age max</th>\n",
       "        </tr>\n",
       "    </thead>\n",
       "    <tbody>\n",
       "        <tr>\n",
       "            <td>Bay Area             </td> <td>31                </td>\n",
       "        </tr>\n",
       "        <tr>\n",
       "            <td>Rest of United States</td> <td>25                </td>\n",
       "        </tr>\n",
       "        <tr>\n",
       "            <td>Rest of World        </td> <td>23                </td>\n",
       "        </tr>\n",
       "    </tbody>\n",
       "</table>"
      ],
      "text/plain": [
       "respondent_home       | respondent_age max\n",
       "Bay Area              | 31\n",
       "Rest of United States | 25\n",
       "Rest of World         | 23"
      ]
     },
     "execution_count": 56,
     "metadata": {},
     "output_type": "execute_result"
    }
   ],
   "source": [
    "# You may pass a reducing function into the collect argument\n",
    "# Note the renaming of the points column because of the collect argument\n",
    "\n",
    "example2.select(['respondent_home','respondent_age']).group('respondent_home', collect = max) # this line selects the two columns 'respondent_home' and 'respondent_age',\n",
    "                                                           # and then group these row based on 'respondent_home\n",
    "                                                           # and report the smallest number of the 'respondent_age' in each category."
   ]
  },
  {
   "cell_type": "code",
   "execution_count": 57,
   "metadata": {},
   "outputs": [
    {
     "data": {
      "text/html": [
       "<table border=\"1\" class=\"dataframe\">\n",
       "    <thead>\n",
       "        <tr>\n",
       "            <th>respondent_gender</th> <th>Bay Area</th> <th>Rest of United States</th> <th>Rest of World</th>\n",
       "        </tr>\n",
       "    </thead>\n",
       "    <tbody>\n",
       "        <tr>\n",
       "            <td>Female           </td> <td>3       </td> <td>2                    </td> <td>3            </td>\n",
       "        </tr>\n",
       "        <tr>\n",
       "            <td>Male             </td> <td>2       </td> <td>0                    </td> <td>0            </td>\n",
       "        </tr>\n",
       "    </tbody>\n",
       "</table>"
      ],
      "text/plain": [
       "respondent_gender | Bay Area | Rest of United States | Rest of World\n",
       "Female            | 3        | 2                     | 3\n",
       "Male              | 2        | 0                     | 0"
      ]
     },
     "execution_count": 57,
     "metadata": {},
     "output_type": "execute_result"
    }
   ],
   "source": [
    "# You can use the 'pivot' function to do some tabulations.\n",
    "example2.pivot('respondent_home','respondent_gender')"
   ]
  },
  {
   "cell_type": "code",
   "execution_count": 58,
   "metadata": {},
   "outputs": [
    {
     "data": {
      "text/html": [
       "<table border=\"1\" class=\"dataframe\">\n",
       "    <thead>\n",
       "        <tr>\n",
       "            <th>respondent_gender</th> <th>Bay Area</th> <th>LA Area</th> <th>Rest of California</th> <th>Rest of United States</th> <th>Rest of World</th>\n",
       "        </tr>\n",
       "    </thead>\n",
       "    <tbody>\n",
       "        <tr>\n",
       "            <td>Female           </td> <td>20      </td> <td>12     </td> <td>6                 </td> <td>6                    </td> <td>17           </td>\n",
       "        </tr>\n",
       "        <tr>\n",
       "            <td>Male             </td> <td>17      </td> <td>10     </td> <td>4                 </td> <td>6                    </td> <td>5            </td>\n",
       "        </tr>\n",
       "    </tbody>\n",
       "</table>"
      ],
      "text/plain": [
       "respondent_gender | Bay Area | LA Area | Rest of California | Rest of United States | Rest of World\n",
       "Female            | 20       | 12      | 6                  | 6                     | 17\n",
       "Male              | 17       | 10      | 4                  | 6                     | 5"
      ]
     },
     "execution_count": 58,
     "metadata": {},
     "output_type": "execute_result"
    }
   ],
   "source": [
    "# We can take a pivot look at the whole dataset\n",
    "survey.pivot('respondent_home', 'respondent_gender')"
   ]
  },
  {
   "cell_type": "markdown",
   "metadata": {},
   "source": [
    "## 9 Converting from wide to long\n",
    "\n",
    "We designed that survey so that respondents could tell us about up to five alters. In order to look at all of the alters respondents reported about and analyze the relationship between the respondents and alters, we're going to have to manipulate the dataset a bit more extensively. This manipulation is a little bit tricky, but we're going to go through how it can be done step by step.\n",
    "\n",
    "First, let's take a look at the first few rows of the dataset again to remind ourselves of how it is structured:"
   ]
  },
  {
   "cell_type": "code",
   "execution_count": 59,
   "metadata": {},
   "outputs": [
    {
     "data": {
      "text/html": [
       "<table border=\"1\" class=\"dataframe\">\n",
       "    <thead>\n",
       "        <tr>\n",
       "            <th>interview_number</th> <th>interview_date</th> <th>interview_time</th> <th>respondent_gender</th> <th>respondent_age</th> <th>respondent_class</th> <th>respondent_home</th> <th>number_alters</th> <th>alter1_gender</th> <th>alter1_age</th> <th>alter1_class</th> <th>alter1_home</th> <th>alter1_howclose</th> <th>alter1_howoften</th> <th>alter2_gender</th> <th>alter2_age</th> <th>alter2_class</th> <th>alter2_home</th> <th>alter2_howclose</th> <th>alter2_howoften</th> <th>alter3_gender</th> <th>alter3_age</th> <th>alter3_class</th> <th>alter3_home</th> <th>alter3_howclose</th> <th>alter3_howoften</th> <th>alter4_gender</th> <th>alter4_age</th> <th>alter4_class</th> <th>alter4_home</th> <th>alter4_howclose</th> <th>alter4_howoften</th> <th>alter5_gender</th> <th>alter5_age</th> <th>alter5_class</th> <th>alter5_home</th> <th>alter5_howclose</th> <th>alter5_howoften</th>\n",
       "        </tr>\n",
       "    </thead>\n",
       "    <tbody>\n",
       "        <tr>\n",
       "            <td>1               </td> <td>1/24/2019     </td> <td>10:40:00      </td> <td>Male             </td> <td>21            </td> <td>Senior          </td> <td>Bay Area             </td> <td>5            </td> <td>Male         </td> <td>21        </td> <td>Senior      </td> <td>LA Area              </td> <td>Close friend   </td> <td>Once a week          </td> <td>Male         </td> <td>22        </td> <td>Senior      </td> <td>LA Area              </td> <td>Friend         </td> <td>Once a week          </td> <td>Male         </td> <td>20        </td> <td>Junior      </td> <td>Rest of United States</td> <td>Close friend   </td> <td>Once a week          </td> <td>Male         </td> <td>21        </td> <td>Senior      </td> <td>Rest of World        </td> <td>Friend         </td> <td>nan                  </td> <td>Female       </td> <td>22        </td> <td>Senior      </td> <td>Bay Area             </td> <td>Close friend   </td> <td>Once a week    </td>\n",
       "        </tr>\n",
       "        <tr>\n",
       "            <td>2               </td> <td>1/24/2019     </td> <td>11:14:00      </td> <td>Male             </td> <td>25            </td> <td>Other           </td> <td>Bay Area             </td> <td>3            </td> <td>Male         </td> <td>26        </td> <td>Other       </td> <td>Bay Area             </td> <td>Close friend   </td> <td>More than once a week</td> <td>Female       </td> <td>24        </td> <td>Other       </td> <td>Rest of United States</td> <td>Close friend   </td> <td>More than once a week</td> <td>Male         </td> <td>26        </td> <td>Other       </td> <td>Rest of United States</td> <td>Close friend   </td> <td>More than once a week</td> <td>nan          </td> <td>nan       </td> <td>nan         </td> <td>nan                  </td> <td>nan            </td> <td>nan                  </td> <td>nan          </td> <td>nan       </td> <td>nan         </td> <td>nan                  </td> <td>nan            </td> <td>nan            </td>\n",
       "        </tr>\n",
       "        <tr>\n",
       "            <td>3               </td> <td>1/24/2019     </td> <td>11:19:00      </td> <td>Female           </td> <td>25            </td> <td>Other           </td> <td>Rest of United States</td> <td>4            </td> <td>Female       </td> <td>26        </td> <td>Other       </td> <td>Rest of United States</td> <td>Close friend   </td> <td>More than once a week</td> <td>Female       </td> <td>28        </td> <td>Other       </td> <td>Rest of World        </td> <td>Close friend   </td> <td>More than once a week</td> <td>Male         </td> <td>27        </td> <td>Other       </td> <td>Rest of United States</td> <td>Close friend   </td> <td>Once a week          </td> <td>Female       </td> <td>23        </td> <td>Other       </td> <td>Rest of United States</td> <td>Close friend   </td> <td>More than once a week</td> <td>nan          </td> <td>nan       </td> <td>nan         </td> <td>nan                  </td> <td>nan            </td> <td>nan            </td>\n",
       "        </tr>\n",
       "        <tr>\n",
       "            <td>1               </td> <td>1/24/2019     </td> <td>10:34:00      </td> <td>Female           </td> <td>21            </td> <td>Senior          </td> <td>Bay Area             </td> <td>5            </td> <td>Female       </td> <td>20        </td> <td>Junior      </td> <td>Bay Area             </td> <td>Close friend   </td> <td>More than once a week</td> <td>Female       </td> <td>21        </td> <td>Senior      </td> <td>Bay Area             </td> <td>Friend         </td> <td>More than once a week</td> <td>Female       </td> <td>40        </td> <td>Other       </td> <td>Rest of World        </td> <td>Close friend   </td> <td>Once a week          </td> <td>Female       </td> <td>17        </td> <td>Other       </td> <td>Rest of United States</td> <td>Close friend   </td> <td>Once a week          </td> <td>Female       </td> <td>21        </td> <td>Senior      </td> <td>Bay Area             </td> <td>Close friend   </td> <td>Once a week    </td>\n",
       "        </tr>\n",
       "        <tr>\n",
       "            <td>2               </td> <td>1/24/2019     </td> <td>15:21:00      </td> <td>Female           </td> <td>31            </td> <td>Other           </td> <td>Bay Area             </td> <td>5            </td> <td>Female       </td> <td>24        </td> <td>Other       </td> <td>Rest of United States</td> <td>Close friend   </td> <td>More than once a week</td> <td>Female       </td> <td>24        </td> <td>Other       </td> <td>Rest of United States</td> <td>Close friend   </td> <td>Once a week          </td> <td>Female       </td> <td>36        </td> <td>Other       </td> <td>Rest of United States</td> <td>Close friend   </td> <td>Once a week          </td> <td>Female       </td> <td>26        </td> <td>Other       </td> <td>Rest of United States</td> <td>Close friend   </td> <td>Once a month         </td> <td>Female       </td> <td>28        </td> <td>Other       </td> <td>Rest of United States</td> <td>Close friend   </td> <td>Once a week    </td>\n",
       "        </tr>\n",
       "        <tr>\n",
       "            <td>3               </td> <td>1/24/2019     </td> <td>18:23:00      </td> <td>Female           </td> <td>25            </td> <td>Other           </td> <td>Bay Area             </td> <td>6+           </td> <td>Female       </td> <td>25        </td> <td>Other       </td> <td>Rest of United States</td> <td>Close friend   </td> <td>More than once a week</td> <td>Female       </td> <td>60        </td> <td>Other       </td> <td>Rest of United States</td> <td>Close friend   </td> <td>Once a week          </td> <td>Male         </td> <td>62        </td> <td>Other       </td> <td>Bay Area             </td> <td>Close friend   </td> <td>Once a week          </td> <td>Female       </td> <td>25        </td> <td>Other       </td> <td>Bay Area             </td> <td>Friend         </td> <td>Once a year          </td> <td>Female       </td> <td>39        </td> <td>Other       </td> <td>Rest of World        </td> <td>Acquaintance   </td> <td>Once a month   </td>\n",
       "        </tr>\n",
       "    </tbody>\n",
       "</table>\n",
       "<p>... (97 rows omitted)</p>"
      ],
      "text/plain": [
       "<IPython.core.display.HTML object>"
      ]
     },
     "metadata": {},
     "output_type": "display_data"
    }
   ],
   "source": [
    "survey.show(6)"
   ]
  },
  {
   "cell_type": "markdown",
   "metadata": {},
   "source": [
    "The dataset is in *wide* format: all of the information reported by a respondent is stored in a single row:\n",
    "\n",
    "[respondent 1 info] ... [info about respondent 1's first alter] ... [info about respondent 1's second alter] ...   \n",
    "[respondent 2 info] ... [info about respondent 2's first alter] ... [info about respondent 2's second alter] ...   \n",
    "...\n",
    "\n",
    "Our goal is to reshape the dataset so that the information is in *long* format instead:\n",
    "\n",
    "[respondent 1 info] [info about respondent 1's first alter]  \n",
    "[respondent 1 info] [info about respondent 1's second alter]  \n",
    "[respondent 1 info] [info about respondent 1's third alter]  \n",
    "[respondent 1 info] [info about respondent 1's fourth alter]  \n",
    "[respondent 1 info] [info about respondent 1's fifth alter]  \n",
    "[respondent 2 info] [info about respondent 2's first alter]  \n",
    "[respondent 2 info] [info about respondent 2's second alter]  \n",
    "..."
   ]
  },
  {
   "cell_type": "markdown",
   "metadata": {},
   "source": [
    "We're going to start by creating an id variable for our survey responses. \n",
    "\n",
    "Always remember to double-check the results of your operations."
   ]
  },
  {
   "cell_type": "code",
   "execution_count": 60,
   "metadata": {},
   "outputs": [],
   "source": [
    "## create a respondent id variable\n",
    "survey['respondent_id'] = range(1, survey.num_rows + 1) # using [] is a short-hand approach for .with_column function"
   ]
  },
  {
   "cell_type": "code",
   "execution_count": 61,
   "metadata": {},
   "outputs": [
    {
     "data": {
      "text/html": [
       "<table border=\"1\" class=\"dataframe\">\n",
       "    <thead>\n",
       "        <tr>\n",
       "            <th>interview_number</th> <th>interview_date</th> <th>interview_time</th> <th>respondent_gender</th> <th>respondent_age</th> <th>respondent_class</th> <th>respondent_home</th> <th>number_alters</th> <th>alter1_gender</th> <th>alter1_age</th> <th>alter1_class</th> <th>alter1_home</th> <th>alter1_howclose</th> <th>alter1_howoften</th> <th>alter2_gender</th> <th>alter2_age</th> <th>alter2_class</th> <th>alter2_home</th> <th>alter2_howclose</th> <th>alter2_howoften</th> <th>alter3_gender</th> <th>alter3_age</th> <th>alter3_class</th> <th>alter3_home</th> <th>alter3_howclose</th> <th>alter3_howoften</th> <th>alter4_gender</th> <th>alter4_age</th> <th>alter4_class</th> <th>alter4_home</th> <th>alter4_howclose</th> <th>alter4_howoften</th> <th>alter5_gender</th> <th>alter5_age</th> <th>alter5_class</th> <th>alter5_home</th> <th>alter5_howclose</th> <th>alter5_howoften</th> <th>respondent_id</th>\n",
       "        </tr>\n",
       "    </thead>\n",
       "    <tbody>\n",
       "        <tr>\n",
       "            <td>1               </td> <td>1/24/2019     </td> <td>10:40:00      </td> <td>Male             </td> <td>21            </td> <td>Senior          </td> <td>Bay Area             </td> <td>5            </td> <td>Male         </td> <td>21        </td> <td>Senior      </td> <td>LA Area              </td> <td>Close friend   </td> <td>Once a week          </td> <td>Male         </td> <td>22        </td> <td>Senior      </td> <td>LA Area              </td> <td>Friend         </td> <td>Once a week          </td> <td>Male         </td> <td>20        </td> <td>Junior      </td> <td>Rest of United States</td> <td>Close friend   </td> <td>Once a week          </td> <td>Male         </td> <td>21        </td> <td>Senior      </td> <td>Rest of World        </td> <td>Friend         </td> <td>nan                  </td> <td>Female       </td> <td>22        </td> <td>Senior      </td> <td>Bay Area             </td> <td>Close friend   </td> <td>Once a week    </td> <td>1            </td>\n",
       "        </tr>\n",
       "        <tr>\n",
       "            <td>2               </td> <td>1/24/2019     </td> <td>11:14:00      </td> <td>Male             </td> <td>25            </td> <td>Other           </td> <td>Bay Area             </td> <td>3            </td> <td>Male         </td> <td>26        </td> <td>Other       </td> <td>Bay Area             </td> <td>Close friend   </td> <td>More than once a week</td> <td>Female       </td> <td>24        </td> <td>Other       </td> <td>Rest of United States</td> <td>Close friend   </td> <td>More than once a week</td> <td>Male         </td> <td>26        </td> <td>Other       </td> <td>Rest of United States</td> <td>Close friend   </td> <td>More than once a week</td> <td>nan          </td> <td>nan       </td> <td>nan         </td> <td>nan                  </td> <td>nan            </td> <td>nan                  </td> <td>nan          </td> <td>nan       </td> <td>nan         </td> <td>nan                  </td> <td>nan            </td> <td>nan            </td> <td>2            </td>\n",
       "        </tr>\n",
       "        <tr>\n",
       "            <td>3               </td> <td>1/24/2019     </td> <td>11:19:00      </td> <td>Female           </td> <td>25            </td> <td>Other           </td> <td>Rest of United States</td> <td>4            </td> <td>Female       </td> <td>26        </td> <td>Other       </td> <td>Rest of United States</td> <td>Close friend   </td> <td>More than once a week</td> <td>Female       </td> <td>28        </td> <td>Other       </td> <td>Rest of World        </td> <td>Close friend   </td> <td>More than once a week</td> <td>Male         </td> <td>27        </td> <td>Other       </td> <td>Rest of United States</td> <td>Close friend   </td> <td>Once a week          </td> <td>Female       </td> <td>23        </td> <td>Other       </td> <td>Rest of United States</td> <td>Close friend   </td> <td>More than once a week</td> <td>nan          </td> <td>nan       </td> <td>nan         </td> <td>nan                  </td> <td>nan            </td> <td>nan            </td> <td>3            </td>\n",
       "        </tr>\n",
       "        <tr>\n",
       "            <td>1               </td> <td>1/24/2019     </td> <td>10:34:00      </td> <td>Female           </td> <td>21            </td> <td>Senior          </td> <td>Bay Area             </td> <td>5            </td> <td>Female       </td> <td>20        </td> <td>Junior      </td> <td>Bay Area             </td> <td>Close friend   </td> <td>More than once a week</td> <td>Female       </td> <td>21        </td> <td>Senior      </td> <td>Bay Area             </td> <td>Friend         </td> <td>More than once a week</td> <td>Female       </td> <td>40        </td> <td>Other       </td> <td>Rest of World        </td> <td>Close friend   </td> <td>Once a week          </td> <td>Female       </td> <td>17        </td> <td>Other       </td> <td>Rest of United States</td> <td>Close friend   </td> <td>Once a week          </td> <td>Female       </td> <td>21        </td> <td>Senior      </td> <td>Bay Area             </td> <td>Close friend   </td> <td>Once a week    </td> <td>4            </td>\n",
       "        </tr>\n",
       "        <tr>\n",
       "            <td>2               </td> <td>1/24/2019     </td> <td>15:21:00      </td> <td>Female           </td> <td>31            </td> <td>Other           </td> <td>Bay Area             </td> <td>5            </td> <td>Female       </td> <td>24        </td> <td>Other       </td> <td>Rest of United States</td> <td>Close friend   </td> <td>More than once a week</td> <td>Female       </td> <td>24        </td> <td>Other       </td> <td>Rest of United States</td> <td>Close friend   </td> <td>Once a week          </td> <td>Female       </td> <td>36        </td> <td>Other       </td> <td>Rest of United States</td> <td>Close friend   </td> <td>Once a week          </td> <td>Female       </td> <td>26        </td> <td>Other       </td> <td>Rest of United States</td> <td>Close friend   </td> <td>Once a month         </td> <td>Female       </td> <td>28        </td> <td>Other       </td> <td>Rest of United States</td> <td>Close friend   </td> <td>Once a week    </td> <td>5            </td>\n",
       "        </tr>\n",
       "        <tr>\n",
       "            <td>3               </td> <td>1/24/2019     </td> <td>18:23:00      </td> <td>Female           </td> <td>25            </td> <td>Other           </td> <td>Bay Area             </td> <td>6+           </td> <td>Female       </td> <td>25        </td> <td>Other       </td> <td>Rest of United States</td> <td>Close friend   </td> <td>More than once a week</td> <td>Female       </td> <td>60        </td> <td>Other       </td> <td>Rest of United States</td> <td>Close friend   </td> <td>Once a week          </td> <td>Male         </td> <td>62        </td> <td>Other       </td> <td>Bay Area             </td> <td>Close friend   </td> <td>Once a week          </td> <td>Female       </td> <td>25        </td> <td>Other       </td> <td>Bay Area             </td> <td>Friend         </td> <td>Once a year          </td> <td>Female       </td> <td>39        </td> <td>Other       </td> <td>Rest of World        </td> <td>Acquaintance   </td> <td>Once a month   </td> <td>6            </td>\n",
       "        </tr>\n",
       "    </tbody>\n",
       "</table>\n",
       "<p>... (97 rows omitted)</p>"
      ],
      "text/plain": [
       "<IPython.core.display.HTML object>"
      ]
     },
     "metadata": {},
     "output_type": "display_data"
    }
   ],
   "source": [
    "survey.show(6)"
   ]
  },
  {
   "cell_type": "markdown",
   "metadata": {},
   "source": [
    "In order to convert the alter information from wide to long format, we're going to use two functions that have been written for you below.\n",
    "\n",
    "Let's look at the function below and try to understand how it works."
   ]
  },
  {
   "cell_type": "code",
   "execution_count": 62,
   "metadata": {},
   "outputs": [],
   "source": [
    "def repeat_single_col(data, var_name, times=5):\n",
    "    \"\"\"Repeats a single column multiple times.\n",
    "    \n",
    "    Parameters\n",
    "    ----------\n",
    "    data : Table\n",
    "        The data table containing the column to be repeated.\n",
    "    var_name : str\n",
    "        Text that contains the name of the column to repeat.\n",
    "    times : int\n",
    "        The number of times column is to be repeated.\n",
    "    \n",
    "    Returns\n",
    "    -------\n",
    "    np.array\n",
    "        A single array with the contents of the column repeated five times.\n",
    "    \n",
    "    Examples\n",
    "    --------\n",
    "    >>> repeat_single_col(Table().with_columns(['respondent_age', [10]]),\n",
    "                          'respondent_age')\n",
    "    \n",
    "    array([10, 10, 10, 10, 10])\n",
    "    \"\"\"\n",
    "    new_col = np.tile(data.column(var_name), times)\n",
    "    return new_col"
   ]
  },
  {
   "cell_type": "markdown",
   "metadata": {},
   "source": [
    "The key to understanding repeat_single_col is the np.tile function. Look that function up and read its help page."
   ]
  },
  {
   "cell_type": "markdown",
   "metadata": {},
   "source": [
    "**Practice** Use np.tile to create an array that contains [1,3,5,7,1,3,5,7,1,3,5,7,1,3,5,7]."
   ]
  },
  {
   "cell_type": "code",
   "execution_count": 63,
   "metadata": {},
   "outputs": [
    {
     "data": {
      "text/plain": [
       "array([1, 3, 5, 7, 1, 3, 5, 7, 1, 3, 5, 7, 1, 3, 5, 7])"
      ]
     },
     "execution_count": 63,
     "metadata": {},
     "output_type": "execute_result"
    }
   ],
   "source": [
    "#np.tile? # You can remove the # sign and see the 'help' documentation for np.tile\n",
    "np.tile([1,3,5,7], 4)"
   ]
  },
  {
   "cell_type": "markdown",
   "metadata": {},
   "source": [
    "**Practice** What is the difference between np.tile and np.repeat? Do they do the same thing?\n",
    "[Hint: you can use the help page to figure out what np.repeat does.]"
   ]
  },
  {
   "cell_type": "code",
   "execution_count": 64,
   "metadata": {},
   "outputs": [
    {
     "data": {
      "text/plain": [
       "array([1, 1, 1, 1, 3, 3, 3, 3, 5, 5, 5, 5, 7, 7, 7, 7])"
      ]
     },
     "execution_count": 64,
     "metadata": {},
     "output_type": "execute_result"
    }
   ],
   "source": [
    "#np.repeat?\n",
    "np.repeat([1,3,5,7], 4)"
   ]
  },
  {
   "cell_type": "markdown",
   "metadata": {},
   "source": [
    "Now look at the next function, and try to understand how it works."
   ]
  },
  {
   "cell_type": "code",
   "execution_count": 65,
   "metadata": {},
   "outputs": [],
   "source": [
    "def wide_to_long(data, var_name, times=5):\n",
    "    \"\"\"Given columns of alter characteristics, stack them into one long column.\n",
    "    \n",
    "    Parameters\n",
    "    ----------\n",
    "    data : Table\n",
    "        The data table containing the alter characteristics\n",
    "    var_name : str\n",
    "        Text that contains the variable name; columns of the dataset should\n",
    "        match the pattern: alter[NUM]_[var_name]\n",
    "        For example, if var_name is 'age' then this function expects to find\n",
    "        columns in the survey dataset named \n",
    "        'alter1_age', 'alter2_age', 'alter3_age', 'alter4_age', and 'alter5_age'\n",
    "    times : int\n",
    "        The number of columns for each characteristic\n",
    "    \n",
    "    Returns\n",
    "    -------\n",
    "    np.array\n",
    "        A single array with the contents of all of the columns stacked on top of one another.\n",
    "    \n",
    "    Examples\n",
    "    --------\n",
    "    >>> wide_to_long(Table().with_columns(['alter1_age', [10, 15],\n",
    "                                           'alter2_age', [30, 35],\n",
    "                                           'alter3_age', [20, 15],\n",
    "                                           'alter4_age', [60, 70],\n",
    "                                           'alter5_age', [20, 25]]),\n",
    "                     'age')\n",
    "    \n",
    "    array([10, 15, 30, 35, 20, 15, 60, 70, 20, 25])\n",
    "    \"\"\"\n",
    "    new_col = np.concatenate([data.column('alter' + str(idx) + '_' + var_name) for idx in range(1,times+1)])\n",
    "    return new_col"
   ]
  },
  {
   "cell_type": "markdown",
   "metadata": {},
   "source": [
    "The key to understanding this second function is np.concatenate. Look up the help page for np.concatenate."
   ]
  },
  {
   "cell_type": "code",
   "execution_count": 66,
   "metadata": {},
   "outputs": [],
   "source": [
    "np.concatenate?"
   ]
  },
  {
   "cell_type": "markdown",
   "metadata": {},
   "source": [
    "**Practice** Use `np.concatenate` to make a single array that has the contents of `column_one` and `column_two` concatenated together:"
   ]
  },
  {
   "cell_type": "code",
   "execution_count": 67,
   "metadata": {},
   "outputs": [
    {
     "data": {
      "text/html": [
       "<table border=\"1\" class=\"dataframe\">\n",
       "    <thead>\n",
       "        <tr>\n",
       "            <th>column_one</th> <th>column_two</th>\n",
       "        </tr>\n",
       "    </thead>\n",
       "    <tbody>\n",
       "        <tr>\n",
       "            <td>1         </td> <td>2         </td>\n",
       "        </tr>\n",
       "        <tr>\n",
       "            <td>3         </td> <td>4         </td>\n",
       "        </tr>\n",
       "        <tr>\n",
       "            <td>5         </td> <td>6         </td>\n",
       "        </tr>\n",
       "        <tr>\n",
       "            <td>7         </td> <td>8         </td>\n",
       "        </tr>\n",
       "        <tr>\n",
       "            <td>9         </td> <td>10        </td>\n",
       "        </tr>\n",
       "    </tbody>\n",
       "</table>"
      ],
      "text/plain": [
       "column_one | column_two\n",
       "1          | 2\n",
       "3          | 4\n",
       "5          | 6\n",
       "7          | 8\n",
       "9          | 10"
      ]
     },
     "execution_count": 67,
     "metadata": {},
     "output_type": "execute_result"
    }
   ],
   "source": [
    "concat_table = Table().with_columns(['column_one', [1,3,5,7,9],\n",
    "                                    'column_two', [2,4,6,8,10]])\n",
    "concat_table"
   ]
  },
  {
   "cell_type": "code",
   "execution_count": 68,
   "metadata": {},
   "outputs": [
    {
     "data": {
      "text/plain": [
       "array([ 1,  3,  5,  7,  9,  2,  4,  6,  8, 10])"
      ]
     },
     "execution_count": 68,
     "metadata": {},
     "output_type": "execute_result"
    }
   ],
   "source": [
    "np.concatenate(concat_table)"
   ]
  },
  {
   "cell_type": "markdown",
   "metadata": {},
   "source": [
    "Now that we understand what np.concatenate does, let's run the wide_to_long() function upon a simple table to see what it does."
   ]
  },
  {
   "cell_type": "code",
   "execution_count": 69,
   "metadata": {},
   "outputs": [
    {
     "data": {
      "text/plain": [
       "array([10, 15, 30, 35, 20, 15, 60, 70, 20, 25])"
      ]
     },
     "execution_count": 69,
     "metadata": {},
     "output_type": "execute_result"
    }
   ],
   "source": [
    "temp_table = Table().with_columns(['alter1_age', [10, 15],\n",
    "                                   'alter2_age', [30, 35],\n",
    "                                   'alter3_age', [20, 15],\n",
    "                                   'alter4_age', [60, 70],\n",
    "                                   'alter5_age', [20, 25]])\n",
    "wide_to_long(temp_table,'age')"
   ]
  },
  {
   "cell_type": "code",
   "execution_count": 70,
   "metadata": {},
   "outputs": [
    {
     "data": {
      "text/html": [
       "<table border=\"1\" class=\"dataframe\">\n",
       "    <thead>\n",
       "        <tr>\n",
       "            <th>interview_number</th> <th>interview_date</th> <th>interview_time</th> <th>respondent_gender</th> <th>respondent_age</th> <th>respondent_class</th> <th>respondent_home</th> <th>number_alters</th> <th>alter1_gender</th> <th>alter1_age</th> <th>alter1_class</th> <th>alter1_home</th> <th>alter1_howclose</th> <th>alter1_howoften</th> <th>alter2_gender</th> <th>alter2_age</th> <th>alter2_class</th> <th>alter2_home</th> <th>alter2_howclose</th> <th>alter2_howoften</th> <th>alter3_gender</th> <th>alter3_age</th> <th>alter3_class</th> <th>alter3_home</th> <th>alter3_howclose</th> <th>alter3_howoften</th> <th>alter4_gender</th> <th>alter4_age</th> <th>alter4_class</th> <th>alter4_home</th> <th>alter4_howclose</th> <th>alter4_howoften</th> <th>alter5_gender</th> <th>alter5_age</th> <th>alter5_class</th> <th>alter5_home</th> <th>alter5_howclose</th> <th>alter5_howoften</th> <th>respondent_id</th>\n",
       "        </tr>\n",
       "    </thead>\n",
       "    <tbody>\n",
       "        <tr>\n",
       "            <td>1               </td> <td>1/24/2019     </td> <td>10:40:00      </td> <td>Male             </td> <td>21            </td> <td>Senior          </td> <td>Bay Area             </td> <td>5            </td> <td>Male         </td> <td>21        </td> <td>Senior      </td> <td>LA Area              </td> <td>Close friend   </td> <td>Once a week          </td> <td>Male         </td> <td>22        </td> <td>Senior      </td> <td>LA Area              </td> <td>Friend         </td> <td>Once a week          </td> <td>Male         </td> <td>20        </td> <td>Junior      </td> <td>Rest of United States</td> <td>Close friend   </td> <td>Once a week          </td> <td>Male         </td> <td>21        </td> <td>Senior      </td> <td>Rest of World        </td> <td>Friend         </td> <td>nan                  </td> <td>Female       </td> <td>22        </td> <td>Senior      </td> <td>Bay Area             </td> <td>Close friend   </td> <td>Once a week          </td> <td>1            </td>\n",
       "        </tr>\n",
       "        <tr>\n",
       "            <td>2               </td> <td>1/24/2019     </td> <td>11:14:00      </td> <td>Male             </td> <td>25            </td> <td>Other           </td> <td>Bay Area             </td> <td>3            </td> <td>Male         </td> <td>26        </td> <td>Other       </td> <td>Bay Area             </td> <td>Close friend   </td> <td>More than once a week</td> <td>Female       </td> <td>24        </td> <td>Other       </td> <td>Rest of United States</td> <td>Close friend   </td> <td>More than once a week</td> <td>Male         </td> <td>26        </td> <td>Other       </td> <td>Rest of United States</td> <td>Close friend   </td> <td>More than once a week</td> <td>nan          </td> <td>nan       </td> <td>nan         </td> <td>nan                  </td> <td>nan            </td> <td>nan                  </td> <td>nan          </td> <td>nan       </td> <td>nan         </td> <td>nan                  </td> <td>nan            </td> <td>nan                  </td> <td>2            </td>\n",
       "        </tr>\n",
       "        <tr>\n",
       "            <td>3               </td> <td>1/24/2019     </td> <td>11:19:00      </td> <td>Female           </td> <td>25            </td> <td>Other           </td> <td>Rest of United States</td> <td>4            </td> <td>Female       </td> <td>26        </td> <td>Other       </td> <td>Rest of United States</td> <td>Close friend   </td> <td>More than once a week</td> <td>Female       </td> <td>28        </td> <td>Other       </td> <td>Rest of World        </td> <td>Close friend   </td> <td>More than once a week</td> <td>Male         </td> <td>27        </td> <td>Other       </td> <td>Rest of United States</td> <td>Close friend   </td> <td>Once a week          </td> <td>Female       </td> <td>23        </td> <td>Other       </td> <td>Rest of United States</td> <td>Close friend   </td> <td>More than once a week</td> <td>nan          </td> <td>nan       </td> <td>nan         </td> <td>nan                  </td> <td>nan            </td> <td>nan                  </td> <td>3            </td>\n",
       "        </tr>\n",
       "        <tr>\n",
       "            <td>1               </td> <td>1/24/2019     </td> <td>10:34:00      </td> <td>Female           </td> <td>21            </td> <td>Senior          </td> <td>Bay Area             </td> <td>5            </td> <td>Female       </td> <td>20        </td> <td>Junior      </td> <td>Bay Area             </td> <td>Close friend   </td> <td>More than once a week</td> <td>Female       </td> <td>21        </td> <td>Senior      </td> <td>Bay Area             </td> <td>Friend         </td> <td>More than once a week</td> <td>Female       </td> <td>40        </td> <td>Other       </td> <td>Rest of World        </td> <td>Close friend   </td> <td>Once a week          </td> <td>Female       </td> <td>17        </td> <td>Other       </td> <td>Rest of United States</td> <td>Close friend   </td> <td>Once a week          </td> <td>Female       </td> <td>21        </td> <td>Senior      </td> <td>Bay Area             </td> <td>Close friend   </td> <td>Once a week          </td> <td>4            </td>\n",
       "        </tr>\n",
       "        <tr>\n",
       "            <td>2               </td> <td>1/24/2019     </td> <td>15:21:00      </td> <td>Female           </td> <td>31            </td> <td>Other           </td> <td>Bay Area             </td> <td>5            </td> <td>Female       </td> <td>24        </td> <td>Other       </td> <td>Rest of United States</td> <td>Close friend   </td> <td>More than once a week</td> <td>Female       </td> <td>24        </td> <td>Other       </td> <td>Rest of United States</td> <td>Close friend   </td> <td>Once a week          </td> <td>Female       </td> <td>36        </td> <td>Other       </td> <td>Rest of United States</td> <td>Close friend   </td> <td>Once a week          </td> <td>Female       </td> <td>26        </td> <td>Other       </td> <td>Rest of United States</td> <td>Close friend   </td> <td>Once a month         </td> <td>Female       </td> <td>28        </td> <td>Other       </td> <td>Rest of United States</td> <td>Close friend   </td> <td>Once a week          </td> <td>5            </td>\n",
       "        </tr>\n",
       "        <tr>\n",
       "            <td>3               </td> <td>1/24/2019     </td> <td>18:23:00      </td> <td>Female           </td> <td>25            </td> <td>Other           </td> <td>Bay Area             </td> <td>6+           </td> <td>Female       </td> <td>25        </td> <td>Other       </td> <td>Rest of United States</td> <td>Close friend   </td> <td>More than once a week</td> <td>Female       </td> <td>60        </td> <td>Other       </td> <td>Rest of United States</td> <td>Close friend   </td> <td>Once a week          </td> <td>Male         </td> <td>62        </td> <td>Other       </td> <td>Bay Area             </td> <td>Close friend   </td> <td>Once a week          </td> <td>Female       </td> <td>25        </td> <td>Other       </td> <td>Bay Area             </td> <td>Friend         </td> <td>Once a year          </td> <td>Female       </td> <td>39        </td> <td>Other       </td> <td>Rest of World        </td> <td>Acquaintance   </td> <td>Once a month         </td> <td>6            </td>\n",
       "        </tr>\n",
       "        <tr>\n",
       "            <td>1               </td> <td>1/24/2019     </td> <td>10:30:00      </td> <td>Female           </td> <td>23            </td> <td>Junior          </td> <td>Rest of World        </td> <td>6+           </td> <td>Female       </td> <td>53        </td> <td>Other       </td> <td>Rest of World        </td> <td>Close friend   </td> <td>More than once a week</td> <td>Female       </td> <td>21        </td> <td>Junior      </td> <td>Rest of World        </td> <td>Close friend   </td> <td>Once a week          </td> <td>Male         </td> <td>21        </td> <td>Junior      </td> <td>Rest of World        </td> <td>Close friend   </td> <td>Once a week          </td> <td>Female       </td> <td>21        </td> <td>Junior      </td> <td>Rest of World        </td> <td>Close friend   </td> <td>Once a week          </td> <td>Male         </td> <td>21        </td> <td>Junior      </td> <td>Rest of World        </td> <td>Friend         </td> <td>More than once a week</td> <td>7            </td>\n",
       "        </tr>\n",
       "        <tr>\n",
       "            <td>2               </td> <td>1/25/2019     </td> <td>11:20:00      </td> <td>Female           </td> <td>21            </td> <td>Other           </td> <td>Rest of World        </td> <td>4            </td> <td>Female       </td> <td>21        </td> <td>Other       </td> <td>Bay Area             </td> <td>Close friend   </td> <td>More than once a week</td> <td>Female       </td> <td>21        </td> <td>Senior      </td> <td>Bay Area             </td> <td>Close friend   </td> <td>Once a week          </td> <td>Female       </td> <td>21        </td> <td>Other       </td> <td>Bay Area             </td> <td>Close friend   </td> <td>Once a week          </td> <td>Female       </td> <td>53        </td> <td>Other       </td> <td>Bay Area             </td> <td>Friend         </td> <td>Once a week          </td> <td>nan          </td> <td>nan       </td> <td>nan         </td> <td>nan                  </td> <td>nan            </td> <td>nan                  </td> <td>8            </td>\n",
       "        </tr>\n",
       "        <tr>\n",
       "            <td>1               </td> <td>1/24/2019     </td> <td>10:41:00      </td> <td>Female           </td> <td>19            </td> <td>Sophomore       </td> <td>Rest of World        </td> <td>6+           </td> <td>Female       </td> <td>20        </td> <td>Sophomore   </td> <td>Rest of World        </td> <td>Close friend   </td> <td>More than once a week</td> <td>Female       </td> <td>20        </td> <td>Sophomore   </td> <td>Rest of World        </td> <td>Close friend   </td> <td>More than once a week</td> <td>Female       </td> <td>18        </td> <td>Sophomore   </td> <td>Rest of World        </td> <td>Friend         </td> <td>Once a week          </td> <td>Male         </td> <td>19        </td> <td>Sophomore   </td> <td>Rest of World        </td> <td>Friend         </td> <td>Once a week          </td> <td>Male         </td> <td>19        </td> <td>Sophomore   </td> <td>Rest of World        </td> <td>Friend         </td> <td>Once a year          </td> <td>9            </td>\n",
       "        </tr>\n",
       "        <tr>\n",
       "            <td>2               </td> <td>1/24/2019     </td> <td>21:35:00      </td> <td>Female           </td> <td>18            </td> <td>Freshman        </td> <td>Rest of United States</td> <td>4            </td> <td>Female       </td> <td>18        </td> <td>Freshman    </td> <td>Rest of United States</td> <td>Close friend   </td> <td>Once a week          </td> <td>Female       </td> <td>19        </td> <td>Freshman    </td> <td>LA Area              </td> <td>Close friend   </td> <td>More than once a week</td> <td>Male         </td> <td>18        </td> <td>Freshman    </td> <td>Rest of United States</td> <td>Close friend   </td> <td>Once a week          </td> <td>Female       </td> <td>18        </td> <td>Freshman    </td> <td>Rest of United States</td> <td>Close friend   </td> <td>Once a month         </td> <td>nan          </td> <td>nan       </td> <td>nan         </td> <td>nan                  </td> <td>nan            </td> <td>nan                  </td> <td>10           </td>\n",
       "        </tr>\n",
       "    </tbody>\n",
       "</table>\n",
       "<p>... (93 rows omitted)</p>"
      ],
      "text/plain": [
       "interview_number | interview_date | interview_time | respondent_gender | respondent_age | respondent_class | respondent_home       | number_alters | alter1_gender | alter1_age | alter1_class | alter1_home           | alter1_howclose | alter1_howoften       | alter2_gender | alter2_age | alter2_class | alter2_home           | alter2_howclose | alter2_howoften       | alter3_gender | alter3_age | alter3_class | alter3_home           | alter3_howclose | alter3_howoften       | alter4_gender | alter4_age | alter4_class | alter4_home           | alter4_howclose | alter4_howoften       | alter5_gender | alter5_age | alter5_class | alter5_home           | alter5_howclose | alter5_howoften       | respondent_id\n",
       "1                | 1/24/2019      | 10:40:00       | Male              | 21             | Senior           | Bay Area              | 5             | Male          | 21         | Senior       | LA Area               | Close friend    | Once a week           | Male          | 22         | Senior       | LA Area               | Friend          | Once a week           | Male          | 20         | Junior       | Rest of United States | Close friend    | Once a week           | Male          | 21         | Senior       | Rest of World         | Friend          | nan                   | Female        | 22         | Senior       | Bay Area              | Close friend    | Once a week           | 1\n",
       "2                | 1/24/2019      | 11:14:00       | Male              | 25             | Other            | Bay Area              | 3             | Male          | 26         | Other        | Bay Area              | Close friend    | More than once a week | Female        | 24         | Other        | Rest of United States | Close friend    | More than once a week | Male          | 26         | Other        | Rest of United States | Close friend    | More than once a week | nan           | nan        | nan          | nan                   | nan             | nan                   | nan           | nan        | nan          | nan                   | nan             | nan                   | 2\n",
       "3                | 1/24/2019      | 11:19:00       | Female            | 25             | Other            | Rest of United States | 4             | Female        | 26         | Other        | Rest of United States | Close friend    | More than once a week | Female        | 28         | Other        | Rest of World         | Close friend    | More than once a week | Male          | 27         | Other        | Rest of United States | Close friend    | Once a week           | Female        | 23         | Other        | Rest of United States | Close friend    | More than once a week | nan           | nan        | nan          | nan                   | nan             | nan                   | 3\n",
       "1                | 1/24/2019      | 10:34:00       | Female            | 21             | Senior           | Bay Area              | 5             | Female        | 20         | Junior       | Bay Area              | Close friend    | More than once a week | Female        | 21         | Senior       | Bay Area              | Friend          | More than once a week | Female        | 40         | Other        | Rest of World         | Close friend    | Once a week           | Female        | 17         | Other        | Rest of United States | Close friend    | Once a week           | Female        | 21         | Senior       | Bay Area              | Close friend    | Once a week           | 4\n",
       "2                | 1/24/2019      | 15:21:00       | Female            | 31             | Other            | Bay Area              | 5             | Female        | 24         | Other        | Rest of United States | Close friend    | More than once a week | Female        | 24         | Other        | Rest of United States | Close friend    | Once a week           | Female        | 36         | Other        | Rest of United States | Close friend    | Once a week           | Female        | 26         | Other        | Rest of United States | Close friend    | Once a month          | Female        | 28         | Other        | Rest of United States | Close friend    | Once a week           | 5\n",
       "3                | 1/24/2019      | 18:23:00       | Female            | 25             | Other            | Bay Area              | 6+            | Female        | 25         | Other        | Rest of United States | Close friend    | More than once a week | Female        | 60         | Other        | Rest of United States | Close friend    | Once a week           | Male          | 62         | Other        | Bay Area              | Close friend    | Once a week           | Female        | 25         | Other        | Bay Area              | Friend          | Once a year           | Female        | 39         | Other        | Rest of World         | Acquaintance    | Once a month          | 6\n",
       "1                | 1/24/2019      | 10:30:00       | Female            | 23             | Junior           | Rest of World         | 6+            | Female        | 53         | Other        | Rest of World         | Close friend    | More than once a week | Female        | 21         | Junior       | Rest of World         | Close friend    | Once a week           | Male          | 21         | Junior       | Rest of World         | Close friend    | Once a week           | Female        | 21         | Junior       | Rest of World         | Close friend    | Once a week           | Male          | 21         | Junior       | Rest of World         | Friend          | More than once a week | 7\n",
       "2                | 1/25/2019      | 11:20:00       | Female            | 21             | Other            | Rest of World         | 4             | Female        | 21         | Other        | Bay Area              | Close friend    | More than once a week | Female        | 21         | Senior       | Bay Area              | Close friend    | Once a week           | Female        | 21         | Other        | Bay Area              | Close friend    | Once a week           | Female        | 53         | Other        | Bay Area              | Friend          | Once a week           | nan           | nan        | nan          | nan                   | nan             | nan                   | 8\n",
       "1                | 1/24/2019      | 10:41:00       | Female            | 19             | Sophomore        | Rest of World         | 6+            | Female        | 20         | Sophomore    | Rest of World         | Close friend    | More than once a week | Female        | 20         | Sophomore    | Rest of World         | Close friend    | More than once a week | Female        | 18         | Sophomore    | Rest of World         | Friend          | Once a week           | Male          | 19         | Sophomore    | Rest of World         | Friend          | Once a week           | Male          | 19         | Sophomore    | Rest of World         | Friend          | Once a year           | 9\n",
       "2                | 1/24/2019      | 21:35:00       | Female            | 18             | Freshman         | Rest of United States | 4             | Female        | 18         | Freshman     | Rest of United States | Close friend    | Once a week           | Female        | 19         | Freshman     | LA Area               | Close friend    | More than once a week | Male          | 18         | Freshman     | Rest of United States | Close friend    | Once a week           | Female        | 18         | Freshman     | Rest of United States | Close friend    | Once a month          | nan           | nan        | nan          | nan                   | nan             | nan                   | 10\n",
       "... (93 rows omitted)"
      ]
     },
     "execution_count": 70,
     "metadata": {},
     "output_type": "execute_result"
    }
   ],
   "source": [
    "survey"
   ]
  },
  {
   "cell_type": "markdown",
   "metadata": {},
   "source": [
    "You can see that it links the head and end of columns.\n",
    "\n",
    "We'll take a first try at converting the alter data to long format together, and then you'll do a more complete job as an exercise.\n",
    "\n",
    "For our first step, we'll only keep the respondent's id number and the age of the alters each respondent reported about. Since there is space for 5 alters per respondent, we expect (number of respondents x 5) = (... x 5) = ... rows in our resulting dataset.\n",
    "\n",
    "Let's construct the table."
   ]
  },
  {
   "cell_type": "code",
   "execution_count": 71,
   "metadata": {},
   "outputs": [
    {
     "data": {
      "text/html": [
       "<table border=\"1\" class=\"dataframe\">\n",
       "    <thead>\n",
       "        <tr>\n",
       "            <th>respondent_id</th> <th>alter_age</th>\n",
       "        </tr>\n",
       "    </thead>\n",
       "    <tbody>\n",
       "        <tr>\n",
       "            <td>1            </td> <td>21       </td>\n",
       "        </tr>\n",
       "        <tr>\n",
       "            <td>2            </td> <td>26       </td>\n",
       "        </tr>\n",
       "        <tr>\n",
       "            <td>3            </td> <td>26       </td>\n",
       "        </tr>\n",
       "        <tr>\n",
       "            <td>4            </td> <td>20       </td>\n",
       "        </tr>\n",
       "        <tr>\n",
       "            <td>5            </td> <td>24       </td>\n",
       "        </tr>\n",
       "        <tr>\n",
       "            <td>6            </td> <td>25       </td>\n",
       "        </tr>\n",
       "        <tr>\n",
       "            <td>7            </td> <td>53       </td>\n",
       "        </tr>\n",
       "        <tr>\n",
       "            <td>8            </td> <td>21       </td>\n",
       "        </tr>\n",
       "        <tr>\n",
       "            <td>9            </td> <td>20       </td>\n",
       "        </tr>\n",
       "        <tr>\n",
       "            <td>10           </td> <td>18       </td>\n",
       "        </tr>\n",
       "    </tbody>\n",
       "</table>\n",
       "<p>... (505 rows omitted)</p>"
      ],
      "text/plain": [
       "respondent_id | alter_age\n",
       "1             | 21\n",
       "2             | 26\n",
       "3             | 26\n",
       "4             | 20\n",
       "5             | 24\n",
       "6             | 25\n",
       "7             | 53\n",
       "8             | 21\n",
       "9             | 20\n",
       "10            | 18\n",
       "... (505 rows omitted)"
      ]
     },
     "execution_count": 71,
     "metadata": {},
     "output_type": "execute_result"
    }
   ],
   "source": [
    "alter_first_try = Table().with_columns([\n",
    "    'respondent_id', repeat_single_col(survey, 'respondent_id'),\n",
    "    'alter_age', wide_to_long(survey, 'age')])\n",
    "alter_first_try"
   ]
  },
  {
   "cell_type": "markdown",
   "metadata": {},
   "source": [
    "You can see that we want to use `repeat_single_col` for the column that is a respondent characteristic and that we want to use `wide_to_long` for the column that is an alter characteristic.\n",
    "\n",
    "Let's check that the resulting Table, called `alter_first_try` makes sense.\n",
    "\n",
    "**Practice** How many rows do you think alter_first_try should have? Check the number of rows."
   ]
  },
  {
   "cell_type": "code",
   "execution_count": 72,
   "metadata": {
    "scrolled": true
   },
   "outputs": [
    {
     "data": {
      "text/plain": [
       "515"
      ]
     },
     "execution_count": 72,
     "metadata": {},
     "output_type": "execute_result"
    }
   ],
   "source": [
    "alter_first_try.num_rows"
   ]
  },
  {
   "cell_type": "code",
   "execution_count": 73,
   "metadata": {},
   "outputs": [
    {
     "data": {
      "text/plain": [
       "array([ True,  True,  True,  True,  True,  True,  True,  True,  True,\n",
       "        True,  True,  True,  True,  True,  True,  True,  True,  True,\n",
       "        True,  True,  True,  True,  True,  True,  True,  True,  True,\n",
       "        True,  True,  True,  True,  True,  True,  True,  True,  True,\n",
       "        True,  True,  True,  True,  True,  True,  True,  True,  True,\n",
       "        True,  True,  True,  True,  True,  True,  True,  True,  True,\n",
       "        True,  True,  True,  True,  True,  True,  True,  True,  True,\n",
       "        True,  True,  True,  True,  True,  True,  True,  True,  True,\n",
       "        True,  True,  True,  True,  True,  True,  True,  True,  True,\n",
       "        True,  True,  True,  True,  True,  True,  True,  True,  True,\n",
       "        True,  True,  True,  True,  True,  True,  True,  True,  True,\n",
       "        True,  True,  True,  True])"
      ]
     },
     "execution_count": 73,
     "metadata": {},
     "output_type": "execute_result"
    }
   ],
   "source": [
    "alter_first_try.group('respondent_id').column('count') == 5"
   ]
  },
  {
   "cell_type": "markdown",
   "metadata": {},
   "source": [
    "**Practice** The following statement allows you to double-check that each respondent appears five times in this dataset."
   ]
  },
  {
   "cell_type": "code",
   "execution_count": 74,
   "metadata": {},
   "outputs": [
    {
     "data": {
      "text/plain": [
       "True"
      ]
     },
     "execution_count": 74,
     "metadata": {},
     "output_type": "execute_result"
    }
   ],
   "source": [
    "np.all(alter_first_try.group('respondent_id').column('count') == 5)"
   ]
  },
  {
   "cell_type": "markdown",
   "metadata": {},
   "source": [
    "**Practice** Now it's your turn! Using the example above as a pattern, create a long dataset that has\n",
    "\n",
    "* respondent id\n",
    "* respondent age\n",
    "* respondent class\n",
    "* respondent home\n",
    "* alter age\n",
    "* alter gender\n",
    "* alter class\n",
    "* alter home\n",
    "\n",
    "Don't forget to perform a couple of checks to be sure the resulting dataset makes sense (like we did above).\n",
    "\n",
    "**Hint: you need to repeat the information for the respondent and convert from wide to long for the alters' information.**"
   ]
  },
  {
   "cell_type": "code",
   "execution_count": 75,
   "metadata": {},
   "outputs": [
    {
     "data": {
      "text/html": [
       "<table border=\"1\" class=\"dataframe\">\n",
       "    <thead>\n",
       "        <tr>\n",
       "            <th>respondent_id</th> <th>respondent_age</th> <th>respondent_class</th> <th>respondent_home</th> <th>alter_age</th> <th>alter_gender</th> <th>alter_class</th> <th>alter_home</th>\n",
       "        </tr>\n",
       "    </thead>\n",
       "    <tbody>\n",
       "        <tr>\n",
       "            <td>1            </td> <td>21            </td> <td>Senior          </td> <td>Bay Area             </td> <td>21       </td> <td>Male        </td> <td>Senior     </td> <td>LA Area              </td>\n",
       "        </tr>\n",
       "        <tr>\n",
       "            <td>2            </td> <td>25            </td> <td>Other           </td> <td>Bay Area             </td> <td>26       </td> <td>Male        </td> <td>Other      </td> <td>Bay Area             </td>\n",
       "        </tr>\n",
       "        <tr>\n",
       "            <td>3            </td> <td>25            </td> <td>Other           </td> <td>Rest of United States</td> <td>26       </td> <td>Female      </td> <td>Other      </td> <td>Rest of United States</td>\n",
       "        </tr>\n",
       "        <tr>\n",
       "            <td>4            </td> <td>21            </td> <td>Senior          </td> <td>Bay Area             </td> <td>20       </td> <td>Female      </td> <td>Junior     </td> <td>Bay Area             </td>\n",
       "        </tr>\n",
       "        <tr>\n",
       "            <td>5            </td> <td>31            </td> <td>Other           </td> <td>Bay Area             </td> <td>24       </td> <td>Female      </td> <td>Other      </td> <td>Rest of United States</td>\n",
       "        </tr>\n",
       "        <tr>\n",
       "            <td>6            </td> <td>25            </td> <td>Other           </td> <td>Bay Area             </td> <td>25       </td> <td>Female      </td> <td>Other      </td> <td>Rest of United States</td>\n",
       "        </tr>\n",
       "        <tr>\n",
       "            <td>7            </td> <td>23            </td> <td>Junior          </td> <td>Rest of World        </td> <td>53       </td> <td>Female      </td> <td>Other      </td> <td>Rest of World        </td>\n",
       "        </tr>\n",
       "        <tr>\n",
       "            <td>8            </td> <td>21            </td> <td>Other           </td> <td>Rest of World        </td> <td>21       </td> <td>Female      </td> <td>Other      </td> <td>Bay Area             </td>\n",
       "        </tr>\n",
       "        <tr>\n",
       "            <td>9            </td> <td>19            </td> <td>Sophomore       </td> <td>Rest of World        </td> <td>20       </td> <td>Female      </td> <td>Sophomore  </td> <td>Rest of World        </td>\n",
       "        </tr>\n",
       "        <tr>\n",
       "            <td>10           </td> <td>18            </td> <td>Freshman        </td> <td>Rest of United States</td> <td>18       </td> <td>Female      </td> <td>Freshman   </td> <td>Rest of United States</td>\n",
       "        </tr>\n",
       "    </tbody>\n",
       "</table>\n",
       "<p>... (505 rows omitted)</p>"
      ],
      "text/plain": [
       "respondent_id | respondent_age | respondent_class | respondent_home       | alter_age | alter_gender | alter_class | alter_home\n",
       "1             | 21             | Senior           | Bay Area              | 21        | Male         | Senior      | LA Area\n",
       "2             | 25             | Other            | Bay Area              | 26        | Male         | Other       | Bay Area\n",
       "3             | 25             | Other            | Rest of United States | 26        | Female       | Other       | Rest of United States\n",
       "4             | 21             | Senior           | Bay Area              | 20        | Female       | Junior      | Bay Area\n",
       "5             | 31             | Other            | Bay Area              | 24        | Female       | Other       | Rest of United States\n",
       "6             | 25             | Other            | Bay Area              | 25        | Female       | Other       | Rest of United States\n",
       "7             | 23             | Junior           | Rest of World         | 53        | Female       | Other       | Rest of World\n",
       "8             | 21             | Other            | Rest of World         | 21        | Female       | Other       | Bay Area\n",
       "9             | 19             | Sophomore        | Rest of World         | 20        | Female       | Sophomore   | Rest of World\n",
       "10            | 18             | Freshman         | Rest of United States | 18        | Female       | Freshman    | Rest of United States\n",
       "... (505 rows omitted)"
      ]
     },
     "execution_count": 75,
     "metadata": {},
     "output_type": "execute_result"
    }
   ],
   "source": [
    "alter_data = Table().with_columns([\n",
    "    'respondent_id', repeat_single_col(survey, 'respondent_id'),\n",
    "    'respondent_age', repeat_single_col(survey, 'respondent_age'),\n",
    "    'respondent_class', repeat_single_col(survey, 'respondent_class'),\n",
    "    'respondent_home', repeat_single_col(survey, 'respondent_home'),\n",
    "    'alter_age', wide_to_long(survey, 'age'),\n",
    "    'alter_gender', wide_to_long(survey, 'gender'),\n",
    "    'alter_class', wide_to_long(survey, 'class'),\n",
    "    'alter_home', wide_to_long(survey, 'home'),])\n",
    "\n",
    "alter_data"
   ]
  },
  {
   "cell_type": "code",
   "execution_count": 76,
   "metadata": {},
   "outputs": [
    {
     "data": {
      "text/html": [
       "<table border=\"1\" class=\"dataframe\">\n",
       "    <thead>\n",
       "        <tr>\n",
       "            <th>respondent_id</th> <th>respondent_age</th> <th>respondent_class</th> <th>respondent_home</th> <th>alter_age</th> <th>alter_gender</th> <th>alter_class</th> <th>alter_home</th>\n",
       "        </tr>\n",
       "    </thead>\n",
       "    <tbody>\n",
       "        <tr>\n",
       "            <td>1            </td> <td>21            </td> <td>Senior          </td> <td>Bay Area             </td> <td>21       </td> <td>Male        </td> <td>Senior     </td> <td>LA Area              </td>\n",
       "        </tr>\n",
       "        <tr>\n",
       "            <td>2            </td> <td>25            </td> <td>Other           </td> <td>Bay Area             </td> <td>26       </td> <td>Male        </td> <td>Other      </td> <td>Bay Area             </td>\n",
       "        </tr>\n",
       "        <tr>\n",
       "            <td>3            </td> <td>25            </td> <td>Other           </td> <td>Rest of United States</td> <td>26       </td> <td>Female      </td> <td>Other      </td> <td>Rest of United States</td>\n",
       "        </tr>\n",
       "        <tr>\n",
       "            <td>4            </td> <td>21            </td> <td>Senior          </td> <td>Bay Area             </td> <td>20       </td> <td>Female      </td> <td>Junior     </td> <td>Bay Area             </td>\n",
       "        </tr>\n",
       "        <tr>\n",
       "            <td>5            </td> <td>31            </td> <td>Other           </td> <td>Bay Area             </td> <td>24       </td> <td>Female      </td> <td>Other      </td> <td>Rest of United States</td>\n",
       "        </tr>\n",
       "        <tr>\n",
       "            <td>6            </td> <td>25            </td> <td>Other           </td> <td>Bay Area             </td> <td>25       </td> <td>Female      </td> <td>Other      </td> <td>Rest of United States</td>\n",
       "        </tr>\n",
       "        <tr>\n",
       "            <td>7            </td> <td>23            </td> <td>Junior          </td> <td>Rest of World        </td> <td>53       </td> <td>Female      </td> <td>Other      </td> <td>Rest of World        </td>\n",
       "        </tr>\n",
       "        <tr>\n",
       "            <td>8            </td> <td>21            </td> <td>Other           </td> <td>Rest of World        </td> <td>21       </td> <td>Female      </td> <td>Other      </td> <td>Bay Area             </td>\n",
       "        </tr>\n",
       "        <tr>\n",
       "            <td>9            </td> <td>19            </td> <td>Sophomore       </td> <td>Rest of World        </td> <td>20       </td> <td>Female      </td> <td>Sophomore  </td> <td>Rest of World        </td>\n",
       "        </tr>\n",
       "        <tr>\n",
       "            <td>10           </td> <td>18            </td> <td>Freshman        </td> <td>Rest of United States</td> <td>18       </td> <td>Female      </td> <td>Freshman   </td> <td>Rest of United States</td>\n",
       "        </tr>\n",
       "    </tbody>\n",
       "</table>\n",
       "<p>... (505 rows omitted)</p>"
      ],
      "text/plain": [
       "respondent_id | respondent_age | respondent_class | respondent_home       | alter_age | alter_gender | alter_class | alter_home\n",
       "1             | 21             | Senior           | Bay Area              | 21        | Male         | Senior      | LA Area\n",
       "2             | 25             | Other            | Bay Area              | 26        | Male         | Other       | Bay Area\n",
       "3             | 25             | Other            | Rest of United States | 26        | Female       | Other       | Rest of United States\n",
       "4             | 21             | Senior           | Bay Area              | 20        | Female       | Junior      | Bay Area\n",
       "5             | 31             | Other            | Bay Area              | 24        | Female       | Other       | Rest of United States\n",
       "6             | 25             | Other            | Bay Area              | 25        | Female       | Other       | Rest of United States\n",
       "7             | 23             | Junior           | Rest of World         | 53        | Female       | Other       | Rest of World\n",
       "8             | 21             | Other            | Rest of World         | 21        | Female       | Other       | Bay Area\n",
       "9             | 19             | Sophomore        | Rest of World         | 20        | Female       | Sophomore   | Rest of World\n",
       "10            | 18             | Freshman         | Rest of United States | 18        | Female       | Freshman    | Rest of United States\n",
       "... (505 rows omitted)"
      ]
     },
     "execution_count": 76,
     "metadata": {},
     "output_type": "execute_result"
    }
   ],
   "source": [
    "alter_data = Table().with_columns([\n",
    "    'respondent_id', repeat_single_col(survey, 'respondent_id'),\n",
    "    'respondent_age', repeat_single_col(survey, 'respondent_age'),\n",
    "    'respondent_class', repeat_single_col(survey, 'respondent_class'),\n",
    "    'respondent_home', repeat_single_col(survey, 'respondent_home'),\n",
    "    'alter_age', wide_to_long(survey, 'age'),\n",
    "    'alter_gender', wide_to_long(survey, 'gender'),\n",
    "    'alter_class', wide_to_long(survey, 'class'),\n",
    "    'alter_home', wide_to_long(survey, 'home'),])\n",
    "\n",
    "alter_data"
   ]
  },
  {
   "cell_type": "markdown",
   "metadata": {},
   "source": [
    "Check the number of rows of the new table as well as the repetitions of the repondents in the new table."
   ]
  },
  {
   "cell_type": "code",
   "execution_count": 77,
   "metadata": {},
   "outputs": [
    {
     "data": {
      "text/plain": [
       "515"
      ]
     },
     "execution_count": 77,
     "metadata": {},
     "output_type": "execute_result"
    }
   ],
   "source": [
    "nrow = alter_data.num_rows\n",
    "nrow"
   ]
  },
  {
   "cell_type": "code",
   "execution_count": 78,
   "metadata": {},
   "outputs": [
    {
     "data": {
      "text/plain": [
       "True"
      ]
     },
     "execution_count": 78,
     "metadata": {},
     "output_type": "execute_result"
    }
   ],
   "source": [
    "# double check that each respondent appears 5 times\n",
    "np.all(alter_data.group('respondent_id').column('count') == 5)"
   ]
  },
  {
   "cell_type": "markdown",
   "metadata": {},
   "source": [
    "### Ages of Berkeley students' confidants\n",
    "\n",
    "OK, now that we have created a long-form dataset, let's make use of it to learn about the people Berkeley students discuss important matters with."
   ]
  },
  {
   "cell_type": "markdown",
   "metadata": {},
   "source": [
    "Start by trying to make a histogram of the confidants' ages. (You will get an error -- read the error message and then see the next question.)"
   ]
  },
  {
   "cell_type": "code",
   "execution_count": 115,
   "metadata": {},
   "outputs": [
    {
     "data": {
      "image/png": "[encoded data removed]",
      "text/plain": [
       "<Figure size 432x288 with 1 Axes>"
      ]
     },
     "metadata": {},
     "output_type": "display_data"
    }
   ],
   "source": [
    "alter_data.hist('alter_age')"
   ]
  },
  {
   "cell_type": "markdown",
   "metadata": {},
   "source": [
    "You get an error message because some of the rows of the dataset have nan or 'not a number' for the value of age. Why? Because not every respondent reported 5 alters. So we need to filter our dataset down to only have data from actual reports about alters.\n",
    "\n",
    "We will do this by assuming that if alter_age is nan, then no alter was reported about."
   ]
  },
  {
   "cell_type": "markdown",
   "metadata": {},
   "source": [
    "**Practice** Use a where statement to keep only the rows of alter_data that do not have an nan value for alter_age.\n",
    "\n",
    "[HINT 1: Check out the np.isnan function.]\n",
    "[HINT 2: You can flip the TRUE or FALSE value of an array of Boolean values by using ~. So ~ [False, True, False] equals [True, False, True]."
   ]
  },
  {
   "cell_type": "code",
   "execution_count": 80,
   "metadata": {},
   "outputs": [],
   "source": [
    "# Prep\n",
    "np.isnan?"
   ]
  },
  {
   "cell_type": "code",
   "execution_count": 81,
   "metadata": {},
   "outputs": [],
   "source": [
    "# First step, get the booleans (trues and falses) for constructing the table\n",
    "# If it's TRUE for the 1st row, it will be kept in the new table, otherwise it will be filtered out.\n",
    "boolean = ~np.isnan(alter_data.column('alter_age')) # fill in the code before the ()"
   ]
  },
  {
   "cell_type": "code",
   "execution_count": 82,
   "metadata": {},
   "outputs": [
    {
     "data": {
      "text/plain": [
       "array([ True,  True,  True,  True,  True,  True,  True,  True,  True,\n",
       "        True,  True,  True,  True,  True,  True,  True,  True,  True,\n",
       "        True,  True,  True,  True,  True,  True,  True,  True,  True,\n",
       "        True,  True,  True,  True,  True,  True,  True,  True,  True,\n",
       "        True,  True,  True,  True,  True,  True,  True,  True,  True,\n",
       "        True,  True,  True,  True,  True,  True,  True,  True,  True,\n",
       "        True,  True,  True,  True,  True,  True,  True,  True,  True,\n",
       "        True,  True,  True,  True,  True,  True,  True,  True,  True,\n",
       "        True,  True,  True,  True,  True,  True,  True,  True,  True,\n",
       "        True,  True,  True,  True,  True,  True,  True,  True,  True,\n",
       "        True,  True,  True,  True,  True,  True,  True,  True,  True,\n",
       "        True,  True,  True,  True,  True,  True,  True,  True,  True,\n",
       "        True,  True,  True,  True,  True,  True,  True,  True,  True,\n",
       "        True,  True,  True,  True,  True,  True,  True,  True,  True,\n",
       "        True,  True,  True,  True,  True,  True,  True,  True,  True,\n",
       "        True,  True,  True,  True,  True,  True,  True,  True,  True,\n",
       "        True,  True,  True,  True,  True,  True,  True,  True,  True,\n",
       "        True,  True,  True,  True,  True,  True,  True,  True,  True,\n",
       "        True,  True,  True,  True,  True,  True,  True,  True,  True,\n",
       "        True,  True,  True,  True,  True,  True,  True,  True,  True,\n",
       "        True,  True,  True,  True,  True,  True,  True,  True,  True,\n",
       "        True,  True,  True,  True,  True,  True,  True, False,  True,\n",
       "        True,  True,  True,  True,  True,  True,  True,  True,  True,\n",
       "        True,  True,  True,  True,  True,  True,  True,  True,  True,\n",
       "        True,  True,  True,  True,  True,  True,  True,  True,  True,\n",
       "        True,  True,  True,  True,  True,  True,  True,  True,  True,\n",
       "        True,  True,  True,  True,  True,  True,  True,  True,  True,\n",
       "        True,  True,  True,  True,  True,  True,  True,  True,  True,\n",
       "        True,  True,  True,  True,  True,  True,  True,  True,  True,\n",
       "        True,  True,  True,  True,  True,  True,  True,  True,  True,\n",
       "        True,  True,  True,  True,  True,  True,  True,  True,  True,\n",
       "        True,  True,  True,  True,  True,  True,  True,  True,  True,\n",
       "        True,  True,  True,  True,  True,  True,  True,  True,  True,\n",
       "        True,  True, False,  True,  True,  True,  True,  True,  True,\n",
       "        True,  True,  True,  True, False,  True,  True,  True,  True,\n",
       "        True,  True,  True,  True,  True,  True,  True,  True,  True,\n",
       "        True,  True,  True,  True,  True,  True,  True,  True,  True,\n",
       "        True,  True,  True,  True,  True,  True,  True,  True,  True,\n",
       "        True,  True,  True,  True,  True,  True,  True,  True,  True,\n",
       "        True,  True,  True,  True,  True,  True,  True,  True,  True,\n",
       "        True,  True,  True,  True,  True,  True,  True,  True,  True,\n",
       "        True,  True,  True,  True,  True, False,  True,  True,  True,\n",
       "        True,  True,  True,  True,  True,  True,  True,  True,  True,\n",
       "       False, False,  True,  True,  True,  True,  True,  True,  True,\n",
       "        True,  True,  True,  True,  True,  True, False,  True,  True,\n",
       "        True,  True,  True,  True,  True,  True,  True,  True, False,\n",
       "       False,  True,  True,  True,  True, False,  True, False,  True,\n",
       "        True,  True,  True,  True,  True,  True,  True,  True,  True,\n",
       "        True,  True,  True,  True,  True,  True,  True,  True,  True,\n",
       "        True,  True,  True,  True,  True,  True,  True,  True,  True,\n",
       "        True,  True,  True,  True,  True,  True,  True,  True,  True,\n",
       "       False,  True,  True,  True,  True,  True,  True,  True, False,\n",
       "        True,  True,  True,  True,  True,  True,  True,  True,  True,\n",
       "       False,  True,  True,  True, False,  True,  True,  True,  True,\n",
       "        True,  True,  True,  True, False, False, False,  True,  True,\n",
       "        True,  True,  True, False, False,  True,  True,  True,  True,\n",
       "        True, False,  True,  True,  True,  True,  True,  True,  True,\n",
       "        True,  True])"
      ]
     },
     "execution_count": 82,
     "metadata": {},
     "output_type": "execute_result"
    }
   ],
   "source": [
    "boolean"
   ]
  },
  {
   "cell_type": "code",
   "execution_count": 83,
   "metadata": {},
   "outputs": [
    {
     "data": {
      "text/html": [
       "<table border=\"1\" class=\"dataframe\">\n",
       "    <thead>\n",
       "        <tr>\n",
       "            <th>respondent_id</th> <th>respondent_age</th> <th>respondent_class</th> <th>respondent_home</th> <th>alter_age</th> <th>alter_gender</th> <th>alter_class</th> <th>alter_home</th>\n",
       "        </tr>\n",
       "    </thead>\n",
       "    <tbody>\n",
       "        <tr>\n",
       "            <td>1            </td> <td>21            </td> <td>Senior          </td> <td>Bay Area             </td> <td>21       </td> <td>Male        </td> <td>Senior     </td> <td>LA Area              </td>\n",
       "        </tr>\n",
       "        <tr>\n",
       "            <td>2            </td> <td>25            </td> <td>Other           </td> <td>Bay Area             </td> <td>26       </td> <td>Male        </td> <td>Other      </td> <td>Bay Area             </td>\n",
       "        </tr>\n",
       "        <tr>\n",
       "            <td>3            </td> <td>25            </td> <td>Other           </td> <td>Rest of United States</td> <td>26       </td> <td>Female      </td> <td>Other      </td> <td>Rest of United States</td>\n",
       "        </tr>\n",
       "        <tr>\n",
       "            <td>4            </td> <td>21            </td> <td>Senior          </td> <td>Bay Area             </td> <td>20       </td> <td>Female      </td> <td>Junior     </td> <td>Bay Area             </td>\n",
       "        </tr>\n",
       "        <tr>\n",
       "            <td>5            </td> <td>31            </td> <td>Other           </td> <td>Bay Area             </td> <td>24       </td> <td>Female      </td> <td>Other      </td> <td>Rest of United States</td>\n",
       "        </tr>\n",
       "        <tr>\n",
       "            <td>6            </td> <td>25            </td> <td>Other           </td> <td>Bay Area             </td> <td>25       </td> <td>Female      </td> <td>Other      </td> <td>Rest of United States</td>\n",
       "        </tr>\n",
       "        <tr>\n",
       "            <td>7            </td> <td>23            </td> <td>Junior          </td> <td>Rest of World        </td> <td>53       </td> <td>Female      </td> <td>Other      </td> <td>Rest of World        </td>\n",
       "        </tr>\n",
       "        <tr>\n",
       "            <td>8            </td> <td>21            </td> <td>Other           </td> <td>Rest of World        </td> <td>21       </td> <td>Female      </td> <td>Other      </td> <td>Bay Area             </td>\n",
       "        </tr>\n",
       "        <tr>\n",
       "            <td>9            </td> <td>19            </td> <td>Sophomore       </td> <td>Rest of World        </td> <td>20       </td> <td>Female      </td> <td>Sophomore  </td> <td>Rest of World        </td>\n",
       "        </tr>\n",
       "        <tr>\n",
       "            <td>10           </td> <td>18            </td> <td>Freshman        </td> <td>Rest of United States</td> <td>18       </td> <td>Female      </td> <td>Freshman   </td> <td>Rest of United States</td>\n",
       "        </tr>\n",
       "        <tr>\n",
       "            <td>11           </td> <td>18            </td> <td>Freshman        </td> <td>Rest of United States</td> <td>47       </td> <td>Female      </td> <td>Other      </td> <td>Rest of United States</td>\n",
       "        </tr>\n",
       "        <tr>\n",
       "            <td>12           </td> <td>25            </td> <td>Senior          </td> <td>Bay Area             </td> <td>26       </td> <td>Male        </td> <td>Other      </td> <td>Rest of United States</td>\n",
       "        </tr>\n",
       "        <tr>\n",
       "            <td>13           </td> <td>21            </td> <td>Junior          </td> <td>Rest of World        </td> <td>52       </td> <td>Female      </td> <td>Other      </td> <td>Rest of World        </td>\n",
       "        </tr>\n",
       "        <tr>\n",
       "            <td>14           </td> <td>21            </td> <td>Junior          </td> <td>Rest of United States</td> <td>21       </td> <td>Male        </td> <td>Junior     </td> <td>Rest of United States</td>\n",
       "        </tr>\n",
       "        <tr>\n",
       "            <td>15           </td> <td>20            </td> <td>Junior          </td> <td>Bay Area             </td> <td>20       </td> <td>Male        </td> <td>Junior     </td> <td>Bay Area             </td>\n",
       "        </tr>\n",
       "        <tr>\n",
       "            <td>16           </td> <td>19            </td> <td>Sophomore       </td> <td>Rest of United States</td> <td>19       </td> <td>Female      </td> <td>Sophomore  </td> <td>Rest of United States</td>\n",
       "        </tr>\n",
       "        <tr>\n",
       "            <td>17           </td> <td>21            </td> <td>Senior          </td> <td>LA Area              </td> <td>20       </td> <td>Female      </td> <td>Junior     </td> <td>Bay Area             </td>\n",
       "        </tr>\n",
       "        <tr>\n",
       "            <td>18           </td> <td>20            </td> <td>Junior          </td> <td>LA Area              </td> <td>60       </td> <td>Male        </td> <td>Other      </td> <td>LA Area              </td>\n",
       "        </tr>\n",
       "        <tr>\n",
       "            <td>19           </td> <td>22            </td> <td>Senior          </td> <td>LA Area              </td> <td>61       </td> <td>Female      </td> <td>Other      </td> <td>Rest of California   </td>\n",
       "        </tr>\n",
       "        <tr>\n",
       "            <td>20           </td> <td>19            </td> <td>Sophomore       </td> <td>Rest of United States</td> <td>30       </td> <td>Female      </td> <td>Other      </td> <td>Rest of United States</td>\n",
       "        </tr>\n",
       "        <tr>\n",
       "            <td>21           </td> <td>20            </td> <td>Junior          </td> <td>Bay Area             </td> <td>21       </td> <td>Male        </td> <td>Junior     </td> <td>Bay Area             </td>\n",
       "        </tr>\n",
       "        <tr>\n",
       "            <td>22           </td> <td>21            </td> <td>Junior          </td> <td>Bay Area             </td> <td>20       </td> <td>Male        </td> <td>Junior     </td> <td>Bay Area             </td>\n",
       "        </tr>\n",
       "        <tr>\n",
       "            <td>23           </td> <td>21            </td> <td>Senior          </td> <td>Bay Area             </td> <td>50       </td> <td>Male        </td> <td>Other      </td> <td>Bay Area             </td>\n",
       "        </tr>\n",
       "        <tr>\n",
       "            <td>24           </td> <td>21            </td> <td>Junior          </td> <td>Rest of United States</td> <td>21       </td> <td>Male        </td> <td>Junior     </td> <td>Rest of United States</td>\n",
       "        </tr>\n",
       "        <tr>\n",
       "            <td>25           </td> <td>nan           </td> <td>Senior          </td> <td>Rest of United States</td> <td>54       </td> <td>Female      </td> <td>Other      </td> <td>Rest of United States</td>\n",
       "        </tr>\n",
       "        <tr>\n",
       "            <td>26           </td> <td>20            </td> <td>Junior          </td> <td>Bay Area             </td> <td>20       </td> <td>Female      </td> <td>Junior     </td> <td>Bay Area             </td>\n",
       "        </tr>\n",
       "        <tr>\n",
       "            <td>27           </td> <td>20            </td> <td>Junior          </td> <td>Bay Area             </td> <td>21       </td> <td>Male        </td> <td>Junior     </td> <td>LA Area              </td>\n",
       "        </tr>\n",
       "        <tr>\n",
       "            <td>28           </td> <td>20            </td> <td>Junior          </td> <td>Bay Area             </td> <td>20       </td> <td>Female      </td> <td>Senior     </td> <td>Rest of California   </td>\n",
       "        </tr>\n",
       "        <tr>\n",
       "            <td>29           </td> <td>20            </td> <td>Junior          </td> <td>Bay Area             </td> <td>20       </td> <td>Female      </td> <td>Junior     </td> <td>Bay Area             </td>\n",
       "        </tr>\n",
       "        <tr>\n",
       "            <td>30           </td> <td>53            </td> <td>Junior          </td> <td>Bay Area             </td> <td>62       </td> <td>Male        </td> <td>Other      </td> <td>Rest of California   </td>\n",
       "        </tr>\n",
       "        <tr>\n",
       "            <td>31           </td> <td>22            </td> <td>Senior          </td> <td>LA Area              </td> <td>26       </td> <td>Female      </td> <td>Senior     </td> <td>Bay Area             </td>\n",
       "        </tr>\n",
       "        <tr>\n",
       "            <td>32           </td> <td>21            </td> <td>Senior          </td> <td>Rest of World        </td> <td>21       </td> <td>Female      </td> <td>Senior     </td> <td>Rest of World        </td>\n",
       "        </tr>\n",
       "        <tr>\n",
       "            <td>33           </td> <td>21            </td> <td>Senior          </td> <td>Bay Area             </td> <td>22       </td> <td>Female      </td> <td>Other      </td> <td>Rest of World        </td>\n",
       "        </tr>\n",
       "        <tr>\n",
       "            <td>34           </td> <td>20            </td> <td>Junior          </td> <td>Rest of United States</td> <td>44       </td> <td>Female      </td> <td>Other      </td> <td>Rest of United States</td>\n",
       "        </tr>\n",
       "        <tr>\n",
       "            <td>35           </td> <td>19            </td> <td>Junior          </td> <td>Bay Area             </td> <td>49       </td> <td>Female      </td> <td>Other      </td> <td>Rest of World        </td>\n",
       "        </tr>\n",
       "        <tr>\n",
       "            <td>36           </td> <td>20            </td> <td>Junior          </td> <td>Rest of World        </td> <td>23       </td> <td>Female      </td> <td>Other      </td> <td>Rest of World        </td>\n",
       "        </tr>\n",
       "        <tr>\n",
       "            <td>37           </td> <td>21            </td> <td>Senior          </td> <td>Bay Area             </td> <td>29       </td> <td>Male        </td> <td>Other      </td> <td>Bay Area             </td>\n",
       "        </tr>\n",
       "        <tr>\n",
       "            <td>38           </td> <td>21            </td> <td>Senior          </td> <td>Rest of United States</td> <td>30       </td> <td>Male        </td> <td>Other      </td> <td>LA Area              </td>\n",
       "        </tr>\n",
       "        <tr>\n",
       "            <td>39           </td> <td>21            </td> <td>Senior          </td> <td>LA Area              </td> <td>21       </td> <td>Female      </td> <td>Junior     </td> <td>LA Area              </td>\n",
       "        </tr>\n",
       "        <tr>\n",
       "            <td>40           </td> <td>22            </td> <td>Senior          </td> <td>LA Area              </td> <td>44       </td> <td>Male        </td> <td>Other      </td> <td>Rest of World        </td>\n",
       "        </tr>\n",
       "        <tr>\n",
       "            <td>41           </td> <td>20            </td> <td>Sophomore       </td> <td>Rest of World        </td> <td>20       </td> <td>Female      </td> <td>Sophomore  </td> <td>Rest of World        </td>\n",
       "        </tr>\n",
       "        <tr>\n",
       "            <td>42           </td> <td>20            </td> <td>Junior          </td> <td>Rest of California   </td> <td>20       </td> <td>Male        </td> <td>Junior     </td> <td>Bay Area             </td>\n",
       "        </tr>\n",
       "        <tr>\n",
       "            <td>43           </td> <td>20            </td> <td>Junior          </td> <td>Rest of World        </td> <td>32       </td> <td>Male        </td> <td>Senior     </td> <td>Rest of California   </td>\n",
       "        </tr>\n",
       "        <tr>\n",
       "            <td>44           </td> <td>26            </td> <td>Other           </td> <td>LA Area              </td> <td>26       </td> <td>Male        </td> <td>Other      </td> <td>LA Area              </td>\n",
       "        </tr>\n",
       "        <tr>\n",
       "            <td>45           </td> <td>21            </td> <td>Junior          </td> <td>LA Area              </td> <td>27       </td> <td>Female      </td> <td>Other      </td> <td>LA Area              </td>\n",
       "        </tr>\n",
       "        <tr>\n",
       "            <td>46           </td> <td>20            </td> <td>Junior          </td> <td>Bay Area             </td> <td>49       </td> <td>Female      </td> <td>Other      </td> <td>Bay Area             </td>\n",
       "        </tr>\n",
       "        <tr>\n",
       "            <td>47           </td> <td>21            </td> <td>Junior          </td> <td>LA Area              </td> <td>19       </td> <td>Female      </td> <td>Junior     </td> <td>LA Area              </td>\n",
       "        </tr>\n",
       "        <tr>\n",
       "            <td>48           </td> <td>19            </td> <td>Junior          </td> <td>Bay Area             </td> <td>19       </td> <td>Male        </td> <td>Junior     </td> <td>Bay Area             </td>\n",
       "        </tr>\n",
       "        <tr>\n",
       "            <td>49           </td> <td>29            </td> <td>Other           </td> <td>LA Area              </td> <td>28       </td> <td>Male        </td> <td>Other      </td> <td>Bay Area             </td>\n",
       "        </tr>\n",
       "        <tr>\n",
       "            <td>50           </td> <td>21            </td> <td>Senior          </td> <td>Bay Area             </td> <td>22       </td> <td>Male        </td> <td>Other      </td> <td>Rest of California   </td>\n",
       "        </tr>\n",
       "        <tr>\n",
       "            <td>51           </td> <td>33            </td> <td>Junior          </td> <td>Rest of California   </td> <td>20       </td> <td>Female      </td> <td>Junior     </td> <td>Rest of World        </td>\n",
       "        </tr>\n",
       "        <tr>\n",
       "            <td>52           </td> <td>20            </td> <td>Senior          </td> <td>Bay Area             </td> <td>23       </td> <td>Female      </td> <td>Other      </td> <td>Bay Area             </td>\n",
       "        </tr>\n",
       "        <tr>\n",
       "            <td>53           </td> <td>19            </td> <td>Sophomore       </td> <td>Bay Area             </td> <td>27       </td> <td>Male        </td> <td>Other      </td> <td>Bay Area             </td>\n",
       "        </tr>\n",
       "        <tr>\n",
       "            <td>54           </td> <td>21            </td> <td>Senior          </td> <td>Bay Area             </td> <td>23       </td> <td>Female      </td> <td>Other      </td> <td>Bay Area             </td>\n",
       "        </tr>\n",
       "        <tr>\n",
       "            <td>55           </td> <td>25            </td> <td>Other           </td> <td>Rest of World        </td> <td>22       </td> <td>Female      </td> <td>Other      </td> <td>Rest of World        </td>\n",
       "        </tr>\n",
       "        <tr>\n",
       "            <td>56           </td> <td>21            </td> <td>Senior          </td> <td>Bay Area             </td> <td>21       </td> <td>Female      </td> <td>Senior     </td> <td>LA Area              </td>\n",
       "        </tr>\n",
       "        <tr>\n",
       "            <td>57           </td> <td>22            </td> <td>Other           </td> <td>Rest of California   </td> <td>21       </td> <td>Female      </td> <td>Senior     </td> <td>LA Area              </td>\n",
       "        </tr>\n",
       "        <tr>\n",
       "            <td>58           </td> <td>20            </td> <td>Junior          </td> <td>LA Area              </td> <td>20       </td> <td>Female      </td> <td>Junior     </td> <td>LA Area              </td>\n",
       "        </tr>\n",
       "        <tr>\n",
       "            <td>59           </td> <td>22            </td> <td>Senior          </td> <td>Rest of World        </td> <td>23       </td> <td>Male        </td> <td>Senior     </td> <td>Rest of World        </td>\n",
       "        </tr>\n",
       "        <tr>\n",
       "            <td>60           </td> <td>23            </td> <td>Other           </td> <td>Rest of World        </td> <td>25       </td> <td>Female      </td> <td>Other      </td> <td>Rest of World        </td>\n",
       "        </tr>\n",
       "        <tr>\n",
       "            <td>61           </td> <td>22            </td> <td>Senior          </td> <td>Rest of World        </td> <td>22       </td> <td>Female      </td> <td>Senior     </td> <td>Bay Area             </td>\n",
       "        </tr>\n",
       "        <tr>\n",
       "            <td>62           </td> <td>20            </td> <td>Junior          </td> <td>Bay Area             </td> <td>20       </td> <td>Female      </td> <td>Junior     </td> <td>Bay Area             </td>\n",
       "        </tr>\n",
       "        <tr>\n",
       "            <td>63           </td> <td>21            </td> <td>Senior          </td> <td>Rest of California   </td> <td>20       </td> <td>Male        </td> <td>Junior     </td> <td>Bay Area             </td>\n",
       "        </tr>\n",
       "        <tr>\n",
       "            <td>64           </td> <td>20            </td> <td>Junior          </td> <td>Bay Area             </td> <td>19       </td> <td>Female      </td> <td>Sophomore  </td> <td>Rest of World        </td>\n",
       "        </tr>\n",
       "        <tr>\n",
       "            <td>65           </td> <td>21            </td> <td>Junior          </td> <td>Rest of United States</td> <td>20       </td> <td>Female      </td> <td>Junior     </td> <td>Bay Area             </td>\n",
       "        </tr>\n",
       "        <tr>\n",
       "            <td>66           </td> <td>20            </td> <td>Junior          </td> <td>Bay Area             </td> <td>23       </td> <td>Male        </td> <td>Other      </td> <td>Bay Area             </td>\n",
       "        </tr>\n",
       "        <tr>\n",
       "            <td>67           </td> <td>20            </td> <td>Junior          </td> <td>LA Area              </td> <td>20       </td> <td>Female      </td> <td>Junior     </td> <td>LA Area              </td>\n",
       "        </tr>\n",
       "        <tr>\n",
       "            <td>68           </td> <td>21            </td> <td>Senior          </td> <td>Rest of World        </td> <td>22       </td> <td>Female      </td> <td>Senior     </td> <td>Rest of United States</td>\n",
       "        </tr>\n",
       "        <tr>\n",
       "            <td>69           </td> <td>28            </td> <td>Other           </td> <td>Rest of World        </td> <td>26       </td> <td>Female      </td> <td>Senior     </td> <td>Rest of World        </td>\n",
       "        </tr>\n",
       "        <tr>\n",
       "            <td>70           </td> <td>26            </td> <td>Other           </td> <td>Bay Area             </td> <td>30       </td> <td>Female      </td> <td>Other      </td> <td>Rest of United States</td>\n",
       "        </tr>\n",
       "        <tr>\n",
       "            <td>71           </td> <td>22            </td> <td>Senior          </td> <td>Bay Area             </td> <td>23       </td> <td>Other       </td> <td>Other      </td> <td>Rest of United States</td>\n",
       "        </tr>\n",
       "        <tr>\n",
       "            <td>72           </td> <td>19            </td> <td>Sophomore       </td> <td>LA Area              </td> <td>21       </td> <td>Female      </td> <td>Junior     </td> <td>LA Area              </td>\n",
       "        </tr>\n",
       "        <tr>\n",
       "            <td>73           </td> <td>20            </td> <td>Junior          </td> <td>Bay Area             </td> <td>21       </td> <td>Female      </td> <td>Junior     </td> <td>Bay Area             </td>\n",
       "        </tr>\n",
       "        <tr>\n",
       "            <td>74           </td> <td>20            </td> <td>Junior          </td> <td>Rest of United States</td> <td>23       </td> <td>Female      </td> <td>Other      </td> <td>Rest of United States</td>\n",
       "        </tr>\n",
       "        <tr>\n",
       "            <td>75           </td> <td>23            </td> <td>Other           </td> <td>LA Area              </td> <td>21       </td> <td>Female      </td> <td>Senior     </td> <td>Bay Area             </td>\n",
       "        </tr>\n",
       "        <tr>\n",
       "            <td>76           </td> <td>20            </td> <td>Junior          </td> <td>LA Area              </td> <td>20       </td> <td>Female      </td> <td>Junior     </td> <td>LA Area              </td>\n",
       "        </tr>\n",
       "        <tr>\n",
       "            <td>77           </td> <td>22            </td> <td>Junior          </td> <td>LA Area              </td> <td>18       </td> <td>Male        </td> <td>Freshman   </td> <td>LA Area              </td>\n",
       "        </tr>\n",
       "        <tr>\n",
       "            <td>78           </td> <td>21            </td> <td>Senior          </td> <td>LA Area              </td> <td>23       </td> <td>Other       </td> <td>Other      </td> <td>LA Area              </td>\n",
       "        </tr>\n",
       "        <tr>\n",
       "            <td>79           </td> <td>21            </td> <td>Senior          </td> <td>Rest of World        </td> <td>45       </td> <td>Female      </td> <td>Other      </td> <td>Rest of World        </td>\n",
       "        </tr>\n",
       "        <tr>\n",
       "            <td>80           </td> <td>21            </td> <td>Senior          </td> <td>Rest of World        </td> <td>50       </td> <td>Male        </td> <td>Other      </td> <td>Rest of World        </td>\n",
       "        </tr>\n",
       "        <tr>\n",
       "            <td>81           </td> <td>21            </td> <td>Senior          </td> <td>Rest of World        </td> <td>45       </td> <td>Female      </td> <td>Other      </td> <td>Rest of World        </td>\n",
       "        </tr>\n",
       "        <tr>\n",
       "            <td>82           </td> <td>28            </td> <td>Other           </td> <td>Rest of World        </td> <td>26       </td> <td>Male        </td> <td>Other      </td> <td>Rest of World        </td>\n",
       "        </tr>\n",
       "        <tr>\n",
       "            <td>83           </td> <td>20            </td> <td>Junior          </td> <td>Rest of World        </td> <td>20       </td> <td>Male        </td> <td>Junior     </td> <td>Rest of World        </td>\n",
       "        </tr>\n",
       "        <tr>\n",
       "            <td>84           </td> <td>19            </td> <td>Sophomore       </td> <td>Rest of California   </td> <td>54       </td> <td>Female      </td> <td>Other      </td> <td>Rest of California   </td>\n",
       "        </tr>\n",
       "        <tr>\n",
       "            <td>85           </td> <td>21            </td> <td>Junior          </td> <td>LA Area              </td> <td>21       </td> <td>Female      </td> <td>Junior     </td> <td>Rest of California   </td>\n",
       "        </tr>\n",
       "        <tr>\n",
       "            <td>86           </td> <td>20            </td> <td>Sophomore       </td> <td>Bay Area             </td> <td>19       </td> <td>Male        </td> <td>Sophomore  </td> <td>Rest of United States</td>\n",
       "        </tr>\n",
       "        <tr>\n",
       "            <td>87           </td> <td>19            </td> <td>Junior          </td> <td>LA Area              </td> <td>21       </td> <td>Male        </td> <td>Junior     </td> <td>LA Area              </td>\n",
       "        </tr>\n",
       "        <tr>\n",
       "            <td>88           </td> <td>19            </td> <td>Sophomore       </td> <td>Bay Area             </td> <td>25       </td> <td>Female      </td> <td>Other      </td> <td>Bay Area             </td>\n",
       "        </tr>\n",
       "        <tr>\n",
       "            <td>89           </td> <td>21            </td> <td>Senior          </td> <td>Bay Area             </td> <td>25       </td> <td>Male        </td> <td>Other      </td> <td>Bay Area             </td>\n",
       "        </tr>\n",
       "        <tr>\n",
       "            <td>90           </td> <td>22            </td> <td>Senior          </td> <td>Rest of California   </td> <td>21       </td> <td>Female      </td> <td>Senior     </td> <td>LA Area              </td>\n",
       "        </tr>\n",
       "        <tr>\n",
       "            <td>91           </td> <td>20            </td> <td>Junior          </td> <td>Bay Area             </td> <td>22       </td> <td>Male        </td> <td>Other      </td> <td>Bay Area             </td>\n",
       "        </tr>\n",
       "        <tr>\n",
       "            <td>92           </td> <td>21            </td> <td>Junior          </td> <td>Rest of World        </td> <td>20       </td> <td>Male        </td> <td>Junior     </td> <td>Rest of United States</td>\n",
       "        </tr>\n",
       "        <tr>\n",
       "            <td>93           </td> <td>21            </td> <td>Senior          </td> <td>LA Area              </td> <td>21       </td> <td>Female      </td> <td>Senior     </td> <td>Bay Area             </td>\n",
       "        </tr>\n",
       "        <tr>\n",
       "            <td>94           </td> <td>21            </td> <td>Senior          </td> <td>Bay Area             </td> <td>21       </td> <td>Female      </td> <td>Senior     </td> <td>Bay Area             </td>\n",
       "        </tr>\n",
       "        <tr>\n",
       "            <td>95           </td> <td>30            </td> <td>Other           </td> <td>Rest of World        </td> <td>30       </td> <td>Male        </td> <td>Other      </td> <td>Bay Area             </td>\n",
       "        </tr>\n",
       "        <tr>\n",
       "            <td>96           </td> <td>21            </td> <td>Senior          </td> <td>LA Area              </td> <td>21       </td> <td>Female      </td> <td>Senior     </td> <td>Rest of California   </td>\n",
       "        </tr>\n",
       "        <tr>\n",
       "            <td>97           </td> <td>21            </td> <td>Senior          </td> <td>Rest of California   </td> <td>51       </td> <td>Female      </td> <td>Other      </td> <td>Rest of World        </td>\n",
       "        </tr>\n",
       "        <tr>\n",
       "            <td>98           </td> <td>24            </td> <td>Senior          </td> <td>Bay Area             </td> <td>55       </td> <td>Female      </td> <td>Other      </td> <td>Bay Area             </td>\n",
       "        </tr>\n",
       "        <tr>\n",
       "            <td>99           </td> <td>21            </td> <td>Senior          </td> <td>Rest of California   </td> <td>51       </td> <td>Male        </td> <td>Other      </td> <td>Rest of World        </td>\n",
       "        </tr>\n",
       "        <tr>\n",
       "            <td>100          </td> <td>21            </td> <td>Senior          </td> <td>LA Area              </td> <td>25       </td> <td>Female      </td> <td>Other      </td> <td>Bay Area             </td>\n",
       "        </tr>\n",
       "        <tr>\n",
       "            <td>101          </td> <td>21            </td> <td>Senior          </td> <td>Rest of California   </td> <td>20       </td> <td>Male        </td> <td>Senior     </td> <td>LA Area              </td>\n",
       "        </tr>\n",
       "        <tr>\n",
       "            <td>102          </td> <td>21            </td> <td>Senior          </td> <td>Rest of California   </td> <td>25       </td> <td>Male        </td> <td>Other      </td> <td>Bay Area             </td>\n",
       "        </tr>\n",
       "        <tr>\n",
       "            <td>103          </td> <td>20            </td> <td>Junior          </td> <td>Rest of World        </td> <td>20       </td> <td>Male        </td> <td>Junior     </td> <td>Rest of World        </td>\n",
       "        </tr>\n",
       "        <tr>\n",
       "            <td>1            </td> <td>21            </td> <td>Senior          </td> <td>Bay Area             </td> <td>22       </td> <td>Male        </td> <td>Senior     </td> <td>LA Area              </td>\n",
       "        </tr>\n",
       "        <tr>\n",
       "            <td>2            </td> <td>25            </td> <td>Other           </td> <td>Bay Area             </td> <td>24       </td> <td>Female      </td> <td>Other      </td> <td>Rest of United States</td>\n",
       "        </tr>\n",
       "        <tr>\n",
       "            <td>3            </td> <td>25            </td> <td>Other           </td> <td>Rest of United States</td> <td>28       </td> <td>Female      </td> <td>Other      </td> <td>Rest of World        </td>\n",
       "        </tr>\n",
       "        <tr>\n",
       "            <td>4            </td> <td>21            </td> <td>Senior          </td> <td>Bay Area             </td> <td>21       </td> <td>Female      </td> <td>Senior     </td> <td>Bay Area             </td>\n",
       "        </tr>\n",
       "        <tr>\n",
       "            <td>5            </td> <td>31            </td> <td>Other           </td> <td>Bay Area             </td> <td>24       </td> <td>Female      </td> <td>Other      </td> <td>Rest of United States</td>\n",
       "        </tr>\n",
       "        <tr>\n",
       "            <td>6            </td> <td>25            </td> <td>Other           </td> <td>Bay Area             </td> <td>60       </td> <td>Female      </td> <td>Other      </td> <td>Rest of United States</td>\n",
       "        </tr>\n",
       "        <tr>\n",
       "            <td>7            </td> <td>23            </td> <td>Junior          </td> <td>Rest of World        </td> <td>21       </td> <td>Female      </td> <td>Junior     </td> <td>Rest of World        </td>\n",
       "        </tr>\n",
       "        <tr>\n",
       "            <td>8            </td> <td>21            </td> <td>Other           </td> <td>Rest of World        </td> <td>21       </td> <td>Female      </td> <td>Senior     </td> <td>Bay Area             </td>\n",
       "        </tr>\n",
       "        <tr>\n",
       "            <td>9            </td> <td>19            </td> <td>Sophomore       </td> <td>Rest of World        </td> <td>20       </td> <td>Female      </td> <td>Sophomore  </td> <td>Rest of World        </td>\n",
       "        </tr>\n",
       "        <tr>\n",
       "            <td>10           </td> <td>18            </td> <td>Freshman        </td> <td>Rest of United States</td> <td>19       </td> <td>Female      </td> <td>Freshman   </td> <td>LA Area              </td>\n",
       "        </tr>\n",
       "        <tr>\n",
       "            <td>11           </td> <td>18            </td> <td>Freshman        </td> <td>Rest of United States</td> <td>49       </td> <td>Male        </td> <td>Other      </td> <td>Rest of United States</td>\n",
       "        </tr>\n",
       "        <tr>\n",
       "            <td>12           </td> <td>25            </td> <td>Senior          </td> <td>Bay Area             </td> <td>28       </td> <td>Male        </td> <td>Other      </td> <td>Rest of World        </td>\n",
       "        </tr>\n",
       "        <tr>\n",
       "            <td>13           </td> <td>21            </td> <td>Junior          </td> <td>Rest of World        </td> <td>62       </td> <td>Male        </td> <td>Other      </td> <td>Rest of United States</td>\n",
       "        </tr>\n",
       "        <tr>\n",
       "            <td>14           </td> <td>21            </td> <td>Junior          </td> <td>Rest of United States</td> <td>18       </td> <td>Female      </td> <td>Freshman   </td> <td>Rest of United States</td>\n",
       "        </tr>\n",
       "        <tr>\n",
       "            <td>15           </td> <td>20            </td> <td>Junior          </td> <td>Bay Area             </td> <td>20       </td> <td>Male        </td> <td>Junior     </td> <td>Bay Area             </td>\n",
       "        </tr>\n",
       "        <tr>\n",
       "            <td>16           </td> <td>19            </td> <td>Sophomore       </td> <td>Rest of United States</td> <td>19       </td> <td>Female      </td> <td>Sophomore  </td> <td>Rest of United States</td>\n",
       "        </tr>\n",
       "        <tr>\n",
       "            <td>17           </td> <td>21            </td> <td>Senior          </td> <td>LA Area              </td> <td>21       </td> <td>Male        </td> <td>Senior     </td> <td>LA Area              </td>\n",
       "        </tr>\n",
       "        <tr>\n",
       "            <td>18           </td> <td>20            </td> <td>Junior          </td> <td>LA Area              </td> <td>57       </td> <td>Male        </td> <td>Other      </td> <td>Rest of World        </td>\n",
       "        </tr>\n",
       "        <tr>\n",
       "            <td>19           </td> <td>22            </td> <td>Senior          </td> <td>LA Area              </td> <td>21       </td> <td>Female      </td> <td>Senior     </td> <td>LA Area              </td>\n",
       "        </tr>\n",
       "        <tr>\n",
       "            <td>20           </td> <td>19            </td> <td>Sophomore       </td> <td>Rest of United States</td> <td>57       </td> <td>Female      </td> <td>Other      </td> <td>Rest of World        </td>\n",
       "        </tr>\n",
       "        <tr>\n",
       "            <td>21           </td> <td>20            </td> <td>Junior          </td> <td>Bay Area             </td> <td>20       </td> <td>Male        </td> <td>Junior     </td> <td>Bay Area             </td>\n",
       "        </tr>\n",
       "        <tr>\n",
       "            <td>22           </td> <td>21            </td> <td>Junior          </td> <td>Bay Area             </td> <td>20       </td> <td>Male        </td> <td>Junior     </td> <td>Bay Area             </td>\n",
       "        </tr>\n",
       "        <tr>\n",
       "            <td>23           </td> <td>21            </td> <td>Senior          </td> <td>Bay Area             </td> <td>45       </td> <td>Female      </td> <td>Other      </td> <td>Bay Area             </td>\n",
       "        </tr>\n",
       "        <tr>\n",
       "            <td>24           </td> <td>21            </td> <td>Junior          </td> <td>Rest of United States</td> <td>52       </td> <td>Male        </td> <td>Other      </td> <td>Rest of United States</td>\n",
       "        </tr>\n",
       "        <tr>\n",
       "            <td>25           </td> <td>nan           </td> <td>Senior          </td> <td>Rest of United States</td> <td>21       </td> <td>Female      </td> <td>Senior     </td> <td>Rest of World        </td>\n",
       "        </tr>\n",
       "        <tr>\n",
       "            <td>26           </td> <td>20            </td> <td>Junior          </td> <td>Bay Area             </td> <td>20       </td> <td>Female      </td> <td>Junior     </td> <td>Bay Area             </td>\n",
       "        </tr>\n",
       "        <tr>\n",
       "            <td>27           </td> <td>20            </td> <td>Junior          </td> <td>Bay Area             </td> <td>19       </td> <td>Female      </td> <td>Sophomore  </td> <td>Rest of United States</td>\n",
       "        </tr>\n",
       "        <tr>\n",
       "            <td>28           </td> <td>20            </td> <td>Junior          </td> <td>Bay Area             </td> <td>21       </td> <td>Female      </td> <td>Senior     </td> <td>Rest of California   </td>\n",
       "        </tr>\n",
       "        <tr>\n",
       "            <td>29           </td> <td>20            </td> <td>Junior          </td> <td>Bay Area             </td> <td>20       </td> <td>Female      </td> <td>Junior     </td> <td>Bay Area             </td>\n",
       "        </tr>\n",
       "        <tr>\n",
       "            <td>30           </td> <td>53            </td> <td>Junior          </td> <td>Bay Area             </td> <td>50       </td> <td>Female      </td> <td>Other      </td> <td>Rest of United States</td>\n",
       "        </tr>\n",
       "        <tr>\n",
       "            <td>31           </td> <td>22            </td> <td>Senior          </td> <td>LA Area              </td> <td>22       </td> <td>Female      </td> <td>Senior     </td> <td>Bay Area             </td>\n",
       "        </tr>\n",
       "        <tr>\n",
       "            <td>32           </td> <td>21            </td> <td>Senior          </td> <td>Rest of World        </td> <td>55       </td> <td>Male        </td> <td>Other      </td> <td>Rest of World        </td>\n",
       "        </tr>\n",
       "        <tr>\n",
       "            <td>33           </td> <td>21            </td> <td>Senior          </td> <td>Bay Area             </td> <td>21       </td> <td>Female      </td> <td>Senior     </td> <td>Rest of World        </td>\n",
       "        </tr>\n",
       "        <tr>\n",
       "            <td>34           </td> <td>20            </td> <td>Junior          </td> <td>Rest of United States</td> <td>71       </td> <td>Female      </td> <td>Other      </td> <td>Rest of United States</td>\n",
       "        </tr>\n",
       "        <tr>\n",
       "            <td>35           </td> <td>19            </td> <td>Junior          </td> <td>Bay Area             </td> <td>51       </td> <td>Male        </td> <td>Other      </td> <td>Rest of United States</td>\n",
       "        </tr>\n",
       "        <tr>\n",
       "            <td>36           </td> <td>20            </td> <td>Junior          </td> <td>Rest of World        </td> <td>20       </td> <td>Male        </td> <td>Junior     </td> <td>Rest of World        </td>\n",
       "        </tr>\n",
       "        <tr>\n",
       "            <td>37           </td> <td>21            </td> <td>Senior          </td> <td>Bay Area             </td> <td>20       </td> <td>Male        </td> <td>Junior     </td> <td>Bay Area             </td>\n",
       "        </tr>\n",
       "        <tr>\n",
       "            <td>38           </td> <td>21            </td> <td>Senior          </td> <td>Rest of United States</td> <td>28       </td> <td>Male        </td> <td>Other      </td> <td>LA Area              </td>\n",
       "        </tr>\n",
       "        <tr>\n",
       "            <td>39           </td> <td>21            </td> <td>Senior          </td> <td>LA Area              </td> <td>21       </td> <td>Female      </td> <td>Senior     </td> <td>LA Area              </td>\n",
       "        </tr>\n",
       "        <tr>\n",
       "            <td>40           </td> <td>22            </td> <td>Senior          </td> <td>LA Area              </td> <td>20       </td> <td>Female      </td> <td>Junior     </td> <td>Rest of California   </td>\n",
       "        </tr>\n",
       "        <tr>\n",
       "            <td>41           </td> <td>20            </td> <td>Sophomore       </td> <td>Rest of World        </td> <td>20       </td> <td>Female      </td> <td>Sophomore  </td> <td>Rest of World        </td>\n",
       "        </tr>\n",
       "        <tr>\n",
       "            <td>42           </td> <td>20            </td> <td>Junior          </td> <td>Rest of California   </td> <td>20       </td> <td>Male        </td> <td>Junior     </td> <td>Bay Area             </td>\n",
       "        </tr>\n",
       "        <tr>\n",
       "            <td>43           </td> <td>20            </td> <td>Junior          </td> <td>Rest of World        </td> <td>20       </td> <td>Female      </td> <td>Junior     </td> <td>Rest of World        </td>\n",
       "        </tr>\n",
       "        <tr>\n",
       "            <td>44           </td> <td>26            </td> <td>Other           </td> <td>LA Area              </td> <td>35       </td> <td>Male        </td> <td>Other      </td> <td>Bay Area             </td>\n",
       "        </tr>\n",
       "        <tr>\n",
       "            <td>45           </td> <td>21            </td> <td>Junior          </td> <td>LA Area              </td> <td>20       </td> <td>Female      </td> <td>Junior     </td> <td>LA Area              </td>\n",
       "        </tr>\n",
       "        <tr>\n",
       "            <td>46           </td> <td>20            </td> <td>Junior          </td> <td>Bay Area             </td> <td>20       </td> <td>Male        </td> <td>Junior     </td> <td>Bay Area             </td>\n",
       "        </tr>\n",
       "        <tr>\n",
       "            <td>47           </td> <td>21            </td> <td>Junior          </td> <td>LA Area              </td> <td>22       </td> <td>Female      </td> <td>Senior     </td> <td>Bay Area             </td>\n",
       "        </tr>\n",
       "        <tr>\n",
       "            <td>48           </td> <td>19            </td> <td>Junior          </td> <td>Bay Area             </td> <td>60       </td> <td>Male        </td> <td>Other      </td> <td>Rest of World        </td>\n",
       "        </tr>\n",
       "        <tr>\n",
       "            <td>49           </td> <td>29            </td> <td>Other           </td> <td>LA Area              </td> <td>45       </td> <td>Male        </td> <td>Other      </td> <td>Bay Area             </td>\n",
       "        </tr>\n",
       "        <tr>\n",
       "            <td>50           </td> <td>21            </td> <td>Senior          </td> <td>Bay Area             </td> <td>26       </td> <td>Female      </td> <td>Other      </td> <td>Bay Area             </td>\n",
       "        </tr>\n",
       "        <tr>\n",
       "            <td>51           </td> <td>33            </td> <td>Junior          </td> <td>Rest of California   </td> <td>35       </td> <td>Male        </td> <td>Other      </td> <td>Rest of World        </td>\n",
       "        </tr>\n",
       "        <tr>\n",
       "            <td>52           </td> <td>20            </td> <td>Senior          </td> <td>Bay Area             </td> <td>21       </td> <td>Female      </td> <td>Senior     </td> <td>LA Area              </td>\n",
       "        </tr>\n",
       "        <tr>\n",
       "            <td>53           </td> <td>19            </td> <td>Sophomore       </td> <td>Bay Area             </td> <td>18       </td> <td>Female      </td> <td>Freshman   </td> <td>Bay Area             </td>\n",
       "        </tr>\n",
       "        <tr>\n",
       "            <td>54           </td> <td>21            </td> <td>Senior          </td> <td>Bay Area             </td> <td>21       </td> <td>Female      </td> <td>Senior     </td> <td>Bay Area             </td>\n",
       "        </tr>\n",
       "        <tr>\n",
       "            <td>55           </td> <td>25            </td> <td>Other           </td> <td>Rest of World        </td> <td>25       </td> <td>Male        </td> <td>Other      </td> <td>Rest of World        </td>\n",
       "        </tr>\n",
       "        <tr>\n",
       "            <td>56           </td> <td>21            </td> <td>Senior          </td> <td>Bay Area             </td> <td>21       </td> <td>Female      </td> <td>Other      </td> <td>Rest of California   </td>\n",
       "        </tr>\n",
       "        <tr>\n",
       "            <td>57           </td> <td>22            </td> <td>Other           </td> <td>Rest of California   </td> <td>20       </td> <td>Male        </td> <td>Junior     </td> <td>Rest of United States</td>\n",
       "        </tr>\n",
       "        <tr>\n",
       "            <td>58           </td> <td>20            </td> <td>Junior          </td> <td>LA Area              </td> <td>20       </td> <td>Female      </td> <td>Junior     </td> <td>Bay Area             </td>\n",
       "        </tr>\n",
       "        <tr>\n",
       "            <td>59           </td> <td>22            </td> <td>Senior          </td> <td>Rest of World        </td> <td>25       </td> <td>Male        </td> <td>Other      </td> <td>Rest of World        </td>\n",
       "        </tr>\n",
       "        <tr>\n",
       "            <td>60           </td> <td>23            </td> <td>Other           </td> <td>Rest of World        </td> <td>23       </td> <td>Female      </td> <td>Other      </td> <td>Rest of World        </td>\n",
       "        </tr>\n",
       "        <tr>\n",
       "            <td>61           </td> <td>22            </td> <td>Senior          </td> <td>Rest of World        </td> <td>22       </td> <td>Female      </td> <td>Senior     </td> <td>LA Area              </td>\n",
       "        </tr>\n",
       "        <tr>\n",
       "            <td>62           </td> <td>20            </td> <td>Junior          </td> <td>Bay Area             </td> <td>20       </td> <td>Male        </td> <td>Junior     </td> <td>Bay Area             </td>\n",
       "        </tr>\n",
       "        <tr>\n",
       "            <td>63           </td> <td>21            </td> <td>Senior          </td> <td>Rest of California   </td> <td>20       </td> <td>Female      </td> <td>Senior     </td> <td>Rest of California   </td>\n",
       "        </tr>\n",
       "        <tr>\n",
       "            <td>64           </td> <td>20            </td> <td>Junior          </td> <td>Bay Area             </td> <td>21       </td> <td>Female      </td> <td>Junior     </td> <td>LA Area              </td>\n",
       "        </tr>\n",
       "        <tr>\n",
       "            <td>65           </td> <td>21            </td> <td>Junior          </td> <td>Rest of United States</td> <td>21       </td> <td>Male        </td> <td>Junior     </td> <td>Rest of United States</td>\n",
       "        </tr>\n",
       "        <tr>\n",
       "            <td>66           </td> <td>20            </td> <td>Junior          </td> <td>Bay Area             </td> <td>20       </td> <td>Female      </td> <td>Junior     </td> <td>Bay Area             </td>\n",
       "        </tr>\n",
       "        <tr>\n",
       "            <td>67           </td> <td>20            </td> <td>Junior          </td> <td>LA Area              </td> <td>20       </td> <td>Female      </td> <td>Junior     </td> <td>LA Area              </td>\n",
       "        </tr>\n",
       "        <tr>\n",
       "            <td>68           </td> <td>21            </td> <td>Senior          </td> <td>Rest of World        </td> <td>24       </td> <td>Female      </td> <td>Other      </td> <td>Rest of World        </td>\n",
       "        </tr>\n",
       "        <tr>\n",
       "            <td>69           </td> <td>28            </td> <td>Other           </td> <td>Rest of World        </td> <td>24       </td> <td>Female      </td> <td>Other      </td> <td>Rest of World        </td>\n",
       "        </tr>\n",
       "        <tr>\n",
       "            <td>70           </td> <td>26            </td> <td>Other           </td> <td>Bay Area             </td> <td>26       </td> <td>Female      </td> <td>Other      </td> <td>Rest of World        </td>\n",
       "        </tr>\n",
       "        <tr>\n",
       "            <td>71           </td> <td>22            </td> <td>Senior          </td> <td>Bay Area             </td> <td>21       </td> <td>Male        </td> <td>Senior     </td> <td>Rest of California   </td>\n",
       "        </tr>\n",
       "        <tr>\n",
       "            <td>72           </td> <td>19            </td> <td>Sophomore       </td> <td>LA Area              </td> <td>24       </td> <td>Female      </td> <td>Other      </td> <td>LA Area              </td>\n",
       "        </tr>\n",
       "        <tr>\n",
       "            <td>73           </td> <td>20            </td> <td>Junior          </td> <td>Bay Area             </td> <td>20       </td> <td>Male        </td> <td>Junior     </td> <td>LA Area              </td>\n",
       "        </tr>\n",
       "        <tr>\n",
       "            <td>74           </td> <td>20            </td> <td>Junior          </td> <td>Rest of United States</td> <td>20       </td> <td>Female      </td> <td>Junior     </td> <td>Rest of United States</td>\n",
       "        </tr>\n",
       "        <tr>\n",
       "            <td>75           </td> <td>23            </td> <td>Other           </td> <td>LA Area              </td> <td>20       </td> <td>Male        </td> <td>Senior     </td> <td>LA Area              </td>\n",
       "        </tr>\n",
       "        <tr>\n",
       "            <td>76           </td> <td>20            </td> <td>Junior          </td> <td>LA Area              </td> <td>20       </td> <td>Female      </td> <td>Junior     </td> <td>LA Area              </td>\n",
       "        </tr>\n",
       "        <tr>\n",
       "            <td>77           </td> <td>22            </td> <td>Junior          </td> <td>LA Area              </td> <td>22       </td> <td>Female      </td> <td>Senior     </td> <td>Rest of United States</td>\n",
       "        </tr>\n",
       "        <tr>\n",
       "            <td>78           </td> <td>21            </td> <td>Senior          </td> <td>LA Area              </td> <td>21       </td> <td>Male        </td> <td>Senior     </td> <td>Rest of United States</td>\n",
       "        </tr>\n",
       "        <tr>\n",
       "            <td>79           </td> <td>21            </td> <td>Senior          </td> <td>Rest of World        </td> <td>21       </td> <td>Female      </td> <td>Senior     </td> <td>Rest of World        </td>\n",
       "        </tr>\n",
       "        <tr>\n",
       "            <td>80           </td> <td>21            </td> <td>Senior          </td> <td>Rest of World        </td> <td>21       </td> <td>Female      </td> <td>Senior     </td> <td>Rest of World        </td>\n",
       "        </tr>\n",
       "        <tr>\n",
       "            <td>81           </td> <td>21            </td> <td>Senior          </td> <td>Rest of World        </td> <td>20       </td> <td>Male        </td> <td>Senior     </td> <td>Rest of World        </td>\n",
       "        </tr>\n",
       "        <tr>\n",
       "            <td>82           </td> <td>28            </td> <td>Other           </td> <td>Rest of World        </td> <td>31       </td> <td>Female      </td> <td>Other      </td> <td>Rest of World        </td>\n",
       "        </tr>\n",
       "        <tr>\n",
       "            <td>83           </td> <td>20            </td> <td>Junior          </td> <td>Rest of World        </td> <td>20       </td> <td>Male        </td> <td>Junior     </td> <td>Rest of World        </td>\n",
       "        </tr>\n",
       "        <tr>\n",
       "            <td>84           </td> <td>19            </td> <td>Sophomore       </td> <td>Rest of California   </td> <td>19       </td> <td>Male        </td> <td>Sophomore  </td> <td>Rest of California   </td>\n",
       "        </tr>\n",
       "        <tr>\n",
       "            <td>85           </td> <td>21            </td> <td>Junior          </td> <td>LA Area              </td> <td>21       </td> <td>Female      </td> <td>Junior     </td> <td>Rest of California   </td>\n",
       "        </tr>\n",
       "        <tr>\n",
       "            <td>86           </td> <td>20            </td> <td>Sophomore       </td> <td>Bay Area             </td> <td>21       </td> <td>Female      </td> <td>Junior     </td> <td>Bay Area             </td>\n",
       "        </tr>\n",
       "        <tr>\n",
       "            <td>87           </td> <td>19            </td> <td>Junior          </td> <td>LA Area              </td> <td>19       </td> <td>Male        </td> <td>Junior     </td> <td>Bay Area             </td>\n",
       "        </tr>\n",
       "        <tr>\n",
       "            <td>88           </td> <td>19            </td> <td>Sophomore       </td> <td>Bay Area             </td> <td>52       </td> <td>Female      </td> <td>Other      </td> <td>Rest of World        </td>\n",
       "        </tr>\n",
       "        <tr>\n",
       "            <td>89           </td> <td>21            </td> <td>Senior          </td> <td>Bay Area             </td> <td>49       </td> <td>Male        </td> <td>Other      </td> <td>Bay Area             </td>\n",
       "        </tr>\n",
       "        <tr>\n",
       "            <td>90           </td> <td>22            </td> <td>Senior          </td> <td>Rest of California   </td> <td>26       </td> <td>Female      </td> <td>Other      </td> <td>LA Area              </td>\n",
       "        </tr>\n",
       "        <tr>\n",
       "            <td>91           </td> <td>20            </td> <td>Junior          </td> <td>Bay Area             </td> <td>21       </td> <td>Female      </td> <td>Senior     </td> <td>Rest of World        </td>\n",
       "        </tr>\n",
       "        <tr>\n",
       "            <td>92           </td> <td>21            </td> <td>Junior          </td> <td>Rest of World        </td> <td>21       </td> <td>Female      </td> <td>Senior     </td> <td>Rest of World        </td>\n",
       "        </tr>\n",
       "        <tr>\n",
       "            <td>93           </td> <td>21            </td> <td>Senior          </td> <td>LA Area              </td> <td>24       </td> <td>Male        </td> <td>Other      </td> <td>LA Area              </td>\n",
       "        </tr>\n",
       "        <tr>\n",
       "            <td>95           </td> <td>30            </td> <td>Other           </td> <td>Rest of World        </td> <td>25       </td> <td>Female      </td> <td>Other      </td> <td>Rest of World        </td>\n",
       "        </tr>\n",
       "        <tr>\n",
       "            <td>96           </td> <td>21            </td> <td>Senior          </td> <td>LA Area              </td> <td>21       </td> <td>Male        </td> <td>Senior     </td> <td>LA Area              </td>\n",
       "        </tr>\n",
       "        <tr>\n",
       "            <td>97           </td> <td>21            </td> <td>Senior          </td> <td>Rest of California   </td> <td>58       </td> <td>Male        </td> <td>Other      </td> <td>Rest of World        </td>\n",
       "        </tr>\n",
       "        <tr>\n",
       "            <td>98           </td> <td>24            </td> <td>Senior          </td> <td>Bay Area             </td> <td>25       </td> <td>Female      </td> <td>Junior     </td> <td>Bay Area             </td>\n",
       "        </tr>\n",
       "        <tr>\n",
       "            <td>99           </td> <td>21            </td> <td>Senior          </td> <td>Rest of California   </td> <td>49       </td> <td>Female      </td> <td>Other      </td> <td>Rest of World        </td>\n",
       "        </tr>\n",
       "        <tr>\n",
       "            <td>100          </td> <td>21            </td> <td>Senior          </td> <td>LA Area              </td> <td>30       </td> <td>Female      </td> <td>Senior     </td> <td>LA Area              </td>\n",
       "        </tr>\n",
       "        <tr>\n",
       "            <td>101          </td> <td>21            </td> <td>Senior          </td> <td>Rest of California   </td> <td>21       </td> <td>Male        </td> <td>Senior     </td> <td>LA Area              </td>\n",
       "        </tr>\n",
       "        <tr>\n",
       "            <td>102          </td> <td>21            </td> <td>Senior          </td> <td>Rest of California   </td> <td>21       </td> <td>Male        </td> <td>Senior     </td> <td>LA Area              </td>\n",
       "        </tr>\n",
       "        <tr>\n",
       "            <td>103          </td> <td>20            </td> <td>Junior          </td> <td>Rest of World        </td> <td>22       </td> <td>Male        </td> <td>Sophomore  </td> <td>Rest of World        </td>\n",
       "        </tr>\n",
       "        <tr>\n",
       "            <td>1            </td> <td>21            </td> <td>Senior          </td> <td>Bay Area             </td> <td>20       </td> <td>Male        </td> <td>Junior     </td> <td>Rest of United States</td>\n",
       "        </tr>\n",
       "        <tr>\n",
       "            <td>2            </td> <td>25            </td> <td>Other           </td> <td>Bay Area             </td> <td>26       </td> <td>Male        </td> <td>Other      </td> <td>Rest of United States</td>\n",
       "        </tr>\n",
       "        <tr>\n",
       "            <td>3            </td> <td>25            </td> <td>Other           </td> <td>Rest of United States</td> <td>27       </td> <td>Male        </td> <td>Other      </td> <td>Rest of United States</td>\n",
       "        </tr>\n",
       "        <tr>\n",
       "            <td>4            </td> <td>21            </td> <td>Senior          </td> <td>Bay Area             </td> <td>40       </td> <td>Female      </td> <td>Other      </td> <td>Rest of World        </td>\n",
       "        </tr>\n",
       "        <tr>\n",
       "            <td>5            </td> <td>31            </td> <td>Other           </td> <td>Bay Area             </td> <td>36       </td> <td>Female      </td> <td>Other      </td> <td>Rest of United States</td>\n",
       "        </tr>\n",
       "        <tr>\n",
       "            <td>6            </td> <td>25            </td> <td>Other           </td> <td>Bay Area             </td> <td>62       </td> <td>Male        </td> <td>Other      </td> <td>Bay Area             </td>\n",
       "        </tr>\n",
       "        <tr>\n",
       "            <td>7            </td> <td>23            </td> <td>Junior          </td> <td>Rest of World        </td> <td>21       </td> <td>Male        </td> <td>Junior     </td> <td>Rest of World        </td>\n",
       "        </tr>\n",
       "        <tr>\n",
       "            <td>8            </td> <td>21            </td> <td>Other           </td> <td>Rest of World        </td> <td>21       </td> <td>Female      </td> <td>Other      </td> <td>Bay Area             </td>\n",
       "        </tr>\n",
       "        <tr>\n",
       "            <td>9            </td> <td>19            </td> <td>Sophomore       </td> <td>Rest of World        </td> <td>18       </td> <td>Female      </td> <td>Sophomore  </td> <td>Rest of World        </td>\n",
       "        </tr>\n",
       "        <tr>\n",
       "            <td>10           </td> <td>18            </td> <td>Freshman        </td> <td>Rest of United States</td> <td>18       </td> <td>Male        </td> <td>Freshman   </td> <td>Rest of United States</td>\n",
       "        </tr>\n",
       "        <tr>\n",
       "            <td>11           </td> <td>18            </td> <td>Freshman        </td> <td>Rest of United States</td> <td>18       </td> <td>Male        </td> <td>Freshman   </td> <td>Rest of United States</td>\n",
       "        </tr>\n",
       "        <tr>\n",
       "            <td>12           </td> <td>25            </td> <td>Senior          </td> <td>Bay Area             </td> <td>26       </td> <td>Female      </td> <td>Other      </td> <td>Rest of World        </td>\n",
       "        </tr>\n",
       "        <tr>\n",
       "            <td>13           </td> <td>21            </td> <td>Junior          </td> <td>Rest of World        </td> <td>21       </td> <td>Male        </td> <td>Junior     </td> <td>Rest of United States</td>\n",
       "        </tr>\n",
       "        <tr>\n",
       "            <td>14           </td> <td>21            </td> <td>Junior          </td> <td>Rest of United States</td> <td>20       </td> <td>Male        </td> <td>Junior     </td> <td>Rest of United States</td>\n",
       "        </tr>\n",
       "        <tr>\n",
       "            <td>15           </td> <td>20            </td> <td>Junior          </td> <td>Bay Area             </td> <td>20       </td> <td>Male        </td> <td>Junior     </td> <td>Bay Area             </td>\n",
       "        </tr>\n",
       "        <tr>\n",
       "            <td>16           </td> <td>19            </td> <td>Sophomore       </td> <td>Rest of United States</td> <td>19       </td> <td>Female      </td> <td>Sophomore  </td> <td>LA Area              </td>\n",
       "        </tr>\n",
       "        <tr>\n",
       "            <td>17           </td> <td>21            </td> <td>Senior          </td> <td>LA Area              </td> <td>23       </td> <td>Male        </td> <td>Other      </td> <td>Bay Area             </td>\n",
       "        </tr>\n",
       "        <tr>\n",
       "            <td>18           </td> <td>20            </td> <td>Junior          </td> <td>LA Area              </td> <td>26       </td> <td>Female      </td> <td>Other      </td> <td>LA Area              </td>\n",
       "        </tr>\n",
       "        <tr>\n",
       "            <td>19           </td> <td>22            </td> <td>Senior          </td> <td>LA Area              </td> <td>20       </td> <td>Male        </td> <td>Senior     </td> <td>LA Area              </td>\n",
       "        </tr>\n",
       "        <tr>\n",
       "            <td>20           </td> <td>19            </td> <td>Sophomore       </td> <td>Rest of United States</td> <td>59       </td> <td>Male        </td> <td>Other      </td> <td>Rest of World        </td>\n",
       "        </tr>\n",
       "        <tr>\n",
       "            <td>21           </td> <td>20            </td> <td>Junior          </td> <td>Bay Area             </td> <td>21       </td> <td>Male        </td> <td>Junior     </td> <td>Bay Area             </td>\n",
       "        </tr>\n",
       "        <tr>\n",
       "            <td>22           </td> <td>21            </td> <td>Junior          </td> <td>Bay Area             </td> <td>20       </td> <td>Male        </td> <td>Junior     </td> <td>Bay Area             </td>\n",
       "        </tr>\n",
       "        <tr>\n",
       "            <td>23           </td> <td>21            </td> <td>Senior          </td> <td>Bay Area             </td> <td>15       </td> <td>Female      </td> <td>Other      </td> <td>Bay Area             </td>\n",
       "        </tr>\n",
       "        <tr>\n",
       "            <td>24           </td> <td>21            </td> <td>Junior          </td> <td>Rest of United States</td> <td>21       </td> <td>Male        </td> <td>Junior     </td> <td>Rest of United States</td>\n",
       "        </tr>\n",
       "        <tr>\n",
       "            <td>25           </td> <td>nan           </td> <td>Senior          </td> <td>Rest of United States</td> <td>21       </td> <td>Female      </td> <td>Senior     </td> <td>LA Area              </td>\n",
       "        </tr>\n",
       "        <tr>\n",
       "            <td>26           </td> <td>20            </td> <td>Junior          </td> <td>Bay Area             </td> <td>20       </td> <td>Female      </td> <td>Junior     </td> <td>LA Area              </td>\n",
       "        </tr>\n",
       "        <tr>\n",
       "            <td>27           </td> <td>20            </td> <td>Junior          </td> <td>Bay Area             </td> <td>20       </td> <td>Female      </td> <td>Junior     </td> <td>LA Area              </td>\n",
       "        </tr>\n",
       "        <tr>\n",
       "            <td>28           </td> <td>20            </td> <td>Junior          </td> <td>Bay Area             </td> <td>21       </td> <td>Male        </td> <td>Junior     </td> <td>Rest of California   </td>\n",
       "        </tr>\n",
       "        <tr>\n",
       "            <td>29           </td> <td>20            </td> <td>Junior          </td> <td>Bay Area             </td> <td>21       </td> <td>Female      </td> <td>Junior     </td> <td>Rest of World        </td>\n",
       "        </tr>\n",
       "        <tr>\n",
       "            <td>30           </td> <td>53            </td> <td>Junior          </td> <td>Bay Area             </td> <td>64       </td> <td>Female      </td> <td>Other      </td> <td>Bay Area             </td>\n",
       "        </tr>\n",
       "        <tr>\n",
       "            <td>31           </td> <td>22            </td> <td>Senior          </td> <td>LA Area              </td> <td>22       </td> <td>Male        </td> <td>Other      </td> <td>Rest of World        </td>\n",
       "        </tr>\n",
       "        <tr>\n",
       "            <td>32           </td> <td>21            </td> <td>Senior          </td> <td>Rest of World        </td> <td>55       </td> <td>Female      </td> <td>Other      </td> <td>Rest of World        </td>\n",
       "        </tr>\n",
       "        <tr>\n",
       "            <td>33           </td> <td>21            </td> <td>Senior          </td> <td>Bay Area             </td> <td>21       </td> <td>Female      </td> <td>Senior     </td> <td>LA Area              </td>\n",
       "        </tr>\n",
       "        <tr>\n",
       "            <td>34           </td> <td>20            </td> <td>Junior          </td> <td>Rest of United States</td> <td>21       </td> <td>Male        </td> <td>Junior     </td> <td>Rest of World        </td>\n",
       "        </tr>\n",
       "        <tr>\n",
       "            <td>35           </td> <td>19            </td> <td>Junior          </td> <td>Bay Area             </td> <td>75       </td> <td>Female      </td> <td>Other      </td> <td>Rest of World        </td>\n",
       "        </tr>\n",
       "        <tr>\n",
       "            <td>36           </td> <td>20            </td> <td>Junior          </td> <td>Rest of World        </td> <td>22       </td> <td>Male        </td> <td>Other      </td> <td>Rest of World        </td>\n",
       "        </tr>\n",
       "        <tr>\n",
       "            <td>37           </td> <td>21            </td> <td>Senior          </td> <td>Bay Area             </td> <td>24       </td> <td>Male        </td> <td>Other      </td> <td>Bay Area             </td>\n",
       "        </tr>\n",
       "        <tr>\n",
       "            <td>38           </td> <td>21            </td> <td>Senior          </td> <td>Rest of United States</td> <td>22       </td> <td>Male        </td> <td>Senior     </td> <td>Bay Area             </td>\n",
       "        </tr>\n",
       "        <tr>\n",
       "            <td>39           </td> <td>21            </td> <td>Senior          </td> <td>LA Area              </td> <td>22       </td> <td>Male        </td> <td>Other      </td> <td>LA Area              </td>\n",
       "        </tr>\n",
       "        <tr>\n",
       "            <td>40           </td> <td>22            </td> <td>Senior          </td> <td>LA Area              </td> <td>19       </td> <td>Female      </td> <td>Sophomore  </td> <td>Rest of California   </td>\n",
       "        </tr>\n",
       "        <tr>\n",
       "            <td>41           </td> <td>20            </td> <td>Sophomore       </td> <td>Rest of World        </td> <td>20       </td> <td>Female      </td> <td>Sophomore  </td> <td>Rest of World        </td>\n",
       "        </tr>\n",
       "        <tr>\n",
       "            <td>42           </td> <td>20            </td> <td>Junior          </td> <td>Rest of California   </td> <td>19       </td> <td>Female      </td> <td>Junior     </td> <td>Bay Area             </td>\n",
       "        </tr>\n",
       "        <tr>\n",
       "            <td>43           </td> <td>20            </td> <td>Junior          </td> <td>Rest of World        </td> <td>49       </td> <td>Female      </td> <td>Other      </td> <td>Rest of United States</td>\n",
       "        </tr>\n",
       "        <tr>\n",
       "            <td>44           </td> <td>26            </td> <td>Other           </td> <td>LA Area              </td> <td>26       </td> <td>Female      </td> <td>Other      </td> <td>LA Area              </td>\n",
       "        </tr>\n",
       "        <tr>\n",
       "            <td>45           </td> <td>21            </td> <td>Junior          </td> <td>LA Area              </td> <td>20       </td> <td>Female      </td> <td>Junior     </td> <td>LA Area              </td>\n",
       "        </tr>\n",
       "        <tr>\n",
       "            <td>46           </td> <td>20            </td> <td>Junior          </td> <td>Bay Area             </td> <td>20       </td> <td>Male        </td> <td>Junior     </td> <td>LA Area              </td>\n",
       "        </tr>\n",
       "        <tr>\n",
       "            <td>47           </td> <td>21            </td> <td>Junior          </td> <td>LA Area              </td> <td>45       </td> <td>Female      </td> <td>Other      </td> <td>LA Area              </td>\n",
       "        </tr>\n",
       "        <tr>\n",
       "            <td>48           </td> <td>19            </td> <td>Junior          </td> <td>Bay Area             </td> <td>60       </td> <td>Female      </td> <td>Other      </td> <td>Rest of World        </td>\n",
       "        </tr>\n",
       "        <tr>\n",
       "            <td>49           </td> <td>29            </td> <td>Other           </td> <td>LA Area              </td> <td>27       </td> <td>Female      </td> <td>Other      </td> <td>LA Area              </td>\n",
       "        </tr>\n",
       "        <tr>\n",
       "            <td>50           </td> <td>21            </td> <td>Senior          </td> <td>Bay Area             </td> <td>22       </td> <td>Female      </td> <td>Senior     </td> <td>Bay Area             </td>\n",
       "        </tr>\n",
       "        <tr>\n",
       "            <td>51           </td> <td>33            </td> <td>Junior          </td> <td>Rest of California   </td> <td>66       </td> <td>Female      </td> <td>Other      </td> <td>Rest of World        </td>\n",
       "        </tr>\n",
       "        <tr>\n",
       "            <td>52           </td> <td>20            </td> <td>Senior          </td> <td>Bay Area             </td> <td>20       </td> <td>Female      </td> <td>Senior     </td> <td>LA Area              </td>\n",
       "        </tr>\n",
       "        <tr>\n",
       "            <td>53           </td> <td>19            </td> <td>Sophomore       </td> <td>Bay Area             </td> <td>19       </td> <td>Male        </td> <td>Sophomore  </td> <td>Bay Area             </td>\n",
       "        </tr>\n",
       "        <tr>\n",
       "            <td>54           </td> <td>21            </td> <td>Senior          </td> <td>Bay Area             </td> <td>21       </td> <td>Female      </td> <td>Senior     </td> <td>LA Area              </td>\n",
       "        </tr>\n",
       "        <tr>\n",
       "            <td>55           </td> <td>25            </td> <td>Other           </td> <td>Rest of World        </td> <td>25       </td> <td>Male        </td> <td>Other      </td> <td>Rest of United States</td>\n",
       "        </tr>\n",
       "        <tr>\n",
       "            <td>56           </td> <td>21            </td> <td>Senior          </td> <td>Bay Area             </td> <td>24       </td> <td>Female      </td> <td>Other      </td> <td>Bay Area             </td>\n",
       "        </tr>\n",
       "        <tr>\n",
       "            <td>57           </td> <td>22            </td> <td>Other           </td> <td>Rest of California   </td> <td>18       </td> <td>Male        </td> <td>Freshman   </td> <td>Rest of California   </td>\n",
       "        </tr>\n",
       "        <tr>\n",
       "            <td>58           </td> <td>20            </td> <td>Junior          </td> <td>LA Area              </td> <td>20       </td> <td>Female      </td> <td>Junior     </td> <td>Rest of World        </td>\n",
       "        </tr>\n",
       "        <tr>\n",
       "            <td>59           </td> <td>22            </td> <td>Senior          </td> <td>Rest of World        </td> <td>32       </td> <td>Male        </td> <td>Other      </td> <td>Rest of World        </td>\n",
       "        </tr>\n",
       "        <tr>\n",
       "            <td>60           </td> <td>23            </td> <td>Other           </td> <td>Rest of World        </td> <td>24       </td> <td>Female      </td> <td>Other      </td> <td>Rest of World        </td>\n",
       "        </tr>\n",
       "        <tr>\n",
       "            <td>61           </td> <td>22            </td> <td>Senior          </td> <td>Rest of World        </td> <td>22       </td> <td>Female      </td> <td>Senior     </td> <td>Bay Area             </td>\n",
       "        </tr>\n",
       "        <tr>\n",
       "            <td>62           </td> <td>20            </td> <td>Junior          </td> <td>Bay Area             </td> <td>20       </td> <td>Female      </td> <td>Junior     </td> <td>Bay Area             </td>\n",
       "        </tr>\n",
       "        <tr>\n",
       "            <td>63           </td> <td>21            </td> <td>Senior          </td> <td>Rest of California   </td> <td>22       </td> <td>Male        </td> <td>Senior     </td> <td>LA Area              </td>\n",
       "        </tr>\n",
       "        <tr>\n",
       "            <td>64           </td> <td>20            </td> <td>Junior          </td> <td>Bay Area             </td> <td>20       </td> <td>Female      </td> <td>Junior     </td> <td>Bay Area             </td>\n",
       "        </tr>\n",
       "        <tr>\n",
       "            <td>65           </td> <td>21            </td> <td>Junior          </td> <td>Rest of United States</td> <td>20       </td> <td>Male        </td> <td>Junior     </td> <td>Rest of California   </td>\n",
       "        </tr>\n",
       "        <tr>\n",
       "            <td>66           </td> <td>20            </td> <td>Junior          </td> <td>Bay Area             </td> <td>20       </td> <td>Female      </td> <td>Junior     </td> <td>LA Area              </td>\n",
       "        </tr>\n",
       "        <tr>\n",
       "            <td>67           </td> <td>20            </td> <td>Junior          </td> <td>LA Area              </td> <td>21       </td> <td>Female      </td> <td>Junior     </td> <td>Rest of United States</td>\n",
       "        </tr>\n",
       "        <tr>\n",
       "            <td>68           </td> <td>21            </td> <td>Senior          </td> <td>Rest of World        </td> <td>57       </td> <td>Female      </td> <td>Other      </td> <td>Rest of World        </td>\n",
       "        </tr>\n",
       "        <tr>\n",
       "            <td>69           </td> <td>28            </td> <td>Other           </td> <td>Rest of World        </td> <td>52       </td> <td>Female      </td> <td>Other      </td> <td>Rest of World        </td>\n",
       "        </tr>\n",
       "        <tr>\n",
       "            <td>70           </td> <td>26            </td> <td>Other           </td> <td>Bay Area             </td> <td>32       </td> <td>Female      </td> <td>Other      </td> <td>Rest of California   </td>\n",
       "        </tr>\n",
       "        <tr>\n",
       "            <td>71           </td> <td>22            </td> <td>Senior          </td> <td>Bay Area             </td> <td>55       </td> <td>Female      </td> <td>Other      </td> <td>Bay Area             </td>\n",
       "        </tr>\n",
       "        <tr>\n",
       "            <td>72           </td> <td>19            </td> <td>Sophomore       </td> <td>LA Area              </td> <td>19       </td> <td>Female      </td> <td>Sophomore  </td> <td>Rest of United States</td>\n",
       "        </tr>\n",
       "        <tr>\n",
       "            <td>73           </td> <td>20            </td> <td>Junior          </td> <td>Bay Area             </td> <td>21       </td> <td>Male        </td> <td>Junior     </td> <td>Bay Area             </td>\n",
       "        </tr>\n",
       "        <tr>\n",
       "            <td>74           </td> <td>20            </td> <td>Junior          </td> <td>Rest of United States</td> <td>20       </td> <td>Male        </td> <td>Junior     </td> <td>LA Area              </td>\n",
       "        </tr>\n",
       "        <tr>\n",
       "            <td>75           </td> <td>23            </td> <td>Other           </td> <td>LA Area              </td> <td>19       </td> <td>Male        </td> <td>Sophomore  </td> <td>LA Area              </td>\n",
       "        </tr>\n",
       "        <tr>\n",
       "            <td>76           </td> <td>20            </td> <td>Junior          </td> <td>LA Area              </td> <td>20       </td> <td>Male        </td> <td>Junior     </td> <td>LA Area              </td>\n",
       "        </tr>\n",
       "        <tr>\n",
       "            <td>77           </td> <td>22            </td> <td>Junior          </td> <td>LA Area              </td> <td>22       </td> <td>Male        </td> <td>Other      </td> <td>Rest of United States</td>\n",
       "        </tr>\n",
       "        <tr>\n",
       "            <td>78           </td> <td>21            </td> <td>Senior          </td> <td>LA Area              </td> <td>55       </td> <td>Female      </td> <td>Other      </td> <td>Rest of California   </td>\n",
       "        </tr>\n",
       "        <tr>\n",
       "            <td>79           </td> <td>21            </td> <td>Senior          </td> <td>Rest of World        </td> <td>21       </td> <td>Female      </td> <td>Senior     </td> <td>Rest of World        </td>\n",
       "        </tr>\n",
       "        <tr>\n",
       "            <td>80           </td> <td>21            </td> <td>Senior          </td> <td>Rest of World        </td> <td>21       </td> <td>Male        </td> <td>Senior     </td> <td>Rest of World        </td>\n",
       "        </tr>\n",
       "        <tr>\n",
       "            <td>81           </td> <td>21            </td> <td>Senior          </td> <td>Rest of World        </td> <td>20       </td> <td>Male        </td> <td>Other      </td> <td>Rest of World        </td>\n",
       "        </tr>\n",
       "        <tr>\n",
       "            <td>82           </td> <td>28            </td> <td>Other           </td> <td>Rest of World        </td> <td>37       </td> <td>Male        </td> <td>Other      </td> <td>Rest of World        </td>\n",
       "        </tr>\n",
       "        <tr>\n",
       "            <td>83           </td> <td>20            </td> <td>Junior          </td> <td>Rest of World        </td> <td>20       </td> <td>Male        </td> <td>Junior     </td> <td>Rest of World        </td>\n",
       "        </tr>\n",
       "        <tr>\n",
       "            <td>84           </td> <td>19            </td> <td>Sophomore       </td> <td>Rest of California   </td> <td>19       </td> <td>Male        </td> <td>Sophomore  </td> <td>Rest of California   </td>\n",
       "        </tr>\n",
       "        <tr>\n",
       "            <td>85           </td> <td>21            </td> <td>Junior          </td> <td>LA Area              </td> <td>24       </td> <td>Male        </td> <td>Other      </td> <td>Bay Area             </td>\n",
       "        </tr>\n",
       "        <tr>\n",
       "            <td>86           </td> <td>20            </td> <td>Sophomore       </td> <td>Bay Area             </td> <td>22       </td> <td>Female      </td> <td>Junior     </td> <td>Rest of California   </td>\n",
       "        </tr>\n",
       "        <tr>\n",
       "            <td>87           </td> <td>19            </td> <td>Junior          </td> <td>LA Area              </td> <td>20       </td> <td>Female      </td> <td>Junior     </td> <td>LA Area              </td>\n",
       "        </tr>\n",
       "        <tr>\n",
       "            <td>88           </td> <td>19            </td> <td>Sophomore       </td> <td>Bay Area             </td> <td>18       </td> <td>Male        </td> <td>Sophomore  </td> <td>Rest of California   </td>\n",
       "        </tr>\n",
       "        <tr>\n",
       "            <td>89           </td> <td>21            </td> <td>Senior          </td> <td>Bay Area             </td> <td>24       </td> <td>Male        </td> <td>Other      </td> <td>LA Area              </td>\n",
       "        </tr>\n",
       "        <tr>\n",
       "            <td>90           </td> <td>22            </td> <td>Senior          </td> <td>Rest of California   </td> <td>21       </td> <td>Female      </td> <td>Senior     </td> <td>Rest of World        </td>\n",
       "        </tr>\n",
       "        <tr>\n",
       "            <td>91           </td> <td>20            </td> <td>Junior          </td> <td>Bay Area             </td> <td>21       </td> <td>Male        </td> <td>Senior     </td> <td>LA Area              </td>\n",
       "        </tr>\n",
       "        <tr>\n",
       "            <td>92           </td> <td>21            </td> <td>Junior          </td> <td>Rest of World        </td> <td>20       </td> <td>Male        </td> <td>Junior     </td> <td>LA Area              </td>\n",
       "        </tr>\n",
       "        <tr>\n",
       "            <td>93           </td> <td>21            </td> <td>Senior          </td> <td>LA Area              </td> <td>55       </td> <td>Female      </td> <td>Other      </td> <td>LA Area              </td>\n",
       "        </tr>\n",
       "        <tr>\n",
       "            <td>95           </td> <td>30            </td> <td>Other           </td> <td>Rest of World        </td> <td>60       </td> <td>Female      </td> <td>Other      </td> <td>Rest of World        </td>\n",
       "        </tr>\n",
       "        <tr>\n",
       "            <td>96           </td> <td>21            </td> <td>Senior          </td> <td>LA Area              </td> <td>45       </td> <td>Female      </td> <td>Other      </td> <td>Rest of World        </td>\n",
       "        </tr>\n",
       "        <tr>\n",
       "            <td>97           </td> <td>21            </td> <td>Senior          </td> <td>Rest of California   </td> <td>22       </td> <td>Female      </td> <td>Other      </td> <td>Rest of California   </td>\n",
       "        </tr>\n",
       "        <tr>\n",
       "            <td>98           </td> <td>24            </td> <td>Senior          </td> <td>Bay Area             </td> <td>24       </td> <td>Male        </td> <td>Other      </td> <td>Bay Area             </td>\n",
       "        </tr>\n",
       "        <tr>\n",
       "            <td>99           </td> <td>21            </td> <td>Senior          </td> <td>Rest of California   </td> <td>22       </td> <td>Female      </td> <td>Senior     </td> <td>Rest of California   </td>\n",
       "        </tr>\n",
       "        <tr>\n",
       "            <td>100          </td> <td>21            </td> <td>Senior          </td> <td>LA Area              </td> <td>22       </td> <td>Female      </td> <td>Senior     </td> <td>Bay Area             </td>\n",
       "        </tr>\n",
       "        <tr>\n",
       "            <td>101          </td> <td>21            </td> <td>Senior          </td> <td>Rest of California   </td> <td>53       </td> <td>Female      </td> <td>Other      </td> <td>Rest of California   </td>\n",
       "        </tr>\n",
       "        <tr>\n",
       "            <td>102          </td> <td>21            </td> <td>Senior          </td> <td>Rest of California   </td> <td>21       </td> <td>Female      </td> <td>Senior     </td> <td>Rest of California   </td>\n",
       "        </tr>\n",
       "        <tr>\n",
       "            <td>103          </td> <td>20            </td> <td>Junior          </td> <td>Rest of World        </td> <td>21       </td> <td>Male        </td> <td>Junior     </td> <td>Rest of World        </td>\n",
       "        </tr>\n",
       "        <tr>\n",
       "            <td>1            </td> <td>21            </td> <td>Senior          </td> <td>Bay Area             </td> <td>21       </td> <td>Male        </td> <td>Senior     </td> <td>Rest of World        </td>\n",
       "        </tr>\n",
       "        <tr>\n",
       "            <td>3            </td> <td>25            </td> <td>Other           </td> <td>Rest of United States</td> <td>23       </td> <td>Female      </td> <td>Other      </td> <td>Rest of United States</td>\n",
       "        </tr>\n",
       "        <tr>\n",
       "            <td>4            </td> <td>21            </td> <td>Senior          </td> <td>Bay Area             </td> <td>17       </td> <td>Female      </td> <td>Other      </td> <td>Rest of United States</td>\n",
       "        </tr>\n",
       "        <tr>\n",
       "            <td>5            </td> <td>31            </td> <td>Other           </td> <td>Bay Area             </td> <td>26       </td> <td>Female      </td> <td>Other      </td> <td>Rest of United States</td>\n",
       "        </tr>\n",
       "        <tr>\n",
       "            <td>6            </td> <td>25            </td> <td>Other           </td> <td>Bay Area             </td> <td>25       </td> <td>Female      </td> <td>Other      </td> <td>Bay Area             </td>\n",
       "        </tr>\n",
       "        <tr>\n",
       "            <td>7            </td> <td>23            </td> <td>Junior          </td> <td>Rest of World        </td> <td>21       </td> <td>Female      </td> <td>Junior     </td> <td>Rest of World        </td>\n",
       "        </tr>\n",
       "        <tr>\n",
       "            <td>8            </td> <td>21            </td> <td>Other           </td> <td>Rest of World        </td> <td>53       </td> <td>Female      </td> <td>Other      </td> <td>Bay Area             </td>\n",
       "        </tr>\n",
       "        <tr>\n",
       "            <td>9            </td> <td>19            </td> <td>Sophomore       </td> <td>Rest of World        </td> <td>19       </td> <td>Male        </td> <td>Sophomore  </td> <td>Rest of World        </td>\n",
       "        </tr>\n",
       "        <tr>\n",
       "            <td>10           </td> <td>18            </td> <td>Freshman        </td> <td>Rest of United States</td> <td>18       </td> <td>Female      </td> <td>Freshman   </td> <td>Rest of United States</td>\n",
       "        </tr>\n",
       "        <tr>\n",
       "            <td>11           </td> <td>18            </td> <td>Freshman        </td> <td>Rest of United States</td> <td>18       </td> <td>Male        </td> <td>Freshman   </td> <td>Rest of United States</td>\n",
       "        </tr>\n",
       "        <tr>\n",
       "            <td>12           </td> <td>25            </td> <td>Senior          </td> <td>Bay Area             </td> <td>25       </td> <td>Male        </td> <td>Other      </td> <td>Rest of World        </td>\n",
       "        </tr>\n",
       "        <tr>\n",
       "            <td>13           </td> <td>21            </td> <td>Junior          </td> <td>Rest of World        </td> <td>20       </td> <td>Male        </td> <td>Junior     </td> <td>Rest of World        </td>\n",
       "        </tr>\n",
       "        <tr>\n",
       "            <td>14           </td> <td>21            </td> <td>Junior          </td> <td>Rest of United States</td> <td>21       </td> <td>Male        </td> <td>Junior     </td> <td>Rest of World        </td>\n",
       "        </tr>\n",
       "        <tr>\n",
       "            <td>15           </td> <td>20            </td> <td>Junior          </td> <td>Bay Area             </td> <td>20       </td> <td>Male        </td> <td>Junior     </td> <td>Bay Area             </td>\n",
       "        </tr>\n",
       "        <tr>\n",
       "            <td>16           </td> <td>19            </td> <td>Sophomore       </td> <td>Rest of United States</td> <td>20       </td> <td>Female      </td> <td>Junior     </td> <td>Rest of United States</td>\n",
       "        </tr>\n",
       "        <tr>\n",
       "            <td>17           </td> <td>21            </td> <td>Senior          </td> <td>LA Area              </td> <td>22       </td> <td>Female      </td> <td>Other      </td> <td>Bay Area             </td>\n",
       "        </tr>\n",
       "        <tr>\n",
       "            <td>18           </td> <td>20            </td> <td>Junior          </td> <td>LA Area              </td> <td>29       </td> <td>Male        </td> <td>Other      </td> <td>Rest of United States</td>\n",
       "        </tr>\n",
       "        <tr>\n",
       "            <td>19           </td> <td>22            </td> <td>Senior          </td> <td>LA Area              </td> <td>21       </td> <td>Female      </td> <td>Senior     </td> <td>LA Area              </td>\n",
       "        </tr>\n",
       "        <tr>\n",
       "            <td>20           </td> <td>19            </td> <td>Sophomore       </td> <td>Rest of United States</td> <td>20       </td> <td>Female      </td> <td>Junior     </td> <td>Rest of United States</td>\n",
       "        </tr>\n",
       "        <tr>\n",
       "            <td>21           </td> <td>20            </td> <td>Junior          </td> <td>Bay Area             </td> <td>20       </td> <td>Male        </td> <td>Junior     </td> <td>Bay Area             </td>\n",
       "        </tr>\n",
       "        <tr>\n",
       "            <td>22           </td> <td>21            </td> <td>Junior          </td> <td>Bay Area             </td> <td>21       </td> <td>Female      </td> <td>Junior     </td> <td>Bay Area             </td>\n",
       "        </tr>\n",
       "        <tr>\n",
       "            <td>23           </td> <td>21            </td> <td>Senior          </td> <td>Bay Area             </td> <td>21       </td> <td>Female      </td> <td>Senior     </td> <td>Bay Area             </td>\n",
       "        </tr>\n",
       "        <tr>\n",
       "            <td>24           </td> <td>21            </td> <td>Junior          </td> <td>Rest of United States</td> <td>21       </td> <td>Male        </td> <td>Junior     </td> <td>Rest of United States</td>\n",
       "        </tr>\n",
       "        <tr>\n",
       "            <td>25           </td> <td>nan           </td> <td>Senior          </td> <td>Rest of United States</td> <td>54       </td> <td>Male        </td> <td>Other      </td> <td>Rest of United States</td>\n",
       "        </tr>\n",
       "        <tr>\n",
       "            <td>26           </td> <td>20            </td> <td>Junior          </td> <td>Bay Area             </td> <td>20       </td> <td>Female      </td> <td>Junior     </td> <td>Bay Area             </td>\n",
       "        </tr>\n",
       "        <tr>\n",
       "            <td>27           </td> <td>20            </td> <td>Junior          </td> <td>Bay Area             </td> <td>23       </td> <td>Male        </td> <td>Other      </td> <td>LA Area              </td>\n",
       "        </tr>\n",
       "        <tr>\n",
       "            <td>28           </td> <td>20            </td> <td>Junior          </td> <td>Bay Area             </td> <td>18       </td> <td>Male        </td> <td>Sophomore  </td> <td>Rest of California   </td>\n",
       "        </tr>\n",
       "        <tr>\n",
       "            <td>29           </td> <td>20            </td> <td>Junior          </td> <td>Bay Area             </td> <td>20       </td> <td>Female      </td> <td>Junior     </td> <td>Rest of California   </td>\n",
       "        </tr>\n",
       "        <tr>\n",
       "            <td>30           </td> <td>53            </td> <td>Junior          </td> <td>Bay Area             </td> <td>50       </td> <td>Female      </td> <td>Other      </td> <td>Rest of United States</td>\n",
       "        </tr>\n",
       "        <tr>\n",
       "            <td>31           </td> <td>22            </td> <td>Senior          </td> <td>LA Area              </td> <td>21       </td> <td>Male        </td> <td>Senior     </td> <td>LA Area              </td>\n",
       "        </tr>\n",
       "        <tr>\n",
       "            <td>32           </td> <td>21            </td> <td>Senior          </td> <td>Rest of World        </td> <td>23       </td> <td>Female      </td> <td>Other      </td> <td>Rest of World        </td>\n",
       "        </tr>\n",
       "        <tr>\n",
       "            <td>33           </td> <td>21            </td> <td>Senior          </td> <td>Bay Area             </td> <td>35       </td> <td>Male        </td> <td>Other      </td> <td>Rest of United States</td>\n",
       "        </tr>\n",
       "        <tr>\n",
       "            <td>34           </td> <td>20            </td> <td>Junior          </td> <td>Rest of United States</td> <td>19       </td> <td>Female      </td> <td>Other      </td> <td>Rest of United States</td>\n",
       "        </tr>\n",
       "        <tr>\n",
       "            <td>35           </td> <td>19            </td> <td>Junior          </td> <td>Bay Area             </td> <td>21       </td> <td>Male        </td> <td>Junior     </td> <td>Rest of World        </td>\n",
       "        </tr>\n",
       "        <tr>\n",
       "            <td>36           </td> <td>20            </td> <td>Junior          </td> <td>Rest of World        </td> <td>23       </td> <td>Male        </td> <td>Other      </td> <td>Rest of World        </td>\n",
       "        </tr>\n",
       "        <tr>\n",
       "            <td>37           </td> <td>21            </td> <td>Senior          </td> <td>Bay Area             </td> <td>24       </td> <td>Male        </td> <td>Other      </td> <td>Rest of United States</td>\n",
       "        </tr>\n",
       "        <tr>\n",
       "            <td>38           </td> <td>21            </td> <td>Senior          </td> <td>Rest of United States</td> <td>21       </td> <td>Male        </td> <td>Senior     </td> <td>LA Area              </td>\n",
       "        </tr>\n",
       "        <tr>\n",
       "            <td>39           </td> <td>21            </td> <td>Senior          </td> <td>LA Area              </td> <td>21       </td> <td>Female      </td> <td>Senior     </td> <td>LA Area              </td>\n",
       "        </tr>\n",
       "        <tr>\n",
       "            <td>40           </td> <td>22            </td> <td>Senior          </td> <td>LA Area              </td> <td>22       </td> <td>Female      </td> <td>Senior     </td> <td>LA Area              </td>\n",
       "        </tr>\n",
       "        <tr>\n",
       "            <td>41           </td> <td>20            </td> <td>Sophomore       </td> <td>Rest of World        </td> <td>50       </td> <td>Male        </td> <td>Other      </td> <td>Rest of World        </td>\n",
       "        </tr>\n",
       "        <tr>\n",
       "            <td>42           </td> <td>20            </td> <td>Junior          </td> <td>Rest of California   </td> <td>20       </td> <td>Male        </td> <td>Junior     </td> <td>Rest of California   </td>\n",
       "        </tr>\n",
       "        <tr>\n",
       "            <td>43           </td> <td>20            </td> <td>Junior          </td> <td>Rest of World        </td> <td>21       </td> <td>Female      </td> <td>Junior     </td> <td>LA Area              </td>\n",
       "        </tr>\n",
       "        <tr>\n",
       "            <td>44           </td> <td>26            </td> <td>Other           </td> <td>LA Area              </td> <td>26       </td> <td>Male        </td> <td>Other      </td> <td>LA Area              </td>\n",
       "        </tr>\n",
       "        <tr>\n",
       "            <td>45           </td> <td>21            </td> <td>Junior          </td> <td>LA Area              </td> <td>54       </td> <td>Female      </td> <td>Other      </td> <td>Rest of World        </td>\n",
       "        </tr>\n",
       "        <tr>\n",
       "            <td>46           </td> <td>20            </td> <td>Junior          </td> <td>Bay Area             </td> <td>20       </td> <td>Male        </td> <td>Junior     </td> <td>Bay Area             </td>\n",
       "        </tr>\n",
       "        <tr>\n",
       "            <td>47           </td> <td>21            </td> <td>Junior          </td> <td>LA Area              </td> <td>23       </td> <td>Female      </td> <td>Other      </td> <td>LA Area              </td>\n",
       "        </tr>\n",
       "        <tr>\n",
       "            <td>48           </td> <td>19            </td> <td>Junior          </td> <td>Bay Area             </td> <td>21       </td> <td>Male        </td> <td>Junior     </td> <td>LA Area              </td>\n",
       "        </tr>\n",
       "        <tr>\n",
       "            <td>49           </td> <td>29            </td> <td>Other           </td> <td>LA Area              </td> <td>30       </td> <td>Male        </td> <td>Other      </td> <td>LA Area              </td>\n",
       "        </tr>\n",
       "        <tr>\n",
       "            <td>50           </td> <td>21            </td> <td>Senior          </td> <td>Bay Area             </td> <td>21       </td> <td>Female      </td> <td>Senior     </td> <td>Bay Area             </td>\n",
       "        </tr>\n",
       "        <tr>\n",
       "            <td>51           </td> <td>33            </td> <td>Junior          </td> <td>Rest of California   </td> <td>34       </td> <td>Male        </td> <td>Other      </td> <td>Rest of World        </td>\n",
       "        </tr>\n",
       "        <tr>\n",
       "            <td>52           </td> <td>20            </td> <td>Senior          </td> <td>Bay Area             </td> <td>20       </td> <td>Female      </td> <td>Other      </td> <td>Bay Area             </td>\n",
       "        </tr>\n",
       "        <tr>\n",
       "            <td>53           </td> <td>19            </td> <td>Sophomore       </td> <td>Bay Area             </td> <td>23       </td> <td>Female      </td> <td>Other      </td> <td>Bay Area             </td>\n",
       "        </tr>\n",
       "        <tr>\n",
       "            <td>54           </td> <td>21            </td> <td>Senior          </td> <td>Bay Area             </td> <td>21       </td> <td>Male        </td> <td>Senior     </td> <td>Bay Area             </td>\n",
       "        </tr>\n",
       "        <tr>\n",
       "            <td>55           </td> <td>25            </td> <td>Other           </td> <td>Rest of World        </td> <td>30       </td> <td>Female      </td> <td>Other      </td> <td>Rest of California   </td>\n",
       "        </tr>\n",
       "        <tr>\n",
       "            <td>56           </td> <td>21            </td> <td>Senior          </td> <td>Bay Area             </td> <td>20       </td> <td>Female      </td> <td>Sophomore  </td> <td>Bay Area             </td>\n",
       "        </tr>\n",
       "        <tr>\n",
       "            <td>57           </td> <td>22            </td> <td>Other           </td> <td>Rest of California   </td> <td>55       </td> <td>Female      </td> <td>Other      </td> <td>Rest of California   </td>\n",
       "        </tr>\n",
       "        <tr>\n",
       "            <td>58           </td> <td>20            </td> <td>Junior          </td> <td>LA Area              </td> <td>20       </td> <td>Female      </td> <td>Junior     </td> <td>Rest of United States</td>\n",
       "        </tr>\n",
       "        <tr>\n",
       "            <td>59           </td> <td>22            </td> <td>Senior          </td> <td>Rest of World        </td> <td>25       </td> <td>Female      </td> <td>Other      </td> <td>Rest of World        </td>\n",
       "        </tr>\n",
       "        <tr>\n",
       "            <td>60           </td> <td>23            </td> <td>Other           </td> <td>Rest of World        </td> <td>25       </td> <td>Female      </td> <td>Other      </td> <td>Rest of World        </td>\n",
       "        </tr>\n",
       "        <tr>\n",
       "            <td>61           </td> <td>22            </td> <td>Senior          </td> <td>Rest of World        </td> <td>21       </td> <td>Female      </td> <td>Senior     </td> <td>Rest of World        </td>\n",
       "        </tr>\n",
       "        <tr>\n",
       "            <td>62           </td> <td>20            </td> <td>Junior          </td> <td>Bay Area             </td> <td>20       </td> <td>Female      </td> <td>Junior     </td> <td>Rest of California   </td>\n",
       "        </tr>\n",
       "        <tr>\n",
       "            <td>63           </td> <td>21            </td> <td>Senior          </td> <td>Rest of California   </td> <td>21       </td> <td>Female      </td> <td>Senior     </td> <td>LA Area              </td>\n",
       "        </tr>\n",
       "        <tr>\n",
       "            <td>64           </td> <td>20            </td> <td>Junior          </td> <td>Bay Area             </td> <td>20       </td> <td>Female      </td> <td>Junior     </td> <td>Bay Area             </td>\n",
       "        </tr>\n",
       "        <tr>\n",
       "            <td>65           </td> <td>21            </td> <td>Junior          </td> <td>Rest of United States</td> <td>20       </td> <td>Male        </td> <td>Junior     </td> <td>Rest of World        </td>\n",
       "        </tr>\n",
       "        <tr>\n",
       "            <td>67           </td> <td>20            </td> <td>Junior          </td> <td>LA Area              </td> <td>21       </td> <td>Female      </td> <td>Junior     </td> <td>LA Area              </td>\n",
       "        </tr>\n",
       "        <tr>\n",
       "            <td>68           </td> <td>21            </td> <td>Senior          </td> <td>Rest of World        </td> <td>21       </td> <td>Female      </td> <td>Senior     </td> <td>LA Area              </td>\n",
       "        </tr>\n",
       "        <tr>\n",
       "            <td>69           </td> <td>28            </td> <td>Other           </td> <td>Rest of World        </td> <td>29       </td> <td>Female      </td> <td>Other      </td> <td>Bay Area             </td>\n",
       "        </tr>\n",
       "        <tr>\n",
       "            <td>70           </td> <td>26            </td> <td>Other           </td> <td>Bay Area             </td> <td>29       </td> <td>Female      </td> <td>Other      </td> <td>Rest of World        </td>\n",
       "        </tr>\n",
       "        <tr>\n",
       "            <td>71           </td> <td>22            </td> <td>Senior          </td> <td>Bay Area             </td> <td>21       </td> <td>Female      </td> <td>Junior     </td> <td>Rest of California   </td>\n",
       "        </tr>\n",
       "        <tr>\n",
       "            <td>72           </td> <td>19            </td> <td>Sophomore       </td> <td>LA Area              </td> <td>19       </td> <td>Female      </td> <td>Sophomore  </td> <td>Bay Area             </td>\n",
       "        </tr>\n",
       "        <tr>\n",
       "            <td>73           </td> <td>20            </td> <td>Junior          </td> <td>Bay Area             </td> <td>20       </td> <td>Male        </td> <td>Sophomore  </td> <td>LA Area              </td>\n",
       "        </tr>\n",
       "        <tr>\n",
       "            <td>74           </td> <td>20            </td> <td>Junior          </td> <td>Rest of United States</td> <td>55       </td> <td>Male        </td> <td>Other      </td> <td>Rest of United States</td>\n",
       "        </tr>\n",
       "        <tr>\n",
       "            <td>75           </td> <td>23            </td> <td>Other           </td> <td>LA Area              </td> <td>23       </td> <td>Male        </td> <td>Other      </td> <td>LA Area              </td>\n",
       "        </tr>\n",
       "        <tr>\n",
       "            <td>76           </td> <td>20            </td> <td>Junior          </td> <td>LA Area              </td> <td>20       </td> <td>Male        </td> <td>Junior     </td> <td>LA Area              </td>\n",
       "        </tr>\n",
       "        <tr>\n",
       "            <td>77           </td> <td>22            </td> <td>Junior          </td> <td>LA Area              </td> <td>29       </td> <td>Male        </td> <td>Other      </td> <td>Rest of United States</td>\n",
       "        </tr>\n",
       "        <tr>\n",
       "            <td>78           </td> <td>21            </td> <td>Senior          </td> <td>LA Area              </td> <td>21       </td> <td>Female      </td> <td>Senior     </td> <td>Bay Area             </td>\n",
       "        </tr>\n",
       "        <tr>\n",
       "            <td>81           </td> <td>21            </td> <td>Senior          </td> <td>Rest of World        </td> <td>25       </td> <td>Female      </td> <td>Other      </td> <td>Rest of World        </td>\n",
       "        </tr>\n",
       "        <tr>\n",
       "            <td>82           </td> <td>28            </td> <td>Other           </td> <td>Rest of World        </td> <td>29       </td> <td>Male        </td> <td>Senior     </td> <td>Rest of World        </td>\n",
       "        </tr>\n",
       "        <tr>\n",
       "            <td>83           </td> <td>20            </td> <td>Junior          </td> <td>Rest of World        </td> <td>20       </td> <td>Female      </td> <td>Junior     </td> <td>Rest of World        </td>\n",
       "        </tr>\n",
       "        <tr>\n",
       "            <td>84           </td> <td>19            </td> <td>Sophomore       </td> <td>Rest of California   </td> <td>19       </td> <td>Male        </td> <td>Sophomore  </td> <td>Bay Area             </td>\n",
       "        </tr>\n",
       "        <tr>\n",
       "            <td>85           </td> <td>21            </td> <td>Junior          </td> <td>LA Area              </td> <td>22       </td> <td>Male        </td> <td>Junior     </td> <td>Bay Area             </td>\n",
       "        </tr>\n",
       "        <tr>\n",
       "            <td>86           </td> <td>20            </td> <td>Sophomore       </td> <td>Bay Area             </td> <td>21       </td> <td>Female      </td> <td>Junior     </td> <td>Bay Area             </td>\n",
       "        </tr>\n",
       "        <tr>\n",
       "            <td>87           </td> <td>19            </td> <td>Junior          </td> <td>LA Area              </td> <td>50       </td> <td>Female      </td> <td>Other      </td> <td>LA Area              </td>\n",
       "        </tr>\n",
       "        <tr>\n",
       "            <td>88           </td> <td>19            </td> <td>Sophomore       </td> <td>Bay Area             </td> <td>19       </td> <td>Male        </td> <td>Sophomore  </td> <td>Bay Area             </td>\n",
       "        </tr>\n",
       "        <tr>\n",
       "            <td>89           </td> <td>21            </td> <td>Senior          </td> <td>Bay Area             </td> <td>23       </td> <td>Male        </td> <td>Other      </td> <td>Bay Area             </td>\n",
       "        </tr>\n",
       "        <tr>\n",
       "            <td>90           </td> <td>22            </td> <td>Senior          </td> <td>Rest of California   </td> <td>23       </td> <td>Female      </td> <td>Other      </td> <td>Bay Area             </td>\n",
       "        </tr>\n",
       "        <tr>\n",
       "            <td>91           </td> <td>20            </td> <td>Junior          </td> <td>Bay Area             </td> <td>22       </td> <td>Female      </td> <td>Other      </td> <td>Bay Area             </td>\n",
       "        </tr>\n",
       "        <tr>\n",
       "            <td>92           </td> <td>21            </td> <td>Junior          </td> <td>Rest of World        </td> <td>23       </td> <td>Male        </td> <td>Other      </td> <td>Rest of World        </td>\n",
       "        </tr>\n",
       "        <tr>\n",
       "            <td>93           </td> <td>21            </td> <td>Senior          </td> <td>LA Area              </td> <td>30       </td> <td>Male        </td> <td>Other      </td> <td>Bay Area             </td>\n",
       "        </tr>\n",
       "        <tr>\n",
       "            <td>95           </td> <td>30            </td> <td>Other           </td> <td>Rest of World        </td> <td>29       </td> <td>Female      </td> <td>Other      </td> <td>Bay Area             </td>\n",
       "        </tr>\n",
       "        <tr>\n",
       "            <td>96           </td> <td>21            </td> <td>Senior          </td> <td>LA Area              </td> <td>50       </td> <td>Male        </td> <td>Other      </td> <td>Rest of World        </td>\n",
       "        </tr>\n",
       "        <tr>\n",
       "            <td>97           </td> <td>21            </td> <td>Senior          </td> <td>Rest of California   </td> <td>21       </td> <td>Female      </td> <td>Senior     </td> <td>Rest of California   </td>\n",
       "        </tr>\n",
       "        <tr>\n",
       "            <td>98           </td> <td>24            </td> <td>Senior          </td> <td>Bay Area             </td> <td>21       </td> <td>Male        </td> <td>Junior     </td> <td>Rest of United States</td>\n",
       "        </tr>\n",
       "        <tr>\n",
       "            <td>99           </td> <td>21            </td> <td>Senior          </td> <td>Rest of California   </td> <td>20       </td> <td>Female      </td> <td>Senior     </td> <td>LA Area              </td>\n",
       "        </tr>\n",
       "        <tr>\n",
       "            <td>100          </td> <td>21            </td> <td>Senior          </td> <td>LA Area              </td> <td>28       </td> <td>Male        </td> <td>Other      </td> <td>LA Area              </td>\n",
       "        </tr>\n",
       "        <tr>\n",
       "            <td>101          </td> <td>21            </td> <td>Senior          </td> <td>Rest of California   </td> <td>22       </td> <td>Male        </td> <td>Senior     </td> <td>Rest of California   </td>\n",
       "        </tr>\n",
       "        <tr>\n",
       "            <td>102          </td> <td>21            </td> <td>Senior          </td> <td>Rest of California   </td> <td>21       </td> <td>Female      </td> <td>Senior     </td> <td>LA Area              </td>\n",
       "        </tr>\n",
       "        <tr>\n",
       "            <td>103          </td> <td>20            </td> <td>Junior          </td> <td>Rest of World        </td> <td>19       </td> <td>Female      </td> <td>Junior     </td> <td>Rest of World        </td>\n",
       "        </tr>\n",
       "        <tr>\n",
       "            <td>1            </td> <td>21            </td> <td>Senior          </td> <td>Bay Area             </td> <td>22       </td> <td>Female      </td> <td>Senior     </td> <td>Bay Area             </td>\n",
       "        </tr>\n",
       "        <tr>\n",
       "            <td>4            </td> <td>21            </td> <td>Senior          </td> <td>Bay Area             </td> <td>21       </td> <td>Female      </td> <td>Senior     </td> <td>Bay Area             </td>\n",
       "        </tr>\n",
       "        <tr>\n",
       "            <td>5            </td> <td>31            </td> <td>Other           </td> <td>Bay Area             </td> <td>28       </td> <td>Female      </td> <td>Other      </td> <td>Rest of United States</td>\n",
       "        </tr>\n",
       "        <tr>\n",
       "            <td>6            </td> <td>25            </td> <td>Other           </td> <td>Bay Area             </td> <td>39       </td> <td>Female      </td> <td>Other      </td> <td>Rest of World        </td>\n",
       "        </tr>\n",
       "        <tr>\n",
       "            <td>7            </td> <td>23            </td> <td>Junior          </td> <td>Rest of World        </td> <td>21       </td> <td>Male        </td> <td>Junior     </td> <td>Rest of World        </td>\n",
       "        </tr>\n",
       "        <tr>\n",
       "            <td>9            </td> <td>19            </td> <td>Sophomore       </td> <td>Rest of World        </td> <td>19       </td> <td>Male        </td> <td>Sophomore  </td> <td>Rest of World        </td>\n",
       "        </tr>\n",
       "        <tr>\n",
       "            <td>11           </td> <td>18            </td> <td>Freshman        </td> <td>Rest of United States</td> <td>19       </td> <td>Female      </td> <td>Freshman   </td> <td>Rest of United States</td>\n",
       "        </tr>\n",
       "        <tr>\n",
       "            <td>12           </td> <td>25            </td> <td>Senior          </td> <td>Bay Area             </td> <td>29       </td> <td>Female      </td> <td>Other      </td> <td>Bay Area             </td>\n",
       "        </tr>\n",
       "        <tr>\n",
       "            <td>13           </td> <td>21            </td> <td>Junior          </td> <td>Rest of World        </td> <td>20       </td> <td>Male        </td> <td>Junior     </td> <td>Rest of World        </td>\n",
       "        </tr>\n",
       "        <tr>\n",
       "            <td>14           </td> <td>21            </td> <td>Junior          </td> <td>Rest of United States</td> <td>62       </td> <td>Female      </td> <td>Other      </td> <td>Rest of World        </td>\n",
       "        </tr>\n",
       "        <tr>\n",
       "            <td>15           </td> <td>20            </td> <td>Junior          </td> <td>Bay Area             </td> <td>21       </td> <td>Male        </td> <td>Junior     </td> <td>Bay Area             </td>\n",
       "        </tr>\n",
       "        <tr>\n",
       "            <td>16           </td> <td>19            </td> <td>Sophomore       </td> <td>Rest of United States</td> <td>19       </td> <td>Female      </td> <td>Sophomore  </td> <td>Rest of United States</td>\n",
       "        </tr>\n",
       "        <tr>\n",
       "            <td>17           </td> <td>21            </td> <td>Senior          </td> <td>LA Area              </td> <td>21       </td> <td>Female      </td> <td>Senior     </td> <td>LA Area              </td>\n",
       "        </tr>\n",
       "        <tr>\n",
       "            <td>18           </td> <td>20            </td> <td>Junior          </td> <td>LA Area              </td> <td>21       </td> <td>Female      </td> <td>Senior     </td> <td>LA Area              </td>\n",
       "        </tr>\n",
       "        <tr>\n",
       "            <td>19           </td> <td>22            </td> <td>Senior          </td> <td>LA Area              </td> <td>22       </td> <td>Female      </td> <td>Senior     </td> <td>LA Area              </td>\n",
       "        </tr>\n",
       "        <tr>\n",
       "            <td>20           </td> <td>19            </td> <td>Sophomore       </td> <td>Rest of United States</td> <td>19       </td> <td>Female      </td> <td>Sophomore  </td> <td>Rest of United States</td>\n",
       "        </tr>\n",
       "        <tr>\n",
       "            <td>21           </td> <td>20            </td> <td>Junior          </td> <td>Bay Area             </td> <td>20       </td> <td>Male        </td> <td>Junior     </td> <td>Bay Area             </td>\n",
       "        </tr>\n",
       "        <tr>\n",
       "            <td>22           </td> <td>21            </td> <td>Junior          </td> <td>Bay Area             </td> <td>25       </td> <td>Female      </td> <td>Other      </td> <td>Bay Area             </td>\n",
       "        </tr>\n",
       "        <tr>\n",
       "            <td>23           </td> <td>21            </td> <td>Senior          </td> <td>Bay Area             </td> <td>21       </td> <td>Female      </td> <td>Senior     </td> <td>Bay Area             </td>\n",
       "        </tr>\n",
       "        <tr>\n",
       "            <td>24           </td> <td>21            </td> <td>Junior          </td> <td>Rest of United States</td> <td>21       </td> <td>Male        </td> <td>Junior     </td> <td>Rest of United States</td>\n",
       "        </tr>\n",
       "        <tr>\n",
       "            <td>25           </td> <td>nan           </td> <td>Senior          </td> <td>Rest of United States</td> <td>21       </td> <td>Female      </td> <td>Senior     </td> <td>Bay Area             </td>\n",
       "        </tr>\n",
       "        <tr>\n",
       "            <td>26           </td> <td>20            </td> <td>Junior          </td> <td>Bay Area             </td> <td>20       </td> <td>Female      </td> <td>Junior     </td> <td>Bay Area             </td>\n",
       "        </tr>\n",
       "        <tr>\n",
       "            <td>27           </td> <td>20            </td> <td>Junior          </td> <td>Bay Area             </td> <td>19       </td> <td>Female      </td> <td>Junior     </td> <td>LA Area              </td>\n",
       "        </tr>\n",
       "        <tr>\n",
       "            <td>28           </td> <td>20            </td> <td>Junior          </td> <td>Bay Area             </td> <td>19       </td> <td>Female      </td> <td>Sophomore  </td> <td>Bay Area             </td>\n",
       "        </tr>\n",
       "        <tr>\n",
       "            <td>29           </td> <td>20            </td> <td>Junior          </td> <td>Bay Area             </td> <td>20       </td> <td>Female      </td> <td>Junior     </td> <td>Rest of California   </td>\n",
       "        </tr>\n",
       "        <tr>\n",
       "            <td>30           </td> <td>53            </td> <td>Junior          </td> <td>Bay Area             </td> <td>31       </td> <td>Female      </td> <td>Junior     </td> <td>Rest of United States</td>\n",
       "        </tr>\n",
       "        <tr>\n",
       "            <td>31           </td> <td>22            </td> <td>Senior          </td> <td>LA Area              </td> <td>55       </td> <td>Male        </td> <td>Other      </td> <td>Rest of United States</td>\n",
       "        </tr>\n",
       "        <tr>\n",
       "            <td>32           </td> <td>21            </td> <td>Senior          </td> <td>Rest of World        </td> <td>21       </td> <td>Female      </td> <td>Senior     </td> <td>Rest of World        </td>\n",
       "        </tr>\n",
       "        <tr>\n",
       "            <td>33           </td> <td>21            </td> <td>Senior          </td> <td>Bay Area             </td> <td>32       </td> <td>Female      </td> <td>Other      </td> <td>Rest of United States</td>\n",
       "        </tr>\n",
       "        <tr>\n",
       "            <td>34           </td> <td>20            </td> <td>Junior          </td> <td>Rest of United States</td> <td>20       </td> <td>Female      </td> <td>Junior     </td> <td>Rest of United States</td>\n",
       "        </tr>\n",
       "        <tr>\n",
       "            <td>35           </td> <td>19            </td> <td>Junior          </td> <td>Bay Area             </td> <td>19       </td> <td>Male        </td> <td>Junior     </td> <td>Bay Area             </td>\n",
       "        </tr>\n",
       "        <tr>\n",
       "            <td>36           </td> <td>20            </td> <td>Junior          </td> <td>Rest of World        </td> <td>20       </td> <td>Female      </td> <td>Junior     </td> <td>Rest of World        </td>\n",
       "        </tr>\n",
       "        <tr>\n",
       "            <td>37           </td> <td>21            </td> <td>Senior          </td> <td>Bay Area             </td> <td>22       </td> <td>Male        </td> <td>Senior     </td> <td>Bay Area             </td>\n",
       "        </tr>\n",
       "        <tr>\n",
       "            <td>38           </td> <td>21            </td> <td>Senior          </td> <td>Rest of United States</td> <td>21       </td> <td>Male        </td> <td>Senior     </td> <td>Bay Area             </td>\n",
       "        </tr>\n",
       "        <tr>\n",
       "            <td>39           </td> <td>21            </td> <td>Senior          </td> <td>LA Area              </td> <td>22       </td> <td>Female      </td> <td>Other      </td> <td>LA Area              </td>\n",
       "        </tr>\n",
       "        <tr>\n",
       "            <td>40           </td> <td>22            </td> <td>Senior          </td> <td>LA Area              </td> <td>21       </td> <td>Female      </td> <td>Senior     </td> <td>LA Area              </td>\n",
       "        </tr>\n",
       "        <tr>\n",
       "            <td>41           </td> <td>20            </td> <td>Sophomore       </td> <td>Rest of World        </td> <td>20       </td> <td>Female      </td> <td>Sophomore  </td> <td>Rest of World        </td>\n",
       "        </tr>\n",
       "        <tr>\n",
       "            <td>42           </td> <td>20            </td> <td>Junior          </td> <td>Rest of California   </td> <td>20       </td> <td>Female      </td> <td>Junior     </td> <td>Bay Area             </td>\n",
       "        </tr>\n",
       "        <tr>\n",
       "            <td>43           </td> <td>20            </td> <td>Junior          </td> <td>Rest of World        </td> <td>21       </td> <td>Female      </td> <td>Senior     </td> <td>Rest of United States</td>\n",
       "        </tr>\n",
       "        <tr>\n",
       "            <td>44           </td> <td>26            </td> <td>Other           </td> <td>LA Area              </td> <td>25       </td> <td>Female      </td> <td>Other      </td> <td>Bay Area             </td>\n",
       "        </tr>\n",
       "        <tr>\n",
       "            <td>45           </td> <td>21            </td> <td>Junior          </td> <td>LA Area              </td> <td>22       </td> <td>Female      </td> <td>Other      </td> <td>LA Area              </td>\n",
       "        </tr>\n",
       "        <tr>\n",
       "            <td>46           </td> <td>20            </td> <td>Junior          </td> <td>Bay Area             </td> <td>20       </td> <td>Male        </td> <td>Junior     </td> <td>Bay Area             </td>\n",
       "        </tr>\n",
       "        <tr>\n",
       "            <td>47           </td> <td>21            </td> <td>Junior          </td> <td>LA Area              </td> <td>20       </td> <td>Female      </td> <td>Junior     </td> <td>LA Area              </td>\n",
       "        </tr>\n",
       "        <tr>\n",
       "            <td>49           </td> <td>29            </td> <td>Other           </td> <td>LA Area              </td> <td>26       </td> <td>Female      </td> <td>Other      </td> <td>Rest of United States</td>\n",
       "        </tr>\n",
       "        <tr>\n",
       "            <td>50           </td> <td>21            </td> <td>Senior          </td> <td>Bay Area             </td> <td>22       </td> <td>Female      </td> <td>Other      </td> <td>Rest of United States</td>\n",
       "        </tr>\n",
       "        <tr>\n",
       "            <td>51           </td> <td>33            </td> <td>Junior          </td> <td>Rest of California   </td> <td>21       </td> <td>Female      </td> <td>Senior     </td> <td>Rest of World        </td>\n",
       "        </tr>\n",
       "        <tr>\n",
       "            <td>52           </td> <td>20            </td> <td>Senior          </td> <td>Bay Area             </td> <td>20       </td> <td>Male        </td> <td>Other      </td> <td>Bay Area             </td>\n",
       "        </tr>\n",
       "        <tr>\n",
       "            <td>53           </td> <td>19            </td> <td>Sophomore       </td> <td>Bay Area             </td> <td>25       </td> <td>Male        </td> <td>Other      </td> <td>Bay Area             </td>\n",
       "        </tr>\n",
       "        <tr>\n",
       "            <td>54           </td> <td>21            </td> <td>Senior          </td> <td>Bay Area             </td> <td>21       </td> <td>Male        </td> <td>Senior     </td> <td>Bay Area             </td>\n",
       "        </tr>\n",
       "        <tr>\n",
       "            <td>55           </td> <td>25            </td> <td>Other           </td> <td>Rest of World        </td> <td>23       </td> <td>Female      </td> <td>Other      </td> <td>Rest of World        </td>\n",
       "        </tr>\n",
       "        <tr>\n",
       "            <td>57           </td> <td>22            </td> <td>Other           </td> <td>Rest of California   </td> <td>24       </td> <td>Male        </td> <td>Other      </td> <td>LA Area              </td>\n",
       "        </tr>\n",
       "        <tr>\n",
       "            <td>58           </td> <td>20            </td> <td>Junior          </td> <td>LA Area              </td> <td>30       </td> <td>Female      </td> <td>Other      </td> <td>LA Area              </td>\n",
       "        </tr>\n",
       "        <tr>\n",
       "            <td>59           </td> <td>22            </td> <td>Senior          </td> <td>Rest of World        </td> <td>25       </td> <td>Male        </td> <td>Other      </td> <td>Rest of World        </td>\n",
       "        </tr>\n",
       "        <tr>\n",
       "            <td>60           </td> <td>23            </td> <td>Other           </td> <td>Rest of World        </td> <td>26       </td> <td>Female      </td> <td>Other      </td> <td>Rest of World        </td>\n",
       "        </tr>\n",
       "        <tr>\n",
       "            <td>61           </td> <td>22            </td> <td>Senior          </td> <td>Rest of World        </td> <td>22       </td> <td>Female      </td> <td>Senior     </td> <td>Rest of World        </td>\n",
       "        </tr>\n",
       "        <tr>\n",
       "            <td>62           </td> <td>20            </td> <td>Junior          </td> <td>Bay Area             </td> <td>20       </td> <td>Female      </td> <td>Junior     </td> <td>Rest of California   </td>\n",
       "        </tr>\n",
       "        <tr>\n",
       "            <td>63           </td> <td>21            </td> <td>Senior          </td> <td>Rest of California   </td> <td>22       </td> <td>Female      </td> <td>Senior     </td> <td>LA Area              </td>\n",
       "        </tr>\n",
       "        <tr>\n",
       "            <td>64           </td> <td>20            </td> <td>Junior          </td> <td>Bay Area             </td> <td>21       </td> <td>Female      </td> <td>Senior     </td> <td>Rest of California   </td>\n",
       "        </tr>\n",
       "        <tr>\n",
       "            <td>65           </td> <td>21            </td> <td>Junior          </td> <td>Rest of United States</td> <td>21       </td> <td>Male        </td> <td>Junior     </td> <td>Rest of California   </td>\n",
       "        </tr>\n",
       "        <tr>\n",
       "            <td>67           </td> <td>20            </td> <td>Junior          </td> <td>LA Area              </td> <td>21       </td> <td>Female      </td> <td>Junior     </td> <td>Bay Area             </td>\n",
       "        </tr>\n",
       "        <tr>\n",
       "            <td>68           </td> <td>21            </td> <td>Senior          </td> <td>Rest of World        </td> <td>21       </td> <td>Male        </td> <td>Junior     </td> <td>Rest of United States</td>\n",
       "        </tr>\n",
       "        <tr>\n",
       "            <td>69           </td> <td>28            </td> <td>Other           </td> <td>Rest of World        </td> <td>26       </td> <td>Male        </td> <td>Senior     </td> <td>Bay Area             </td>\n",
       "        </tr>\n",
       "        <tr>\n",
       "            <td>71           </td> <td>22            </td> <td>Senior          </td> <td>Bay Area             </td> <td>20       </td> <td>Female      </td> <td>Junior     </td> <td>Rest of United States</td>\n",
       "        </tr>\n",
       "        <tr>\n",
       "            <td>72           </td> <td>19            </td> <td>Sophomore       </td> <td>LA Area              </td> <td>20       </td> <td>Male        </td> <td>Junior     </td> <td>Rest of United States</td>\n",
       "        </tr>\n",
       "        <tr>\n",
       "            <td>73           </td> <td>20            </td> <td>Junior          </td> <td>Bay Area             </td> <td>24       </td> <td>Female      </td> <td>Other      </td> <td>Bay Area             </td>\n",
       "        </tr>\n",
       "        <tr>\n",
       "            <td>74           </td> <td>20            </td> <td>Junior          </td> <td>Rest of United States</td> <td>20       </td> <td>Female      </td> <td>Junior     </td> <td>Rest of United States</td>\n",
       "        </tr>\n",
       "        <tr>\n",
       "            <td>75           </td> <td>23            </td> <td>Other           </td> <td>LA Area              </td> <td>23       </td> <td>Female      </td> <td>Other      </td> <td>Rest of California   </td>\n",
       "        </tr>\n",
       "        <tr>\n",
       "            <td>76           </td> <td>20            </td> <td>Junior          </td> <td>LA Area              </td> <td>20       </td> <td>Female      </td> <td>Junior     </td> <td>Bay Area             </td>\n",
       "        </tr>\n",
       "        <tr>\n",
       "            <td>77           </td> <td>22            </td> <td>Junior          </td> <td>LA Area              </td> <td>23       </td> <td>Female      </td> <td>Senior     </td> <td>Rest of United States</td>\n",
       "        </tr>\n",
       "        <tr>\n",
       "            <td>78           </td> <td>21            </td> <td>Senior          </td> <td>LA Area              </td> <td>28       </td> <td>Male        </td> <td>Other      </td> <td>Rest of United States</td>\n",
       "        </tr>\n",
       "        <tr>\n",
       "            <td>82           </td> <td>28            </td> <td>Other           </td> <td>Rest of World        </td> <td>26       </td> <td>Male        </td> <td>Senior     </td> <td>Rest of World        </td>\n",
       "        </tr>\n",
       "        <tr>\n",
       "            <td>83           </td> <td>20            </td> <td>Junior          </td> <td>Rest of World        </td> <td>20       </td> <td>Male        </td> <td>Junior     </td> <td>Rest of World        </td>\n",
       "        </tr>\n",
       "        <tr>\n",
       "            <td>84           </td> <td>19            </td> <td>Sophomore       </td> <td>Rest of California   </td> <td>20       </td> <td>Female      </td> <td>Junior     </td> <td>Bay Area             </td>\n",
       "        </tr>\n",
       "        <tr>\n",
       "            <td>85           </td> <td>21            </td> <td>Junior          </td> <td>LA Area              </td> <td>21       </td> <td>Male        </td> <td>Junior     </td> <td>Bay Area             </td>\n",
       "        </tr>\n",
       "        <tr>\n",
       "            <td>86           </td> <td>20            </td> <td>Sophomore       </td> <td>Bay Area             </td> <td>21       </td> <td>Female      </td> <td>Junior     </td> <td>Bay Area             </td>\n",
       "        </tr>\n",
       "        <tr>\n",
       "            <td>89           </td> <td>21            </td> <td>Senior          </td> <td>Bay Area             </td> <td>27       </td> <td>Male        </td> <td>Other      </td> <td>Bay Area             </td>\n",
       "        </tr>\n",
       "        <tr>\n",
       "            <td>90           </td> <td>22            </td> <td>Senior          </td> <td>Rest of California   </td> <td>28       </td> <td>Female      </td> <td>Other      </td> <td>Rest of California   </td>\n",
       "        </tr>\n",
       "        <tr>\n",
       "            <td>91           </td> <td>20            </td> <td>Junior          </td> <td>Bay Area             </td> <td>24       </td> <td>Male        </td> <td>Other      </td> <td>Bay Area             </td>\n",
       "        </tr>\n",
       "        <tr>\n",
       "            <td>92           </td> <td>21            </td> <td>Junior          </td> <td>Rest of World        </td> <td>75       </td> <td>Female      </td> <td>Other      </td> <td>Rest of World        </td>\n",
       "        </tr>\n",
       "        <tr>\n",
       "            <td>93           </td> <td>21            </td> <td>Senior          </td> <td>LA Area              </td> <td>21       </td> <td>Female      </td> <td>Junior     </td> <td>Bay Area             </td>\n",
       "        </tr>\n",
       "        <tr>\n",
       "            <td>95           </td> <td>30            </td> <td>Other           </td> <td>Rest of World        </td> <td>62       </td> <td>Male        </td> <td>Other      </td> <td>Rest of World        </td>\n",
       "        </tr>\n",
       "        <tr>\n",
       "            <td>96           </td> <td>21            </td> <td>Senior          </td> <td>LA Area              </td> <td>22       </td> <td>Male        </td> <td>Other      </td> <td>LA Area              </td>\n",
       "        </tr>\n",
       "        <tr>\n",
       "            <td>97           </td> <td>21            </td> <td>Senior          </td> <td>Rest of California   </td> <td>21       </td> <td>Female      </td> <td>Senior     </td> <td>Rest of California   </td>\n",
       "        </tr>\n",
       "        <tr>\n",
       "            <td>98           </td> <td>24            </td> <td>Senior          </td> <td>Bay Area             </td> <td>25       </td> <td>Male        </td> <td>Other      </td> <td>Rest of United States</td>\n",
       "        </tr>\n",
       "        <tr>\n",
       "            <td>99           </td> <td>21            </td> <td>Senior          </td> <td>Rest of California   </td> <td>18       </td> <td>Female      </td> <td>Sophomore  </td> <td>Rest of California   </td>\n",
       "        </tr>\n",
       "        <tr>\n",
       "            <td>100          </td> <td>21            </td> <td>Senior          </td> <td>LA Area              </td> <td>39       </td> <td>Male        </td> <td>Other      </td> <td>Rest of United States</td>\n",
       "        </tr>\n",
       "        <tr>\n",
       "            <td>101          </td> <td>21            </td> <td>Senior          </td> <td>Rest of California   </td> <td>21       </td> <td>Male        </td> <td>Senior     </td> <td>Rest of California   </td>\n",
       "        </tr>\n",
       "        <tr>\n",
       "            <td>102          </td> <td>21            </td> <td>Senior          </td> <td>Rest of California   </td> <td>21       </td> <td>Female      </td> <td>Other      </td> <td>Bay Area             </td>\n",
       "        </tr>\n",
       "        <tr>\n",
       "            <td>103          </td> <td>20            </td> <td>Junior          </td> <td>Rest of World        </td> <td>20       </td> <td>Male        </td> <td>Junior     </td> <td>Rest of World        </td>\n",
       "        </tr>\n",
       "    </tbody>\n",
       "</table>"
      ],
      "text/plain": [
       "<IPython.core.display.HTML object>"
      ]
     },
     "metadata": {},
     "output_type": "display_data"
    }
   ],
   "source": [
    "# Second step, construct the new data table\n",
    "alter_data = alter_data.where(boolean)\n",
    "alter_data.show() # the filtered alter_data"
   ]
  },
  {
   "cell_type": "code",
   "execution_count": 84,
   "metadata": {},
   "outputs": [
    {
     "data": {
      "text/plain": [
       "494"
      ]
     },
     "execution_count": 84,
     "metadata": {},
     "output_type": "execute_result"
    }
   ],
   "source": [
    "# Finally, check the number of rows\n",
    "alter_data.num_rows"
   ]
  },
  {
   "cell_type": "code",
   "execution_count": 111,
   "metadata": {
    "scrolled": true
   },
   "outputs": [],
   "source": [
    "alter_data.hist('alter_age')"
   ]
  },
  {
   "cell_type": "markdown",
   "metadata": {},
   "source": [
    "**Practice** What is the range of the age of the age?"
   ]
  },
  {
   "cell_type": "code",
   "execution_count": 86,
   "metadata": {},
   "outputs": [
    {
     "name": "stdout",
     "output_type": "stream",
     "text": [
      "oldest age: 75.0\n",
      "youngest age: 15.0\n"
     ]
    }
   ],
   "source": [
    "oldest = np.max(alter_data.column('alter_age'))\n",
    "youngest = np.min(alter_data.column('alter_age'))\n",
    "\n",
    "print('oldest age:', oldest)\n",
    "print('youngest age:', youngest)"
   ]
  },
  {
   "cell_type": "markdown",
   "metadata": {},
   "source": [
    "We can also take a look at the composition of alters regarding where they live.\n",
    "\n",
    "**Practice** What's the proportion of alters from Bay Area of all the alters?"
   ]
  },
  {
   "cell_type": "code",
   "execution_count": 87,
   "metadata": {},
   "outputs": [],
   "source": [
    "# First, you create a variable, alter_bay which has value False if the alter is not from the Bay Area, and True otherwise.\n",
    "alter_bay = alter_data.column('alter_home') == 'Bay Area' # two equal marks == constructs a comparison, the result is true (equal to) or false (not equalt to)"
   ]
  },
  {
   "cell_type": "code",
   "execution_count": 88,
   "metadata": {},
   "outputs": [
    {
     "data": {
      "text/plain": [
       "0.2813765182186235"
      ]
     },
     "execution_count": 88,
     "metadata": {},
     "output_type": "execute_result"
    }
   ],
   "source": [
    "# Secondly, you calculate the proportion of the rows which has the alter_bay variable True.\n",
    "alter_bay_proportion = np.mean(alter_bay)\n",
    "alter_bay_proportion"
   ]
  },
  {
   "cell_type": "markdown",
   "metadata": {},
   "source": [
    "**Question 5** Try to take an analytical work at the survey dataset from your own perspective. You can look at the distribution of alter's age (don't forget to remove the nans like we just did), or you can look at the composition of respondents and alters regarding their gender, or anything you think might be interesting. \n",
    "\n",
    "Please summarize your finding with a plot or a few words.\n",
    "\n",
    "Here are some codes that might be helpful:\n",
    "** to draw a histogram **: dataset.hist('column name');  \n",
    "** to draw a scatter plot **: dataset.scatter('column name 1','column name 2')"
   ]
  },
  {
   "cell_type": "code",
   "execution_count": 89,
   "metadata": {},
   "outputs": [
    {
     "name": "stdout",
     "output_type": "stream",
     "text": [
      "489\n",
      "344\n"
     ]
    },
    {
     "data": {
      "text/html": [
       "<table border=\"1\" class=\"dataframe\">\n",
       "    <thead>\n",
       "        <tr>\n",
       "            <th>respondent_id</th> <th>respondent_age</th> <th>alter_howclose</th> <th>alter_age</th>\n",
       "        </tr>\n",
       "    </thead>\n",
       "    <tbody>\n",
       "        <tr>\n",
       "            <td>1            </td> <td>21            </td> <td>Close friend  </td> <td>21       </td>\n",
       "        </tr>\n",
       "        <tr>\n",
       "            <td>2            </td> <td>25            </td> <td>Close friend  </td> <td>26       </td>\n",
       "        </tr>\n",
       "        <tr>\n",
       "            <td>3            </td> <td>25            </td> <td>Close friend  </td> <td>26       </td>\n",
       "        </tr>\n",
       "        <tr>\n",
       "            <td>4            </td> <td>21            </td> <td>Close friend  </td> <td>20       </td>\n",
       "        </tr>\n",
       "        <tr>\n",
       "            <td>5            </td> <td>31            </td> <td>Close friend  </td> <td>24       </td>\n",
       "        </tr>\n",
       "        <tr>\n",
       "            <td>6            </td> <td>25            </td> <td>Close friend  </td> <td>25       </td>\n",
       "        </tr>\n",
       "        <tr>\n",
       "            <td>7            </td> <td>23            </td> <td>Close friend  </td> <td>53       </td>\n",
       "        </tr>\n",
       "        <tr>\n",
       "            <td>8            </td> <td>21            </td> <td>Close friend  </td> <td>21       </td>\n",
       "        </tr>\n",
       "        <tr>\n",
       "            <td>9            </td> <td>19            </td> <td>Close friend  </td> <td>20       </td>\n",
       "        </tr>\n",
       "        <tr>\n",
       "            <td>10           </td> <td>18            </td> <td>Close friend  </td> <td>18       </td>\n",
       "        </tr>\n",
       "    </tbody>\n",
       "</table>\n",
       "<p>... (334 rows omitted)</p>"
      ],
      "text/plain": [
       "respondent_id | respondent_age | alter_howclose | alter_age\n",
       "1             | 21             | Close friend   | 21\n",
       "2             | 25             | Close friend   | 26\n",
       "3             | 25             | Close friend   | 26\n",
       "4             | 21             | Close friend   | 20\n",
       "5             | 31             | Close friend   | 24\n",
       "6             | 25             | Close friend   | 25\n",
       "7             | 23             | Close friend   | 53\n",
       "8             | 21             | Close friend   | 21\n",
       "9             | 19             | Close friend   | 20\n",
       "10            | 18             | Close friend   | 18\n",
       "... (334 rows omitted)"
      ]
     },
     "execution_count": 89,
     "metadata": {},
     "output_type": "execute_result"
    }
   ],
   "source": [
    "# step 1 get the table \n",
    "search_one_table = Table().with_columns([\n",
    "    \"respondent_id\", repeat_single_col(survey, 'respondent_id'),\n",
    "    \"respondent_age\", repeat_single_col(survey, 'respondent_age'),\n",
    "    \"alter_howclose\", wide_to_long(survey, 'howclose'),\n",
    "    'alter_age', wide_to_long(survey, 'age'),\n",
    "])\n",
    "search_one_table.column('respondent_age')\n",
    "\n",
    "# step 2 select valid data (both alter_age & respondent_age is valid)\n",
    "boolean = ~np.isnan(search_one_table.column('alter_age')) & ~np.isnan(search_one_table.column('respondent_age'))\n",
    "\n",
    "search_one_table = search_one_table.where(boolean)\n",
    "# Use search_two_table to \n",
    "search_two_table = search_one_table.where('alter_howclose', 'Close friend') \n",
    "\n",
    "print(search_one_table.num_rows)\n",
    "# show the number of close friend\n",
    "print(search_two_table.num_rows)\n",
    "\n",
    "# step 3 check out (using to debug)\n",
    "search_one_table.column('respondent_age')\n",
    "search_one_table.column('alter_age')\n",
    "search_two_table"
   ]
  },
  {
   "cell_type": "code",
   "execution_count": 116,
   "metadata": {
    "scrolled": true
   },
   "outputs": [
    {
     "data": {
      "image/png": "[encoded data removed]",
      "text/plain": [
       "<Figure size 432x288 with 1 Axes>"
      ]
     },
     "metadata": {},
     "output_type": "display_data"
    }
   ],
   "source": [
    "#calculate the difference of age.\n",
    "    # define a simple function to cal the difference\n",
    "def get_age_difference(table):\n",
    "    return table['respondent_age'] - table['alter_age']\n",
    "\n",
    "diff_for_friend = get_age_difference(search_one_table)\n",
    "\n",
    "search_one_table = search_one_table.with_column('friend_age_difference', diff_for_friend)\n",
    "\n",
    "# show the result visionable\n",
    "search_one_table.hist('friend_age_difference')"
   ]
  },
  {
   "cell_type": "code",
   "execution_count": 117,
   "metadata": {
    "scrolled": false
   },
   "outputs": [
    {
     "data": {
      "image/png": "[encoded data removed]",
      "text/plain": [
       "<Figure size 432x288 with 1 Axes>"
      ]
     },
     "metadata": {},
     "output_type": "display_data"
    }
   ],
   "source": [
    "diff_for_close_friend = get_age_difference(search_two_table)\n",
    "\n",
    "search_two_table= search_two_table.with_column('close_friend_age_difference', diff_for_close_friend)\n",
    "\n",
    "search_two_table.hist('close_friend_age_difference')"
   ]
  },
  {
   "cell_type": "code",
   "execution_count": 110,
   "metadata": {},
   "outputs": [
    {
     "name": "stdout",
     "output_type": "stream",
     "text": [
      "the partion of the same age close friend is : 0.33430232558139533\n",
      "the partion of close friends with a age difference of less than 3 is : 0.9534883720930233\n",
      "the partion of close friends with a age difference of less than 5 is : 0.9825581395348837\n"
     ]
    }
   ],
   "source": [
    "# cal the partion of the same age close friend & Close friends with a age difference of less than 3（5）\n",
    "is_difference_below_1 = search_two_table['close_friend_age_difference'] == 0\n",
    "is_difference_below_3 = search_two_table['close_friend_age_difference'] < 3\n",
    "is_difference_below_5 = search_two_table['close_friend_age_difference'] < 5\n",
    "\n",
    "partion_of_below_1_close_friend = np.mean(is_difference_below_1)\n",
    "partion_of_below_3_close_friend = np.mean(is_difference_below_3)\n",
    "partion_of_below_5_close_friend = np.mean(is_difference_below_5)\n",
    "print(\"the partion of the same age close friend is : \", end = '')\n",
    "print(partion_of_below_1_close_friend)\n",
    "print(\"the partion of close friends with a age difference of less than 3 is : \", end = '')\n",
    "print(partion_of_below_3_close_friend)\n",
    "print(\"the partion of close friends with a age difference of less than 5 is : \", end = '')\n",
    "print(partion_of_below_5_close_friend)"
   ]
  },
  {
   "cell_type": "code",
   "execution_count": 128,
   "metadata": {},
   "outputs": [
    {
     "data": {
      "image/png": "[encoded data removed]",
      "text/plain": [
       "<Figure size 360x360 with 1 Axes>"
      ]
     },
     "metadata": {},
     "output_type": "display_data"
    }
   ],
   "source": [
    "# scatter graph of age between respondent & alter (friends only)\n",
    "search_one_table.scatter('respondent_age', 'alter_age')"
   ]
  },
  {
   "cell_type": "code",
   "execution_count": 118,
   "metadata": {},
   "outputs": [
    {
     "data": {
      "image/png": "[encoded data removed]",
      "text/plain": [
       "<Figure size 360x360 with 1 Axes>"
      ]
     },
     "metadata": {},
     "output_type": "display_data"
    }
   ],
   "source": [
    "# scatter graph of age between respondent & alter (friends only)\n",
    "search_two_table.scatter('respondent_age', 'alter_age')"
   ]
  },
  {
   "cell_type": "markdown",
   "metadata": {},
   "source": [
    "## Section summary\n",
    "### age barrier exists\n",
    "In the histogram which show the distrubution of the age difference between the respondent and the alters, we can easily find that the probability of establishing friendship between peers is high. Specifically, we calculated that **33%** of peers among close friends, **95%** of those with an age difference of less than 3, and an age difference of less than 5 accounted for **98%**. And it's quite hard to become a friend with people who young than you(maybe it's influence by most of the sample population is college students and from the scatter we can see that).\n",
    "### Close friend can overcoming the age barrier\n",
    "Campared test result of friends & close friend set, we can find that though although it is very difficult to become friends by overcoming the age barrier, it does not prevent them from becoming close friends. Instead, there may be a bubble friendship among peers.\n",
    "### Besides\n",
    "we also record the information of the table of each respondent's age_difference distrubution as follows.(we just show the top 10 record)"
   ]
  },
  {
   "cell_type": "code",
   "execution_count": 2,
   "metadata": {
    "scrolled": true
   },
   "outputs": [
    {
     "ename": "NameError",
     "evalue": "name 'search_one_table' is not defined",
     "output_type": "error",
     "traceback": [
      "\u001b[0;31m---------------------------------------------------------------------------\u001b[0m",
      "\u001b[0;31mNameError\u001b[0m                                 Traceback (most recent call last)",
      "\u001b[0;32m<ipython-input-2-4d80b55c6172>\u001b[0m in \u001b[0;36m<module>\u001b[0;34m\u001b[0m\n\u001b[1;32m      1\u001b[0m \u001b[0;31m# other ways to show the result (the sum of the row is less than 5)\u001b[0m\u001b[0;34m\u001b[0m\u001b[0;34m\u001b[0m\u001b[0;34m\u001b[0m\u001b[0m\n\u001b[0;32m----> 2\u001b[0;31m \u001b[0msearch_one_table\u001b[0m\u001b[0;34m.\u001b[0m\u001b[0mpivot\u001b[0m\u001b[0;34m(\u001b[0m\u001b[0;34m'friend_age_difference'\u001b[0m\u001b[0;34m,\u001b[0m \u001b[0;34m'respondent_id'\u001b[0m\u001b[0;34m)\u001b[0m\u001b[0;34m.\u001b[0m\u001b[0mtake\u001b[0m\u001b[0;34m[\u001b[0m\u001b[0;34m:\u001b[0m\u001b[0;36m10\u001b[0m\u001b[0;34m]\u001b[0m\u001b[0;34m\u001b[0m\u001b[0;34m\u001b[0m\u001b[0m\n\u001b[0m",
      "\u001b[0;31mNameError\u001b[0m: name 'search_one_table' is not defined"
     ]
    }
   ],
   "source": [
    "# other ways to show the result (the sum of the row is less than 5)\n",
    "search_one_table.pivot('friend_age_difference', 'respondent_id').take[:10]"
   ]
  },
  {
   "cell_type": "code",
   "execution_count": 135,
   "metadata": {},
   "outputs": [
    {
     "data": {
      "text/html": [
       "<table border=\"1\" class=\"dataframe\">\n",
       "    <thead>\n",
       "        <tr>\n",
       "            <th>respondent_id</th> <th>-56.0</th> <th>-54.0</th> <th>-51.0</th> <th>-41.0</th> <th>-40.0</th> <th>-39.0</th> <th>-38.0</th> <th>-37.0</th> <th>-36.0</th> <th>-35.0</th> <th>-34.0</th> <th>-33.0</th> <th>-32.0</th> <th>-31.0</th> <th>-30.0</th> <th>-29.0</th> <th>-28.0</th> <th>-24.0</th> <th>-22.0</th> <th>-19.0</th> <th>-12.0</th> <th>-11.0</th> <th>-10.0</th> <th>-9.0</th> <th>-8.0</th> <th>-7.0</th> <th>-6.0</th> <th>-5.0</th> <th>-4.0</th> <th>-3.0</th> <th>-2.0</th> <th>-1.0</th> <th>0.0</th> <th>1.0</th> <th>2.0</th> <th>3.0</th> <th>4.0</th> <th>5.0</th> <th>6.0</th> <th>7.0</th> <th>13.0</th>\n",
       "        </tr>\n",
       "    </thead>\n",
       "    <tbody>\n",
       "        <tr>\n",
       "            <td>1            </td> <td>0    </td> <td>0    </td> <td>0    </td> <td>0    </td> <td>0    </td> <td>0    </td> <td>0    </td> <td>0    </td> <td>0    </td> <td>0    </td> <td>0    </td> <td>0    </td> <td>0    </td> <td>0    </td> <td>0    </td> <td>0    </td> <td>0    </td> <td>0    </td> <td>0    </td> <td>0    </td> <td>0    </td> <td>0    </td> <td>0    </td> <td>0   </td> <td>0   </td> <td>0   </td> <td>0   </td> <td>0   </td> <td>0   </td> <td>0   </td> <td>0   </td> <td>1   </td> <td>1   </td> <td>1   </td> <td>0   </td> <td>0   </td> <td>0   </td> <td>0   </td> <td>0   </td> <td>0   </td> <td>0   </td>\n",
       "        </tr>\n",
       "        <tr>\n",
       "            <td>2            </td> <td>0    </td> <td>0    </td> <td>0    </td> <td>0    </td> <td>0    </td> <td>0    </td> <td>0    </td> <td>0    </td> <td>0    </td> <td>0    </td> <td>0    </td> <td>0    </td> <td>0    </td> <td>0    </td> <td>0    </td> <td>0    </td> <td>0    </td> <td>0    </td> <td>0    </td> <td>0    </td> <td>0    </td> <td>0    </td> <td>0    </td> <td>0   </td> <td>0   </td> <td>0   </td> <td>0   </td> <td>0   </td> <td>0   </td> <td>0   </td> <td>0   </td> <td>2   </td> <td>0   </td> <td>1   </td> <td>0   </td> <td>0   </td> <td>0   </td> <td>0   </td> <td>0   </td> <td>0   </td> <td>0   </td>\n",
       "        </tr>\n",
       "        <tr>\n",
       "            <td>3            </td> <td>0    </td> <td>0    </td> <td>0    </td> <td>0    </td> <td>0    </td> <td>0    </td> <td>0    </td> <td>0    </td> <td>0    </td> <td>0    </td> <td>0    </td> <td>0    </td> <td>0    </td> <td>0    </td> <td>0    </td> <td>0    </td> <td>0    </td> <td>0    </td> <td>0    </td> <td>0    </td> <td>0    </td> <td>0    </td> <td>0    </td> <td>0   </td> <td>0   </td> <td>0   </td> <td>0   </td> <td>0   </td> <td>0   </td> <td>1   </td> <td>1   </td> <td>1   </td> <td>0   </td> <td>0   </td> <td>1   </td> <td>0   </td> <td>0   </td> <td>0   </td> <td>0   </td> <td>0   </td> <td>0   </td>\n",
       "        </tr>\n",
       "        <tr>\n",
       "            <td>4            </td> <td>0    </td> <td>0    </td> <td>0    </td> <td>0    </td> <td>0    </td> <td>0    </td> <td>0    </td> <td>0    </td> <td>0    </td> <td>0    </td> <td>0    </td> <td>0    </td> <td>0    </td> <td>0    </td> <td>0    </td> <td>0    </td> <td>0    </td> <td>0    </td> <td>0    </td> <td>1    </td> <td>0    </td> <td>0    </td> <td>0    </td> <td>0   </td> <td>0   </td> <td>0   </td> <td>0   </td> <td>0   </td> <td>0   </td> <td>0   </td> <td>0   </td> <td>0   </td> <td>1   </td> <td>1   </td> <td>0   </td> <td>0   </td> <td>1   </td> <td>0   </td> <td>0   </td> <td>0   </td> <td>0   </td>\n",
       "        </tr>\n",
       "        <tr>\n",
       "            <td>5            </td> <td>0    </td> <td>0    </td> <td>0    </td> <td>0    </td> <td>0    </td> <td>0    </td> <td>0    </td> <td>0    </td> <td>0    </td> <td>0    </td> <td>0    </td> <td>0    </td> <td>0    </td> <td>0    </td> <td>0    </td> <td>0    </td> <td>0    </td> <td>0    </td> <td>0    </td> <td>0    </td> <td>0    </td> <td>0    </td> <td>0    </td> <td>0   </td> <td>0   </td> <td>0   </td> <td>0   </td> <td>1   </td> <td>0   </td> <td>0   </td> <td>0   </td> <td>0   </td> <td>0   </td> <td>0   </td> <td>0   </td> <td>1   </td> <td>0   </td> <td>1   </td> <td>0   </td> <td>2   </td> <td>0   </td>\n",
       "        </tr>\n",
       "        <tr>\n",
       "            <td>6            </td> <td>0    </td> <td>0    </td> <td>0    </td> <td>0    </td> <td>0    </td> <td>0    </td> <td>0    </td> <td>1    </td> <td>0    </td> <td>1    </td> <td>0    </td> <td>0    </td> <td>0    </td> <td>0    </td> <td>0    </td> <td>0    </td> <td>0    </td> <td>0    </td> <td>0    </td> <td>0    </td> <td>0    </td> <td>0    </td> <td>0    </td> <td>0   </td> <td>0   </td> <td>0   </td> <td>0   </td> <td>0   </td> <td>0   </td> <td>0   </td> <td>0   </td> <td>0   </td> <td>1   </td> <td>0   </td> <td>0   </td> <td>0   </td> <td>0   </td> <td>0   </td> <td>0   </td> <td>0   </td> <td>0   </td>\n",
       "        </tr>\n",
       "        <tr>\n",
       "            <td>7            </td> <td>0    </td> <td>0    </td> <td>0    </td> <td>0    </td> <td>0    </td> <td>0    </td> <td>0    </td> <td>0    </td> <td>0    </td> <td>0    </td> <td>0    </td> <td>0    </td> <td>0    </td> <td>0    </td> <td>1    </td> <td>0    </td> <td>0    </td> <td>0    </td> <td>0    </td> <td>0    </td> <td>0    </td> <td>0    </td> <td>0    </td> <td>0   </td> <td>0   </td> <td>0   </td> <td>0   </td> <td>0   </td> <td>0   </td> <td>0   </td> <td>0   </td> <td>0   </td> <td>0   </td> <td>0   </td> <td>3   </td> <td>0   </td> <td>0   </td> <td>0   </td> <td>0   </td> <td>0   </td> <td>0   </td>\n",
       "        </tr>\n",
       "        <tr>\n",
       "            <td>8            </td> <td>0    </td> <td>0    </td> <td>0    </td> <td>0    </td> <td>0    </td> <td>0    </td> <td>0    </td> <td>0    </td> <td>0    </td> <td>0    </td> <td>0    </td> <td>0    </td> <td>0    </td> <td>0    </td> <td>0    </td> <td>0    </td> <td>0    </td> <td>0    </td> <td>0    </td> <td>0    </td> <td>0    </td> <td>0    </td> <td>0    </td> <td>0   </td> <td>0   </td> <td>0   </td> <td>0   </td> <td>0   </td> <td>0   </td> <td>0   </td> <td>0   </td> <td>0   </td> <td>3   </td> <td>0   </td> <td>0   </td> <td>0   </td> <td>0   </td> <td>0   </td> <td>0   </td> <td>0   </td> <td>0   </td>\n",
       "        </tr>\n",
       "        <tr>\n",
       "            <td>9            </td> <td>0    </td> <td>0    </td> <td>0    </td> <td>0    </td> <td>0    </td> <td>0    </td> <td>0    </td> <td>0    </td> <td>0    </td> <td>0    </td> <td>0    </td> <td>0    </td> <td>0    </td> <td>0    </td> <td>0    </td> <td>0    </td> <td>0    </td> <td>0    </td> <td>0    </td> <td>0    </td> <td>0    </td> <td>0    </td> <td>0    </td> <td>0   </td> <td>0   </td> <td>0   </td> <td>0   </td> <td>0   </td> <td>0   </td> <td>0   </td> <td>0   </td> <td>2   </td> <td>0   </td> <td>0   </td> <td>0   </td> <td>0   </td> <td>0   </td> <td>0   </td> <td>0   </td> <td>0   </td> <td>0   </td>\n",
       "        </tr>\n",
       "        <tr>\n",
       "            <td>10           </td> <td>0    </td> <td>0    </td> <td>0    </td> <td>0    </td> <td>0    </td> <td>0    </td> <td>0    </td> <td>0    </td> <td>0    </td> <td>0    </td> <td>0    </td> <td>0    </td> <td>0    </td> <td>0    </td> <td>0    </td> <td>0    </td> <td>0    </td> <td>0    </td> <td>0    </td> <td>0    </td> <td>0    </td> <td>0    </td> <td>0    </td> <td>0   </td> <td>0   </td> <td>0   </td> <td>0   </td> <td>0   </td> <td>0   </td> <td>0   </td> <td>0   </td> <td>1   </td> <td>3   </td> <td>0   </td> <td>0   </td> <td>0   </td> <td>0   </td> <td>0   </td> <td>0   </td> <td>0   </td> <td>0   </td>\n",
       "        </tr>\n",
       "    </tbody>\n",
       "</table>"
      ],
      "text/plain": [
       "respondent_id | -56.0 | -54.0 | -51.0 | -41.0 | -40.0 | -39.0 | -38.0 | -37.0 | -36.0 | -35.0 | -34.0 | -33.0 | -32.0 | -31.0 | -30.0 | -29.0 | -28.0 | -24.0 | -22.0 | -19.0 | -12.0 | -11.0 | -10.0 | -9.0 | -8.0 | -7.0 | -6.0 | -5.0 | -4.0 | -3.0 | -2.0 | -1.0 | 0.0  | 1.0  | 2.0  | 3.0  | 4.0  | 5.0  | 6.0  | 7.0  | 13.0\n",
       "1             | 0     | 0     | 0     | 0     | 0     | 0     | 0     | 0     | 0     | 0     | 0     | 0     | 0     | 0     | 0     | 0     | 0     | 0     | 0     | 0     | 0     | 0     | 0     | 0    | 0    | 0    | 0    | 0    | 0    | 0    | 0    | 1    | 1    | 1    | 0    | 0    | 0    | 0    | 0    | 0    | 0\n",
       "2             | 0     | 0     | 0     | 0     | 0     | 0     | 0     | 0     | 0     | 0     | 0     | 0     | 0     | 0     | 0     | 0     | 0     | 0     | 0     | 0     | 0     | 0     | 0     | 0    | 0    | 0    | 0    | 0    | 0    | 0    | 0    | 2    | 0    | 1    | 0    | 0    | 0    | 0    | 0    | 0    | 0\n",
       "3             | 0     | 0     | 0     | 0     | 0     | 0     | 0     | 0     | 0     | 0     | 0     | 0     | 0     | 0     | 0     | 0     | 0     | 0     | 0     | 0     | 0     | 0     | 0     | 0    | 0    | 0    | 0    | 0    | 0    | 1    | 1    | 1    | 0    | 0    | 1    | 0    | 0    | 0    | 0    | 0    | 0\n",
       "4             | 0     | 0     | 0     | 0     | 0     | 0     | 0     | 0     | 0     | 0     | 0     | 0     | 0     | 0     | 0     | 0     | 0     | 0     | 0     | 1     | 0     | 0     | 0     | 0    | 0    | 0    | 0    | 0    | 0    | 0    | 0    | 0    | 1    | 1    | 0    | 0    | 1    | 0    | 0    | 0    | 0\n",
       "5             | 0     | 0     | 0     | 0     | 0     | 0     | 0     | 0     | 0     | 0     | 0     | 0     | 0     | 0     | 0     | 0     | 0     | 0     | 0     | 0     | 0     | 0     | 0     | 0    | 0    | 0    | 0    | 1    | 0    | 0    | 0    | 0    | 0    | 0    | 0    | 1    | 0    | 1    | 0    | 2    | 0\n",
       "6             | 0     | 0     | 0     | 0     | 0     | 0     | 0     | 1     | 0     | 1     | 0     | 0     | 0     | 0     | 0     | 0     | 0     | 0     | 0     | 0     | 0     | 0     | 0     | 0    | 0    | 0    | 0    | 0    | 0    | 0    | 0    | 0    | 1    | 0    | 0    | 0    | 0    | 0    | 0    | 0    | 0\n",
       "7             | 0     | 0     | 0     | 0     | 0     | 0     | 0     | 0     | 0     | 0     | 0     | 0     | 0     | 0     | 1     | 0     | 0     | 0     | 0     | 0     | 0     | 0     | 0     | 0    | 0    | 0    | 0    | 0    | 0    | 0    | 0    | 0    | 0    | 0    | 3    | 0    | 0    | 0    | 0    | 0    | 0\n",
       "8             | 0     | 0     | 0     | 0     | 0     | 0     | 0     | 0     | 0     | 0     | 0     | 0     | 0     | 0     | 0     | 0     | 0     | 0     | 0     | 0     | 0     | 0     | 0     | 0    | 0    | 0    | 0    | 0    | 0    | 0    | 0    | 0    | 3    | 0    | 0    | 0    | 0    | 0    | 0    | 0    | 0\n",
       "9             | 0     | 0     | 0     | 0     | 0     | 0     | 0     | 0     | 0     | 0     | 0     | 0     | 0     | 0     | 0     | 0     | 0     | 0     | 0     | 0     | 0     | 0     | 0     | 0    | 0    | 0    | 0    | 0    | 0    | 0    | 0    | 2    | 0    | 0    | 0    | 0    | 0    | 0    | 0    | 0    | 0\n",
       "10            | 0     | 0     | 0     | 0     | 0     | 0     | 0     | 0     | 0     | 0     | 0     | 0     | 0     | 0     | 0     | 0     | 0     | 0     | 0     | 0     | 0     | 0     | 0     | 0    | 0    | 0    | 0    | 0    | 0    | 0    | 0    | 1    | 3    | 0    | 0    | 0    | 0    | 0    | 0    | 0    | 0"
      ]
     },
     "execution_count": 135,
     "metadata": {},
     "output_type": "execute_result"
    }
   ],
   "source": [
    "# other ways to show the result\n",
    "search_two_table.pivot('close_friend_age_difference', 'respondent_id').take[:10]"
   ]
  },
  {
   "cell_type": "markdown",
   "metadata": {},
   "source": [
    "# Submitting your lab\n",
    "Congratulations on finishing lab1.\n",
    "\n",
    "Before handing it in, you can rerun all the tests again to see if you missed any thing."
   ]
  },
  {
   "cell_type": "code",
   "execution_count": 136,
   "metadata": {},
   "outputs": [
    {
     "name": "stdout",
     "output_type": "stream",
     "text": [
      "Running all tests...\n",
      "~~~~~~~~~~~~~~~~~~~~~~~~~~~~~~~~~~~~~~~~~~~~~~~~~~~~~~~~~~~~~~~~~~~~~\n",
      "Running tests\n",
      "\n",
      "---------------------------------------------------------------------\n",
      "Test summary\n",
      "    Passed: 1\n",
      "    Failed: 0\n",
      "[ooooooooook] 100.0% passed\n",
      "\n",
      "~~~~~~~~~~~~~~~~~~~~~~~~~~~~~~~~~~~~~~~~~~~~~~~~~~~~~~~~~~~~~~~~~~~~~\n",
      "Running tests\n",
      "\n",
      "---------------------------------------------------------------------\n",
      "Test summary\n",
      "    Passed: 1\n",
      "    Failed: 0\n",
      "[ooooooooook] 100.0% passed\n",
      "\n",
      "~~~~~~~~~~~~~~~~~~~~~~~~~~~~~~~~~~~~~~~~~~~~~~~~~~~~~~~~~~~~~~~~~~~~~\n",
      "Running tests\n",
      "\n",
      "---------------------------------------------------------------------\n",
      "Test summary\n",
      "    Passed: 1\n",
      "    Failed: 0\n",
      "[ooooooooook] 100.0% passed\n",
      "\n",
      "~~~~~~~~~~~~~~~~~~~~~~~~~~~~~~~~~~~~~~~~~~~~~~~~~~~~~~~~~~~~~~~~~~~~~\n",
      "Running tests\n",
      "\n",
      "---------------------------------------------------------------------\n",
      "Test summary\n",
      "    Passed: 1\n",
      "    Failed: 0\n",
      "[ooooooooook] 100.0% passed\n",
      "\n",
      "Finished running all tests.\n"
     ]
    }
   ],
   "source": [
    "import os\n",
    "print(\"Running all tests...\")\n",
    "_ = [ok.grade(q[:-3]) for q in os.listdir(\"tests\") if q.startswith('q')]\n",
    "print(\"Finished running all tests.\")"
   ]
  },
  {
   "cell_type": "markdown",
   "metadata": {},
   "source": [
    "Run the following code to submit your lab1."
   ]
  },
  {
   "cell_type": "code",
   "execution_count": null,
   "metadata": {
    "deletable": false,
    "editable": false
   },
   "outputs": [
    {
     "data": {
      "application/javascript": [
       "IPython.notebook.save_checkpoint();"
      ],
      "text/plain": [
       "<IPython.core.display.Javascript object>"
      ]
     },
     "metadata": {},
     "output_type": "display_data"
    }
   ],
   "source": [
    "# Save your notebook first, then run this cell to submit.\n",
    "ok.submit()"
   ]
  },
  {
   "cell_type": "code",
   "execution_count": null,
   "metadata": {},
   "outputs": [],
   "source": []
  }
 ],
 "metadata": {
  "kernelspec": {
   "display_name": "Python 3",
   "language": "python",
   "name": "python3"
  },
  "language_info": {
   "codemirror_mode": {
    "name": "ipython",
    "version": 3
   },
   "file_extension": ".py",
   "mimetype": "text/x-python",
   "name": "python",
   "nbconvert_exporter": "python",
   "pygments_lexer": "ipython3",
   "version": "3.7.3"
  }
 },
 "nbformat": 4,
 "nbformat_minor": 2
}
