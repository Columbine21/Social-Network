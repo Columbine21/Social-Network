{
 "cells": [
  {
   "cell_type": "code",
   "execution_count": 69,
   "metadata": {
    "deletable": false,
    "editable": false,
    "scrolled": true
   },
   "outputs": [
    {
     "name": "stdout",
     "output_type": "stream",
     "text": [
      "=====================================================================\n",
      "Assignment: lab03\n",
      "OK, version v1.12.5\n",
      "=====================================================================\n",
      "\n"
     ]
    }
   ],
   "source": [
    "# Initialize OK\n",
    "from client.api.notebook import Notebook\n",
    "ok = Notebook('lab03.ok')"
   ]
  },
  {
   "cell_type": "code",
   "execution_count": 70,
   "metadata": {},
   "outputs": [
    {
     "name": "stdout",
     "output_type": "stream",
     "text": [
      "Requirement already up-to-date: networkx in /srv/app/venv/lib/python3.6/site-packages (2.3)\n",
      "Requirement already satisfied, skipping upgrade: decorator>=4.3.0 in /srv/app/venv/lib/python3.6/site-packages (from networkx) (4.4.0)\n",
      "Requirement already up-to-date: pip in /srv/app/venv/lib/python3.6/site-packages (19.1.1)\n"
     ]
    }
   ],
   "source": [
    "# If you need to, run these two lines help you update networkx and pip to the latest version\n",
    "!pip install networkx --upgrade\n",
    "!pip install --upgrade pip"
   ]
  },
  {
   "cell_type": "code",
   "execution_count": 71,
   "metadata": {},
   "outputs": [
    {
     "name": "stdout",
     "output_type": "stream",
     "text": [
      "Requirement already satisfied: jassign in /srv/app/venv/lib/python3.6/site-packages (0.0.7)\n",
      "Requirement already satisfied: pyyaml in /srv/app/venv/lib/python3.6/site-packages (from jassign) (5.1.1)\n",
      "Requirement already satisfied: tqdm in /srv/app/venv/lib/python3.6/site-packages (from jassign) (4.15.0)\n",
      "Requirement already satisfied: ipython in /srv/app/venv/lib/python3.6/site-packages (from jassign) (7.6.1)\n",
      "Requirement already satisfied: nbformat in /srv/app/venv/lib/python3.6/site-packages (from jassign) (4.4.0)\n",
      "Requirement already satisfied: setuptools in /srv/app/venv/lib/python3.6/site-packages (from jassign) (39.0.1)\n",
      "Requirement already satisfied: nbconvert in /srv/app/venv/lib/python3.6/site-packages (from jassign) (5.5.0)\n",
      "Requirement already satisfied: pexpect; sys_platform != \"win32\" in /srv/app/venv/lib/python3.6/site-packages (from ipython->jassign) (4.7.0)\n",
      "Requirement already satisfied: traitlets>=4.2 in /srv/app/venv/lib/python3.6/site-packages (from ipython->jassign) (4.3.2)\n",
      "Requirement already satisfied: prompt-toolkit<2.1.0,>=2.0.0 in /srv/app/venv/lib/python3.6/site-packages (from ipython->jassign) (2.0.9)\n",
      "Requirement already satisfied: jedi>=0.10 in /srv/app/venv/lib/python3.6/site-packages (from ipython->jassign) (0.14.0)\n",
      "Requirement already satisfied: decorator in /srv/app/venv/lib/python3.6/site-packages (from ipython->jassign) (4.4.0)\n",
      "Requirement already satisfied: pickleshare in /srv/app/venv/lib/python3.6/site-packages (from ipython->jassign) (0.7.5)\n",
      "Requirement already satisfied: backcall in /srv/app/venv/lib/python3.6/site-packages (from ipython->jassign) (0.1.0)\n",
      "Requirement already satisfied: pygments in /srv/app/venv/lib/python3.6/site-packages (from ipython->jassign) (2.4.2)\n",
      "Requirement already satisfied: jsonschema!=2.5.0,>=2.4 in /srv/app/venv/lib/python3.6/site-packages (from nbformat->jassign) (3.0.1)\n",
      "Requirement already satisfied: jupyter-core in /srv/app/venv/lib/python3.6/site-packages (from nbformat->jassign) (4.5.0)\n",
      "Requirement already satisfied: ipython-genutils in /srv/app/venv/lib/python3.6/site-packages (from nbformat->jassign) (0.2.0)\n",
      "Requirement already satisfied: entrypoints>=0.2.2 in /srv/app/venv/lib/python3.6/site-packages (from nbconvert->jassign) (0.3)\n",
      "Requirement already satisfied: pandocfilters>=1.4.1 in /srv/app/venv/lib/python3.6/site-packages (from nbconvert->jassign) (1.4.2)\n",
      "Requirement already satisfied: testpath in /srv/app/venv/lib/python3.6/site-packages (from nbconvert->jassign) (0.4.2)\n",
      "Requirement already satisfied: defusedxml in /srv/app/venv/lib/python3.6/site-packages (from nbconvert->jassign) (0.6.0)\n",
      "Requirement already satisfied: bleach in /srv/app/venv/lib/python3.6/site-packages (from nbconvert->jassign) (3.1.0)\n",
      "Requirement already satisfied: jinja2>=2.4 in /srv/app/venv/lib/python3.6/site-packages (from nbconvert->jassign) (2.10.1)\n",
      "Requirement already satisfied: mistune>=0.8.1 in /srv/app/venv/lib/python3.6/site-packages (from nbconvert->jassign) (0.8.4)\n",
      "Requirement already satisfied: ptyprocess>=0.5 in /srv/app/venv/lib/python3.6/site-packages (from pexpect; sys_platform != \"win32\"->ipython->jassign) (0.6.0)\n",
      "Requirement already satisfied: six in /srv/app/venv/lib/python3.6/site-packages (from traitlets>=4.2->ipython->jassign) (1.12.0)\n",
      "Requirement already satisfied: wcwidth in /srv/app/venv/lib/python3.6/site-packages (from prompt-toolkit<2.1.0,>=2.0.0->ipython->jassign) (0.1.7)\n",
      "Requirement already satisfied: parso>=0.3.0 in /srv/app/venv/lib/python3.6/site-packages (from jedi>=0.10->ipython->jassign) (0.5.0)\n",
      "Requirement already satisfied: pyrsistent>=0.14.0 in /srv/app/venv/lib/python3.6/site-packages (from jsonschema!=2.5.0,>=2.4->nbformat->jassign) (0.15.3)\n",
      "Requirement already satisfied: attrs>=17.4.0 in /srv/app/venv/lib/python3.6/site-packages (from jsonschema!=2.5.0,>=2.4->nbformat->jassign) (19.1.0)\n",
      "Requirement already satisfied: webencodings in /srv/app/venv/lib/python3.6/site-packages (from bleach->nbconvert->jassign) (0.5.1)\n",
      "Requirement already satisfied: MarkupSafe>=0.23 in /srv/app/venv/lib/python3.6/site-packages (from jinja2>=2.4->nbconvert->jassign) (1.1.1)\n"
     ]
    }
   ],
   "source": [
    "!pip install jassign"
   ]
  },
  {
   "cell_type": "code",
   "execution_count": 72,
   "metadata": {},
   "outputs": [
    {
     "name": "stdout",
     "output_type": "stream",
     "text": [
      "Requirement already satisfied: tqdm in /srv/app/venv/lib/python3.6/site-packages (4.15.0)\r\n"
     ]
    }
   ],
   "source": [
    "!pip install tqdm"
   ]
  },
  {
   "cell_type": "code",
   "execution_count": 73,
   "metadata": {},
   "outputs": [
    {
     "data": {
      "text/html": [
       "<style>\n",
       "div.question {    \n",
       "    background-color: #33f2f2;\n",
       "    border-color: #dFb5b4;\n",
       "    border-left: 5px solid #dfb5b4;\n",
       "    padding: 0.5em;\n",
       "    }\n",
       "div.response {    \n",
       "    background-color: #fcf2f2;\n",
       "    border-color: #dFb5b4;\n",
       "    border-left: 5px solid #dfb5b4;\n",
       "    padding: 0.5em;\n",
       "    }\n",
       "</style>\n"
      ],
      "text/plain": [
       "<IPython.core.display.HTML object>"
      ]
     },
     "execution_count": 73,
     "metadata": {},
     "output_type": "execute_result"
    }
   ],
   "source": [
    "from IPython.core.display import HTML\n",
    "HTML(\"\"\"\n",
    "<style>\n",
    ".imagesource {\n",
    "    font-size: xx-small;\n",
    "}\n",
    "</style>\n",
    "\"\"\")\n",
    "\n",
    "from datascience import *\n",
    "\n",
    "import matplotlib\n",
    "matplotlib.use('Agg')\n",
    "%matplotlib inline\n",
    "import matplotlib.pyplot as plt\n",
    "import numpy as np\n",
    "plt.style.use('fivethirtyeight')\n",
    "\n",
    "import os\n",
    "import networkx as nx\n",
    "\n",
    "from IPython.core.display import HTML\n",
    "def css_styling():\n",
    "    styles = open(\"custom_style.css\", \"r\").read()\n",
    "    return HTML(styles)\n",
    "css_styling()"
   ]
  },
  {
   "cell_type": "markdown",
   "metadata": {},
   "source": [
    "## Lab 3 - Enriching network data and testing a hypothesis about homophily"
   ]
  },
  {
   "cell_type": "markdown",
   "metadata": {},
   "source": [
    "## Attributes of nodes\n",
    "\n",
    "We have seen that there is a lot we can learn about social networks by just studying their structure---i.e., by investigating the patterns of nodes and edges. However, since social networks are typically made of people, we know that only studying their structure leaves a lot of potentially important information out of our analysis. People are not all the same, and so reducing people to identical nodes in a network can be too simplistic to accurately learn about the social processes that a network is a part of.\n",
    "\n",
    "Today, we're going to learn **how to enrich our networks by adding additional information about who is in the nodes**. We'll continue to work with the theoretical idea of homophily, which we have discussed in a few previous classes."
   ]
  },
  {
   "cell_type": "markdown",
   "metadata": {},
   "source": [
    "# Measuring homophily"
   ]
  },
  {
   "cell_type": "markdown",
   "metadata": {},
   "source": [
    "In class, we talked about one approach to measuring homophily in a network that is composed of nodes that are either girls or boys.\n",
    "\n",
    "Suppose that a proportion $p$ of the nodes in the network are boys, and that a proportion $q$ of nodes in the network are girls. Then we reasoned that if we pick an edge at random from the network, and randomly assign genders to the nodes at either end of the edge, we'd see one of the following three situations:"
   ]
  },
  {
   "cell_type": "markdown",
   "metadata": {},
   "source": [
    "<img src='random_gender_withfrac.jpg' width='30%'></img>"
   ]
  },
  {
   "cell_type": "markdown",
   "metadata": {},
   "source": [
    "We'd expect to see an edge joining two boys with probability $p^2$; an edge joining two girls with probability $q^2$; and an edge that joins a boy and a girl with probability $pq + qp = 2pq$. The approach we talked about in lecture was based on comparing the observed fraction of boy-girl edges to the value $2pq$ that would be predicted under this first null model."
   ]
  },
  {
   "cell_type": "markdown",
   "metadata": {},
   "source": [
    "Although this analysis is a good starting point, it makes an important assumption: it assumes that, on average, boys and girls have the same average network size. (If you are curious about why the model implies this, please see the optional footnote at the end of the lab.)\n",
    "\n",
    "In this lab, we'll explore a more sophisticated metric -- the assortativity coefficient -- that accounts for differences in nodes' network sizes. The assortativity coefficient can also be extended to measure homophily on characteristics that have more than two categories."
   ]
  },
  {
   "cell_type": "markdown",
   "metadata": {},
   "source": [
    "### The assortativity coefficient\n",
    "\n",
    "If a network's nodes can be divided into discrete groups, then a quantitative metric for the amount of homophily in a network was proposed by [Newman](https://arxiv.org/pdf/cond-mat/0205405.pdf). We'll work with this metric today.\n",
    "\n",
    "* suppose that the nodes can all be divided into discrete groups\n",
    "* let $a_i$ be the fraction of ends of edges ('stubs') in a network that are connected to nodes in group $i$\n",
    "* let $e_{ij}$ be the fraction of edges in a network ('stubs') that connect nodes in group $i$ to nodes in group $j$\n",
    "\n",
    "\n",
    "Newman's *assortativity coefficient* is:\n",
    "\n",
    "$$r = \\frac{\\sum_i e_{ii} - \\sum_i a_i^2}{1 - \\sum_i a_i^2}$$\n",
    "\n",
    "* when $r=0$, then there is no assortativity\n",
    "* when $r>0$, then there is assortativity -- i.e., members of the same group tend to be more connected to each other than to other groups. At the extreme, when $r=1$, all network connections are within groups (perfect assortivity)\n",
    "* when $r<0$, then there is disassortativity -- i.e., members of the same group are less likely to be connected to each other than to other groups\n",
    "\n",
    "For two groups, we can write the assortativity coefficient as\n",
    "\n",
    "$$r = \\frac{e_{11} + e_{22} - a_1^2 - a_2^2}{1 - a_1^2 - a_2^2}$$"
   ]
  },
  {
   "cell_type": "markdown",
   "metadata": {},
   "source": [
    "### Example 1"
   ]
  },
  {
   "cell_type": "markdown",
   "metadata": {},
   "source": [
    "<img src='example_network_groups3.png'>"
   ]
  },
  {
   "cell_type": "markdown",
   "metadata": {},
   "source": [
    "**Practice** Calculate the assortativity coefficient in the example network:"
   ]
  },
  {
   "cell_type": "code",
   "execution_count": 74,
   "metadata": {},
   "outputs": [],
   "source": [
    "#         degree  group\n",
    "# node 1    1     blue\n",
    "# node 2    2     red\n",
    "# node 3    5     blue\n",
    "# node 4    1     red\n",
    "# node 5    2     blue\n",
    "# node 6    1     red\n",
    "# node 7    2     red\n",
    "# node 8    2     blue"
   ]
  },
  {
   "cell_type": "code",
   "execution_count": 75,
   "metadata": {},
   "outputs": [],
   "source": [
    "# STUB COUNTS\n",
    "\n",
    "#       blue  red\n",
    "# blue   4     6\n",
    "# red    6     0"
   ]
  },
  {
   "cell_type": "code",
   "execution_count": 76,
   "metadata": {},
   "outputs": [],
   "source": [
    "# STUB TOTALS\n",
    "\n",
    "#       total degree  a_i\n",
    "# blue       10       10/16\n",
    "# red        6        6/16"
   ]
  },
  {
   "cell_type": "code",
   "execution_count": 77,
   "metadata": {},
   "outputs": [],
   "source": [
    "# e_ij MATRIX\n",
    "\n",
    "#       blue  red\n",
    "# blue  4/16  6/16\n",
    "# red   6/16  0"
   ]
  },
  {
   "cell_type": "markdown",
   "metadata": {},
   "source": [
    "**ANSWER:** *assortativity coefficient*\n",
    "$r$ = [((4/16) + 0) - (10/16)^2 - (6/16)^2] / [1 - (10/16)^2 - (6/16)^2] = -0.6"
   ]
  },
  {
   "cell_type": "code",
   "execution_count": 78,
   "metadata": {},
   "outputs": [
    {
     "data": {
      "text/plain": [
       "-0.6"
      ]
     },
     "execution_count": 78,
     "metadata": {},
     "output_type": "execute_result"
    }
   ],
   "source": [
    "(((4/16) + 0) - (10/16)**2 - (6/16)**2) / (1 - (10/16)**2 - (6/16)**2)"
   ]
  },
  {
   "cell_type": "markdown",
   "metadata": {},
   "source": [
    " Now we'll use the `networkx` package to check the results of the calculation we performed above. This will  give us a chance to learn about how the package handles node attributes."
   ]
  },
  {
   "cell_type": "markdown",
   "metadata": {
    "deletable": false,
    "editable": false
   },
   "source": [
    "**Question 1** Create a `networkx` graph called `test` that represents the example network above and draw out this network.<BR>\n",
    "*[Hint: you can enter this network as an edgelist.]*\n",
    "*[Hint: you can go back to lab 2 and see how to create a networkx graph.]*\n",
    "\n",
    "<!--\n",
    "BEGIN QUESTION\n",
    "name: q1\n",
    "points: 2\n",
    "manual: True\n",
    "-->\n",
    "<!-- EXPORT TO PDF -->"
   ]
  },
  {
   "cell_type": "code",
   "execution_count": 118,
   "metadata": {},
   "outputs": [
    {
     "data": {
      "image/png": "[encoded data removed]",
      "text/plain": [
       "<Figure size 432x288 with 1 Axes>"
      ]
     },
     "metadata": {},
     "output_type": "display_data"
    }
   ],
   "source": [
    "test = nx.parse_edgelist(['1 3', '3 4', '3 2', '3 7', '3 8', '7 8','2 5', '5 6'], nodetype = int)\n",
    "nx.draw_circular(test, with_labels=True)"
   ]
  },
  {
   "cell_type": "markdown",
   "metadata": {},
   "source": [
    "The code below shows us how to tell `networkx` that there is a node attribute called 'color', and it shows us how to explicitly add the color of each node:"
   ]
  },
  {
   "cell_type": "code",
   "execution_count": 80,
   "metadata": {
    "scrolled": false
   },
   "outputs": [
    {
     "data": {
      "image/png": "[encoded data removed]",
      "text/plain": [
       "<Figure size 432x288 with 1 Axes>"
      ]
     },
     "metadata": {},
     "output_type": "display_data"
    }
   ],
   "source": [
    "nx.set_node_attributes(test,                    \n",
    "                       values = {1 : 'blue',\n",
    "                        2 : 'red',\n",
    "                        3 : 'blue',\n",
    "                        4 : 'red',\n",
    "                        5 : 'blue',\n",
    "                        6 : 'red',\n",
    "                        7 : 'red',\n",
    "                        8 : 'blue'},\n",
    "                       name = 'color')\n",
    "\n",
    "node_color=[x[0] for x in nx.get_node_attributes(test, 'color').values()]\n",
    "\n",
    "nx.draw_circular(test, with_labels=True,node_color=node_color) # you should see a network with two kinds of nodes: red and blue"
   ]
  },
  {
   "cell_type": "markdown",
   "metadata": {},
   "source": [
    "See the help page for [`set_node_attributes`](https://networkx.github.io/documentation/networkx-1.9/reference/generated/networkx.classes.function.set_node_attributes.html) for more information on working with attributes."
   ]
  },
  {
   "cell_type": "markdown",
   "metadata": {},
   "source": [
    "You can check the matrix of $e_{ij}$ values by using the function `nx.attribute_mixing_matrix`:"
   ]
  },
  {
   "cell_type": "code",
   "execution_count": 81,
   "metadata": {},
   "outputs": [
    {
     "data": {
      "text/plain": [
       "array([[0.25 , 0.375],\n",
       "       [0.375, 0.   ]])"
      ]
     },
     "execution_count": 81,
     "metadata": {},
     "output_type": "execute_result"
    }
   ],
   "source": [
    "nx.attribute_mixing_matrix(test, 'color')"
   ]
  },
  {
   "cell_type": "markdown",
   "metadata": {},
   "source": [
    "Note that, by default, the order of the columns of the mixing matrix is not specified. If you want to be able to interpret the columns, you can pass in a dictionary that maps the different attributes to column numbers like we do below:"
   ]
  },
  {
   "cell_type": "code",
   "execution_count": 82,
   "metadata": {},
   "outputs": [
    {
     "data": {
      "text/plain": [
       "array([[0.25 , 0.375],\n",
       "       [0.375, 0.   ]])"
      ]
     },
     "execution_count": 82,
     "metadata": {},
     "output_type": "execute_result"
    }
   ],
   "source": [
    "nx.attribute_mixing_matrix(test, 'color', mapping = {'red' : 1, 'blue' : 0})"
   ]
  },
  {
   "cell_type": "markdown",
   "metadata": {},
   "source": [
    "We can calculate the value of the assortativity coefficient using the `nx.attribute_assortativity_coefficient` function:"
   ]
  },
  {
   "cell_type": "code",
   "execution_count": 83,
   "metadata": {},
   "outputs": [
    {
     "data": {
      "text/plain": [
       "-0.6"
      ]
     },
     "execution_count": 83,
     "metadata": {},
     "output_type": "execute_result"
    }
   ],
   "source": [
    "nx.attribute_assortativity_coefficient(test, 'color')"
   ]
  },
  {
   "cell_type": "markdown",
   "metadata": {},
   "source": [
    "Now look at the next example network. Does it look more or less homophilous by color than the one above?"
   ]
  },
  {
   "cell_type": "markdown",
   "metadata": {},
   "source": [
    "<img src='example_network_groups2.png'>"
   ]
  },
  {
   "cell_type": "markdown",
   "metadata": {
    "deletable": false,
    "editable": false
   },
   "source": [
    "**Question 2** Calculate the assortativity coefficient for this network by filling in the missing quantities below:\n",
    "\n",
    "<!--\n",
    "BEGIN QUESTION\n",
    "name: q2\n",
    "points: 8\n",
    "manual: True\n",
    "-->\n",
    "<!-- EXPORT TO PDF -->"
   ]
  },
  {
   "cell_type": "code",
   "execution_count": 84,
   "metadata": {},
   "outputs": [],
   "source": [
    "# 1)                       # fill in these tables to help you calculate\n",
    "#         degree  group\n",
    "# node 1    \n",
    "# node 2    \n",
    "# node 3   \n",
    "# node 4 \n",
    "# node 5   \n",
    "# node 6   \n",
    "# node 7  \n",
    "# node 8   \n",
    "\n",
    "# 2) STUB COUNTS\n",
    "\n",
    "#       blue  red\n",
    "# blue   10     1\n",
    "# red     1     4\n",
    "\n",
    "# 3) STUB TOTALS\n",
    "\n",
    "#       total degree  a_i\n",
    "# blue    11\n",
    "# red      5\n",
    "\n",
    "# 4) e_ij MATRIX\n",
    "\n",
    "#       blue  red\n",
    "# blue 10/16  1/16\n",
    "# red   1/16  4/16"
   ]
  },
  {
   "cell_type": "markdown",
   "metadata": {
    "deletable": false,
    "editable": false
   },
   "source": [
    "**Question 3** Calculate the *assortativity coefficient* of this network based on your tables.\n",
    "\n",
    "<!--\n",
    "BEGIN QUESTION\n",
    "name: q3\n",
    "points: 2\n",
    "manual: False\n",
    "-->"
   ]
  },
  {
   "cell_type": "code",
   "execution_count": 85,
   "metadata": {},
   "outputs": [],
   "source": [
    "assort_coef = (10/16+ 4/16 - (11/16)**2 - (5/16)**2) / (1 - (11/16)**2 - (5/16)**2)"
   ]
  },
  {
   "cell_type": "code",
   "execution_count": 86,
   "metadata": {
    "deletable": false,
    "editable": false
   },
   "outputs": [
    {
     "name": "stdout",
     "output_type": "stream",
     "text": [
      "~~~~~~~~~~~~~~~~~~~~~~~~~~~~~~~~~~~~~~~~~~~~~~~~~~~~~~~~~~~~~~~~~~~~~\n",
      "Running tests\n",
      "\n",
      "---------------------------------------------------------------------\n",
      "Test summary\n",
      "    Passed: 1\n",
      "    Failed: 0\n",
      "[ooooooooook] 100.0% passed\n",
      "\n"
     ]
    }
   ],
   "source": [
    "ok.grade(\"q3\");"
   ]
  },
  {
   "cell_type": "markdown",
   "metadata": {
    "deletable": false,
    "editable": false
   },
   "source": [
    "**Question 4** Now check your answer using the `networkx` package. Build a networkx graph called `test2` first, and then assign the color attributes to the nodes, and finally use the functions to calculate the assortativity coefficient.\n",
    "\n",
    "<!--\n",
    "BEGIN QUESTION\n",
    "name: q4\n",
    "points: 6\n",
    "manual: False\n",
    "-->"
   ]
  },
  {
   "cell_type": "code",
   "execution_count": 87,
   "metadata": {},
   "outputs": [
    {
     "name": "stdout",
     "output_type": "stream",
     "text": [
      "0.7090909090909091\n"
     ]
    }
   ],
   "source": [
    "test2 = nx.parse_edgelist(['1 3','3 2', '3 4', '3 7', '3 8', '2 5', '5 6', '7 8'], nodetype = int) # create the graph\n",
    "\n",
    "nx.set_node_attributes(test2,     # assign the color attributes to the nodes\n",
    "                       values = {1 : 'blue',\n",
    "                                 2 : 'red' ,\n",
    "                                 3 : 'blue', \n",
    "                                 4 : 'blue', \n",
    "                                 5 : 'red' ,\n",
    "                                 6 : 'red' ,\n",
    "                                 7 : 'blue', \n",
    "                                 8 : 'blue'},\n",
    "                       name = 'color')\n",
    "                       \n",
    "assort_coef2 = nx.attribute_assortativity_coefficient(test2, 'color') # get the assortative coefficient with the function in nx module\n",
    "print(assort_coef2)"
   ]
  },
  {
   "cell_type": "code",
   "execution_count": 88,
   "metadata": {
    "deletable": false,
    "editable": false
   },
   "outputs": [
    {
     "name": "stdout",
     "output_type": "stream",
     "text": [
      "~~~~~~~~~~~~~~~~~~~~~~~~~~~~~~~~~~~~~~~~~~~~~~~~~~~~~~~~~~~~~~~~~~~~~\n",
      "Running tests\n",
      "\n",
      "---------------------------------------------------------------------\n",
      "Test summary\n",
      "    Passed: 1\n",
      "    Failed: 0\n",
      "[ooooooooook] 100.0% passed\n",
      "\n"
     ]
    }
   ],
   "source": [
    "ok.grade(\"q4\");"
   ]
  },
  {
   "cell_type": "markdown",
   "metadata": {},
   "source": [
    "### Reading Add Health attributes"
   ]
  },
  {
   "cell_type": "markdown",
   "metadata": {},
   "source": [
    "Recall that the Add Health dataset we have been working with stores information about network connections in an edge list.  The Add Health dataset also has information about the nodes; it has their grade, their gender, and their race/ethnicity. The code below will read all of this information in for you.\n",
    "\n",
    "There are some problems with two of the Add Health networks' node data, so we'll leave those two out. Our set of Add Health networks is thus 82 nodes instead of 84 for today."
   ]
  },
  {
   "cell_type": "code",
   "execution_count": 89,
   "metadata": {},
   "outputs": [],
   "source": [
    "data_path = \"../../data/add-health\"\n",
    "\n",
    "def read_add_health_edges(network_id, path=data_path):\n",
    "    \"\"\"\n",
    "    network_id : integer from 1 to 84\n",
    "    \n",
    "    read in the Add Health network corresponding to the given id number and\n",
    "    return it as an undirected networkx object\n",
    "    \"\"\"\n",
    "\n",
    "    # this file was downloaded from\n",
    "    # http://moreno.ss.uci.edu/data.html#adhealth\n",
    "    edge_file = os.path.join(path, \"comm\" + str(network_id) + \".dat\")\n",
    "    with open(edge_file, 'r') as f:\n",
    "        edge_lines = f.readlines()\n",
    "        \n",
    "    network = nx.parse_edgelist(edge_lines, nodetype=int, data=[('activity_level', float)])\n",
    "    \n",
    "    # note that we call the to_undirected method to ensure we get an undirected network\n",
    "    return(network.to_undirected())\n",
    "\n",
    "def read_add_health_attributes_oneperrow(network_id, net, path=data_path):\n",
    "    \"\"\"\n",
    "    Read in an Add Health attributes file that has one attribute per row\n",
    "    \"\"\"\n",
    "    att_file = os.path.join(path, \"comm\" + str(network_id) + \"_att.dat\")\n",
    "    with open(att_file, 'r') as f:\n",
    "        att_lines = f.readlines()\n",
    "    \n",
    "    # the first 8 lines are meta-info and not actual data\n",
    "    att_lines = att_lines[8:]\n",
    "    \n",
    "    node_races = {}\n",
    "    node_grades = {}\n",
    "    node_sexes = {}\n",
    "\n",
    "    for cur_id in net.nodes():\n",
    "        \n",
    "        print(\"starting node \", cur_id)\n",
    "        \n",
    "        # the attributes are stored one per line for each node in sequence (race / sex / grade)\n",
    "        # so line 0 is node 1's race, line 2 is node 1's sex, line 3 is node 1's grade, line 4 is node 2's race, etc\n",
    "        start_idx = (cur_id-1) * 3\n",
    "        this_race = str.split(g_att[start_idx])[2]\n",
    "        this_sex = str.split(g_att[start_idx+1])[2]\n",
    "        this_grade = str.split(g_att[start_idx+2])[2]\n",
    "    \n",
    "        node_races[cur_id] = this_race\n",
    "        node_grades[cur_id] = this_grade\n",
    "        node_sexes[cur_id] = this_sex\n",
    "    \n",
    "    nx.set_node_attributes(net, 'race', node_races)\n",
    "    nx.set_node_attributes(net, 'grade', node_grades)\n",
    "    nx.set_node_attributes(net, 'sex', node_sexes)\n",
    "    \n",
    "    return(net)\n",
    "\n",
    "def read_add_health_attributes(network_id, net, path=data_path):\n",
    "    \"\"\"\n",
    "    Read in an Add Health attributes file that has one row per node\n",
    "    \"\"\"\n",
    "    \n",
    "    # open up the attributes datafile\n",
    "    att_file = os.path.join(path, \"comm\" + str(network_id) + \"_att.dat\")\n",
    "    with open(att_file, 'r') as f:\n",
    "        att_lines = f.readlines()\n",
    "        \n",
    "    # the first several lines are meta-info and not actual data;\n",
    "    # the data start once we see \"DATA:\\n\"\n",
    "    header_start = att_lines.index(\"COLUMN LABELS:\\n\") + 1\n",
    "    header_end = att_lines.index(\"DATA:\\n\")\n",
    "    data_start = header_end + 1\n",
    "    \n",
    "    # build up a list that maps column index to column name\n",
    "    col_defs = []\n",
    "    # build up a dict that has the data for each variable\n",
    "    col_data = {}\n",
    "    \n",
    "    for colindex, lineidx in enumerate(range(header_start, header_end)):\n",
    "        # strip off the newline and the starting/ending quotes of the column name\n",
    "        this_name = (str.strip(att_lines[lineidx])[1:-1]).lower()\n",
    "        col_defs.append(this_name)\n",
    "        # initialize the data for this column to empty dict\n",
    "        col_data[this_name] = {}  \n",
    "    \n",
    "    att_lines = att_lines[data_start:]\n",
    "    \n",
    "    # for each row (corresponding to one node's data)\n",
    "    # split the columns up and stick them into the appropriate\n",
    "    # dict, with node id as key and attribute value as value\n",
    "    for cur_id in net.nodes():\n",
    "        #print('starting node ', cur_id)\n",
    "        these_data = str.split(att_lines[cur_id - 1])\n",
    "        \n",
    "        for colidx, dat in enumerate(these_data):\n",
    "            col_data[col_defs[colidx]][cur_id] = dat\n",
    "\n",
    "    # take the data and assign it to the nodes in the graph object\n",
    "    for var in col_defs:\n",
    "        nx.set_node_attributes(net,  col_data[var],var)\n",
    "    \n",
    "    return(net)\n",
    "\n",
    "def read_add_health_network(network_id):\n",
    "    \n",
    "    this_net = read_add_health_edges(network_id)\n",
    "    #this_net = read_add_health_attributes(network_id, this_net)\n",
    "    this_net = read_add_health_attributes(network_id, this_net)\n",
    "    \n",
    "    return(this_net)"
   ]
  },
  {
   "cell_type": "markdown",
   "metadata": {},
   "source": [
    "Having loaded those functions, we can use the `read_add_health_network` function to load the datasets into memory:"
   ]
  },
  {
   "cell_type": "code",
   "execution_count": 90,
   "metadata": {},
   "outputs": [],
   "source": [
    "# EXCEPTIONS: networks 1 and 48 have formatting problems, so we'll omit them today\n",
    "# this will take a few secs\n",
    "\n",
    "add_health_ids = [x for x in range(2, 85) if x != 48]\n",
    "add_health_networks = [read_add_health_network(x) for x in add_health_ids]"
   ]
  },
  {
   "cell_type": "markdown",
   "metadata": {},
   "source": [
    "### Exploring network attributes"
   ]
  },
  {
   "cell_type": "markdown",
   "metadata": {},
   "source": [
    "We'll start by looking at the fraction of students in one school that is male."
   ]
  },
  {
   "cell_type": "markdown",
   "metadata": {},
   "source": [
    "Looking at the [dataset information](http://moreno.ss.uci.edu/data.html#adhealth), you can see that the Add Health sex variable has the values 1=male, 2=female, and 0=unreported."
   ]
  },
  {
   "cell_type": "markdown",
   "metadata": {},
   "source": [
    "**Practice** Use the `get_node_attributes` function to grab the sexes of the students in the first school by filling in the code below."
   ]
  },
  {
   "cell_type": "code",
   "execution_count": 91,
   "metadata": {
    "scrolled": true
   },
   "outputs": [
    {
     "data": {
      "text/plain": [
       "{1: '2',\n",
       " 95: '2',\n",
       " 108: '2',\n",
       " 2: '1',\n",
       " 30: '1',\n",
       " 85: '1',\n",
       " 3: '2',\n",
       " 10: '1',\n",
       " 21: '2',\n",
       " 75: '2',\n",
       " 81: '2',\n",
       " 82: '2',\n",
       " 6: '1',\n",
       " 15: '2',\n",
       " 36: '1',\n",
       " 37: '1',\n",
       " 59: '1',\n",
       " 84: '2',\n",
       " 7: '2',\n",
       " 11: '2',\n",
       " 29: '1',\n",
       " 33: '1',\n",
       " 48: '2',\n",
       " 72: '2',\n",
       " 79: '2',\n",
       " 96: '1',\n",
       " 8: '1',\n",
       " 26: '2',\n",
       " 60: '1',\n",
       " 74: '1',\n",
       " 97: '1',\n",
       " 103: '2',\n",
       " 9: '1',\n",
       " 34: '1',\n",
       " 41: '1',\n",
       " 12: '1',\n",
       " 24: '1',\n",
       " 28: '2',\n",
       " 78: '1',\n",
       " 98: '2',\n",
       " 13: '1',\n",
       " 31: '2',\n",
       " 35: '1',\n",
       " 67: '2',\n",
       " 68: '1',\n",
       " 100: '1',\n",
       " 104: '1',\n",
       " 109: '2',\n",
       " 14: '1',\n",
       " 18: '2',\n",
       " 71: '2',\n",
       " 105: '2',\n",
       " 107: '1',\n",
       " 17: '1',\n",
       " 19: '1',\n",
       " 66: '1',\n",
       " 101: '2',\n",
       " 106: '1',\n",
       " 20: '1',\n",
       " 57: '1',\n",
       " 22: '1',\n",
       " 49: '1',\n",
       " 86: '1',\n",
       " 44: '1',\n",
       " 51: '2',\n",
       " 76: '2',\n",
       " 25: '2',\n",
       " 45: '2',\n",
       " 27: '1',\n",
       " 61: '1',\n",
       " 42: '1',\n",
       " 91: '1',\n",
       " 58: '2',\n",
       " 32: '1',\n",
       " 55: '2',\n",
       " 89: '1',\n",
       " 83: '1',\n",
       " 5: '1',\n",
       " 64: '1',\n",
       " 63: '1',\n",
       " 39: '2',\n",
       " 90: '2',\n",
       " 102: '2',\n",
       " 40: '2',\n",
       " 99: '1',\n",
       " 46: '1',\n",
       " 4: '1',\n",
       " 47: '1',\n",
       " 88: '2',\n",
       " 87: '1',\n",
       " 50: '1',\n",
       " 52: '2',\n",
       " 77: '2',\n",
       " 54: '1',\n",
       " 62: '1',\n",
       " 56: '1',\n",
       " 16: '1',\n",
       " 65: '2',\n",
       " 73: '2',\n",
       " 70: '1',\n",
       " 92: '1',\n",
       " 23: '1',\n",
       " 43: '1',\n",
       " 80: '1',\n",
       " 53: '2'}"
      ]
     },
     "execution_count": 91,
     "metadata": {},
     "output_type": "execute_result"
    }
   ],
   "source": [
    "net = add_health_networks[0]\n",
    "sexes = nx.get_node_attributes(net, 'sex')\n",
    "sexes"
   ]
  },
  {
   "cell_type": "markdown",
   "metadata": {},
   "source": [
    "It turns out that the `get_node_attributes` function returns a dictionary, but we will find it easier to work with `numpy` arrays. To convert the dictionary values into an array, use the following code:"
   ]
  },
  {
   "cell_type": "code",
   "execution_count": 92,
   "metadata": {},
   "outputs": [
    {
     "name": "stdout",
     "output_type": "stream",
     "text": [
      "['2' '2' '2' '1' '1' '1' '2' '1' '2' '2' '2' '2' '1' '2' '1' '1' '1' '2'\n",
      " '2' '2' '1' '1' '2' '2' '2' '1' '1' '2' '1' '1' '1' '2' '1' '1' '1' '1'\n",
      " '1' '2' '1' '2' '1' '2' '1' '2' '1' '1' '1' '2' '1' '2' '2' '2' '1' '1'\n",
      " '1' '1' '2' '1' '1' '1' '1' '1' '1' '1' '2' '2' '2' '2' '1' '1' '1' '1'\n",
      " '2' '1' '2' '1' '1' '1' '1' '1' '2' '2' '2' '2' '1' '1' '1' '1' '2' '1'\n",
      " '1' '2' '2' '1' '1' '1' '1' '2' '2' '1' '1' '1' '1' '1' '2']\n"
     ]
    }
   ],
   "source": [
    "sexes_array = np.array(list(sexes.values())) # dictionary -> list -> array\n",
    "print(sexes_array)"
   ]
  },
  {
   "cell_type": "markdown",
   "metadata": {
    "deletable": false,
    "editable": false
   },
   "source": [
    "**Question 5** Calculate the fraction of students in the first school that is male.\n",
    "\n",
    "<!--\n",
    "BEGIN QUESTION\n",
    "name: q2\n",
    "points: 2\n",
    "manual: False\n",
    "-->"
   ]
  },
  {
   "cell_type": "code",
   "execution_count": 93,
   "metadata": {},
   "outputs": [
    {
     "data": {
      "text/plain": [
       "0.6"
      ]
     },
     "execution_count": 93,
     "metadata": {},
     "output_type": "execute_result"
    }
   ],
   "source": [
    "# male_frac = len(np.where(sexes_array == '1')[0]) / len(sexes_array)\n",
    "male_frac = np.mean(sexes_array == '1')\n",
    "male_frac"
   ]
  },
  {
   "cell_type": "code",
   "execution_count": 94,
   "metadata": {
    "deletable": false,
    "editable": false
   },
   "outputs": [
    {
     "name": "stdout",
     "output_type": "stream",
     "text": [
      "~~~~~~~~~~~~~~~~~~~~~~~~~~~~~~~~~~~~~~~~~~~~~~~~~~~~~~~~~~~~~~~~~~~~~\n",
      "Running tests\n",
      "\n",
      "---------------------------------------------------------------------\n",
      "Test summary\n",
      "    Passed: 1\n",
      "    Failed: 0\n",
      "[ooooooooook] 100.0% passed\n",
      "\n"
     ]
    }
   ],
   "source": [
    "ok.grade(\"q2\");"
   ]
  },
  {
   "cell_type": "markdown",
   "metadata": {},
   "source": [
    "**Practice** Now write a loop that calculates the fraction of students that is male in each of the Add Health schools. Store your results in an array called `add_health_frac_male`."
   ]
  },
  {
   "cell_type": "code",
   "execution_count": 95,
   "metadata": {},
   "outputs": [
    {
     "data": {
      "text/plain": [
       "array([0.6       , 0.5       , 0.44839858, 0.50955414, 0.49074074,\n",
       "       0.47619048, 0.50490196, 0.49193548, 0.48082596, 0.47201946,\n",
       "       0.52495697, 0.46636086, 0.49644128, 0.49717514, 0.50257069,\n",
       "       0.46962233, 0.51760563, 0.51422764, 0.48791209, 0.46419098,\n",
       "       0.5228013 , 0.53973013, 0.47362251, 0.48370927, 0.45735027,\n",
       "       0.99657827, 0.49472759, 0.48681898, 0.5       , 0.57256991,\n",
       "       0.48538012, 0.47710116, 0.45737399, 0.44653349, 0.48885794,\n",
       "       0.35656836, 0.48944338, 0.46720484, 0.51148851, 0.44525194,\n",
       "       0.42288557, 0.4683313 , 0.49866903, 0.49038462, 0.51152074,\n",
       "       0.49543147, 0.49681529, 0.48247341, 0.50073206, 0.40046431,\n",
       "       0.46815835, 0.44956772, 0.44642857, 0.47309417, 0.47275775,\n",
       "       0.49737609, 0.4625641 , 0.47944007, 0.4865175 , 0.49000951,\n",
       "       0.47959184, 0.48706897, 0.44007156, 0.50776398, 0.44517544,\n",
       "       0.46087581, 0.46024636, 0.47368421, 0.45945946, 0.58238636,\n",
       "       0.47487745, 0.50457317, 0.48289738, 0.41860465, 0.52      ,\n",
       "       0.49768519, 0.48702929, 0.53535354, 0.48604651, 0.52108108,\n",
       "       0.49842271, 0.45697897])"
      ]
     },
     "execution_count": 95,
     "metadata": {},
     "output_type": "execute_result"
    }
   ],
   "source": [
    "# Like we did in lab2, create an empty array first.\n",
    "add_health_frac_male = make_array()\n",
    "\n",
    "# Then we calculate the fractions and use the for loop to accumulate the records for each network.\n",
    "for net in add_health_networks:\n",
    "    sexes = nx.get_node_attributes(net, 'sex').values()\n",
    "    sexes = np.array(list(sexes))\n",
    "    net_male_frac = np.mean(sexes == '1')\n",
    "    add_health_frac_male = np.append(add_health_frac_male, net_male_frac)\n",
    "    \n",
    "add_health_frac_male"
   ]
  },
  {
   "cell_type": "markdown",
   "metadata": {},
   "source": [
    "**Practice** Make a histogram that shows the distribution of the fraction male across the schools in the sample."
   ]
  },
  {
   "cell_type": "code",
   "execution_count": 96,
   "metadata": {},
   "outputs": [
    {
     "data": {
      "image/png": "[encoded data removed]",
      "text/plain": [
       "<Figure size 432x288 with 1 Axes>"
      ]
     },
     "metadata": {},
     "output_type": "display_data"
    }
   ],
   "source": [
    "Table().with_column('frac_male', add_health_frac_male).hist()"
   ]
  },
  {
   "cell_type": "markdown",
   "metadata": {
    "deletable": false,
    "editable": false
   },
   "source": [
    "**Question 6** Following the pattern you used to calculate the fraction male in each community, write another loop that calculates the assortativity coefficient for sex in each community. Store your results in an array called `add_health_r`.\n",
    "\n",
    "<!--\n",
    "BEGIN QUESTION\n",
    "name: q6\n",
    "points: 4\n",
    "manual: False\n",
    "-->"
   ]
  },
  {
   "cell_type": "code",
   "execution_count": 119,
   "metadata": {},
   "outputs": [
    {
     "data": {
      "text/plain": [
       "array([ 0.14207465,  0.09632572,  0.05316426,  0.03781604,  0.09492771,\n",
       "        0.15066857,  0.08683557,  0.10945906,  0.16117832,  0.10985689,\n",
       "        0.06401593,  0.17960147,  0.07686842,  0.14533151,  0.07817275,\n",
       "        0.08788648,  0.05508658,  0.08292628,  0.13782239,  0.16076421,\n",
       "        0.18349129,  0.08789731,  0.12913338,  0.12408234,  0.14120606,\n",
       "       -0.00237922,  0.13783791,  0.13717341,  0.15202205,  0.30815379,\n",
       "        0.1406675 ,  0.13768224,  0.07269015,  0.1439017 ,  0.09950581,\n",
       "        0.11881835,  0.13886652,  0.1056683 ,  0.10287037,  0.09577148,\n",
       "        0.08751284,  0.11453051,  0.11292649,  0.09841272,  0.0833842 ,\n",
       "        0.09719308,  0.15611561,  0.10838692,  0.16687752,  0.09892444,\n",
       "        0.14685605,  0.1667231 ,  0.27855351,  0.20528251,  0.1144674 ,\n",
       "        0.15651848,  0.16315856,  0.12861718,  0.22189027,  0.26624663,\n",
       "        0.13862468,  0.12229252,  0.10872317,  0.10800383,  0.2562249 ,\n",
       "        0.14127244,  0.09238042, -0.01217532,  0.14761905,  0.12067597,\n",
       "        0.10680126,  0.21808373,  0.09692226, -0.0037926 ,  0.0376502 ,\n",
       "        0.28334687,  0.11735195,  0.21115416,  0.1155822 ,  0.0731042 ,\n",
       "        0.15600645,  0.25812025])"
      ]
     },
     "execution_count": 119,
     "metadata": {},
     "output_type": "execute_result"
    }
   ],
   "source": [
    "add_health_r = make_array()\n",
    "\n",
    "for net in add_health_networks:\n",
    "    net_r = nx.attribute_assortativity_coefficient(net, 'sex')\n",
    "    add_health_r = np.append(add_health_r, net_r)\n",
    "add_health_r"
   ]
  },
  {
   "cell_type": "code",
   "execution_count": 120,
   "metadata": {
    "deletable": false,
    "editable": false
   },
   "outputs": [
    {
     "name": "stdout",
     "output_type": "stream",
     "text": [
      "~~~~~~~~~~~~~~~~~~~~~~~~~~~~~~~~~~~~~~~~~~~~~~~~~~~~~~~~~~~~~~~~~~~~~\n",
      "Running tests\n",
      "\n",
      "---------------------------------------------------------------------\n",
      "Test summary\n",
      "    Passed: 1\n",
      "    Failed: 0\n",
      "[ooooooooook] 100.0% passed\n",
      "\n"
     ]
    }
   ],
   "source": [
    "ok.grade(\"q6\");"
   ]
  },
  {
   "cell_type": "markdown",
   "metadata": {},
   "source": [
    "**Practice** Plot a histogram of the assortativity coefficients across the Add Health networks."
   ]
  },
  {
   "cell_type": "code",
   "execution_count": 99,
   "metadata": {},
   "outputs": [
    {
     "data": {
      "image/png": "[encoded data removed]",
      "text/plain": [
       "<Figure size 432x288 with 1 Axes>"
      ]
     },
     "metadata": {},
     "output_type": "display_data"
    }
   ],
   "source": [
    "Table().with_columns('r', add_health_r).hist()"
   ]
  },
  {
   "cell_type": "markdown",
   "metadata": {},
   "source": [
    "### Generating random networks with random sexes"
   ]
  },
  {
   "cell_type": "markdown",
   "metadata": {},
   "source": [
    "This histogram of assortativity coefficients you just made shows the values that assortativity takes on across all of the different school networks. It seems to suggest that, across all of these networks, the assortativity coefficient for sex tends to be positive.\n",
    "\n",
    "Now let's take a deeper dive, focusin on a specific Add Health network:"
   ]
  },
  {
   "cell_type": "code",
   "execution_count": 100,
   "metadata": {},
   "outputs": [],
   "source": [
    "first_add_health = add_health_networks[0]"
   ]
  },
  {
   "cell_type": "markdown",
   "metadata": {},
   "source": [
    "We'll now go through an analysis to try to assess more rigorously whether or not there is evidence for homophily by sex in this network."
   ]
  },
  {
   "cell_type": "markdown",
   "metadata": {},
   "source": [
    "We can get the assortativity coefficient for sex in `first_add_health` quickly with one function."
   ]
  },
  {
   "cell_type": "code",
   "execution_count": 101,
   "metadata": {},
   "outputs": [
    {
     "data": {
      "text/plain": [
       "0.1420746545679521"
      ]
     },
     "execution_count": 101,
     "metadata": {},
     "output_type": "execute_result"
    }
   ],
   "source": [
    "nx.attribute_assortativity_coefficient(first_add_health, 'sex')"
   ]
  },
  {
   "cell_type": "markdown",
   "metadata": {},
   "source": [
    "We're interested in understanding whether or not there is homophily according to sex in this specific network. The assortativity coefficient is positive, which suggests that there is evidence in favor of homophily. However, we're in a similar situation to the example we saw in lecture: it seems possible that, actually, there is no homophily by sex in this network; rather, the network is assembled as the result of a random process and, just by chance, we happened to get a network that had a positive assortativity coefficient."
   ]
  },
  {
   "cell_type": "markdown",
   "metadata": {},
   "source": [
    "To assess how likely this possibility is, we will set up a **null model** and to compare what we see in the real world to what we would see if the null model were true. Remember that a null model describes the world in the absence of the phenomenon we are interested in; here, it describes a world in which networks are formed without any homophily by sex. The first_add_health network would be the observed network."
   ]
  },
  {
   "cell_type": "markdown",
   "metadata": {},
   "source": [
    "For this null model, we will assume that the network structure is fixed, but that the gender of each node is randomly assigned. (Another way of saying this is that we *condition on* the observed network structure.)\n",
    "\n",
    "We'd like to know what the distribution of assortativity coefficients would look like under this null model. Then we can see how likely (or unlikely) the observed assortativity coefficient would be if the null model were true."
   ]
  },
  {
   "cell_type": "code",
   "execution_count": 102,
   "metadata": {},
   "outputs": [],
   "source": [
    "import random\n",
    "\n",
    "def shuffle_attribute(net, att): # the two inputs are: the network, and the attribute we work with\n",
    "    att_dict = nx.get_node_attributes(net, att) # get the dictionary of the network\n",
    "    \n",
    "    # we want a new copy of the network (we don't want to clobber the original one)\n",
    "    newnet = net.copy()\n",
    "    \n",
    "    # create a dictionary mapping node id to shuffled attribute values\n",
    "    node_ids = att_dict.keys()\n",
    "    att_vals = list(att_dict.values())\n",
    "    random.shuffle(att_vals)\n",
    "    \n",
    "    new_att = dict(zip(node_ids, att_vals)) # create the new dictionary\n",
    "    \n",
    "    # assign the newly shuffled attribute values\n",
    "    nx.set_node_attributes(newnet, name=att, values=new_att)\n",
    "    \n",
    "    return(newnet)"
   ]
  },
  {
   "cell_type": "code",
   "execution_count": 103,
   "metadata": {},
   "outputs": [],
   "source": [
    "### If you have trouble understanding the function above, you could run the following codes and see what they do\n",
    "# dictionary = nx.get_node_attributes(test2, 'color')\n",
    "# dictionary"
   ]
  },
  {
   "cell_type": "code",
   "execution_count": 104,
   "metadata": {},
   "outputs": [],
   "source": [
    "# dictionary.keys()"
   ]
  },
  {
   "cell_type": "code",
   "execution_count": 105,
   "metadata": {},
   "outputs": [],
   "source": [
    "# list(dictionary.values())"
   ]
  },
  {
   "cell_type": "markdown",
   "metadata": {},
   "source": [
    "If you run the following cell a few times, you should see that the sex value is getting shuffled"
   ]
  },
  {
   "cell_type": "code",
   "execution_count": 106,
   "metadata": {},
   "outputs": [
    {
     "data": {
      "text/plain": [
       "'1'"
      ]
     },
     "execution_count": 106,
     "metadata": {},
     "output_type": "execute_result"
    }
   ],
   "source": [
    "test = shuffle_attribute(first_add_health, 'sex')\n",
    "test.nodes[1]['sex']"
   ]
  },
  {
   "cell_type": "markdown",
   "metadata": {
    "deletable": false,
    "editable": false
   },
   "source": [
    "**Question 7** Fill in the code below to reshuffle sex in the `first_add_health` network 1000 times. Record the assortativity coefficient for each reshuffled network.\n",
    "\n",
    "<!--\n",
    "BEGIN QUESTION\n",
    "name: q7\n",
    "points: 4\n",
    "manual: False\n",
    "-->"
   ]
  },
  {
   "cell_type": "code",
   "execution_count": 107,
   "metadata": {},
   "outputs": [
    {
     "data": {
      "text/plain": [
       "array([ 6.66435266e-03, -8.58977879e-02,  1.59774436e-02, -6.62672709e-02,\n",
       "        7.09403554e-02, -6.60187435e-02, -7.18120805e-03, -3.52905074e-02,\n",
       "        1.28455108e-02, -8.54631508e-02, -1.62726961e-02, -4.64767616e-02,\n",
       "       -4.24400693e-02, -6.40243902e-02, -9.02842862e-02,  2.94526609e-02,\n",
       "        1.75541097e-02, -7.81808717e-02, -4.00613053e-02, -7.74496644e-02,\n",
       "        6.38683486e-02,  1.07527325e-01,  1.66677982e-02,  6.97311841e-02,\n",
       "        4.02500000e-02, -1.62884755e-02, -2.21921820e-02, -2.85569106e-02,\n",
       "        7.79316342e-03,  1.27625082e-02, -1.50386607e-02, -2.10927400e-02,\n",
       "        1.69673395e-02,  5.29827078e-02, -3.55822667e-02, -4.97533003e-02,\n",
       "       -7.74496644e-02, -7.33134921e-02, -1.39130289e-02,  3.44152777e-02,\n",
       "        6.47452914e-02, -3.07217055e-02, -7.80191311e-02,  3.45612438e-02,\n",
       "       -1.44304450e-01, -1.04304882e-01,  3.14328808e-02, -3.54751023e-02,\n",
       "        5.14391927e-02,  1.23090562e-02,  6.83784741e-02, -2.81748904e-02,\n",
       "        1.78894472e-02,  2.85151741e-02,  2.69168901e-02, -3.42830201e-02,\n",
       "       -1.43217312e-02,  2.06283498e-02, -4.42349400e-02,  6.48791791e-03,\n",
       "       -5.09839625e-02,  5.22099260e-02, -1.63568398e-01,  5.50300140e-02,\n",
       "        1.25042929e-01,  5.28687370e-02,  1.21545122e-02, -4.42349400e-02,\n",
       "        2.34538613e-02, -5.74301060e-02,  1.93185810e-02, -2.19977730e-02,\n",
       "       -5.31247518e-02,  9.92907801e-03, -8.06507559e-02, -1.75633461e-02,\n",
       "       -4.38880495e-03,  8.46149095e-03,  1.66677982e-02, -2.51295220e-02,\n",
       "        3.39307973e-02, -9.00764975e-02,  4.79894928e-02, -4.80126864e-02,\n",
       "       -1.71859296e-02, -6.69926692e-03, -7.15635333e-02, -1.16657240e-02,\n",
       "       -4.42349400e-02,  2.48121553e-03, -2.92326533e-02, -9.39709217e-02,\n",
       "       -1.55528798e-02,  6.92927796e-02,  9.67673421e-03, -2.21921820e-02,\n",
       "       -2.13813524e-02, -1.95631433e-02, -2.13813524e-02, -2.10177843e-02,\n",
       "       -5.67122542e-02, -6.79991758e-03,  1.42381312e-02,  2.96454106e-02,\n",
       "       -4.71903983e-02,  6.27324060e-02, -7.02695363e-03,  5.39441583e-02,\n",
       "        3.14328808e-02, -7.58468835e-02,  6.50826532e-02,  6.74203494e-02,\n",
       "        5.54642001e-02, -2.44618395e-02, -8.07264266e-02, -6.46610205e-02,\n",
       "        3.96644295e-02,  2.79530201e-02,  3.68100358e-02,  1.45267742e-02,\n",
       "        9.67673421e-03, -7.36646383e-02,  2.42089471e-02,  8.19342360e-02,\n",
       "       -3.61088097e-02,  1.21545122e-02,  1.95957520e-02, -3.05264685e-02,\n",
       "        6.66435266e-03, -7.99003540e-02, -2.82288455e-02, -3.87632187e-02,\n",
       "        3.93711425e-02, -5.94167231e-02, -4.17910448e-02,  3.82925625e-02,\n",
       "        3.54620752e-02,  4.52537904e-02,  7.76380536e-03,  8.15169715e-02,\n",
       "        2.14953271e-02, -4.91192412e-03,  5.32800533e-04,  4.28122282e-02,\n",
       "       -9.78841127e-03,  5.29810812e-02,  5.79661246e-02,  2.09724820e-02,\n",
       "       -6.62672709e-02, -2.65424750e-02, -1.20739428e-01, -9.21956862e-03,\n",
       "       -3.53599503e-02,  2.34538613e-02, -2.15988020e-02,  7.92479295e-02,\n",
       "       -8.93177925e-03, -6.00125681e-02, -5.28968103e-02,  1.71715090e-02,\n",
       "        5.29827078e-02, -1.29198512e-02,  1.76884507e-02, -7.02695363e-03,\n",
       "       -2.87356322e-03,  7.27158792e-02,  7.79316342e-03, -7.57706093e-02,\n",
       "       -7.25207184e-02,  1.90433609e-04,  8.80402010e-02, -7.22521403e-02,\n",
       "       -7.58075148e-04,  1.58903928e-02,  6.46566164e-02,  6.71662896e-04,\n",
       "       -4.77594706e-02,  2.79010354e-03, -6.15516063e-02, -8.28900709e-02,\n",
       "       -5.49237147e-02, -6.60887513e-02, -3.07217055e-02, -3.89061959e-02,\n",
       "        2.85151741e-02,  6.46566164e-02, -1.29391625e-02,  4.37329034e-04,\n",
       "        1.87330623e-02, -4.39236329e-02,  2.95812395e-02, -5.70299744e-02,\n",
       "       -4.96240602e-02, -4.74189676e-02,  4.53020134e-03, -6.72515353e-02,\n",
       "       -8.46950976e-03, -2.35042918e-02,  2.73217195e-03, -7.09901800e-02,\n",
       "        3.86908581e-02, -7.97179653e-02,  3.67799565e-02, -4.27570575e-02,\n",
       "       -5.09865005e-02, -3.42830201e-02, -1.02071143e-01,  3.58844257e-02,\n",
       "       -5.31247518e-02,  3.58557828e-02, -4.96240602e-02, -7.81808717e-02,\n",
       "       -4.32935623e-02, -2.64961739e-02, -3.70386509e-03,  1.17921147e-02,\n",
       "        1.40986647e-02,  3.91120507e-03,  1.10092285e-01,  1.66677982e-02,\n",
       "        7.48435438e-03, -3.55822667e-02, -3.85575761e-03, -1.66946779e-02,\n",
       "       -3.07217055e-02,  1.24081395e-02, -4.77783086e-04, -1.40435835e-02,\n",
       "       -7.25207184e-02, -6.85854256e-02,  1.00136705e-02, -1.43217312e-02,\n",
       "        6.18279570e-02,  8.46224236e-03,  5.83854954e-02,  8.53026798e-02,\n",
       "        4.37329034e-04, -5.21411442e-02, -3.01338986e-02, -4.03794038e-02,\n",
       "        7.27158792e-02,  2.15368931e-02,  4.42720219e-02, -3.29809725e-02,\n",
       "       -6.76564377e-02, -7.55007704e-02, -8.08154540e-04, -6.87846982e-02,\n",
       "       -6.54420004e-02,  6.69164290e-02,  5.31286489e-02,  4.68539406e-02,\n",
       "        2.23405000e-02, -5.21742215e-02,  9.22368948e-02,  9.56082924e-02,\n",
       "       -5.83996966e-03, -1.00952331e-02,  8.77520538e-02,  5.54642001e-02,\n",
       "       -4.80126864e-02,  5.24227235e-02,  5.50300140e-02,  4.84692307e-02,\n",
       "        3.53203914e-02, -1.46380250e-01,  7.62357330e-02,  5.77304852e-02,\n",
       "       -6.01589910e-02,  7.54350742e-02, -4.73816730e-02,  2.81258702e-02,\n",
       "       -1.86128677e-02, -5.23682949e-02,  4.47849304e-02, -4.11326002e-02,\n",
       "        4.57963090e-02,  2.26398542e-02,  1.59774436e-02,  4.56849406e-02,\n",
       "        1.08377034e-01, -6.28268785e-02, -4.24400693e-02,  3.61778514e-02,\n",
       "       -3.56168925e-02,  5.08155008e-02,  1.86232125e-03, -3.24055399e-02,\n",
       "       -2.59037424e-02,  4.45609869e-02, -2.81748904e-02, -6.02043634e-02,\n",
       "       -1.05190925e-02,  3.06295150e-03, -2.19977730e-02,  7.92479295e-02,\n",
       "        9.64167357e-02,  3.32757752e-02, -5.55925231e-02, -3.56168925e-02,\n",
       "       -8.12958847e-02,  5.98468851e-02, -5.92164941e-02, -9.47738754e-02,\n",
       "       -4.00613053e-02, -5.49237147e-02,  3.12571842e-02,  1.01197563e-02,\n",
       "       -3.77153710e-03,  5.21433387e-03, -6.20311167e-02, -1.76029058e-02,\n",
       "       -9.36510123e-03,  1.13231518e-01,  4.09165303e-04, -8.46950976e-03,\n",
       "       -1.02685624e-01,  3.61914143e-02, -8.88666173e-02,  5.99789778e-02,\n",
       "       -1.26587990e-01,  4.31435991e-02, -2.10927400e-02, -6.95426686e-02,\n",
       "       -3.77639013e-02, -5.90902891e-02,  8.99608866e-02, -4.35286086e-02,\n",
       "        4.77158772e-02, -5.47427708e-02, -1.76041798e-02, -8.81894409e-02,\n",
       "       -3.07713442e-02,  1.32666377e-02, -4.14119360e-02,  6.99333763e-02,\n",
       "       -3.26162629e-02,  5.18579573e-03, -7.33526584e-02, -3.07217055e-02,\n",
       "        1.58761941e-02, -7.35942021e-02,  1.32327194e-01, -4.92599445e-02,\n",
       "       -2.87356322e-03,  2.19299377e-02, -3.53599503e-02,  2.56427611e-02,\n",
       "       -2.68258913e-02,  4.01057102e-03, -9.47429567e-02,  3.46267005e-02,\n",
       "       -5.31247518e-02, -6.40972936e-02, -5.54958262e-02, -1.38414217e-02,\n",
       "       -5.31247518e-02, -2.97154900e-02,  1.16843242e-01, -4.52195836e-02,\n",
       "       -9.23317684e-02, -2.05957305e-02, -6.88403651e-02,  5.51549320e-03,\n",
       "       -7.34791524e-02,  4.82042230e-03, -1.86128677e-02,  9.92907801e-03,\n",
       "       -1.38414217e-02, -3.70386509e-03,  5.00286007e-03, -1.07765879e-02,\n",
       "        9.76628275e-04,  3.15770987e-02, -4.66278819e-03,  4.80087289e-02,\n",
       "       -2.64980347e-02, -8.88860159e-02, -8.79367841e-02, -1.75633461e-02,\n",
       "       -6.10152715e-02, -3.57809791e-02,  1.40986647e-02, -8.14626085e-02,\n",
       "       -4.23883279e-05, -5.00676133e-02, -1.17539199e-01, -5.27903469e-02,\n",
       "        1.12636664e-01,  3.27944573e-02,  1.04216862e-01,  2.42089471e-02,\n",
       "        2.15368931e-02,  3.13128992e-02, -4.91192412e-03, -4.24400693e-02,\n",
       "       -3.80743606e-02,  2.24089636e-02,  8.16605511e-03,  2.62538658e-02,\n",
       "       -4.40206054e-03, -3.34091928e-02,  9.06892588e-02,  3.74598520e-02,\n",
       "       -3.97863482e-03, -7.58468835e-02,  2.79530201e-02,  4.82873296e-02,\n",
       "       -5.00676133e-02, -9.23317684e-02,  8.15789474e-02, -1.25050020e-02,\n",
       "       -8.94177760e-03,  5.90027313e-02,  1.54011136e-02, -1.29391625e-02,\n",
       "       -4.17910448e-02, -3.89404351e-02, -2.04678363e-02, -6.62638333e-02,\n",
       "       -3.87985818e-03, -6.76980901e-02, -4.32443204e-02, -2.60912413e-02,\n",
       "       -6.38341351e-02,  4.57963090e-02, -5.57690939e-02, -2.81748904e-02,\n",
       "        1.67909642e-02, -7.02695363e-03, -2.19977730e-02,  2.86567266e-03,\n",
       "       -1.95631433e-02,  3.45781466e-02,  5.29648241e-02, -2.64705882e-02,\n",
       "        5.64161986e-02,  1.46674012e-02,  4.54132366e-02,  4.35080507e-02,\n",
       "        4.01285705e-02, -1.05043723e-01, -6.79991758e-03, -8.52045368e-02,\n",
       "        3.35756317e-02, -2.52354674e-02, -4.27570575e-02, -3.09274681e-02,\n",
       "       -4.19984076e-02,  2.41300746e-02, -1.09353307e-01, -9.36661798e-02,\n",
       "       -3.73350732e-02, -4.48390828e-02, -2.74635152e-02,  2.52757995e-02,\n",
       "       -3.89061959e-02,  7.93764988e-02, -5.72482991e-02, -3.14646940e-02,\n",
       "        5.29810812e-02, -3.29659114e-02,  5.22099260e-02, -3.06040268e-02,\n",
       "        7.76380536e-03,  9.67673421e-03,  5.39973001e-03,  6.71662896e-04,\n",
       "       -2.66528210e-03, -2.33906165e-02, -5.44164573e-02, -6.42034811e-04,\n",
       "       -7.21966206e-02, -3.05264685e-02, -7.67005098e-02, -3.56168925e-02,\n",
       "       -5.85686430e-02,  3.39307973e-02,  6.62207358e-02, -2.93683900e-02,\n",
       "        4.37329034e-04,  1.95957520e-02,  5.95174395e-03, -2.10177843e-02,\n",
       "       -1.20132560e-02, -1.43217312e-02, -2.50701704e-02,  7.22621916e-02,\n",
       "        1.72157968e-01, -4.60362363e-02, -4.00613053e-02, -3.61088097e-02,\n",
       "       -2.72259014e-02, -4.31368576e-02,  2.94526609e-02,  6.66435266e-03,\n",
       "       -2.08978904e-02, -2.50701704e-02, -8.99585851e-02, -2.68258913e-02,\n",
       "       -2.57689679e-02, -3.80743606e-02, -4.64767616e-02,  2.14805770e-02,\n",
       "       -4.06746032e-03,  1.45267742e-02, -2.96771954e-02, -4.48390828e-02,\n",
       "        6.01892285e-02, -4.07584572e-02,  2.26398542e-02,  8.92494929e-03,\n",
       "       -1.56084656e-02, -3.55822667e-02, -3.31149927e-03, -2.92326533e-02,\n",
       "       -1.61323387e-03,  8.46149095e-03,  2.36272540e-02,  7.67195767e-02,\n",
       "       -3.55468518e-02,  5.67567568e-02,  7.97160243e-02, -3.87632187e-02,\n",
       "        7.63960260e-03, -2.10177843e-02, -5.42325255e-02, -2.51976676e-02,\n",
       "       -3.29595128e-02,  3.77618597e-02, -9.10080787e-02, -2.64705882e-02,\n",
       "       -7.35942021e-02,  3.11392066e-02, -2.78283875e-02, -5.49237147e-02,\n",
       "       -4.23883279e-05, -2.87265676e-02, -7.09901800e-02,  1.30917470e-02,\n",
       "        2.61956136e-02, -1.55528798e-02, -4.74459127e-02, -1.16657240e-02,\n",
       "       -2.84902547e-02, -1.67344173e-02, -6.88403651e-02, -4.40206054e-03,\n",
       "        8.14326787e-02, -5.40024194e-02, -5.09483955e-02, -7.05799776e-02,\n",
       "        2.43789499e-02, -6.81899068e-02, -3.77077984e-02, -6.81899068e-02,\n",
       "        3.33970520e-02, -9.26681551e-02,  1.33666000e-01,  5.77304852e-02,\n",
       "       -2.19977730e-02, -3.07095482e-02,  1.26053070e-02, -1.04271537e-01,\n",
       "        5.71266722e-02, -3.76965140e-02, -7.68541263e-02, -8.29207104e-02,\n",
       "       -2.74171810e-02, -1.62726961e-02, -4.48390828e-02, -1.88743296e-02,\n",
       "        1.30917470e-02, -1.10889111e-02,  5.71173697e-02, -4.32443204e-02,\n",
       "        3.05555556e-02,  2.43789499e-02, -2.85882700e-02, -4.60062728e-03,\n",
       "        7.71105369e-02, -1.67344173e-02,  1.57974282e-02, -8.65867495e-02,\n",
       "        6.64760062e-02,  9.13326482e-02, -1.91387560e-03, -6.89306008e-02,\n",
       "       -7.10513153e-02,  2.02197951e-03, -2.29265506e-02, -6.62672709e-02,\n",
       "       -1.90564008e-02, -5.05719446e-02, -1.26037238e-01,  9.35064935e-02,\n",
       "        4.34647705e-02,  1.41903758e-01,  2.23405000e-02, -3.26162629e-02,\n",
       "        2.89160842e-02,  5.92424051e-03, -5.02860747e-02, -4.63860798e-02,\n",
       "        9.13326482e-02,  2.91572223e-02,  1.77177571e-02, -2.65424750e-02,\n",
       "        1.43441100e-02, -4.31368576e-02,  1.75541097e-02, -4.73816730e-02,\n",
       "       -6.90615427e-02, -7.21966206e-02,  3.90371719e-02, -3.77639013e-02,\n",
       "        6.66435266e-03,  9.76628275e-04, -1.09060388e-01,  5.28687370e-02,\n",
       "        3.33970520e-02,  9.76389739e-02, -2.07178165e-03,  7.47486572e-02,\n",
       "       -6.42034811e-04, -7.51471097e-02, -4.21777686e-02,  7.63960260e-03,\n",
       "        2.60600744e-02, -6.40243902e-02,  2.61135191e-02,  1.83861083e-03,\n",
       "        1.90145503e-02, -4.03794038e-02, -5.94167231e-02, -5.09483955e-02,\n",
       "        3.22984589e-02,  5.07161548e-02, -1.75633461e-02, -4.93321863e-02,\n",
       "        3.12571842e-02,  1.09932886e-01, -7.51471097e-02,  9.93707579e-02,\n",
       "        1.45219847e-02, -5.97881099e-02, -3.54751023e-02,  1.27298444e-02,\n",
       "        1.53214286e-02, -2.45068936e-02, -7.77628613e-03,  1.72863367e-02,\n",
       "       -4.31654676e-03, -6.39538737e-02, -2.10177843e-02, -1.91462157e-02,\n",
       "       -8.23882449e-02,  5.06325865e-02, -5.90569561e-02, -1.71859296e-02,\n",
       "       -4.64767616e-02,  2.17324839e-03,  6.51143623e-02, -4.14119360e-02,\n",
       "       -3.16527169e-02,  3.61088380e-02,  2.42089471e-02, -5.21411442e-02,\n",
       "       -6.15516063e-02, -3.63404977e-02, -2.59037424e-02, -3.54751023e-02,\n",
       "       -4.97533003e-02, -5.09865005e-02,  4.56559363e-02, -9.36510123e-03,\n",
       "       -4.17910448e-02, -8.67013472e-04, -5.05719446e-02,  3.62101141e-02,\n",
       "        1.06676613e-02,  1.00392113e-02, -5.44164573e-02,  3.46267005e-02,\n",
       "       -3.29595128e-02,  2.15368931e-02, -1.62884755e-02,  1.62085976e-02,\n",
       "       -4.80126864e-02, -3.38836958e-02, -4.41374210e-02,  1.86232125e-03,\n",
       "        5.28687370e-02, -3.82691007e-02, -3.09274681e-02, -5.48359240e-02,\n",
       "       -1.76041798e-02,  2.67491296e-02,  5.51549320e-03, -2.04678363e-02,\n",
       "       -2.93683900e-02,  2.14953271e-02, -1.47455867e-02, -7.77628613e-03,\n",
       "       -5.09194126e-02,  5.31286489e-02, -2.66014046e-03,  1.75541097e-02,\n",
       "       -8.06507559e-02, -7.16845878e-04,  6.25743150e-02, -2.97154900e-02,\n",
       "        6.98037774e-02, -8.39233235e-02, -8.23882449e-02, -5.21411442e-02,\n",
       "        6.66435266e-03, -4.17910448e-02, -3.42830201e-02, -6.46610205e-02,\n",
       "        3.44152777e-02,  1.62085976e-02, -9.70646956e-02,  7.93764988e-02,\n",
       "       -4.40206054e-03,  5.18579573e-03,  9.58549223e-02,  4.34647705e-02,\n",
       "       -2.64705882e-02, -1.85066553e-02, -2.72259014e-02,  3.05555556e-02,\n",
       "       -2.44618395e-02, -1.00952331e-02,  9.98379016e-03,  3.92248020e-02,\n",
       "        1.78894472e-02, -3.33976036e-02, -5.92164941e-02, -6.02043634e-02,\n",
       "        1.13228534e-02, -8.14626085e-02, -8.12099694e-02,  1.76884507e-02,\n",
       "        4.35080507e-02, -2.29604299e-02,  1.71279347e-02,  3.96644295e-02,\n",
       "        4.11453161e-02, -2.51976676e-02, -2.06835800e-02,  3.11392066e-02,\n",
       "       -4.96240602e-02, -2.59037424e-02, -4.23154362e-02, -1.91387560e-03,\n",
       "        5.27142857e-02, -1.14907256e-02, -5.43029767e-02, -2.87265676e-02,\n",
       "        3.82731170e-02, -2.81748904e-02,  6.07470471e-02, -9.22952041e-02,\n",
       "       -1.62726961e-02,  2.26398542e-02,  8.15789474e-02, -1.18772095e-02,\n",
       "        1.93707693e-02,  3.03531057e-02, -5.37503673e-02, -7.77628613e-03,\n",
       "       -3.33976036e-02,  3.96644295e-02, -6.60187435e-02, -1.09036743e-01,\n",
       "        9.07694456e-04, -2.87265676e-02, -8.14626085e-02,  8.30030659e-03,\n",
       "        4.35974091e-02,  6.19765494e-03, -7.10513153e-02, -1.40435835e-02,\n",
       "        7.47354497e-03, -4.99056306e-02,  2.48121553e-03, -5.84830287e-02,\n",
       "       -4.77594706e-02,  1.93185810e-02,  7.16109811e-02,  1.45219847e-02,\n",
       "       -1.61730062e-02, -6.26359287e-02, -4.08624008e-02, -4.23883279e-05,\n",
       "       -8.89417261e-02,  1.77177571e-02,  3.14328808e-02, -3.45357143e-02,\n",
       "       -4.17910448e-02, -1.15912096e-01, -5.44164573e-02, -3.29564350e-02,\n",
       "       -4.91192412e-03, -1.60970656e-01, -7.33686494e-03,  3.29731227e-02,\n",
       "       -2.65424750e-02, -1.16657240e-02, -8.83043510e-02,  1.62571703e-02,\n",
       "        2.69602041e-02,  2.29252060e-02, -1.10889111e-02,  7.38926311e-02,\n",
       "       -3.97863482e-03,  4.64480874e-02, -4.01849949e-02,  1.45219847e-02,\n",
       "        4.72704961e-03, -6.08584241e-03, -1.42512142e-01, -8.28900709e-02,\n",
       "       -1.17382546e-01,  3.44152777e-02, -1.61323387e-03, -6.75933131e-02,\n",
       "        2.85059901e-02, -1.40726413e-02, -7.44332759e-02, -2.65424750e-02,\n",
       "       -2.64705882e-02, -1.07765879e-02,  1.67909642e-02, -5.76020269e-02,\n",
       "        2.50748254e-02, -2.64961739e-02, -6.14631942e-02, -7.35942021e-02,\n",
       "        3.63497603e-02, -3.07217055e-02,  3.44754203e-02,  4.59316570e-02,\n",
       "       -5.43536701e-02, -1.48973471e-02,  6.24864603e-02,  5.80296896e-02,\n",
       "        4.31435991e-02, -6.48222366e-02,  4.77158772e-02,  5.61189993e-02,\n",
       "        6.14495092e-02,  2.02197951e-03, -1.62726961e-02,  2.81258702e-02,\n",
       "       -2.74635152e-02,  4.64073460e-03, -2.20714286e-02, -2.64705882e-02,\n",
       "       -8.08191808e-02,  3.79857469e-02, -3.70386509e-03, -1.68372797e-01,\n",
       "        2.15368931e-02, -7.36646383e-02, -2.56345668e-02,  4.21222849e-02,\n",
       "       -1.07765879e-02,  5.71173697e-02,  4.52572108e-02, -2.38807722e-02,\n",
       "       -5.44949670e-03,  4.84692307e-02,  2.85151741e-02, -1.39824454e-01,\n",
       "       -8.99079553e-02, -1.58699725e-02, -5.28968103e-02, -1.66946779e-02,\n",
       "       -9.78841127e-03, -8.81894409e-02, -5.19477202e-02,  1.29645241e-01,\n",
       "        1.95957520e-02, -2.21921820e-02, -8.76693767e-02, -9.10992645e-04,\n",
       "        1.42381312e-02, -5.69131161e-02, -1.00952331e-02, -1.17655249e-01,\n",
       "       -2.07178165e-03, -7.36646383e-02, -6.67105719e-02, -7.13875335e-02,\n",
       "       -4.80126864e-02, -3.80743606e-02,  8.91744515e-02,  6.69164290e-02,\n",
       "       -1.03307665e-02, -1.22118234e-01,  2.96454106e-02, -3.77639013e-02,\n",
       "       -6.40972936e-02, -2.33769703e-03, -3.53599503e-02, -4.48390828e-02,\n",
       "        6.81377365e-02, -4.91192412e-03,  5.79828941e-02,  2.39135979e-02,\n",
       "       -4.81565866e-02, -2.10927400e-02,  2.19412167e-02, -5.09483955e-02,\n",
       "       -8.72274143e-02, -2.87356322e-03, -9.21956862e-03,  9.93707579e-02,\n",
       "        1.05935955e-01, -3.26162629e-02, -9.75827876e-03,  1.08644308e-02,\n",
       "       -4.73816730e-02,  4.77158772e-02, -8.54066986e-02,  2.50748254e-02,\n",
       "        3.39307973e-02,  5.79325167e-02, -5.42325255e-02,  4.53020134e-03,\n",
       "       -2.07178165e-03, -9.21956862e-03, -1.18772095e-02, -2.64705882e-02,\n",
       "       -6.02043634e-02,  1.23090562e-02,  1.46674012e-02,  4.12730318e-02,\n",
       "       -2.25298040e-02, -1.15659807e-01,  8.65100671e-02, -3.10912985e-02,\n",
       "       -4.81565866e-02,  8.92494929e-03, -5.92164941e-02,  2.19299377e-02,\n",
       "        1.43961232e-02, -9.00944725e-02,  1.77177571e-02,  4.44139525e-03,\n",
       "       -2.59037424e-02, -4.17910448e-02, -7.02695363e-03, -1.04204940e-01,\n",
       "       -3.14646940e-02, -6.44015266e-02, -2.90145258e-03, -5.75757576e-02,\n",
       "       -7.69312620e-02, -3.29595128e-02,  1.86232125e-03, -6.02043634e-02,\n",
       "       -5.67122542e-02,  5.60182219e-02,  1.27298444e-02,  6.51785714e-02,\n",
       "       -3.54751023e-02, -3.07217055e-02,  7.82184464e-02,  9.01071429e-02,\n",
       "        2.95812395e-02,  8.64577720e-02, -3.62372630e-02, -6.30668051e-02,\n",
       "        4.01057102e-03, -2.74635152e-02,  9.67673421e-03, -4.25690814e-02,\n",
       "       -3.73561047e-02, -8.31940964e-03, -4.42349400e-02, -9.74842767e-02,\n",
       "       -4.71903983e-02, -5.44949670e-03, -6.40243902e-02, -7.15635333e-02,\n",
       "       -4.63860798e-02, -4.66278819e-03, -7.33686494e-03,  3.82731170e-02,\n",
       "       -2.94985251e-02, -1.18665227e-01, -1.06870824e-01,  2.81258702e-02,\n",
       "       -2.81694803e-02, -2.71494709e-02,  3.38099382e-02,  8.92494929e-03])"
      ]
     },
     "execution_count": 107,
     "metadata": {},
     "output_type": "execute_result"
    }
   ],
   "source": [
    "null_network_r = make_array()\n",
    "for _ in range(1000):\n",
    "    cur_net = shuffle_attribute(first_add_health, 'sex')\n",
    "    null_network_r = np.append(null_network_r, nx.attribute_assortativity_coefficient(cur_net, 'sex'))\n",
    "null_network_r"
   ]
  },
  {
   "cell_type": "code",
   "execution_count": 108,
   "metadata": {
    "deletable": false,
    "editable": false
   },
   "outputs": [
    {
     "name": "stdout",
     "output_type": "stream",
     "text": [
      "~~~~~~~~~~~~~~~~~~~~~~~~~~~~~~~~~~~~~~~~~~~~~~~~~~~~~~~~~~~~~~~~~~~~~\n",
      "Running tests\n",
      "\n",
      "---------------------------------------------------------------------\n",
      "Test summary\n",
      "    Passed: 1\n",
      "    Failed: 0\n",
      "[ooooooooook] 100.0% passed\n",
      "\n"
     ]
    }
   ],
   "source": [
    "ok.grade(\"q7\");"
   ]
  },
  {
   "cell_type": "markdown",
   "metadata": {},
   "source": [
    "**Practice** Make a histogram of the `er_network_r` values. What value is the assortativity coefficient centered on?"
   ]
  },
  {
   "cell_type": "code",
   "execution_count": 109,
   "metadata": {},
   "outputs": [
    {
     "data": {
      "image/png": "[encoded data removed]",
      "text/plain": [
       "<Figure size 432x288 with 1 Axes>"
      ]
     },
     "metadata": {},
     "output_type": "display_data"
    }
   ],
   "source": [
    "Table().with_column('null_network_r', null_network_r).hist()"
   ]
  },
  {
   "cell_type": "markdown",
   "metadata": {
    "collapsed": true
   },
   "source": [
    "Now let's calculate the assortative coefficient of the observed network (first_add_health) and name it as observed_r."
   ]
  },
  {
   "cell_type": "code",
   "execution_count": 110,
   "metadata": {},
   "outputs": [
    {
     "data": {
      "text/plain": [
       "0.1420746545679521"
      ]
     },
     "execution_count": 110,
     "metadata": {},
     "output_type": "execute_result"
    }
   ],
   "source": [
    "observed_r = nx.attribute_assortativity_coefficient(first_add_health, 'sex')\n",
    "observed_r"
   ]
  },
  {
   "cell_type": "markdown",
   "metadata": {
    "deletable": false,
    "editable": false
   },
   "source": [
    "**Question 8** Where in the null distribution does the observed value fall? What does this suggest about how likely the observed value is to have been generated from the null model?\n",
    "\n",
    "<!--\n",
    "BEGIN QUESTION\n",
    "name: q8\n",
    "points: 2\n",
    "manual: True\n",
    "-->\n",
    "<!-- EXPORT TO PDF -->"
   ]
  },
  {
   "cell_type": "code",
   "execution_count": 111,
   "metadata": {},
   "outputs": [],
   "source": [
    "# In null distribution, the observed value fall at 0.00.\n",
    "# The probability of the obseved value is to be generated from the null model is quite small."
   ]
  },
  {
   "cell_type": "markdown",
   "metadata": {
    "deletable": false,
    "editable": false
   },
   "source": [
    "**Question 9** What does this result say about the null model and the alternative model? What will you conclude from this test?<BR>\n",
    "*[Hint: you can look at the [Data 8 lecture slides](http://data8.org/fa16/lectures/lec19.pdf) if you don't remember what the null model is.]*\n",
    "\n",
    "<!--\n",
    "BEGIN QUESTION\n",
    "name: q9\n",
    "points: 2\n",
    "manual: True\n",
    "-->\n",
    "<!-- EXPORT TO PDF -->"
   ]
  },
  {
   "cell_type": "code",
   "execution_count": 112,
   "metadata": {},
   "outputs": [],
   "source": [
    "# From the comparison of the actual convergence coefficient distribution map and the convergence coefficient map\n",
    "# generated by the empty model, we can find that the convergence coefficient is obviously higher than that of the\n",
    "# randomly generated null model in the real community environment. This shows that it is more reliable to build \n",
    "# relationships between homosexualities obtained by the convergence factor in 82 communities, rather than randomly\n",
    "# generated structures."
   ]
  },
  {
   "cell_type": "markdown",
   "metadata": {},
   "source": [
    "**Practice** Now calculate an empirical $p$ value based on your null and alternative hypotheses."
   ]
  },
  {
   "cell_type": "code",
   "execution_count": 113,
   "metadata": {},
   "outputs": [
    {
     "data": {
      "text/plain": [
       "0.001"
      ]
     },
     "execution_count": 113,
     "metadata": {},
     "output_type": "execute_result"
    }
   ],
   "source": [
    "emp_p_value = np.mean(null_network_r >= observed_r)\n",
    "emp_p_value"
   ]
  },
  {
   "cell_type": "markdown",
   "metadata": {},
   "source": [
    "The simulations show that in networks with the same structure as our observed network, but in which sex is randomly assigned, the  assortativity coefficient for sex has about a 0.3% chance of being more extreme than the observed assortativity in the Add Health network.  \n",
    "So, using a conventional 5% threshold, **we would reject the null hypothesis**."
   ]
  },
  {
   "cell_type": "markdown",
   "metadata": {},
   "source": [
    "### Optional footnote\n",
    "\n",
    "To see why the simple null model we discussed in lecture implies that the average degree of girls and boys is the same, let's start by recalling that the average degree among girls can be written as\n",
    "\n",
    "$$\n",
    "\\text{avg. degree among girls} = \\frac{\\text{sum of girls' degrees}}{\\text{number of girls}}\n",
    "$$\n",
    "\n",
    "and a similar expression holds for the average degree among boys.\n",
    "\n",
    "Now let's think about how much each of the three types of edges (b-b, b-g, and g-g) will add to the total degrees:\n",
    "\n",
    "| edge type | probability | added to boys' total degree | added to girls' total degree |\n",
    "|-----------|-------------| -----------------|---------------------------|\n",
    "| b-b | $p^2$ |  2 | 0 |\n",
    "| b-g | $2pq$ | 1 | 1 |\n",
    "| g-g | $q^2$  | 0 | 2 |\n",
    "\n",
    "Using the table above, we can determine the expected total degree of girls under this model: if we draw $k$ degrees in total, then we expect $q^2 k$ g-g edges and $2pq k$ g-b edges. So we have\n",
    "\n",
    "$$\n",
    "\\text{expected total girls' degree} = 2 q^2 k + 2pqk = 2qk(q + p) = 2qk.\n",
    "$$\n",
    "\n",
    "The last step follows because $q = 1-p$, so that $q+p = 1$.\n",
    "To calculate, the average degree among girls, we need to divide this total degree by the number of girls. If there are $N$ people in the population, then we expect $Nq$ to be girls (since $q$ is the proportion of the population that is girls). So this means\n",
    "\n",
    "$$\n",
    "\\text{expected avg. degree among girls} = \\frac{2qk}{Nq} = \\frac{2k}{N}.\n",
    "$$\n",
    "\n",
    "\n",
    "Using the same logic, we can determine that \n",
    "\n",
    "$$\n",
    "\\text{expected total boys' degree} = 2 p^2 k + 2pqk = 2pk(q + p) = 2pk.\n",
    "$$\n",
    "\n",
    "and so\n",
    "\n",
    "$$\n",
    "\\text{expected avg. degree among boys} = \\frac{2pk}{Np} = \\frac{2k}{N}.\n",
    "$$\n",
    "\n",
    "This is the same as the expected average degree among girls.\n"
   ]
  },
  {
   "cell_type": "markdown",
   "metadata": {},
   "source": [
    "### Rerun the tests"
   ]
  },
  {
   "cell_type": "code",
   "execution_count": 114,
   "metadata": {},
   "outputs": [
    {
     "name": "stdout",
     "output_type": "stream",
     "text": [
      "Running all tests...\n",
      "~~~~~~~~~~~~~~~~~~~~~~~~~~~~~~~~~~~~~~~~~~~~~~~~~~~~~~~~~~~~~~~~~~~~~\n",
      "Running tests\n",
      "\n",
      "---------------------------------------------------------------------\n",
      "Test summary\n",
      "    Passed: 1\n",
      "    Failed: 0\n",
      "[ooooooooook] 100.0% passed\n",
      "\n",
      "~~~~~~~~~~~~~~~~~~~~~~~~~~~~~~~~~~~~~~~~~~~~~~~~~~~~~~~~~~~~~~~~~~~~~\n",
      "Running tests\n",
      "\n",
      "---------------------------------------------------------------------\n",
      "Test summary\n",
      "    Passed: 1\n",
      "    Failed: 0\n",
      "[ooooooooook] 100.0% passed\n",
      "\n",
      "~~~~~~~~~~~~~~~~~~~~~~~~~~~~~~~~~~~~~~~~~~~~~~~~~~~~~~~~~~~~~~~~~~~~~\n",
      "Running tests\n",
      "\n",
      "---------------------------------------------------------------------\n",
      "Test summary\n",
      "    Passed: 1\n",
      "    Failed: 0\n",
      "[ooooooooook] 100.0% passed\n",
      "\n",
      "~~~~~~~~~~~~~~~~~~~~~~~~~~~~~~~~~~~~~~~~~~~~~~~~~~~~~~~~~~~~~~~~~~~~~\n",
      "Running tests\n",
      "\n",
      "---------------------------------------------------------------------\n",
      "Test summary\n",
      "    Passed: 1\n",
      "    Failed: 0\n",
      "[ooooooooook] 100.0% passed\n",
      "\n",
      "~~~~~~~~~~~~~~~~~~~~~~~~~~~~~~~~~~~~~~~~~~~~~~~~~~~~~~~~~~~~~~~~~~~~~\n",
      "Running tests\n",
      "\n",
      "---------------------------------------------------------------------\n",
      "Test summary\n",
      "    Passed: 1\n",
      "    Failed: 0\n",
      "[ooooooooook] 100.0% passed\n",
      "\n",
      "Finished running all tests.\n"
     ]
    }
   ],
   "source": [
    "import os\n",
    "print(\"Running all tests...\")\n",
    "_ = [ok.grade(q[:-3]) for q in os.listdir(\"tests\") if q.startswith('q')]\n",
    "print(\"Finished running all tests.\")"
   ]
  },
  {
   "cell_type": "markdown",
   "metadata": {},
   "source": [
    "### Submit the lab\n",
    "The due time for lab03 is 12pm on Thursday, July 25th."
   ]
  },
  {
   "cell_type": "code",
   "execution_count": 124,
   "metadata": {
    "deletable": false,
    "editable": false
   },
   "outputs": [
    {
     "name": "stdout",
     "output_type": "stream",
     "text": [
      "Generating PDF...\n",
      "This cell has a lot of content! Perhaps try to shorten your response. \n",
      "\n",
      "\n",
      "\n",
      " # basic skills using networkx\n",
      "### 创建一个图\n",
      "```\n",
      "nx.parse_edgelist(Edge_list:list, nodetye = Type, data = [('attribute_name', Type)])\n",
      "# here data is the Attributes of the edge.\n",
      "```\n",
      "\n",
      "common usage:\n",
      "1. load f\n",
      "Saved lab03.pdf\n"
     ]
    },
    {
     "data": {
      "application/javascript": [
       "IPython.notebook.save_checkpoint();"
      ],
      "text/plain": [
       "<IPython.core.display.Javascript object>"
      ]
     },
     "metadata": {},
     "output_type": "display_data"
    },
    {
     "data": {
      "application/javascript": [
       "IPython.notebook.save_notebook();"
      ],
      "text/plain": [
       "<IPython.core.display.Javascript object>"
      ]
     },
     "metadata": {},
     "output_type": "display_data"
    },
    {
     "name": "stdout",
     "output_type": "stream",
     "text": [
      "Saving notebook... Saved 'lab03.ipynb'.\n",
      "Submit... 100% complete\n",
      "Submission successful for user: ziqiyuan123@berkeley.edu\n",
      "URL: https://okpy.org/cal/demog180/su19/lab03/submissions/Gvk4LQ\n",
      "\n"
     ]
    }
   ],
   "source": [
    "# Save your notebook first, then run this cell to submit.\n",
    "import jassign.to_pdf\n",
    "jassign.to_pdf.generate_pdf('lab03.ipynb', 'lab03.pdf')\n",
    "ok.submit()"
   ]
  },
  {
   "cell_type": "markdown",
   "metadata": {},
   "source": [
    "# Summary : basic skills using networkx\n",
    "### 创建一个图\n",
    "\n",
    "```python\n",
    "nx.parse_edgelist(Edge_list:list, nodetye = Type, data = [('attribute_name', Type)])\n",
    "# here data is the Attributes of the edge.\n",
    "```\n",
    "\n",
    "common usage:\n",
    "1. load from a file\n",
    "\n",
    "```python\n",
    "edge_file = os.path.join(\"data\", \"comm1.dat\")\n",
    "print(edge_file)\n",
    "with open(edge_file, 'r') as f:\n",
    "    edge_lines = f.readlines()\n",
    "# now edge_lines become a list, which we can use to construct a graph.\n",
    "\n",
    "# then we use the above instruction to construct a graph.\n",
    "g = nx.parse_edgelist(edge_file, nodetype = int, data = [('activity_level', float)])\n",
    "```\n",
    "2. construct a graph we want\n",
    "```python\n",
    "test = nx.parse_edgelist(['1 3', '3 4', '3 2', '3 7', '3 8', '7 8','2 5', '5 6'], nodetype = int)\n",
    "```\n",
    "\n",
    "### 图的顶点和边\n",
    "\n",
    "```python\n",
    "# to show all edges of a graph\n",
    "g.edges()\n",
    "# to show all nodes of a graph\n",
    "g.nodes()\n",
    "```\n",
    "\n",
    "\n",
    "### 画图\n",
    "```python\n",
    "# draw a kind of graph\n",
    "nx.draw_circular(test, with_labels = True)\n",
    "\n",
    "# random choose a style of graph to draw.\n",
    "nx.draw(Graph, with_labels = True)\n",
    "```\n",
    "\n",
    "### 为图中每个顶点设置属性\n",
    "```python\n",
    "nx.set_node_attributes(Graph, \n",
    "                       values = DICT,\n",
    "                       name = STRING\n",
    "                      )\n",
    "```\n",
    "\n",
    "common usage :\n",
    "1. set color of nodes as we wanted.\n",
    "\n",
    "```python\n",
    "nx.set_node_attributes(test,                    \n",
    "                       values = {1 : 'blue',\n",
    "                        2 : 'red',\n",
    "                        3 : 'blue',\n",
    "                        4 : 'red',\n",
    "                        5 : 'blue',\n",
    "                        6 : 'red',\n",
    "                        7 : 'red',\n",
    "                        8 : 'blue'},\n",
    "                       name = 'color')\n",
    "\n",
    "node_color=[x[0] for x in nx.get_node_attributes(test, 'color').values()]\n",
    "\n",
    "nx.draw_circular(test, with_labels=True,node_color=node_color) # you should see a network with two kinds of nodes: red and blue\n",
    "```\n",
    "\n",
    "### 计算图中的一些特征值\n",
    "1. $E_{i,j} Matrix$ \n",
    "$$E_{i,j} 表示从i类型的顶点出发到j类型顶点的占比$$\n",
    "```python\n",
    "# we use mapping to change the order of the row.\n",
    "nx.attribute_mixing_matrix(Graph, Attribute_selected， mapping = DICT)\n",
    "```\n",
    "2. assortativity coefficient\n",
    " suppose that the nodes can all be divided into discrete groups\n",
    " let $a_i$ be the fraction of ends of edges ('stubs') in a network that are connected to nodes in group $i$\n",
    " let $e_{ij}$ be the fraction of edges in a network ('stubs') that connect nodes in group $i$ to nodes in group $j$\n",
    "\n",
    "\n",
    "Newman's *assortativity coefficient* is:\n",
    "\n",
    "$$r = \\frac{\\sum_i e_{ii} - \\sum_i a_i^2}{1 - \\sum_i a_i^2}$$\n",
    "\n",
    " when $r=0$, then there is no assortativity\n",
    " when $r>0$, then there is assortativity -- i.e., members of the same group tend to be more connected to each other than to other groups. At the extreme, when $r=1$, all network connections are within groups (perfect assortivity)\n",
    " when $r<0$, then there is disassortativity -- i.e., members of the same group are less likely to be connected to each other than to other groups\n",
    "\n",
    "For two groups, we can write the assortativity coefficient as\n",
    "\n",
    "$$r = \\frac{e_{11} + e_{22} - a_1^2 - a_2^2}{1 - a_1^2 - a_2^2}$$\n",
    "\n",
    "```python\n",
    "nx.attribute_assortativity_coefficient(Graph, Attribute : str)\n",
    "```"
   ]
  },
  {
   "cell_type": "code",
   "execution_count": null,
   "metadata": {},
   "outputs": [],
   "source": []
  }
 ],
 "metadata": {
  "anaconda-cloud": {},
  "kernelspec": {
   "display_name": "Python 3",
   "language": "python",
   "name": "python3"
  },
  "language_info": {
   "codemirror_mode": {
    "name": "ipython",
    "version": 3
   },
   "file_extension": ".py",
   "mimetype": "text/x-python",
   "name": "python",
   "nbconvert_exporter": "python",
   "pygments_lexer": "ipython3",
   "version": "3.6.8"
  }
 },
 "nbformat": 4,
 "nbformat_minor": 1
}
