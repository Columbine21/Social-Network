{
 "cells": [
  {
   "cell_type": "code",
   "execution_count": 3,
   "metadata": {
    "deletable": false,
    "editable": false
   },
   "outputs": [
    {
     "name": "stdout",
     "output_type": "stream",
     "text": [
      "=====================================================================\n",
      "Assignment: hw04\n",
      "OK, version v1.12.5\n",
      "=====================================================================\n",
      "\n"
     ]
    }
   ],
   "source": [
    "# Initialize OK\n",
    "from client.api.notebook import Notebook\n",
    "ok = Notebook('hw04.ok')"
   ]
  },
  {
   "cell_type": "code",
   "execution_count": 10,
   "metadata": {},
   "outputs": [
    {
     "name": "stdout",
     "output_type": "stream",
     "text": [
      "Collecting matplotlib\n",
      "  Downloading https://files.pythonhosted.org/packages/57/4f/dd381ecf6c6ab9bcdaa8ea912e866dedc6e696756156d8ecc087e20817e2/matplotlib-3.1.1-cp36-cp36m-manylinux1_x86_64.whl (13.1MB)\n",
      "\u001b[K    100% |████████████████████████████████| 13.1MB 86kB/s  eta 0:00:01\n",
      "\u001b[?25hRequirement already up-to-date: pyparsing!=2.0.4,!=2.1.2,!=2.1.6,>=2.0.1 in /srv/app/venv/lib/python3.6/site-packages (from matplotlib)\n",
      "Requirement already up-to-date: kiwisolver>=1.0.1 in /srv/app/venv/lib/python3.6/site-packages (from matplotlib)\n",
      "Requirement already up-to-date: cycler>=0.10 in /srv/app/venv/lib/python3.6/site-packages (from matplotlib)\n",
      "Collecting numpy>=1.11 (from matplotlib)\n",
      "  Downloading https://files.pythonhosted.org/packages/19/b9/bda9781f0a74b90ebd2e046fde1196182900bd4a8e1ea503d3ffebc50e7c/numpy-1.17.0-cp36-cp36m-manylinux1_x86_64.whl (20.4MB)\n",
      "\u001b[K    100% |████████████████████████████████| 20.4MB 54kB/s  eta 0:00:01\n",
      "\u001b[?25hRequirement already up-to-date: python-dateutil>=2.1 in /srv/app/venv/lib/python3.6/site-packages (from matplotlib)\n",
      "Collecting setuptools (from kiwisolver>=1.0.1->matplotlib)\n",
      "  Downloading https://files.pythonhosted.org/packages/ec/51/f45cea425fd5cb0b0380f5b0f048ebc1da5b417e48d304838c02d6288a1e/setuptools-41.0.1-py2.py3-none-any.whl (575kB)\n",
      "\u001b[K    100% |████████████████████████████████| 583kB 1.4MB/s eta 0:00:01\n",
      "\u001b[?25hRequirement already up-to-date: six in /srv/app/venv/lib/python3.6/site-packages (from cycler>=0.10->matplotlib)\n",
      "Installing collected packages: numpy, matplotlib, setuptools\n",
      "  Found existing installation: numpy 1.16.0\n",
      "    Uninstalling numpy-1.16.0:\n",
      "      Successfully uninstalled numpy-1.16.0\n",
      "  Found existing installation: matplotlib 3.1.0\n",
      "    Uninstalling matplotlib-3.1.0:\n",
      "      Successfully uninstalled matplotlib-3.1.0\n",
      "  Found existing installation: setuptools 39.0.1\n",
      "    Uninstalling setuptools-39.0.1:\n",
      "      Successfully uninstalled setuptools-39.0.1\n",
      "Successfully installed matplotlib-3.1.1 numpy-1.17.0 setuptools-41.0.1\n"
     ]
    }
   ],
   "source": [
    "#Update matplotlib\n",
    "!pip install matplotlib --upgrade\n",
    "# Restart kernel after updating matplotlib"
   ]
  },
  {
   "cell_type": "code",
   "execution_count": 11,
   "metadata": {},
   "outputs": [
    {
     "name": "stdout",
     "output_type": "stream",
     "text": [
      "Collecting networkx\n",
      "Collecting decorator>=4.3.0 (from networkx)\n",
      "  Using cached https://files.pythonhosted.org/packages/5f/88/0075e461560a1e750a0dcbf77f1d9de775028c37a19a346a6c565a257399/decorator-4.4.0-py2.py3-none-any.whl\n",
      "Installing collected packages: decorator, networkx\n",
      "  Found existing installation: decorator 4.1.2\n",
      "    Uninstalling decorator-4.1.2:\n",
      "      Successfully uninstalled decorator-4.1.2\n",
      "  Found existing installation: networkx 1.11\n",
      "    Uninstalling networkx-1.11:\n",
      "      Successfully uninstalled networkx-1.11\n",
      "Successfully installed decorator-4.4.0 networkx-2.3\n"
     ]
    }
   ],
   "source": [
    "# Update networkx\n",
    "!pip install networkx --upgrade\n",
    "# Restart kernel after updating networkx"
   ]
  },
  {
   "cell_type": "code",
   "execution_count": 2,
   "metadata": {},
   "outputs": [
    {
     "name": "stdout",
     "output_type": "stream",
     "text": [
      "Requirement already satisfied: jassign in /srv/app/venv/lib/python3.6/site-packages\n",
      "Requirement already satisfied: ipython in /srv/app/venv/lib/python3.6/site-packages (from jassign)\n",
      "Requirement already satisfied: tqdm in /srv/app/venv/lib/python3.6/site-packages (from jassign)\n",
      "Requirement already satisfied: pyyaml in /srv/app/venv/lib/python3.6/site-packages (from jassign)\n",
      "Requirement already satisfied: nbformat in /srv/app/venv/lib/python3.6/site-packages (from jassign)\n",
      "Requirement already satisfied: setuptools in /srv/app/venv/lib/python3.6/site-packages (from jassign)\n",
      "Requirement already satisfied: nbconvert in /srv/app/venv/lib/python3.6/site-packages (from jassign)\n",
      "Requirement already satisfied: pexpect; sys_platform != \"win32\" in /srv/app/venv/lib/python3.6/site-packages (from ipython->jassign)\n",
      "Requirement already satisfied: jedi>=0.10 in /srv/app/venv/lib/python3.6/site-packages (from ipython->jassign)\n",
      "Requirement already satisfied: pickleshare in /srv/app/venv/lib/python3.6/site-packages (from ipython->jassign)\n",
      "Requirement already satisfied: backcall in /srv/app/venv/lib/python3.6/site-packages (from ipython->jassign)\n",
      "Requirement already satisfied: traitlets>=4.2 in /srv/app/venv/lib/python3.6/site-packages (from ipython->jassign)\n",
      "Requirement already satisfied: pygments in /srv/app/venv/lib/python3.6/site-packages (from ipython->jassign)\n",
      "Requirement already satisfied: prompt-toolkit<2.1.0,>=2.0.0 in /srv/app/venv/lib/python3.6/site-packages (from ipython->jassign)\n",
      "Requirement already satisfied: decorator in /srv/app/venv/lib/python3.6/site-packages (from ipython->jassign)\n",
      "Requirement already satisfied: jupyter-core in /srv/app/venv/lib/python3.6/site-packages (from nbformat->jassign)\n",
      "Requirement already satisfied: jsonschema!=2.5.0,>=2.4 in /srv/app/venv/lib/python3.6/site-packages (from nbformat->jassign)\n",
      "Requirement already satisfied: ipython-genutils in /srv/app/venv/lib/python3.6/site-packages (from nbformat->jassign)\n",
      "Requirement already satisfied: jinja2>=2.4 in /srv/app/venv/lib/python3.6/site-packages (from nbconvert->jassign)\n",
      "Requirement already satisfied: defusedxml in /srv/app/venv/lib/python3.6/site-packages (from nbconvert->jassign)\n",
      "Requirement already satisfied: entrypoints>=0.2.2 in /srv/app/venv/lib/python3.6/site-packages (from nbconvert->jassign)\n",
      "Requirement already satisfied: testpath in /srv/app/venv/lib/python3.6/site-packages (from nbconvert->jassign)\n",
      "Requirement already satisfied: pandocfilters>=1.4.1 in /srv/app/venv/lib/python3.6/site-packages (from nbconvert->jassign)\n",
      "Requirement already satisfied: mistune>=0.8.1 in /srv/app/venv/lib/python3.6/site-packages (from nbconvert->jassign)\n",
      "Requirement already satisfied: bleach in /srv/app/venv/lib/python3.6/site-packages (from nbconvert->jassign)\n",
      "Requirement already satisfied: ptyprocess>=0.5 in /srv/app/venv/lib/python3.6/site-packages (from pexpect; sys_platform != \"win32\"->ipython->jassign)\n",
      "Requirement already satisfied: parso>=0.5.0 in /srv/app/venv/lib/python3.6/site-packages (from jedi>=0.10->ipython->jassign)\n",
      "Requirement already satisfied: six in /srv/app/venv/lib/python3.6/site-packages (from traitlets>=4.2->ipython->jassign)\n",
      "Requirement already satisfied: wcwidth in /srv/app/venv/lib/python3.6/site-packages (from prompt-toolkit<2.1.0,>=2.0.0->ipython->jassign)\n",
      "Requirement already satisfied: attrs>=17.4.0 in /srv/app/venv/lib/python3.6/site-packages (from jsonschema!=2.5.0,>=2.4->nbformat->jassign)\n",
      "Requirement already satisfied: pyrsistent>=0.14.0 in /srv/app/venv/lib/python3.6/site-packages (from jsonschema!=2.5.0,>=2.4->nbformat->jassign)\n",
      "Requirement already satisfied: MarkupSafe>=0.23 in /srv/app/venv/lib/python3.6/site-packages (from jinja2>=2.4->nbconvert->jassign)\n",
      "Requirement already satisfied: webencodings in /srv/app/venv/lib/python3.6/site-packages (from bleach->nbconvert->jassign)\n"
     ]
    }
   ],
   "source": [
    "!pip install jassign"
   ]
  },
  {
   "cell_type": "code",
   "execution_count": 3,
   "metadata": {},
   "outputs": [
    {
     "name": "stdout",
     "output_type": "stream",
     "text": [
      "Requirement already satisfied: tqdm in /srv/app/venv/lib/python3.6/site-packages\r\n"
     ]
    }
   ],
   "source": [
    "!pip install tqdm"
   ]
  },
  {
   "cell_type": "code",
   "execution_count": 4,
   "metadata": {},
   "outputs": [],
   "source": [
    "from IPython.core.display import HTML\n",
    "from datascience import *\n",
    "\n",
    "import jassign\n",
    "import matplotlib\n",
    "matplotlib.use('Agg')\n",
    "import matplotlib.pyplot as plt\n",
    "import numpy as np\n",
    "import os\n",
    "import pickle\n",
    "import pandas as pd\n",
    "\n",
    "plt.style.use('fivethirtyeight')\n",
    "\n",
    "import networkx as nx\n",
    "import pickle\n",
    "\n",
    "%matplotlib inline\n",
    "\n",
    "np.random.seed(99)"
   ]
  },
  {
   "cell_type": "markdown",
   "metadata": {},
   "source": [
    "### Demography 180: Social networks\n",
    "\n",
    "# Homework 06"
   ]
  },
  {
   "cell_type": "markdown",
   "metadata": {},
   "source": [
    "## Calculating betweenness centrality from scratch"
   ]
  },
  {
   "cell_type": "markdown",
   "metadata": {},
   "source": [
    "Consider the network generated by the following code."
   ]
  },
  {
   "cell_type": "code",
   "execution_count": 82,
   "metadata": {},
   "outputs": [
    {
     "data": {
      "image/png": "[encoded data removed]",
      "text/plain": [
       "<Figure size 432x288 with 1 Axes>"
      ]
     },
     "metadata": {},
     "output_type": "display_data"
    }
   ],
   "source": [
    "test_net = nx.Graph([(1,2), (1, 3), (2,3), (4,5), (4,6), (5,6), (3,5), (2,6)])\n",
    "nx.draw_circular(test_net, with_labels=True)"
   ]
  },
  {
   "cell_type": "markdown",
   "metadata": {},
   "source": [
    "**Question 1** Fill in the table below with the distance and the number of shortest paths between each pair of vertices. (For example, if there are three shortest paths each of length 2, write 2 (3) in the table.)\n",
    "\n",
    "*[NOTE: You should copy the blank table below into the solution cell and then fill it in]*\n",
    "\n",
    "| &nbsp;  | node 1 | node 2 | node 3 | node 4 | node 5 | node 6 |\n",
    "|  ------ | -----  | ------ | ------ | ------ | ------ | ------ |\n",
    "|  node 1 |   -    |  ? (?) |  ? (?) |  ? (?) |  ? (?) |  ? (?) |\n",
    "|  node 2 |   -    |  -     |  ? (?) |  ? (?) |  ? (?) |  ? (?) |\n",
    "|  node 3 |   -    |  -     |   -    |  ? (?) |  ? (?) |  ? (?) |\n",
    "|  node 4 |   -    |  -     |   -    |   -    |  ? (?) |  ? (?) |\n",
    "|  node 5 |   -    |  -     |   -    |   -    |   -    |  ? (?) |\n"
   ]
  },
  {
   "cell_type": "markdown",
   "metadata": {
    "deletable": false,
    "editable": false
   },
   "source": [
    "<!--\n",
    "BEGIN QUESTION\n",
    "name: q1\n",
    "points: 3\n",
    "manual: True\n",
    "-->\n",
    "<!-- EXPORT TO PDF -->"
   ]
  },
  {
   "cell_type": "markdown",
   "metadata": {},
   "source": [
    "| &nbsp;  | node 1 | node 2 | node 3 | node 4 | node 5 | node 6 |\n",
    "|  ------ | -----  | ------ | ------ | ------ | ------ | ------ |\n",
    "|  node 1 |   -    |  1 (1) |  1 (1) |  3 (2) |  2 (1) |  2 (1) |\n",
    "|  node 2 |   -    |  -     |  1 (1) |  2 (1) |  2 (2) |  1 (1) |\n",
    "|  node 3 |   -    |  -     |   -    |  2 (1) |  1 (1) |  2 (2) |\n",
    "|  node 4 |   -    |  -     |   -    |   -    |  1 (1) |  1 (1) |\n",
    "|  node 5 |   -    |  -     |   -    |   -    |   -    |  1 (1) |"
   ]
  },
  {
   "cell_type": "markdown",
   "metadata": {
    "deletable": false,
    "editable": false
   },
   "source": [
    "**Question 2** Calculate the betweenness centrality for node 3 and for node 5 by hand, and fill the answers in below.\n",
    "\n",
    "<!--\n",
    "BEGIN QUESTION\n",
    "name: q2\n",
    "manual: False\n",
    "points: 4\n",
    "-->"
   ]
  },
  {
   "cell_type": "code",
   "execution_count": 6,
   "metadata": {},
   "outputs": [],
   "source": [
    "bc_node3 = (0 + 1/2 + 1/1 + 0) + (0 + 1/2 + 0) + (0 + 0) + 0\n",
    "bc_node5 = (0 + 0 + 1/2 + 0) + (0 + 0 + 0) + (1/1 + 1/2) + (0)"
   ]
  },
  {
   "cell_type": "code",
   "execution_count": 7,
   "metadata": {
    "deletable": false,
    "editable": false
   },
   "outputs": [
    {
     "name": "stdout",
     "output_type": "stream",
     "text": [
      "~~~~~~~~~~~~~~~~~~~~~~~~~~~~~~~~~~~~~~~~~~~~~~~~~~~~~~~~~~~~~~~~~~~~~\n",
      "Running tests\n",
      "\n",
      "---------------------------------------------------------------------\n",
      "Test summary\n",
      "    Passed: 2\n",
      "    Failed: 0\n",
      "[ooooooooook] 100.0% passed\n",
      "\n"
     ]
    }
   ],
   "source": [
    "ok.grade(\"q2\");"
   ]
  },
  {
   "cell_type": "markdown",
   "metadata": {
    "deletable": false,
    "editable": false
   },
   "source": [
    "**Question 3** Check your calculation using the `nx.betweenness_centrality` function.  \n",
    "*[NB: be sure to set the normalized argument to False]*.\n",
    "\n",
    "<!--\n",
    "BEGIN QUESTION\n",
    "name: q3\n",
    "manual: False\n",
    "points: 2\n",
    "-->"
   ]
  },
  {
   "cell_type": "code",
   "execution_count": 8,
   "metadata": {},
   "outputs": [],
   "source": [
    "nx.betweenness_centrality?"
   ]
  },
  {
   "cell_type": "code",
   "execution_count": 9,
   "metadata": {},
   "outputs": [
    {
     "data": {
      "text/plain": [
       "{1: 0.0, 2: 2.0, 3: 2.0, 4: 0.0, 5: 2.0, 6: 2.0}"
      ]
     },
     "execution_count": 9,
     "metadata": {},
     "output_type": "execute_result"
    }
   ],
   "source": [
    "test_bc = nx.betweenness_centrality(test_net, normalized = False)\n",
    "test_bc"
   ]
  },
  {
   "cell_type": "code",
   "execution_count": 10,
   "metadata": {
    "deletable": false,
    "editable": false
   },
   "outputs": [
    {
     "name": "stdout",
     "output_type": "stream",
     "text": [
      "~~~~~~~~~~~~~~~~~~~~~~~~~~~~~~~~~~~~~~~~~~~~~~~~~~~~~~~~~~~~~~~~~~~~~\n",
      "Running tests\n",
      "\n",
      "---------------------------------------------------------------------\n",
      "Test summary\n",
      "    Passed: 2\n",
      "    Failed: 0\n",
      "[ooooooooook] 100.0% passed\n",
      "\n"
     ]
    }
   ],
   "source": [
    "ok.grade(\"q3\");"
   ]
  },
  {
   "cell_type": "code",
   "execution_count": 11,
   "metadata": {},
   "outputs": [
    {
     "data": {
      "text/plain": [
       "dict_values([0.0, 2.0, 2.0, 0.0, 2.0, 2.0])"
      ]
     },
     "execution_count": 11,
     "metadata": {},
     "output_type": "execute_result"
    }
   ],
   "source": [
    "# with the function \"values\", you will get the dictionary array of the centrality values\n",
    "nx.betweenness_centrality(test_net, normalized=False).values()"
   ]
  },
  {
   "cell_type": "markdown",
   "metadata": {},
   "source": [
    "## Epidemic models and centrality among US Legislators"
   ]
  },
  {
   "cell_type": "markdown",
   "metadata": {},
   "source": [
    "In this homework, we'll be investigating patterns of connections on Twitter among Members of Congress (MOC). This dataset comes from the official Twitter accounts of members of Congress in the fall of 2016. We've made a few simplifications here:\n",
    "\n",
    "* On Twitter, following is a *directed relation*. So person A can follow person B without person B necessarily following person A. Here, we've taken these directed relationships and turned them into an undirected network.\n",
    "* Almost every Senator and Representative is in this dataset, but a few are missing; we'll ignore these missing people here.\n",
    "\n",
    "The goal of the homework is to continue the analysis we looked at in lecture: we'll try to evaluate how well different metrics for centrality predict outcomes in an SIR epidemic model. The idea is that 'good' measures of centrality should be able to tell us which nodes play an important role in the spread of a disease or idea through a network."
   ]
  },
  {
   "cell_type": "markdown",
   "metadata": {},
   "source": [
    "## Exploratory analysis of the dataset"
   ]
  },
  {
   "cell_type": "markdown",
   "metadata": {},
   "source": [
    "The nodes in the `official_congress_twitter` network have attributes. These attributes include:\n",
    "\n",
    "* `official_full` - the MOC's full name\n",
    "* `gender` - the MOC's gender\n",
    "* `party` - the MOC's political party\n",
    "* `state` - the MOC's state\n",
    "* `type` - either `sen` for Senator or `rep` for Representative"
   ]
  },
  {
   "cell_type": "markdown",
   "metadata": {},
   "source": [
    "Let's start by loading the dataset."
   ]
  },
  {
   "cell_type": "code",
   "execution_count": 12,
   "metadata": {},
   "outputs": [],
   "source": [
    "try:\n",
    "    official_congress_twitter = pickle.load(open('../data/congress-twitter/us_congress_2016_twitter_nx2.pickle', 'rb'))\n",
    "except:\n",
    "    official_congress_twitter = pickle.load(open('./us_congress_2016_twitter_nx2.pickle', 'rb'))\n",
    "    pass"
   ]
  },
  {
   "cell_type": "markdown",
   "metadata": {},
   "source": [
    "## Exploratory analysis of the dataset"
   ]
  },
  {
   "cell_type": "markdown",
   "metadata": {},
   "source": [
    "First, we'll explore the dataset, focusing on different ways to understand centrality."
   ]
  },
  {
   "cell_type": "markdown",
   "metadata": {},
   "source": [
    "In order to look more closely at the attributes of the members of Congress, we'll make use of this function:"
   ]
  },
  {
   "cell_type": "code",
   "execution_count": 14,
   "metadata": {},
   "outputs": [],
   "source": [
    "def nodes_to_table(g):\n",
    "    \"\"\"\n",
    "    Given a network `g`, return a Table that has all of the attributes of the\n",
    "    nodes in the network\n",
    "    \"\"\"\n",
    "    \n",
    "    df = {}\n",
    "    df['node_id'] = list(g.nodes())\n",
    "    \n",
    "    # assume all nodes have the same attributes\n",
    "    # att_names = g.node[df['node_id'][0]].keys()\n",
    "    att_names = g.nodes[df['node_id'][0]].keys()\n",
    "    \n",
    "    for att in att_names:\n",
    "        df[att] = [node[1][att] for node in g.nodes(data=True)]\n",
    "    \n",
    "    df = pd.DataFrame(df)\n",
    "    \n",
    "    return Table.from_df(df)"
   ]
  },
  {
   "cell_type": "markdown",
   "metadata": {},
   "source": [
    "The `nodes_to_table` function makes a Table that has the attributes of all of the nodes in the network it is given. We can use it like this:"
   ]
  },
  {
   "cell_type": "code",
   "execution_count": 15,
   "metadata": {
    "scrolled": true
   },
   "outputs": [
    {
     "data": {
      "text/html": [
       "<table border=\"1\" class=\"dataframe\">\n",
       "    <thead>\n",
       "        <tr>\n",
       "            <th>node_id</th> <th>state</th> <th>nickname</th> <th>url</th> <th>last</th> <th>religion</th> <th>district</th> <th>party</th> <th>class</th> <th>birthday</th> <th>official_full</th> <th>phone</th> <th>bioguide</th> <th>start</th> <th>caucus</th> <th>contact_form</th> <th>twitter</th> <th>suffix</th> <th>type</th> <th>state_rank</th> <th>rss_url</th> <th>address</th> <th>office</th> <th>end</th> <th>fax</th> <th>gender</th> <th>first</th> <th>middle</th>\n",
       "        </tr>\n",
       "    </thead>\n",
       "    <tbody>\n",
       "        <tr>\n",
       "            <td>2974648323</td> <td>CA   </td> <td>nan     </td> <td>https://knight.house.gov    </td> <td>Knight    </td> <td>nan           </td> <td>25      </td> <td>Republican</td> <td>nan  </td> <td>1966-12-17</td> <td>Stephen Knight     </td> <td>202-225-1956</td> <td>K000387 </td> <td>2015-01-06</td> <td>nan   </td> <td>nan                                                         </td> <td>2.97465e+09</td> <td>nan   </td> <td>rep </td> <td>nan       </td> <td>nan                                                         </td> <td>1023 Longworth HOB; Washington DC 20515-0525          </td> <td>1023 Longworth House Office Building</td> <td>2017-01-03</td> <td>202-226-0683 </td> <td>M     </td> <td>Steve  </td> <td>nan   </td>\n",
       "        </tr>\n",
       "        <tr>\n",
       "            <td>2253968388</td> <td>AL   </td> <td>nan     </td> <td>https://byrne.house.gov     </td> <td>Byrne     </td> <td>nan           </td> <td>1       </td> <td>Republican</td> <td>nan  </td> <td>1955-02-16</td> <td>Bradley Byrne      </td> <td>202-225-4931</td> <td>B001289 </td> <td>2015-01-06</td> <td>nan   </td> <td>https://byrne.house.gov/contact/email-me                    </td> <td>2.25397e+09</td> <td>nan   </td> <td>rep </td> <td>nan       </td> <td>nan                                                         </td> <td>119 Cannon HOB; Washington DC 20515-0101              </td> <td>119 Cannon House Office Building    </td> <td>2017-01-03</td> <td>202-225-0562 </td> <td>M     </td> <td>Bradley</td> <td>nan   </td>\n",
       "        </tr>\n",
       "        <tr>\n",
       "            <td>236511574 </td> <td>MI   </td> <td>nan     </td> <td>http://www.peters.senate.gov</td> <td>Peters    </td> <td>nan           </td> <td>nan     </td> <td>Democrat  </td> <td>2    </td> <td>1958-12-01</td> <td>Gary C. Peters     </td> <td>202-224-6221</td> <td>P000595 </td> <td>2015-01-06</td> <td>nan   </td> <td>nan                                                         </td> <td>2.36512e+08</td> <td>nan   </td> <td>sen </td> <td>junior    </td> <td>nan                                                         </td> <td>724 Hart Senate Office Building Washington DC 20510   </td> <td>724 Hart Senate Office Building     </td> <td>2021-01-03</td> <td>nan          </td> <td>M     </td> <td>Gary   </td> <td>C.    </td>\n",
       "        </tr>\n",
       "        <tr>\n",
       "            <td>161411080 </td> <td>CA   </td> <td>nan     </td> <td>http://napolitano.house.gov </td> <td>Napolitano</td> <td>Roman Catholic</td> <td>32      </td> <td>Democrat  </td> <td>nan  </td> <td>1936-12-04</td> <td>Grace F. Napolitano</td> <td>202-225-5256</td> <td>N000179 </td> <td>2015-01-06</td> <td>nan   </td> <td>https://napolitano.house.gov/contact-me/email-me            </td> <td>1.61411e+08</td> <td>nan   </td> <td>rep </td> <td>nan       </td> <td>http://napolitano.house.gov/rss.xml                         </td> <td>1610 Longworth HOB; Washington DC 20515-0532          </td> <td>1610 Longworth House Office Building</td> <td>2017-01-03</td> <td>202-225-0027 </td> <td>F     </td> <td>Grace  </td> <td>F.    </td>\n",
       "        </tr>\n",
       "        <tr>\n",
       "            <td>402719755 </td> <td>NV   </td> <td>nan     </td> <td>http://amodei.house.gov     </td> <td>Amodei    </td> <td>nan           </td> <td>2       </td> <td>Republican</td> <td>nan  </td> <td>1958-06-12</td> <td>Mark E. Amodei     </td> <td>202-225-6155</td> <td>A000369 </td> <td>2015-01-06</td> <td>nan   </td> <td>https://amodei.house.gov/contact-us                         </td> <td>4.0272e+08 </td> <td>nan   </td> <td>rep </td> <td>nan       </td> <td>http://amodei.house.gov/common/rss//?rss=49                 </td> <td>332 Cannon HOB; Washington DC 20515-2802              </td> <td>332 Cannon House Office Building    </td> <td>2017-01-03</td> <td>202-225-5679 </td> <td>M     </td> <td>Mark   </td> <td>E.    </td>\n",
       "        </tr>\n",
       "        <tr>\n",
       "            <td>442824717 </td> <td>MA   </td> <td>nan     </td> <td>http://neal.house.gov       </td> <td>Neal      </td> <td>Roman Catholic</td> <td>1       </td> <td>Democrat  </td> <td>nan  </td> <td>1949-02-14</td> <td>Richard E. Neal    </td> <td>202-225-5601</td> <td>N000015 </td> <td>2015-01-06</td> <td>nan   </td> <td>https://forms.house.gov/neal/webforms/Contact_Form.shtml    </td> <td>4.42825e+08</td> <td>nan   </td> <td>rep </td> <td>nan       </td> <td>http://neal.house.gov/index.php?format=feed&amp;type=rss    </td> <td>341 Cannon HOB; Washington DC 20515-2101              </td> <td>341 Cannon House Office Building    </td> <td>2017-01-03</td> <td>202-225-8112 </td> <td>M     </td> <td>Richard</td> <td>E.    </td>\n",
       "        </tr>\n",
       "        <tr>\n",
       "            <td>267854863 </td> <td>LA   </td> <td>nan     </td> <td>http://richmond.house.gov   </td> <td>Richmond  </td> <td>nan           </td> <td>2       </td> <td>Democrat  </td> <td>nan  </td> <td>1973-09-13</td> <td>Cedric L. Richmond </td> <td>202-225-6636</td> <td>R000588 </td> <td>2015-01-06</td> <td>nan   </td> <td>https://richmond.house.gov/contact-me/email-me              </td> <td>2.67855e+08</td> <td>nan   </td> <td>rep </td> <td>nan       </td> <td>http://richmond.house.gov/rss.xml                           </td> <td>240 Cannon HOB; Washington DC 20515-1802              </td> <td>240 Cannon House Office Building    </td> <td>2017-01-03</td> <td>202- 225-1988</td> <td>M     </td> <td>Cedric </td> <td>L.    </td>\n",
       "        </tr>\n",
       "        <tr>\n",
       "            <td>21157904  </td> <td>NC   </td> <td>nan     </td> <td>http://www.burr.senate.gov  </td> <td>Burr      </td> <td>Methodist     </td> <td>nan     </td> <td>Republican</td> <td>3    </td> <td>1955-11-30</td> <td>Richard Burr       </td> <td>202-224-3154</td> <td>B001135 </td> <td>2011-01-05</td> <td>nan   </td> <td>http://www.burr.senate.gov/public/index.cfm?FuseAction=C ...</td> <td>2.11579e+07</td> <td>nan   </td> <td>sen </td> <td>senior    </td> <td>http://www.burr.senate.gov/public/index.cfm?fuseaction=r ...</td> <td>217 Russell Senate Office Building Washington DC 20510</td> <td>217 Russell Senate Office Building  </td> <td>2017-01-03</td> <td>202-228-2981 </td> <td>M     </td> <td>Richard</td> <td>M.    </td>\n",
       "        </tr>\n",
       "        <tr>\n",
       "            <td>163570705 </td> <td>MO   </td> <td>nan     </td> <td>http://cleaver.house.gov    </td> <td>Cleaver   </td> <td>nan           </td> <td>5       </td> <td>Democrat  </td> <td>nan  </td> <td>1944-10-26</td> <td>Emanuel Cleaver    </td> <td>202-225-4535</td> <td>C001061 </td> <td>2015-01-06</td> <td>nan   </td> <td>https://cleaver.house.gov/contact/email-me                  </td> <td>1.63571e+08</td> <td>II    </td> <td>rep </td> <td>nan       </td> <td>http://cleaver.house.gov/rss.xml                            </td> <td>2335 Rayburn HOB; Washington DC 20515-2505            </td> <td>2335 Rayburn House Office Building  </td> <td>2017-01-03</td> <td>202-225-4403 </td> <td>M     </td> <td>Emanuel</td> <td>nan   </td>\n",
       "        </tr>\n",
       "        <tr>\n",
       "            <td>2962994194</td> <td>NJ   </td> <td>nan     </td> <td>https://macarthur.house.gov </td> <td>MacArthur </td> <td>nan           </td> <td>3       </td> <td>Republican</td> <td>nan  </td> <td>1960-10-16</td> <td>Thomas MacArthur   </td> <td>202-225-4765</td> <td>M001193 </td> <td>2015-01-06</td> <td>nan   </td> <td>nan                                                         </td> <td>2.96299e+09</td> <td>nan   </td> <td>rep </td> <td>nan       </td> <td>nan                                                         </td> <td>506 Cannon HOB; Washington DC 20515-3003              </td> <td>506 Cannon House Office Building    </td> <td>2017-01-03</td> <td>202-225-0778 </td> <td>M     </td> <td>Tom    </td> <td>nan   </td>\n",
       "        </tr>\n",
       "    </tbody>\n",
       "</table>\n",
       "<p>... (509 rows omitted)</p>"
      ],
      "text/plain": [
       "node_id    | state | nickname | url                          | last       | religion       | district | party      | class | birthday   | official_full       | phone        | bioguide | start      | caucus | contact_form                                                 | twitter     | suffix | type | state_rank | rss_url                                                      | address                                                | office                               | end        | fax           | gender | first   | middle\n",
       "2974648323 | CA    | nan      | https://knight.house.gov     | Knight     | nan            | 25       | Republican | nan   | 1966-12-17 | Stephen Knight      | 202-225-1956 | K000387  | 2015-01-06 | nan    | nan                                                          | 2.97465e+09 | nan    | rep  | nan        | nan                                                          | 1023 Longworth HOB; Washington DC 20515-0525           | 1023 Longworth House Office Building | 2017-01-03 | 202-226-0683  | M      | Steve   | nan\n",
       "2253968388 | AL    | nan      | https://byrne.house.gov      | Byrne      | nan            | 1        | Republican | nan   | 1955-02-16 | Bradley Byrne       | 202-225-4931 | B001289  | 2015-01-06 | nan    | https://byrne.house.gov/contact/email-me                     | 2.25397e+09 | nan    | rep  | nan        | nan                                                          | 119 Cannon HOB; Washington DC 20515-0101               | 119 Cannon House Office Building     | 2017-01-03 | 202-225-0562  | M      | Bradley | nan\n",
       "236511574  | MI    | nan      | http://www.peters.senate.gov | Peters     | nan            | nan      | Democrat   | 2     | 1958-12-01 | Gary C. Peters      | 202-224-6221 | P000595  | 2015-01-06 | nan    | nan                                                          | 2.36512e+08 | nan    | sen  | junior     | nan                                                          | 724 Hart Senate Office Building Washington DC 20510    | 724 Hart Senate Office Building      | 2021-01-03 | nan           | M      | Gary    | C.\n",
       "161411080  | CA    | nan      | http://napolitano.house.gov  | Napolitano | Roman Catholic | 32       | Democrat   | nan   | 1936-12-04 | Grace F. Napolitano | 202-225-5256 | N000179  | 2015-01-06 | nan    | https://napolitano.house.gov/contact-me/email-me             | 1.61411e+08 | nan    | rep  | nan        | http://napolitano.house.gov/rss.xml                          | 1610 Longworth HOB; Washington DC 20515-0532           | 1610 Longworth House Office Building | 2017-01-03 | 202-225-0027  | F      | Grace   | F.\n",
       "402719755  | NV    | nan      | http://amodei.house.gov      | Amodei     | nan            | 2        | Republican | nan   | 1958-06-12 | Mark E. Amodei      | 202-225-6155 | A000369  | 2015-01-06 | nan    | https://amodei.house.gov/contact-us                          | 4.0272e+08  | nan    | rep  | nan        | http://amodei.house.gov/common/rss//?rss=49                  | 332 Cannon HOB; Washington DC 20515-2802               | 332 Cannon House Office Building     | 2017-01-03 | 202-225-5679  | M      | Mark    | E.\n",
       "442824717  | MA    | nan      | http://neal.house.gov        | Neal       | Roman Catholic | 1        | Democrat   | nan   | 1949-02-14 | Richard E. Neal     | 202-225-5601 | N000015  | 2015-01-06 | nan    | https://forms.house.gov/neal/webforms/Contact_Form.shtml     | 4.42825e+08 | nan    | rep  | nan        | http://neal.house.gov/index.php?format=feed&amp;type=rss     | 341 Cannon HOB; Washington DC 20515-2101               | 341 Cannon House Office Building     | 2017-01-03 | 202-225-8112  | M      | Richard | E.\n",
       "267854863  | LA    | nan      | http://richmond.house.gov    | Richmond   | nan            | 2        | Democrat   | nan   | 1973-09-13 | Cedric L. Richmond  | 202-225-6636 | R000588  | 2015-01-06 | nan    | https://richmond.house.gov/contact-me/email-me               | 2.67855e+08 | nan    | rep  | nan        | http://richmond.house.gov/rss.xml                            | 240 Cannon HOB; Washington DC 20515-1802               | 240 Cannon House Office Building     | 2017-01-03 | 202- 225-1988 | M      | Cedric  | L.\n",
       "21157904   | NC    | nan      | http://www.burr.senate.gov   | Burr       | Methodist      | nan      | Republican | 3     | 1955-11-30 | Richard Burr        | 202-224-3154 | B001135  | 2011-01-05 | nan    | http://www.burr.senate.gov/public/index.cfm?FuseAction=C ... | 2.11579e+07 | nan    | sen  | senior     | http://www.burr.senate.gov/public/index.cfm?fuseaction=r ... | 217 Russell Senate Office Building Washington DC 20510 | 217 Russell Senate Office Building   | 2017-01-03 | 202-228-2981  | M      | Richard | M.\n",
       "163570705  | MO    | nan      | http://cleaver.house.gov     | Cleaver    | nan            | 5        | Democrat   | nan   | 1944-10-26 | Emanuel Cleaver     | 202-225-4535 | C001061  | 2015-01-06 | nan    | https://cleaver.house.gov/contact/email-me                   | 1.63571e+08 | II     | rep  | nan        | http://cleaver.house.gov/rss.xml                             | 2335 Rayburn HOB; Washington DC 20515-2505             | 2335 Rayburn House Office Building   | 2017-01-03 | 202-225-4403  | M      | Emanuel | nan\n",
       "2962994194 | NJ    | nan      | https://macarthur.house.gov  | MacArthur  | nan            | 3        | Republican | nan   | 1960-10-16 | Thomas MacArthur    | 202-225-4765 | M001193  | 2015-01-06 | nan    | nan                                                          | 2.96299e+09 | nan    | rep  | nan        | nan                                                          | 506 Cannon HOB; Washington DC 20515-3003               | 506 Cannon House Office Building     | 2017-01-03 | 202-225-0778  | M      | Tom     | nan\n",
       "... (509 rows omitted)"
      ]
     },
     "execution_count": 15,
     "metadata": {},
     "output_type": "execute_result"
    }
   ],
   "source": [
    "moc_data1 = nodes_to_table(official_congress_twitter)\n",
    "\n",
    "moc_data1"
   ]
  },
  {
   "cell_type": "markdown",
   "metadata": {},
   "source": [
    "There is a lot of information here, but there are three things we're going to add to this table: \n",
    "\n",
    "* each node's degree \n",
    "* each node's betweenness centrality \n",
    "* each node's eigenvector centrality\n",
    "\n",
    "In order to add these three quantities to our Table of node information (`moc_data1`), we will\n",
    "\n",
    "* compute each quantity for each node\n",
    "* put the results in a table\n",
    "* join the table to the `moc_data1` table"
   ]
  },
  {
   "cell_type": "markdown",
   "metadata": {
    "deletable": false,
    "editable": false
   },
   "source": [
    "**Question 4** Fill in the code below to create a table that has several centrality measures for each node. Use the functions directly like in question 3. The function names you need are: \"betweenness_centrality\" and \"eigenvector_centrality\" in the nx package.\n",
    "\n",
    "<!--\n",
    "BEGIN QUESTION\n",
    "name: q4\n",
    "manual: False\n",
    "points: 4\n",
    "-->"
   ]
  },
  {
   "cell_type": "code",
   "execution_count": 16,
   "metadata": {},
   "outputs": [
    {
     "data": {
      "text/html": [
       "<table border=\"1\" class=\"dataframe\">\n",
       "    <thead>\n",
       "        <tr>\n",
       "            <th>node_id</th> <th>betweenness_centrality</th> <th>eigenvector_centrality</th> <th>degree</th>\n",
       "        </tr>\n",
       "    </thead>\n",
       "    <tbody>\n",
       "        <tr>\n",
       "            <td>2974648323</td> <td>1.42138e-05           </td> <td>0.00857233            </td> <td>32    </td>\n",
       "        </tr>\n",
       "        <tr>\n",
       "            <td>2253968388</td> <td>0.00343253            </td> <td>0.0686945             </td> <td>316   </td>\n",
       "        </tr>\n",
       "        <tr>\n",
       "            <td>236511574 </td> <td>0.00111342            </td> <td>0.0367586             </td> <td>181   </td>\n",
       "        </tr>\n",
       "        <tr>\n",
       "            <td>161411080 </td> <td>0.00066305            </td> <td>0.037275              </td> <td>181   </td>\n",
       "        </tr>\n",
       "        <tr>\n",
       "            <td>402719755 </td> <td>0.000145019           </td> <td>0.0343923             </td> <td>126   </td>\n",
       "        </tr>\n",
       "        <tr>\n",
       "            <td>442824717 </td> <td>1.61414e-05           </td> <td>0.0187438             </td> <td>82    </td>\n",
       "        </tr>\n",
       "        <tr>\n",
       "            <td>267854863 </td> <td>0.000461037           </td> <td>0.0329479             </td> <td>152   </td>\n",
       "        </tr>\n",
       "        <tr>\n",
       "            <td>21157904  </td> <td>0.00103138            </td> <td>0.0407424             </td> <td>185   </td>\n",
       "        </tr>\n",
       "        <tr>\n",
       "            <td>163570705 </td> <td>0.00064934            </td> <td>0.038126              </td> <td>184   </td>\n",
       "        </tr>\n",
       "        <tr>\n",
       "            <td>2962994194</td> <td>0.00059567            </td> <td>0.0337996             </td> <td>144   </td>\n",
       "        </tr>\n",
       "    </tbody>\n",
       "</table>\n",
       "<p>... (509 rows omitted)</p>"
      ],
      "text/plain": [
       "node_id    | betweenness_centrality | eigenvector_centrality | degree\n",
       "2974648323 | 1.42138e-05            | 0.00857233             | 32\n",
       "2253968388 | 0.00343253             | 0.0686945              | 316\n",
       "236511574  | 0.00111342             | 0.0367586              | 181\n",
       "161411080  | 0.00066305             | 0.037275               | 181\n",
       "402719755  | 0.000145019            | 0.0343923              | 126\n",
       "442824717  | 1.61414e-05            | 0.0187438              | 82\n",
       "267854863  | 0.000461037            | 0.0329479              | 152\n",
       "21157904   | 0.00103138             | 0.0407424              | 185\n",
       "163570705  | 0.00064934             | 0.038126               | 184\n",
       "2962994194 | 0.00059567             | 0.0337996              | 144\n",
       "... (509 rows omitted)"
      ]
     },
     "execution_count": 16,
     "metadata": {},
     "output_type": "execute_result"
    }
   ],
   "source": [
    "moc_node_centrality_dat = Table().with_columns(\n",
    "    'node_id', moc_data1['node_id'] ,\n",
    "    'betweenness_centrality', nx.betweenness_centrality(official_congress_twitter).values() ,\n",
    "    'eigenvector_centrality', nx.eigenvector_centrality(official_congress_twitter).values() ,\n",
    "    'degree', [y for (x,y) in list(official_congress_twitter.degree())])\n",
    "\n",
    "moc_node_centrality_dat"
   ]
  },
  {
   "cell_type": "code",
   "execution_count": 17,
   "metadata": {
    "deletable": false,
    "editable": false
   },
   "outputs": [
    {
     "name": "stdout",
     "output_type": "stream",
     "text": [
      "~~~~~~~~~~~~~~~~~~~~~~~~~~~~~~~~~~~~~~~~~~~~~~~~~~~~~~~~~~~~~~~~~~~~~\n",
      "Running tests\n",
      "\n",
      "---------------------------------------------------------------------\n",
      "Test summary\n",
      "    Passed: 4\n",
      "    Failed: 0\n",
      "[ooooooooook] 100.0% passed\n",
      "\n"
     ]
    }
   ],
   "source": [
    "ok.grade(\"q4\");"
   ]
  },
  {
   "cell_type": "markdown",
   "metadata": {
    "deletable": false,
    "editable": false
   },
   "source": [
    "**Question 5** Now join the centrality measures onto the dataset of node attributes. \n",
    "\n",
    "How to use `join` function: _data1_.join(name of the column for matching, _data2_)\n",
    "\n",
    "<!--\n",
    "BEGIN QUESTION\n",
    "name: q5\n",
    "points: 2\n",
    "manual: False\n",
    "-->"
   ]
  },
  {
   "cell_type": "code",
   "execution_count": 18,
   "metadata": {
    "scrolled": true
   },
   "outputs": [
    {
     "name": "stdout",
     "output_type": "stream",
     "text": [
      "519 31\n"
     ]
    },
    {
     "data": {
      "text/html": [
       "<table border=\"1\" class=\"dataframe\">\n",
       "    <thead>\n",
       "        <tr>\n",
       "            <th>node_id</th> <th>state</th> <th>nickname</th> <th>url</th> <th>last</th> <th>religion</th> <th>district</th> <th>party</th> <th>class</th> <th>birthday</th> <th>official_full</th> <th>phone</th> <th>bioguide</th> <th>start</th> <th>caucus</th> <th>contact_form</th> <th>twitter</th> <th>suffix</th> <th>type</th> <th>state_rank</th> <th>rss_url</th> <th>address</th> <th>office</th> <th>end</th> <th>fax</th> <th>gender</th> <th>first</th> <th>middle</th> <th>betweenness_centrality</th> <th>eigenvector_centrality</th> <th>degree</th>\n",
       "        </tr>\n",
       "    </thead>\n",
       "    <tbody>\n",
       "        <tr>\n",
       "            <td>5558312 </td> <td>AR   </td> <td>nan     </td> <td>https://www.boozman.senate.gov/public/index.cfm/home</td> <td>Boozman     </td> <td>nan             </td> <td>nan     </td> <td>Republican</td> <td>3    </td> <td>1950-12-10</td> <td>John Boozman       </td> <td>202-224-4843</td> <td>B001236 </td> <td>2011-01-05</td> <td>nan   </td> <td>http://www.boozman.senate.gov/public/index.cfm/e-mail-me    </td> <td>5.55831e+06</td> <td>nan   </td> <td>sen </td> <td>senior    </td> <td>http://www.boozman.senate.gov/public/index.cfm/rss/feed     </td> <td>141 Hart Senate Office Building Washington DC 20510   </td> <td>141 Hart Senate Office Building     </td> <td>2017-01-03</td> <td>202-228-1371</td> <td>M     </td> <td>John   </td> <td>nan    </td> <td>0.00067616            </td> <td>0.0387434             </td> <td>166   </td>\n",
       "        </tr>\n",
       "        <tr>\n",
       "            <td>6577802 </td> <td>GA   </td> <td>nan     </td> <td>https://tomprice.house.gov                          </td> <td>Price       </td> <td>nan             </td> <td>6       </td> <td>Republican</td> <td>nan  </td> <td>1954-10-08</td> <td>Tom Price          </td> <td>202-225-4501</td> <td>P000591 </td> <td>2015-01-06</td> <td>nan   </td> <td>https://tomprice.house.gov/contact-me                       </td> <td>6.5778e+06 </td> <td>nan   </td> <td>rep </td> <td>nan       </td> <td>http://tomprice.house.gov/rss.xml                           </td> <td>100 Cannon HOB; Washington DC 20515-1006              </td> <td>100 Cannon House Office Building    </td> <td>2017-01-03</td> <td>202-225-4656</td> <td>M     </td> <td>Tom    </td> <td>nan    </td> <td>0.00297229            </td> <td>0.0671233             </td> <td>308   </td>\n",
       "        </tr>\n",
       "        <tr>\n",
       "            <td>7429102 </td> <td>VA   </td> <td>nan     </td> <td>http://www.warner.senate.gov                        </td> <td>Warner      </td> <td>nan             </td> <td>nan     </td> <td>Democrat  </td> <td>2    </td> <td>1954-12-15</td> <td>Mark R. Warner     </td> <td>202-224-2023</td> <td>W000805 </td> <td>2015-01-06</td> <td>nan   </td> <td>http://www.warner.senate.gov/public//index.cfm?p=Contact ...</td> <td>7.4291e+06 </td> <td>nan   </td> <td>sen </td> <td>senior    </td> <td>http://www.warner.senate.gov/public/?a=rss.feed             </td> <td>475 Russell Senate Office Building Washington DC 20510</td> <td>475 Russell Senate Office Building  </td> <td>2021-01-03</td> <td>202-224-6295</td> <td>M     </td> <td>Mark   </td> <td>nan    </td> <td>0.000896977           </td> <td>0.0328334             </td> <td>164   </td>\n",
       "        </tr>\n",
       "        <tr>\n",
       "            <td>10615232</td> <td>IA   </td> <td>Chuck   </td> <td>http://www.grassley.senate.gov                      </td> <td>Grassley    </td> <td>Baptist         </td> <td>nan     </td> <td>Republican</td> <td>3    </td> <td>1933-09-17</td> <td>Chuck Grassley     </td> <td>202-224-3744</td> <td>G000386 </td> <td>2011-01-05</td> <td>nan   </td> <td>http://www.grassley.senate.gov/constituents/questions-an ...</td> <td>1.06152e+07</td> <td>nan   </td> <td>sen </td> <td>senior    </td> <td>http://grassley.senate.gov/customcf/rss_feed.cfm            </td> <td>135 Hart Senate Office Building Washington DC 20510   </td> <td>135 Hart Senate Office Building     </td> <td>2017-01-03</td> <td>202-224-6020</td> <td>M     </td> <td>Charles</td> <td>E.     </td> <td>0.000854794           </td> <td>0.0395565             </td> <td>171   </td>\n",
       "        </tr>\n",
       "        <tr>\n",
       "            <td>11651202</td> <td>MT   </td> <td>nan     </td> <td>https://www.daines.senate.gov                       </td> <td>Daines      </td> <td>nan             </td> <td>nan     </td> <td>Republican</td> <td>2    </td> <td>1962-08-20</td> <td>Steve Daines       </td> <td>202-224-2651</td> <td>D000618 </td> <td>2015-01-06</td> <td>nan   </td> <td>nan                                                         </td> <td>1.16512e+07</td> <td>nan   </td> <td>sen </td> <td>junior    </td> <td>nan                                                         </td> <td>320 Hart Senate Office Building Washington DC 20510   </td> <td>320 Hart Senate Office Building     </td> <td>2021-01-03</td> <td>202-228-1236</td> <td>M     </td> <td>Steve  </td> <td>nan    </td> <td>0.000849762           </td> <td>0.0451919             </td> <td>195   </td>\n",
       "        </tr>\n",
       "        <tr>\n",
       "            <td>13218102</td> <td>TX   </td> <td>nan     </td> <td>https://www.cornyn.senate.gov                       </td> <td>Cornyn      </td> <td>Church of Christ</td> <td>nan     </td> <td>Republican</td> <td>2    </td> <td>1952-02-02</td> <td>John Cornyn        </td> <td>202-224-2934</td> <td>C001056 </td> <td>2015-01-06</td> <td>nan   </td> <td>http://www.cornyn.senate.gov/public/index.cfm?p=ContactForm </td> <td>1.32181e+07</td> <td>nan   </td> <td>sen </td> <td>senior    </td> <td>http://www.cornyn.senate.gov/public/?a=rss.feed             </td> <td>517 Hart Senate Office Building Washington DC 20510   </td> <td>517 Hart Senate Office Building     </td> <td>2021-01-03</td> <td>202-228-2856</td> <td>M     </td> <td>John   </td> <td>nan    </td> <td>0.0023205             </td> <td>0.0556747             </td> <td>252   </td>\n",
       "        </tr>\n",
       "        <tr>\n",
       "            <td>13491312</td> <td>OH   </td> <td>nan     </td> <td>http://timryan.house.gov                            </td> <td>Ryan        </td> <td>Roman Catholic  </td> <td>13      </td> <td>Democrat  </td> <td>nan  </td> <td>1973-07-16</td> <td>Tim Ryan           </td> <td>202-225-5261</td> <td>R000577 </td> <td>2015-01-06</td> <td>nan   </td> <td>http://timryanforms.house.gov/contact/                      </td> <td>1.34913e+07</td> <td>nan   </td> <td>rep </td> <td>nan       </td> <td>http://timryan.house.gov/rss.xml                            </td> <td>1421 Longworth HOB; Washington DC 20515-3513          </td> <td>1421 Longworth House Office Building</td> <td>2017-01-03</td> <td>202-225-3719</td> <td>M     </td> <td>Tim    </td> <td>J.     </td> <td>0.00285081            </td> <td>0.0563345             </td> <td>271   </td>\n",
       "        </tr>\n",
       "        <tr>\n",
       "            <td>14135426</td> <td>MN   </td> <td>nan     </td> <td>http://ellison.house.gov                            </td> <td>Ellison     </td> <td>nan             </td> <td>5       </td> <td>Democrat  </td> <td>nan  </td> <td>1963-08-04</td> <td>Keith Ellison      </td> <td>202-225-4755</td> <td>E000288 </td> <td>2015-01-06</td> <td>nan   </td> <td>http://ellison.house.gov/contact                            </td> <td>1.41354e+07</td> <td>nan   </td> <td>rep </td> <td>nan       </td> <td>http://ellison.house.gov/index.php?format=feed&amp;type=rss </td> <td>2263 Rayburn HOB; Washington DC 20515-2305            </td> <td>2263 Rayburn House Office Building  </td> <td>2017-01-03</td> <td>202-225-4886</td> <td>M     </td> <td>Keith  </td> <td>Maurice</td> <td>0.00081604            </td> <td>0.0382938             </td> <td>193   </td>\n",
       "        </tr>\n",
       "        <tr>\n",
       "            <td>14275291</td> <td>FL   </td> <td>nan     </td> <td>http://ros-lehtinen.house.gov                       </td> <td>Ros-Lehtinen</td> <td>Roman Catholic  </td> <td>27      </td> <td>Republican</td> <td>nan  </td> <td>1952-07-15</td> <td>Ileana Ros-Lehtinen</td> <td>202-225-3931</td> <td>R000435 </td> <td>2015-01-06</td> <td>nan   </td> <td>https://ros-lehtinen.house.gov/contact-me/email-me          </td> <td>1.42753e+07</td> <td>nan   </td> <td>rep </td> <td>nan       </td> <td>http://ros-lehtinen.house.gov/rss.xml                       </td> <td>2206 Rayburn HOB; Washington DC 20515-0927            </td> <td>2206 Rayburn House Office Building  </td> <td>2017-01-03</td> <td>202-225-5620</td> <td>F     </td> <td>Ileana </td> <td>nan    </td> <td>0.00115145            </td> <td>0.0495                </td> <td>201   </td>\n",
       "        </tr>\n",
       "        <tr>\n",
       "            <td>14845376</td> <td>SC   </td> <td>nan     </td> <td>http://www.lgraham.senate.gov/public                </td> <td>Graham      </td> <td>Southern Baptist</td> <td>nan     </td> <td>Republican</td> <td>2    </td> <td>1955-07-09</td> <td>Lindsey Graham     </td> <td>202-224-5972</td> <td>G000359 </td> <td>2015-01-06</td> <td>nan   </td> <td>http://www.lgraham.senate.gov/public/index.cfm?FuseActio ...</td> <td>1.48454e+07</td> <td>nan   </td> <td>sen </td> <td>senior    </td> <td>http://www.lgraham.senate.gov/public/index.cfm?FuseActio ...</td> <td>290 Russell Senate Office Building Washington DC 20510</td> <td>290 Russell Senate Office Building  </td> <td>2021-01-03</td> <td>202-224-3808</td> <td>M     </td> <td>Lindsey</td> <td>O.     </td> <td>0.000504188           </td> <td>0.0366579             </td> <td>156   </td>\n",
       "        </tr>\n",
       "    </tbody>\n",
       "</table>\n",
       "<p>... (509 rows omitted)</p>"
      ],
      "text/plain": [
       "node_id  | state | nickname | url                                                  | last         | religion         | district | party      | class | birthday   | official_full       | phone        | bioguide | start      | caucus | contact_form                                                 | twitter     | suffix | type | state_rank | rss_url                                                      | address                                                | office                               | end        | fax          | gender | first   | middle  | betweenness_centrality | eigenvector_centrality | degree\n",
       "5558312  | AR    | nan      | https://www.boozman.senate.gov/public/index.cfm/home | Boozman      | nan              | nan      | Republican | 3     | 1950-12-10 | John Boozman        | 202-224-4843 | B001236  | 2011-01-05 | nan    | http://www.boozman.senate.gov/public/index.cfm/e-mail-me     | 5.55831e+06 | nan    | sen  | senior     | http://www.boozman.senate.gov/public/index.cfm/rss/feed      | 141 Hart Senate Office Building Washington DC 20510    | 141 Hart Senate Office Building      | 2017-01-03 | 202-228-1371 | M      | John    | nan     | 0.00067616             | 0.0387434              | 166\n",
       "6577802  | GA    | nan      | https://tomprice.house.gov                           | Price        | nan              | 6        | Republican | nan   | 1954-10-08 | Tom Price           | 202-225-4501 | P000591  | 2015-01-06 | nan    | https://tomprice.house.gov/contact-me                        | 6.5778e+06  | nan    | rep  | nan        | http://tomprice.house.gov/rss.xml                            | 100 Cannon HOB; Washington DC 20515-1006               | 100 Cannon House Office Building     | 2017-01-03 | 202-225-4656 | M      | Tom     | nan     | 0.00297229             | 0.0671233              | 308\n",
       "7429102  | VA    | nan      | http://www.warner.senate.gov                         | Warner       | nan              | nan      | Democrat   | 2     | 1954-12-15 | Mark R. Warner      | 202-224-2023 | W000805  | 2015-01-06 | nan    | http://www.warner.senate.gov/public//index.cfm?p=Contact ... | 7.4291e+06  | nan    | sen  | senior     | http://www.warner.senate.gov/public/?a=rss.feed              | 475 Russell Senate Office Building Washington DC 20510 | 475 Russell Senate Office Building   | 2021-01-03 | 202-224-6295 | M      | Mark    | nan     | 0.000896977            | 0.0328334              | 164\n",
       "10615232 | IA    | Chuck    | http://www.grassley.senate.gov                       | Grassley     | Baptist          | nan      | Republican | 3     | 1933-09-17 | Chuck Grassley      | 202-224-3744 | G000386  | 2011-01-05 | nan    | http://www.grassley.senate.gov/constituents/questions-an ... | 1.06152e+07 | nan    | sen  | senior     | http://grassley.senate.gov/customcf/rss_feed.cfm             | 135 Hart Senate Office Building Washington DC 20510    | 135 Hart Senate Office Building      | 2017-01-03 | 202-224-6020 | M      | Charles | E.      | 0.000854794            | 0.0395565              | 171\n",
       "11651202 | MT    | nan      | https://www.daines.senate.gov                        | Daines       | nan              | nan      | Republican | 2     | 1962-08-20 | Steve Daines        | 202-224-2651 | D000618  | 2015-01-06 | nan    | nan                                                          | 1.16512e+07 | nan    | sen  | junior     | nan                                                          | 320 Hart Senate Office Building Washington DC 20510    | 320 Hart Senate Office Building      | 2021-01-03 | 202-228-1236 | M      | Steve   | nan     | 0.000849762            | 0.0451919              | 195\n",
       "13218102 | TX    | nan      | https://www.cornyn.senate.gov                        | Cornyn       | Church of Christ | nan      | Republican | 2     | 1952-02-02 | John Cornyn         | 202-224-2934 | C001056  | 2015-01-06 | nan    | http://www.cornyn.senate.gov/public/index.cfm?p=ContactForm  | 1.32181e+07 | nan    | sen  | senior     | http://www.cornyn.senate.gov/public/?a=rss.feed              | 517 Hart Senate Office Building Washington DC 20510    | 517 Hart Senate Office Building      | 2021-01-03 | 202-228-2856 | M      | John    | nan     | 0.0023205              | 0.0556747              | 252\n",
       "13491312 | OH    | nan      | http://timryan.house.gov                             | Ryan         | Roman Catholic   | 13       | Democrat   | nan   | 1973-07-16 | Tim Ryan            | 202-225-5261 | R000577  | 2015-01-06 | nan    | http://timryanforms.house.gov/contact/                       | 1.34913e+07 | nan    | rep  | nan        | http://timryan.house.gov/rss.xml                             | 1421 Longworth HOB; Washington DC 20515-3513           | 1421 Longworth House Office Building | 2017-01-03 | 202-225-3719 | M      | Tim     | J.      | 0.00285081             | 0.0563345              | 271\n",
       "14135426 | MN    | nan      | http://ellison.house.gov                             | Ellison      | nan              | 5        | Democrat   | nan   | 1963-08-04 | Keith Ellison       | 202-225-4755 | E000288  | 2015-01-06 | nan    | http://ellison.house.gov/contact                             | 1.41354e+07 | nan    | rep  | nan        | http://ellison.house.gov/index.php?format=feed&amp;type=rss  | 2263 Rayburn HOB; Washington DC 20515-2305             | 2263 Rayburn House Office Building   | 2017-01-03 | 202-225-4886 | M      | Keith   | Maurice | 0.00081604             | 0.0382938              | 193\n",
       "14275291 | FL    | nan      | http://ros-lehtinen.house.gov                        | Ros-Lehtinen | Roman Catholic   | 27       | Republican | nan   | 1952-07-15 | Ileana Ros-Lehtinen | 202-225-3931 | R000435  | 2015-01-06 | nan    | https://ros-lehtinen.house.gov/contact-me/email-me           | 1.42753e+07 | nan    | rep  | nan        | http://ros-lehtinen.house.gov/rss.xml                        | 2206 Rayburn HOB; Washington DC 20515-0927             | 2206 Rayburn House Office Building   | 2017-01-03 | 202-225-5620 | F      | Ileana  | nan     | 0.00115145             | 0.0495                 | 201\n",
       "14845376 | SC    | nan      | http://www.lgraham.senate.gov/public                 | Graham       | Southern Baptist | nan      | Republican | 2     | 1955-07-09 | Lindsey Graham      | 202-224-5972 | G000359  | 2015-01-06 | nan    | http://www.lgraham.senate.gov/public/index.cfm?FuseActio ... | 1.48454e+07 | nan    | sen  | senior     | http://www.lgraham.senate.gov/public/index.cfm?FuseActio ... | 290 Russell Senate Office Building Washington DC 20510 | 290 Russell Senate Office Building   | 2021-01-03 | 202-224-3808 | M      | Lindsey | O.      | 0.000504188            | 0.0366579              | 156\n",
       "... (509 rows omitted)"
      ]
     },
     "execution_count": 18,
     "metadata": {},
     "output_type": "execute_result"
    }
   ],
   "source": [
    "moc_data = moc_data1.join('node_id',moc_node_centrality_dat)\n",
    "print(moc_data.num_rows, moc_data.num_columns)\n",
    "moc_data"
   ]
  },
  {
   "cell_type": "code",
   "execution_count": 19,
   "metadata": {
    "deletable": false,
    "editable": false
   },
   "outputs": [
    {
     "name": "stdout",
     "output_type": "stream",
     "text": [
      "~~~~~~~~~~~~~~~~~~~~~~~~~~~~~~~~~~~~~~~~~~~~~~~~~~~~~~~~~~~~~~~~~~~~~\n",
      "Running tests\n",
      "\n",
      "---------------------------------------------------------------------\n",
      "Test summary\n",
      "    Passed: 2\n",
      "    Failed: 0\n",
      "[ooooooooook] 100.0% passed\n",
      "\n"
     ]
    }
   ],
   "source": [
    "ok.grade(\"q5\");"
   ]
  },
  {
   "cell_type": "markdown",
   "metadata": {
    "deletable": false,
    "editable": false
   },
   "source": [
    "**Question 6** Use `moc_data` to figure out the average degree of Republicans and Democrats. [Hint: Use select and group functions.]\n",
    "\n",
    "<!--\n",
    "BEGIN QUESTION\n",
    "name: q6\n",
    "manual: False\n",
    "points: 4\n",
    "-->"
   ]
  },
  {
   "cell_type": "code",
   "execution_count": 20,
   "metadata": {},
   "outputs": [
    {
     "data": {
      "text/html": [
       "<table border=\"1\" class=\"dataframe\">\n",
       "    <thead>\n",
       "        <tr>\n",
       "            <th>party</th> <th>degree mean</th>\n",
       "        </tr>\n",
       "    </thead>\n",
       "    <tbody>\n",
       "        <tr>\n",
       "            <td>Democrat   </td> <td>175.27     </td>\n",
       "        </tr>\n",
       "        <tr>\n",
       "            <td>Independent</td> <td>145.5      </td>\n",
       "        </tr>\n",
       "        <tr>\n",
       "            <td>Republican </td> <td>191.113    </td>\n",
       "        </tr>\n",
       "    </tbody>\n",
       "</table>"
      ],
      "text/plain": [
       "party       | degree mean\n",
       "Democrat    | 175.27\n",
       "Independent | 145.5\n",
       "Republican  | 191.113"
      ]
     },
     "execution_count": 20,
     "metadata": {},
     "output_type": "execute_result"
    }
   ],
   "source": [
    "# Note that you have to change func_name1 and func_name2 as well\n",
    "party_degree=moc_data.select(['party', 'degree']).group('party', np.mean)\n",
    "\n",
    "party_degree"
   ]
  },
  {
   "cell_type": "code",
   "execution_count": 21,
   "metadata": {
    "deletable": false,
    "editable": false
   },
   "outputs": [
    {
     "name": "stdout",
     "output_type": "stream",
     "text": [
      "~~~~~~~~~~~~~~~~~~~~~~~~~~~~~~~~~~~~~~~~~~~~~~~~~~~~~~~~~~~~~~~~~~~~~\n",
      "Running tests\n",
      "\n",
      "---------------------------------------------------------------------\n",
      "Test summary\n",
      "    Passed: 3\n",
      "    Failed: 0\n",
      "[ooooooooook] 100.0% passed\n",
      "\n"
     ]
    }
   ],
   "source": [
    "ok.grade(\"q6\");"
   ]
  },
  {
   "cell_type": "markdown",
   "metadata": {
    "deletable": false,
    "editable": false
   },
   "source": [
    "**Question 7** Use `moc_data` to figure out the average degree of males and females in the dataset. [Hint: Use select and group functions.]\n",
    "\n",
    "<!--\n",
    "BEGIN QUESTION\n",
    "name: q7\n",
    "points: 4\n",
    "manual: False\n",
    "-->"
   ]
  },
  {
   "cell_type": "code",
   "execution_count": 22,
   "metadata": {},
   "outputs": [
    {
     "data": {
      "text/html": [
       "<table border=\"1\" class=\"dataframe\">\n",
       "    <thead>\n",
       "        <tr>\n",
       "            <th>gender</th> <th>degree mean</th>\n",
       "        </tr>\n",
       "    </thead>\n",
       "    <tbody>\n",
       "        <tr>\n",
       "            <td>F     </td> <td>197.286    </td>\n",
       "        </tr>\n",
       "        <tr>\n",
       "            <td>M     </td> <td>180.679    </td>\n",
       "        </tr>\n",
       "    </tbody>\n",
       "</table>"
      ],
      "text/plain": [
       "gender | degree mean\n",
       "F      | 197.286\n",
       "M      | 180.679"
      ]
     },
     "execution_count": 22,
     "metadata": {},
     "output_type": "execute_result"
    }
   ],
   "source": [
    "# Note that you have to change func_name1 and func_name2 as well\n",
    "gender_degree=moc_data.select(['gender', 'degree']).group('gender', np.mean)\n",
    "\n",
    "gender_degree"
   ]
  },
  {
   "cell_type": "code",
   "execution_count": 23,
   "metadata": {
    "deletable": false,
    "editable": false
   },
   "outputs": [
    {
     "name": "stdout",
     "output_type": "stream",
     "text": [
      "~~~~~~~~~~~~~~~~~~~~~~~~~~~~~~~~~~~~~~~~~~~~~~~~~~~~~~~~~~~~~~~~~~~~~\n",
      "Running tests\n",
      "\n",
      "---------------------------------------------------------------------\n",
      "Test summary\n",
      "    Passed: 2\n",
      "    Failed: 0\n",
      "[ooooooooook] 100.0% passed\n",
      "\n"
     ]
    }
   ],
   "source": [
    "ok.grade(\"q7\");"
   ]
  },
  {
   "cell_type": "markdown",
   "metadata": {
    "deletable": false,
    "editable": false
   },
   "source": [
    "**Question 8** Make a histogram that shows the degree distribution for moc_data table.\n",
    "\n",
    "<!--\n",
    "BEGIN QUESTION\n",
    "name: q8\n",
    "manual: True\n",
    "points: 2\n",
    "-->\n",
    "<!-- EXPORT TO PDF -->"
   ]
  },
  {
   "cell_type": "code",
   "execution_count": 24,
   "metadata": {},
   "outputs": [
    {
     "data": {
      "image/png": "[encoded data removed]",
      "text/plain": [
       "<Figure size 432x288 with 1 Axes>"
      ]
     },
     "metadata": {
      "needs_background": "light"
     },
     "output_type": "display_data"
    }
   ],
   "source": [
    "moc_data.hist('degree')"
   ]
  },
  {
   "cell_type": "markdown",
   "metadata": {
    "deletable": false,
    "editable": false
   },
   "source": [
    "**Question 9** Make a histogram that shows the distribution of betweenness for moc_data table.\n",
    "\n",
    "<!--\n",
    "BEGIN QUESTION\n",
    "name: q9\n",
    "manual: True\n",
    "points: 2\n",
    "-->\n",
    "<!-- EXPORT TO PDF -->"
   ]
  },
  {
   "cell_type": "code",
   "execution_count": 25,
   "metadata": {},
   "outputs": [
    {
     "data": {
      "image/png": "[encoded data removed]",
      "text/plain": [
       "<Figure size 432x288 with 1 Axes>"
      ]
     },
     "metadata": {
      "needs_background": "light"
     },
     "output_type": "display_data"
    }
   ],
   "source": [
    "moc_data.hist('betweenness_centrality')"
   ]
  },
  {
   "cell_type": "markdown",
   "metadata": {
    "deletable": false,
    "editable": false
   },
   "source": [
    "**Question 10** Make a histogram that shows the distribution of eigenvector centrality.\n",
    "\n",
    "<!--\n",
    "BEGIN QUESTION\n",
    "name: q10\n",
    "points: 2\n",
    "manual: True\n",
    "-->\n",
    "<!-- EXPORT TO PDF -->"
   ]
  },
  {
   "cell_type": "code",
   "execution_count": 26,
   "metadata": {},
   "outputs": [
    {
     "data": {
      "image/png": "[encoded data removed]",
      "text/plain": [
       "<Figure size 432x288 with 1 Axes>"
      ]
     },
     "metadata": {
      "needs_background": "light"
     },
     "output_type": "display_data"
    }
   ],
   "source": [
    "moc_data.hist('eigenvector_centrality')"
   ]
  },
  {
   "cell_type": "markdown",
   "metadata": {
    "deletable": false,
    "editable": false
   },
   "source": [
    "**Question 11** Make a scatterplot that compares degree (x axis) and betweenness centrality.\n",
    "\n",
    "<!--\n",
    "BEGIN QUESTION\n",
    "name: q11\n",
    "points: 2\n",
    "manual: True\n",
    "-->\n",
    "<!-- EXPORT TO PDF -->"
   ]
  },
  {
   "cell_type": "code",
   "execution_count": 27,
   "metadata": {},
   "outputs": [
    {
     "data": {
      "image/png": "[encoded data removed]",
      "text/plain": [
       "<Figure size 360x360 with 1 Axes>"
      ]
     },
     "metadata": {
      "needs_background": "light"
     },
     "output_type": "display_data"
    }
   ],
   "source": [
    "moc_data.scatter('degree', 'betweenness_centrality');"
   ]
  },
  {
   "cell_type": "markdown",
   "metadata": {
    "deletable": false,
    "editable": false
   },
   "source": [
    "**Question 12** Make another scatterplot that compares degree (x axis) and eigenvector centrality.\n",
    "\n",
    "<!--\n",
    "BEGIN QUESTION\n",
    "name: q12\n",
    "points: 2\n",
    "manual: True\n",
    "-->\n",
    "<!-- EXPORT TO PDF -->"
   ]
  },
  {
   "cell_type": "code",
   "execution_count": 28,
   "metadata": {},
   "outputs": [
    {
     "data": {
      "image/png": "[encoded data removed]",
      "text/plain": [
       "<Figure size 360x360 with 1 Axes>"
      ]
     },
     "metadata": {
      "needs_background": "light"
     },
     "output_type": "display_data"
    }
   ],
   "source": [
    "moc_data.scatter('degree', 'eigenvector_centrality');"
   ]
  },
  {
   "cell_type": "markdown",
   "metadata": {
    "deletable": false,
    "editable": false
   },
   "source": [
    "**Question 13** In one or two sentences, how would you describe the relationship between these different centrality measures?\n",
    "\n",
    "<!--\n",
    "BEGIN QUESTION\n",
    "name: q13\n",
    "points: 2\n",
    "manual: True\n",
    "-->\n",
    "<!-- EXPORT TO PDF -->"
   ]
  },
  {
   "cell_type": "code",
   "execution_count": 29,
   "metadata": {},
   "outputs": [],
   "source": [
    "# I think that in general degree centrality, eigenvector centrality, and betweenness cnetrality is consist with each \n",
    "# other, and restrict each other as well. A node with fewer degree can not have that high eigenvector centrality & \n",
    "# betweenness centrality. But it doesn't means that a node with large degree will certainly have high eigenvector \n",
    "# centrality & betweenness centrality."
   ]
  },
  {
   "cell_type": "markdown",
   "metadata": {},
   "source": [
    "### Using epidemic models to understand centrality"
   ]
  },
  {
   "cell_type": "markdown",
   "metadata": {},
   "source": [
    "The plots you made above show that the three different metrics of centrality (degree, eigenvector centrality, and betweenness centrality) do not all agree with each other. Our task now is to investigate which of these three quantities appears to be most effective for capturing how important a node is to the spread of an SIR epidemic on the MOC Twitter network.\n",
    "\n",
    "One approach to this problem would be to try to analyze the SIR model mathematically: we could see if we could figure out which of the three metrics seems most closely related to the dynamics of the model. The alternative - which we will use here - is to use simulation to study this model. \n",
    "\n",
    "We will explore how innoculating nodes based on (1) their degree; and (2) their eigenvector centrality affects the expected size of an SIR epidemic on the MOC Twitter network. The idea is that if, for example, nodes' degrees are a good metric for centrality in an SIR epidemic, then innoculating nodes with high degree should be effective at slowing the spread of an SIR epidemic."
   ]
  },
  {
   "cell_type": "markdown",
   "metadata": {},
   "source": [
    "We'll start by bringing in several functions that we used in lab:"
   ]
  },
  {
   "cell_type": "code",
   "execution_count": 30,
   "metadata": {},
   "outputs": [],
   "source": [
    "def set_status(net, ids, value):\n",
    "    \"\"\"\n",
    "    set the value of the 'status' attribute for the nodes with the given ids\n",
    "    in the given network\n",
    "    \"\"\"\n",
    "    nx.set_node_attributes(net,  \n",
    "                           dict([x for x in zip(ids, [value]*len(ids))]),\n",
    "                          'status')\n",
    "\n",
    "def get_status(net, ids):\n",
    "    \"\"\"\n",
    "    get the value of the 'status' attributes for the nodes \n",
    "    with given ids in the given network\n",
    "    \"\"\"\n",
    "    dat = nx.get_node_attributes(net, 'status')\n",
    "    return([dat[x] for x in ids])\n",
    "\n",
    "def count_infected_nodes(net):\n",
    "    return(np.sum(np.array(list(nx.get_node_attributes(net, 'status').values())) == 'infected'))\n",
    "\n",
    "def sim_epidemic(net, start_nodes=None, innoculated_nodes=None, beta=0.3, draw=False):\n",
    "    \n",
    "    # all nodes start susceptible\n",
    "    set_status(net, net.nodes(), 'susceptible')\n",
    "\n",
    "    # innoculated nodes start as recovered\n",
    "    if innoculated_nodes is not None:\n",
    "        set_status(net, innoculated_nodes, 'innoculated')\n",
    "    else:\n",
    "        innoculated_nodes = []\n",
    "\n",
    "    eligible_to_start = [x for x in net.nodes() if x not in innoculated_nodes]        \n",
    "        \n",
    "    # if no start_nodes specified, pick one node at random as the seed\n",
    "    if start_nodes is None:\n",
    "        infected_nodes = np.random.choice(eligible_to_start, 1)\n",
    "    else:\n",
    "        infected_nodes = start_nodes\n",
    "\n",
    "    \n",
    "    set_status(net, infected_nodes, 'infected')\n",
    "\n",
    "    incidence = [len(infected_nodes)]\n",
    "    \n",
    "    if draw:\n",
    "        status_cmap = {'susceptible' : '#00FF00', 'infected' : '#FF0000', 'recovered' : '#000000', 'innoculated' : '#0000FF'}\n",
    "        pos = nx.random_layout(net)\n",
    "        \n",
    "        #fig_nums = []\n",
    "\n",
    "    while count_infected_nodes(net) > 0:\n",
    "\n",
    "        if draw:\n",
    "            next_fig, next_ax = plt.subplots() \n",
    "            plt.figure(nx.draw(net, \n",
    "                               pos=pos,\n",
    "                               cmap=status_cmap, \n",
    "                               node_color=[status_cmap[net.node[node]['status']] for node in net]));\n",
    "            #nx.draw(net, \n",
    "            #                   pos=pos,\n",
    "            #                   cmap=status_cmap, \n",
    "            #                   node_color=[status_cmap[net.node[node]['status']] for node in net],\n",
    "            #                   ax=next_ax)\n",
    "            #fig_nums.append(plt.gcf().number)\n",
    "        \n",
    "        ## get neighbors of infected nodes\n",
    "        neighbors = [net.neighbors(x) for x in infected_nodes]\n",
    "\n",
    "        # see http://stackoverflow.com/questions/952914/making-a-flat-list-out-of-list-of-lists-in-python\n",
    "        neighbors = [item for sublist in neighbors for item in sublist]        \n",
    "        neighbors_status = np.array(get_status(net, neighbors))\n",
    "\n",
    "        ## set infected nodes to recovered\n",
    "        set_status(net, infected_nodes, 'recovered')\n",
    "\n",
    "        ## infect susceptible neighbors with probability beta x number of infected contacts\n",
    "        ## (a node with more than one infected contact will have more than one draws at being infected here)\n",
    "        neighbors = [x[0] for x in zip(neighbors, neighbors_status) if x[1] == 'susceptible']\n",
    "        infect_draws = np.random.random_sample(len(neighbors))\n",
    "        to_infect = list(np.array(neighbors)[np.where(infect_draws < beta)])\n",
    "\n",
    "        num_infected_this_round = len(set(to_infect))\n",
    "        \n",
    "        set_status(net, to_infect, 'infected')\n",
    "        infected_nodes = to_infect\n",
    "\n",
    "        ## record number infected this round (also called incidence at this time step)\n",
    "        incidence.append(num_infected_this_round)\n",
    "    \n",
    "    return incidence"
   ]
  },
  {
   "cell_type": "markdown",
   "metadata": {},
   "source": [
    "And here are a couple of additional functions that will be helpful when we investigate innoculation strategies below:"
   ]
  },
  {
   "cell_type": "code",
   "execution_count": 31,
   "metadata": {},
   "outputs": [],
   "source": [
    "## example usage\n",
    "## get_top_k(moc_data, 'degree', 10)\n",
    "\n",
    "def get_top_k(data, col, k):\n",
    "    node_ids = data.sort(col, descending=True).take(np.arange(0,k)).column('node_id')\n",
    "    return(node_ids)\n",
    "\n",
    "## example usage\n",
    "## get_random_k(moc_data, 10)\n",
    "\n",
    "def get_random_k(data, k):\n",
    "    node_ids = data.sample(k, with_replacement=False).column('node_id')\n",
    "    return(node_ids)"
   ]
  },
  {
   "cell_type": "markdown",
   "metadata": {},
   "source": [
    "### Simulating an SIR epidemic on the MOC Twitter network"
   ]
  },
  {
   "cell_type": "markdown",
   "metadata": {},
   "source": [
    "To start, we'll get a baseline idea of how an SIR epidemic would unfold in the MOC Twitter network. We'll be working with the following parameter values:"
   ]
  },
  {
   "cell_type": "code",
   "execution_count": 32,
   "metadata": {},
   "outputs": [],
   "source": [
    "num_vaccines = 300\n",
    "beta_param = .01\n",
    "num_sims = 3000"
   ]
  },
  {
   "cell_type": "markdown",
   "metadata": {
    "deletable": false,
    "editable": false
   },
   "source": [
    "**Question 14** Following the pattern from lecture, simulate `num_sims` SIR epidemics with $\\beta=$`beta_param`. Then make a histogram of the distribution of the resulting number infected.  \n",
    "*[NOTE: this will take about 5 minutes to run]*\n",
    "\n",
    "<!--\n",
    "BEGIN QUESTION\n",
    "name: q14\n",
    "points: 3\n",
    "manual: False\n",
    "-->"
   ]
  },
  {
   "cell_type": "code",
   "execution_count": 33,
   "metadata": {},
   "outputs": [
    {
     "data": {
      "image/png": "[encoded data removed]",
      "text/plain": [
       "<Figure size 432x288 with 1 Axes>"
      ]
     },
     "metadata": {
      "needs_background": "light"
     },
     "output_type": "display_data"
    }
   ],
   "source": [
    "np.random.seed(99)\n",
    "num_infected = make_array()\n",
    "\n",
    "# Running this simulation will take about 3min...\n",
    "for _ in range(num_sims):\n",
    "    num_infected = np.append(num_infected, np.sum(sim_epidemic(official_congress_twitter, beta=beta_param)))\n",
    "    \n",
    "moc_sir_res_table = Table().with_column('num_infected', num_infected)\n",
    "moc_sir_res_table.hist()"
   ]
  },
  {
   "cell_type": "code",
   "execution_count": 34,
   "metadata": {
    "deletable": false,
    "editable": false
   },
   "outputs": [
    {
     "name": "stdout",
     "output_type": "stream",
     "text": [
      "~~~~~~~~~~~~~~~~~~~~~~~~~~~~~~~~~~~~~~~~~~~~~~~~~~~~~~~~~~~~~~~~~~~~~\n",
      "Running tests\n",
      "\n",
      "---------------------------------------------------------------------\n",
      "Test summary\n",
      "    Passed: 1\n",
      "    Failed: 0\n",
      "[ooooooooook] 100.0% passed\n",
      "\n"
     ]
    }
   ],
   "source": [
    "ok.grade(\"q14\");"
   ]
  },
  {
   "cell_type": "markdown",
   "metadata": {
    "deletable": false,
    "editable": false
   },
   "source": [
    "**Question 15** Now summarize the SIR epidemic on the MOC Twitter network by calculating the mean number infected in the simulations you just ran.\n",
    "\n",
    "<!--\n",
    "BEGIN QUESTION\n",
    "name: q15\n",
    "points: 3\n",
    "manual: True\n",
    "-->\n",
    "<!-- EXPORT TO PDF -->"
   ]
  },
  {
   "cell_type": "code",
   "execution_count": 35,
   "metadata": {},
   "outputs": [
    {
     "data": {
      "text/plain": [
       "296.7436666666667"
      ]
     },
     "execution_count": 35,
     "metadata": {},
     "output_type": "execute_result"
    }
   ],
   "source": [
    "moc_sir_mean_infected = np.mean(moc_sir_res_table['num_infected'])\n",
    "\n",
    "moc_sir_mean_infected"
   ]
  },
  {
   "cell_type": "code",
   "execution_count": 36,
   "metadata": {
    "deletable": false,
    "editable": false
   },
   "outputs": [
    {
     "name": "stdout",
     "output_type": "stream",
     "text": [
      "~~~~~~~~~~~~~~~~~~~~~~~~~~~~~~~~~~~~~~~~~~~~~~~~~~~~~~~~~~~~~~~~~~~~~\n",
      "Running tests\n",
      "\n",
      "---------------------------------------------------------------------\n",
      "Test summary\n",
      "    Passed: 1\n",
      "    Failed: 0\n",
      "[ooooooooook] 100.0% passed\n",
      "\n"
     ]
    }
   ],
   "source": [
    "ok.grade(\"q15\");"
   ]
  },
  {
   "cell_type": "markdown",
   "metadata": {},
   "source": [
    "## Exploring innoculation strategies"
   ]
  },
  {
   "cell_type": "markdown",
   "metadata": {},
   "source": [
    "Now that we have some understanding of how an SIR epidemic would unfold on the MOC Twitter network, we're going to try to compare different strategies for innoculating nodes in the network.\n",
    "The idea is to use this approach to try and understand what characteristics make for **central** nodes in this network. We'll consider a node to be central if innoculating it reduces the expected size of the epidemic by a lot.\n",
    "\n",
    "We're going to compare three different ways of measuring centrality: degree centrality, betweenness centrality, and eigenvector centrality. Our goal is to determine which of these three different centrality measures does the best job of telling us which nodes to innoculate in order to prevent the spread of an epidemic on this MOC Twitter network.\n",
    "\n",
    "Note that we're using the language of disease in this assignment, as we have in lecture. But the SIR model could describe the spread of anything that is governed by simple contagion. For example, in the case of the MOC Twitter network, it might be more interesting to think about information spreading through a simple contagion-type mechanism. In that case, this analysis helps us uncover the centrality metric that best predicts which Members of Congress are most important for the flow of information across the MOC Twitter network."
   ]
  },
  {
   "cell_type": "markdown",
   "metadata": {},
   "source": [
    "### Innoculate by degree"
   ]
  },
  {
   "cell_type": "markdown",
   "metadata": {},
   "source": [
    "First, we'll investigate degree centrality--that is, we'll see how much the spread of an SIR epidemic is reduced when we target nodes with high degree for vaccination."
   ]
  },
  {
   "cell_type": "markdown",
   "metadata": {},
   "source": [
    "In order to do this, let's identify the Members of Congress with the highest degree:"
   ]
  },
  {
   "cell_type": "code",
   "execution_count": 37,
   "metadata": {
    "scrolled": true
   },
   "outputs": [
    {
     "data": {
      "text/plain": [
       "array([1055730738,  266133081,   17513304, 1080844782, 1206227149,\n",
       "         18967498,  221793778,  213634439, 3044993235,  234053893,\n",
       "         88806753, 2970462034, 1092979962,   15600527, 1080509366,\n",
       "        190328374,   22509548, 1065995022,  950328072, 1051446626,\n",
       "        239871673,  381152398,   15356407,   18915145,  233949261,\n",
       "         19739126,   15160884, 2253968388,   18916432,  252819642,\n",
       "        240760644,    6577802,   29766367, 1444015610,   17976923,\n",
       "       3091316093, 2966758114,  234014087,  217543151,  246341769,\n",
       "         24913074,  234822928,  110545675,  234812598, 2953713339,\n",
       "        240363117,   28599820,  161743731,  244268646,  137407124,\n",
       "         13491312,   22012091,   24195214, 1209417007, 2953494478,\n",
       "        234469322,  292990703,  153486399,  278145569,   17800215,\n",
       "         33655490,  339852137,  237312687,  211530910,   33977070,\n",
       "         15394954,  248850174,  234837632, 1060487274,  248699486,\n",
       "         24773493,  234022257,   23976316,   17544524, 2929491549,\n",
       "        237862972,   16256269,   15764644,   13218102,   34340464,\n",
       "        224294785, 2962868158,  237770636,  158398519,   63169388,\n",
       "         20015903, 2932617195, 1140648348,   82649553,  233693291,\n",
       "       1243902714,  237763317, 1089334250,  942156122, 2953974395,\n",
       "       2861616083,   40302336,   27676828,  248735463,  124224165,\n",
       "        140519774, 1410590874,   15808765,  249219716,   31801993,\n",
       "         23600262, 2863006655,  240385577, 1058345042,  240427862,\n",
       "        225921757,   15281676, 1058807868,  193872188,  138770045,\n",
       "        976969338,  613725908,   47798449, 1068499286,  252819323,\n",
       "        236916916,  235271965,  188019606,   20545793,   18909919,\n",
       "       1222257180,  249410485,  237814920,   19394188,   24735461,\n",
       "       3122099613, 1072382221,  133832049,  168673083,   18773159,\n",
       "         23970171, 2965083477, 1077121945,  776664410,  247334603,\n",
       "         26051676,   20002401,  312134473,  234128524,   38254095,\n",
       "         37920978,   19407835,   18805303,  237348797,  211420609,\n",
       "        210926192,   22527499,  518644221,  787373558,  168502762,\n",
       "         19658173, 2970279814,  132201224, 2966570782,   85396297,\n",
       "         18166778,   16789970, 2930635215, 1061385474,  242873057,\n",
       "        239949176,  164007407,   19926675,  467823431,   88784440,\n",
       "         80612021,   20053279,   18566912,   23712174,  295685416,\n",
       "        155669457,  258900199, 1305596696,   14275291,   74198348,\n",
       "         15856366, 1074101017, 1071102246,  221792092,   20467163,\n",
       "        299883942,  193794406, 1074129612, 1069124515,  235312723,\n",
       "        219429281,   21406834, 3317799825, 1058460818,   76350004,\n",
       "         20552026,   11651202,  109287731,   14135426, 2750127259,\n",
       "        229197216,   15361570, 2962681881, 1058717720,  233761277,\n",
       "         21269970,   19929362, 1074480192,  235251868,   29201047,\n",
       "       1055685948,  963480595,  111635980,   84620376,   72198806,\n",
       "         22831059,  221162525,   18137749, 2966205003, 1072008757,\n",
       "         19318314, 2914571740,  193732179,   37007274,   21157904,\n",
       "       1058051748,  584012853,  550401754,  163570705,   19726613,\n",
       "       1155212191,  249348006,  237750442,  234057152,   32010840,\n",
       "        236511574,  161411080,  993153006,  970207298,  246769138,\n",
       "        234797704,   22812754,   18061669,   16056306, 1071900114,\n",
       "        237944147,  236899846,  235217558,  211588974,  199325935,\n",
       "        117777832,   84119348,   29501253,   26424123,   18632666,\n",
       "         15751083, 2696643955,   16583468, 1048784496,   92186819,\n",
       "         24183358,   21312077,   18030431,  242892689, 1058520120,\n",
       "        476256944,  293131808,  171598736, 1055907624,  296361085,\n",
       "         58928690,   36686040,   17494010,   10615232, 2560169238,\n",
       "        240393970,  137794015,   29450962, 2975091705,  148453195,\n",
       "         24745957,   50452197, 2382685057, 1060984272,  385429543,\n",
       "        211901075,   52503751,   15442036,    5558312,  937723303,\n",
       "       2964949642,  108376246,   73303753,   22669526,   14984637,\n",
       "          7429102, 2916086925,  229592356,   60828944,   56864092])"
      ]
     },
     "execution_count": 37,
     "metadata": {},
     "output_type": "execute_result"
    }
   ],
   "source": [
    "top_degree_id = get_top_k(moc_data, 'degree', num_vaccines)\n",
    "top_degree_id"
   ]
  },
  {
   "cell_type": "markdown",
   "metadata": {
    "deletable": false,
    "editable": false
   },
   "source": [
    "**Question 16** Now, let's re-run our epidemic simulation, this time innoculating the nodes that have the highest degrees (which we just identified above).\n",
    "\n",
    "<!--\n",
    "BEGIN QUESTION\n",
    "name: q16\n",
    "points: 1\n",
    "manual: False\n",
    "-->"
   ]
  },
  {
   "cell_type": "code",
   "execution_count": 38,
   "metadata": {},
   "outputs": [
    {
     "data": {
      "text/html": [
       "<table border=\"1\" class=\"dataframe\">\n",
       "    <thead>\n",
       "        <tr>\n",
       "            <th>num_infected</th>\n",
       "        </tr>\n",
       "    </thead>\n",
       "    <tbody>\n",
       "        <tr>\n",
       "            <td>1           </td>\n",
       "        </tr>\n",
       "        <tr>\n",
       "            <td>2           </td>\n",
       "        </tr>\n",
       "        <tr>\n",
       "            <td>1           </td>\n",
       "        </tr>\n",
       "        <tr>\n",
       "            <td>1           </td>\n",
       "        </tr>\n",
       "        <tr>\n",
       "            <td>1           </td>\n",
       "        </tr>\n",
       "        <tr>\n",
       "            <td>1           </td>\n",
       "        </tr>\n",
       "        <tr>\n",
       "            <td>1           </td>\n",
       "        </tr>\n",
       "        <tr>\n",
       "            <td>1           </td>\n",
       "        </tr>\n",
       "        <tr>\n",
       "            <td>1           </td>\n",
       "        </tr>\n",
       "        <tr>\n",
       "            <td>1           </td>\n",
       "        </tr>\n",
       "    </tbody>\n",
       "</table>\n",
       "<p>... (2990 rows omitted)</p>"
      ],
      "text/plain": [
       "num_infected\n",
       "1\n",
       "2\n",
       "1\n",
       "1\n",
       "1\n",
       "1\n",
       "1\n",
       "1\n",
       "1\n",
       "1\n",
       "... (2990 rows omitted)"
      ]
     },
     "execution_count": 38,
     "metadata": {},
     "output_type": "execute_result"
    }
   ],
   "source": [
    "np.random.seed(99)\n",
    "num_infected_innocdegree = make_array()\n",
    "\n",
    "for _ in range(num_sims): # you still use the number of simulation defined before\n",
    "    num_infected_innocdegree = np.append(num_infected_innocdegree, \n",
    "                                         np.sum(sim_epidemic(official_congress_twitter,\n",
    "                                                             beta=beta_param,\n",
    "                                                             innoculated_nodes=top_degree_id)))\n",
    "\n",
    "num_infected_table=Table().with_column('num_infected', num_infected_innocdegree)\n",
    "num_infected_table"
   ]
  },
  {
   "cell_type": "code",
   "execution_count": 39,
   "metadata": {
    "deletable": false,
    "editable": false
   },
   "outputs": [
    {
     "name": "stdout",
     "output_type": "stream",
     "text": [
      "~~~~~~~~~~~~~~~~~~~~~~~~~~~~~~~~~~~~~~~~~~~~~~~~~~~~~~~~~~~~~~~~~~~~~\n",
      "Running tests\n",
      "\n",
      "---------------------------------------------------------------------\n",
      "Test summary\n",
      "    Passed: 1\n",
      "    Failed: 0\n",
      "[ooooooooook] 100.0% passed\n",
      "\n"
     ]
    }
   ],
   "source": [
    "ok.grade(\"q16\");"
   ]
  },
  {
   "cell_type": "markdown",
   "metadata": {},
   "source": [
    "You can check the distribution of the numbers infected over the simulations using a histogram:"
   ]
  },
  {
   "cell_type": "code",
   "execution_count": 40,
   "metadata": {},
   "outputs": [
    {
     "data": {
      "image/png": "[encoded data removed]",
      "text/plain": [
       "<Figure size 432x288 with 1 Axes>"
      ]
     },
     "metadata": {
      "needs_background": "light"
     },
     "output_type": "display_data"
    }
   ],
   "source": [
    "num_infected_table.hist()"
   ]
  },
  {
   "cell_type": "markdown",
   "metadata": {
    "deletable": false,
    "editable": false
   },
   "source": [
    "**Question 17** Now calculate the mean number infected in the simulations you just ran.\n",
    "\n",
    "<!--\n",
    "BEGIN QUESTION\n",
    "name: q17\n",
    "points: 3\n",
    "manual: False\n",
    "-->"
   ]
  },
  {
   "cell_type": "code",
   "execution_count": 41,
   "metadata": {},
   "outputs": [
    {
     "data": {
      "text/plain": [
       "1.367"
      ]
     },
     "execution_count": 41,
     "metadata": {},
     "output_type": "execute_result"
    }
   ],
   "source": [
    "moc_target_degree_mean_infected = np.mean(num_infected_table['num_infected'])\n",
    "\n",
    "moc_target_degree_mean_infected"
   ]
  },
  {
   "cell_type": "code",
   "execution_count": 42,
   "metadata": {
    "deletable": false,
    "editable": false
   },
   "outputs": [
    {
     "name": "stdout",
     "output_type": "stream",
     "text": [
      "~~~~~~~~~~~~~~~~~~~~~~~~~~~~~~~~~~~~~~~~~~~~~~~~~~~~~~~~~~~~~~~~~~~~~\n",
      "Running tests\n",
      "\n",
      "---------------------------------------------------------------------\n",
      "Test summary\n",
      "    Passed: 1\n",
      "    Failed: 0\n",
      "[ooooooooook] 100.0% passed\n",
      "\n"
     ]
    }
   ],
   "source": [
    "ok.grade(\"q17\");"
   ]
  },
  {
   "cell_type": "markdown",
   "metadata": {},
   "source": [
    "### Innoculate by eigenvector centrality"
   ]
  },
  {
   "cell_type": "markdown",
   "metadata": {},
   "source": [
    "Next, we'll investigate eigenvector centrality--that is, we'll see how much the spread of an SIR epidemic is reduced when we target nodes with high eigenvector centrality for vaccination."
   ]
  },
  {
   "cell_type": "markdown",
   "metadata": {},
   "source": [
    "In order to do this, let's identify the Members of Congress with the highest eigenvector centrality:"
   ]
  },
  {
   "cell_type": "code",
   "execution_count": 43,
   "metadata": {
    "scrolled": true
   },
   "outputs": [
    {
     "data": {
      "text/plain": [
       "array([1055730738, 1080844782,  266133081,   17513304, 1206227149,\n",
       "         18967498,  221793778,  213634439,  234053893, 2970462034,\n",
       "         15600527, 3044993235,   88806753, 1092979962,  190328374,\n",
       "       1065995022,   22509548,  950328072, 1051446626,  239871673,\n",
       "       1080509366,   15356407,   15160884,  233949261,  240760644,\n",
       "         18915145,  252819642,   19739126,   18916432, 2253968388,\n",
       "        381152398,   17976923,    6577802,   29766367, 1444015610,\n",
       "        246341769,  234822928,  234812598, 2966758114,  161743731,\n",
       "        110545675,  217543151,  244268646,  240363117,  137407124,\n",
       "       2953713339,  234469322,   17800215, 1209417007,   15394954,\n",
       "        211530910,   16256269,  278145569,  248699486,  234837632,\n",
       "        234022257,   23976316,  248850174,   34340464,   33977070,\n",
       "        237862972,  237312687,  224294785,   24773493,   20015903,\n",
       "         33655490,   17544524,  124224165, 2929491549,  233693291,\n",
       "         24913074,  237763317, 1060487274, 1089334250,   13491312,\n",
       "         27676828, 2953974395,  236916916,   15281676,  240385577,\n",
       "         28599820,  240427862,   13218102,  249219716, 1058807868,\n",
       "        237770636,   24735461, 2932617195,  235271965, 2953494478,\n",
       "        237814920, 3091316093, 1058345042,  252819323,  234014087,\n",
       "        976969338,  613725908,   26051676,   37920978,  211420609,\n",
       "         23970171,   19407835, 2861616083,   18805303, 1072382221,\n",
       "         22527499,  234128524,  225921757,   18166778,   24195214,\n",
       "        518644221,   19658173,   18773159,  242873057,  237348797,\n",
       "         22012091,   19926675,  339852137,   18566912,   47798449,\n",
       "         74198348,  295685416,   23712174, 2965083477,   19394188,\n",
       "         20053279,   15856366, 1305596696,   14275291,  235312723,\n",
       "         20467163,  292990703,  153486399,   84620376,   19929362,\n",
       "         15764644,   76350004,  219429281,  229197216, 1058460818,\n",
       "        158398519,  299883942,   22831059,  235251868,  193794406,\n",
       "       1074101017,  234057152, 1069124515,  233761277,   32010840,\n",
       "       2930635215,   18909919, 1410590874,  963480595,  237750442,\n",
       "        117777832,   88784440,  234797704,   15751083,   20545793,\n",
       "        584012853, 1155212191, 1058051748, 1243902714,  246769138,\n",
       "         63169388,   26424123,   37007274, 1072008757,   11651202,\n",
       "        138770045,   82649553, 1140648348,  237944147,  193872188,\n",
       "       1068499286,  236899846,   24183358,  550401754, 3317799825,\n",
       "        210926192,  942156122,   18030431, 1071900114, 2962868158,\n",
       "       2863006655,   15808765,  248735463, 1048784496,  211901075,\n",
       "         38254095,   21269970,  249410485,  140519774,  247334603,\n",
       "         31801993,   52503751, 2966205003, 2750127259,  240393970,\n",
       "        993153006,   20002401,  776664410, 1222257180,   40302336,\n",
       "        133832049,  168502762,  235217558, 1074480192,   85396297,\n",
       "        132201224,   16056306,   23600262,  168673083,  198526130,\n",
       "       2696643955,   16789970,  188019606,  234937222,   22055226,\n",
       "         25086658,  221162525, 2914571740,   17896154,   20552026,\n",
       "       1058256326,   51228911,   26778110,   16102244,   21157904,\n",
       "        239949176,  242926427,  236960387, 2560169238,  935033864,\n",
       "        296361085,   80612021,  155669457,   18632666, 1077121945,\n",
       "       1077446982,   76452765,   19726613,  312134473, 2382685057,\n",
       "        164007407,   23124635,   15361570,  787373558,   18277655,\n",
       "       2975091705,   10615232,  235190657, 2964949642,  211588974,\n",
       "       1074129612,  258900199, 2970279814,   21406834, 1045853744,\n",
       "        249348006, 1061385474,   18061669,    5558312,   29201047,\n",
       "        193732179, 1060370282,   37094727,   14135426,  975200486,\n",
       "       2966570782, 3122099613,  163570705, 2962813893,  237299871,\n",
       "        467823431,  221792092,  249288197,  111635980,   22812754,\n",
       "       2962681881,   73303753, 1055685948,   72198806,   84119348,\n",
       "         18137749, 1071102246,  161411080, 1058717720,  109287731,\n",
       "        199325935,  222286905,   29501253,  236511574,   14845376,\n",
       "         20209807,   19318314,  249339682,  254082173,   14984637])"
      ]
     },
     "execution_count": 43,
     "metadata": {},
     "output_type": "execute_result"
    }
   ],
   "source": [
    "top_ec_id = get_top_k(moc_data, 'eigenvector_centrality', num_vaccines)\n",
    "top_ec_id"
   ]
  },
  {
   "cell_type": "markdown",
   "metadata": {
    "deletable": false,
    "editable": false
   },
   "source": [
    "**Question 18** Now, let's re-run our epidemic simulation, this time innoculating the nodes that have the highest eigenvector centralities (which we just identified above).\n",
    "\n",
    "<!--\n",
    "BEGIN QUESTION\n",
    "name: q18\n",
    "points: 1\n",
    "manual: False\n",
    "-->"
   ]
  },
  {
   "cell_type": "code",
   "execution_count": 44,
   "metadata": {},
   "outputs": [
    {
     "data": {
      "text/html": [
       "<table border=\"1\" class=\"dataframe\">\n",
       "    <thead>\n",
       "        <tr>\n",
       "            <th>num_infected</th>\n",
       "        </tr>\n",
       "    </thead>\n",
       "    <tbody>\n",
       "        <tr>\n",
       "            <td>1           </td>\n",
       "        </tr>\n",
       "        <tr>\n",
       "            <td>1           </td>\n",
       "        </tr>\n",
       "        <tr>\n",
       "            <td>1           </td>\n",
       "        </tr>\n",
       "        <tr>\n",
       "            <td>1           </td>\n",
       "        </tr>\n",
       "        <tr>\n",
       "            <td>1           </td>\n",
       "        </tr>\n",
       "        <tr>\n",
       "            <td>1           </td>\n",
       "        </tr>\n",
       "        <tr>\n",
       "            <td>1           </td>\n",
       "        </tr>\n",
       "        <tr>\n",
       "            <td>1           </td>\n",
       "        </tr>\n",
       "        <tr>\n",
       "            <td>1           </td>\n",
       "        </tr>\n",
       "        <tr>\n",
       "            <td>2           </td>\n",
       "        </tr>\n",
       "    </tbody>\n",
       "</table>\n",
       "<p>... (2990 rows omitted)</p>"
      ],
      "text/plain": [
       "num_infected\n",
       "1\n",
       "1\n",
       "1\n",
       "1\n",
       "1\n",
       "1\n",
       "1\n",
       "1\n",
       "1\n",
       "2\n",
       "... (2990 rows omitted)"
      ]
     },
     "execution_count": 44,
     "metadata": {},
     "output_type": "execute_result"
    }
   ],
   "source": [
    "np.random.seed(99)\n",
    "num_infected_innocec = make_array()\n",
    "\n",
    "for _ in range(num_sims):\n",
    "    num_infected_innocec = np.append(num_infected_innocec, \n",
    "                                         np.sum(sim_epidemic(official_congress_twitter, \n",
    "                                                             beta=beta_param,\n",
    "                                                             innoculated_nodes=top_ec_id)))\n",
    "    \n",
    "num_infected_table2=Table().with_column('num_infected', num_infected_innocec)\n",
    "num_infected_table2"
   ]
  },
  {
   "cell_type": "code",
   "execution_count": 45,
   "metadata": {
    "deletable": false,
    "editable": false
   },
   "outputs": [
    {
     "name": "stdout",
     "output_type": "stream",
     "text": [
      "~~~~~~~~~~~~~~~~~~~~~~~~~~~~~~~~~~~~~~~~~~~~~~~~~~~~~~~~~~~~~~~~~~~~~\n",
      "Running tests\n",
      "\n",
      "---------------------------------------------------------------------\n",
      "Test summary\n",
      "    Passed: 1\n",
      "    Failed: 0\n",
      "[ooooooooook] 100.0% passed\n",
      "\n"
     ]
    }
   ],
   "source": [
    "ok.grade(\"q18\");"
   ]
  },
  {
   "cell_type": "markdown",
   "metadata": {},
   "source": [
    "You can check the distribution of the numbers infected over the simulations using a histogram:"
   ]
  },
  {
   "cell_type": "code",
   "execution_count": 46,
   "metadata": {},
   "outputs": [
    {
     "data": {
      "image/png": "[encoded data removed]",
      "text/plain": [
       "<Figure size 432x288 with 1 Axes>"
      ]
     },
     "metadata": {
      "needs_background": "light"
     },
     "output_type": "display_data"
    }
   ],
   "source": [
    "num_infected_table2.hist()"
   ]
  },
  {
   "cell_type": "markdown",
   "metadata": {
    "deletable": false,
    "editable": false
   },
   "source": [
    "**Question 19** Now calculate the mean number infected in the simulations you just ran.\n",
    "\n",
    "<!--\n",
    "BEGIN QUESTION\n",
    "name: q19\n",
    "points: 3\n",
    "manual: False\n",
    "-->"
   ]
  },
  {
   "cell_type": "code",
   "execution_count": 47,
   "metadata": {},
   "outputs": [
    {
     "data": {
      "text/plain": [
       "1.6266666666666667"
      ]
     },
     "execution_count": 47,
     "metadata": {},
     "output_type": "execute_result"
    }
   ],
   "source": [
    "moc_target_ec_mean_infected = np.mean(num_infected_innocec)\n",
    "moc_target_ec_mean_infected"
   ]
  },
  {
   "cell_type": "code",
   "execution_count": 48,
   "metadata": {
    "deletable": false,
    "editable": false
   },
   "outputs": [
    {
     "name": "stdout",
     "output_type": "stream",
     "text": [
      "~~~~~~~~~~~~~~~~~~~~~~~~~~~~~~~~~~~~~~~~~~~~~~~~~~~~~~~~~~~~~~~~~~~~~\n",
      "Running tests\n",
      "\n",
      "---------------------------------------------------------------------\n",
      "Test summary\n",
      "    Passed: 1\n",
      "    Failed: 0\n",
      "[ooooooooook] 100.0% passed\n",
      "\n"
     ]
    }
   ],
   "source": [
    "ok.grade(\"q19\");"
   ]
  },
  {
   "cell_type": "markdown",
   "metadata": {},
   "source": [
    "### Innoculate by betweenness centrality"
   ]
  },
  {
   "cell_type": "markdown",
   "metadata": {},
   "source": [
    "Next, we'll investigate betweenness centrality--that is, we'll see how much the spread of an SIR epidemic is reduced when we target nodes with high betweenness centrality for vaccination."
   ]
  },
  {
   "cell_type": "markdown",
   "metadata": {},
   "source": [
    "In order to do this, let's identify the Members of Congress with the highest betweenness centrality:"
   ]
  },
  {
   "cell_type": "code",
   "execution_count": 49,
   "metadata": {
    "scrolled": true
   },
   "outputs": [
    {
     "data": {
      "text/plain": [
       "array([  17513304, 1055730738,  266133081, 1206227149, 1080844782,\n",
       "         18967498,  221793778, 3044993235,  213634439,  234053893,\n",
       "       2970462034,   88806753, 1092979962,   15600527, 1080509366,\n",
       "         22509548,  190328374,  950328072, 1065995022, 1051446626,\n",
       "        381152398, 3091316093,  239871673,   15356407,   18915145,\n",
       "         15160884,   29766367,   18916432,  240760644,  233949261,\n",
       "       2966758114, 2953494478,   19739126,  234014087,   24913074,\n",
       "       2253968388, 1444015610,  246341769,  252819642,  217543151,\n",
       "       2863006655,   28599820,    6577802,   13491312,   22012091,\n",
       "         17976923,   15808765,   24195214,  339852137,  237770636,\n",
       "        234812598,   15764644, 1243902714,   13218102,  292990703,\n",
       "        161743731, 1060487274,  153486399, 2953713339,  240363117,\n",
       "       2962868158, 1209417007, 2932617195,  244268646,  234822928,\n",
       "        942156122,  193872188, 1410590874,  210926192, 2962681881,\n",
       "         19394188,   18909919,  110545675, 1140648348,   17544524,\n",
       "        247334603,   63169388,  248699486,  158398519,   16789970,\n",
       "         20545793,  233693291,   33655490, 1068499286,  225921757,\n",
       "        137407124,   17800215,  248850174,   24773493,   31801993,\n",
       "       2930635215,  234469322, 1072382221, 2970279814,   47798449,\n",
       "        776664410,   33977070,   40302336,   82649553, 1077121945,\n",
       "       3122099613,   15394954,  248735463,  278145569,  168673083,\n",
       "        237312687,   23600262, 2861616083,  211530910,   88784440,\n",
       "        787373558,   20015903,   21406834,  976969338,  234837632,\n",
       "       1222257180,  234022257,  138770045,   29201047,  224294785,\n",
       "        237862972,   38254095,  240385577,  467823431,  240427862,\n",
       "        249410485, 2929491549,   16256269,  140519774, 1074129612,\n",
       "         34340464,  237814920, 1089334250,  188019606,  124224165,\n",
       "        613725908,   14275291,   72198806,   85396297, 2914571740,\n",
       "         23976316,   27676828,  109287731,  236511574, 2965083477,\n",
       "        237763317,  970207298, 1055685948,  211588974,  155669457,\n",
       "        221162525,   18805303,  476256944, 1058345042,   15281676,\n",
       "       1058717720,   21157904,  171598736, 1074480192,  168502762,\n",
       "         18695134, 2966570782,   20002401,  252819323, 2953974395,\n",
       "         37920978, 1074101017,   15361570,   20552026, 2750127259,\n",
       "        133832049, 1058520120,   19726613,  312134473,  193794406,\n",
       "        249219716, 1058807868,   18061669,   21269970,  293131808,\n",
       "        235271965,   19407835,  164007407,   22527499,  993153006,\n",
       "        219429281, 1061385474,    7429102,   17494010,   80612021,\n",
       "         16056306,  132201224,   10615232,  937723303,  236899846,\n",
       "        236916916,   11651202, 1064206014,   18773159,   29442313,\n",
       "         18632666, 1072008757,   14135426,  211420609,  233761277,\n",
       "         20467163,  963480595, 2966205003,   92186819,  239949176,\n",
       "        237348797,  234128524,   26051676, 1069124515,  234374703,\n",
       "         84119348,   23970171,   15856366,  258900199,   24735461,\n",
       "         60828944,   15442036, 1074518754,   73303753,  193732179,\n",
       "        229592356,  148453195,   19318314, 1071102246,  550401754,\n",
       "        246769138,  111635527,  242873057,    5558312,  518644221,\n",
       "         20053279,   37007274,  235217558,   19658173,  299883942,\n",
       "        161411080,  278124059,   18696134,  163570705, 2863210809,\n",
       "         19926675,  237944147,   76649729, 2696643955,   18166778,\n",
       "        221792092,  975200486,   29501253,   18566912,  584012853,\n",
       "         43910797,  237750442, 2964174789,  296361085, 2964949642,\n",
       "        242836537, 3317799825,  249348006,  229197216,  291756142,\n",
       "       2962994194,   14984637, 2560169238, 2916086925, 1055907624,\n",
       "        111635980, 2964351843,  132278386, 1262814457, 1071402577,\n",
       "         58928690,   24745957,   21312077, 2975091705,   74198348,\n",
       "         56864092, 2964526557, 2382685057,  202206694,  108376246,\n",
       "        295685416,  310310133,  235251868, 1305596696,  199325935,\n",
       "         23712174,   14845376,  600463589, 1060984272,   18137749,\n",
       "       1058460818, 1071900114,   76350004,   29450962, 2953922782])"
      ]
     },
     "execution_count": 49,
     "metadata": {},
     "output_type": "execute_result"
    }
   ],
   "source": [
    "top_bc_id = get_top_k(moc_data, 'betweenness_centrality', num_vaccines)\n",
    "top_bc_id"
   ]
  },
  {
   "cell_type": "markdown",
   "metadata": {
    "deletable": false,
    "editable": false
   },
   "source": [
    "**Question 20** Now, let's re-run our epidemic simulation, this time innoculating the nodes that have the highest betweenness centralities (which we just identified above).\n",
    "\n",
    "<!--\n",
    "BEGIN QUESTION\n",
    "name: q20\n",
    "points: 1\n",
    "manual: False\n",
    "-->"
   ]
  },
  {
   "cell_type": "code",
   "execution_count": 50,
   "metadata": {},
   "outputs": [
    {
     "data": {
      "text/html": [
       "<table border=\"1\" class=\"dataframe\">\n",
       "    <thead>\n",
       "        <tr>\n",
       "            <th>num_infected</th>\n",
       "        </tr>\n",
       "    </thead>\n",
       "    <tbody>\n",
       "        <tr>\n",
       "            <td>1           </td>\n",
       "        </tr>\n",
       "        <tr>\n",
       "            <td>2           </td>\n",
       "        </tr>\n",
       "        <tr>\n",
       "            <td>1           </td>\n",
       "        </tr>\n",
       "        <tr>\n",
       "            <td>1           </td>\n",
       "        </tr>\n",
       "        <tr>\n",
       "            <td>1           </td>\n",
       "        </tr>\n",
       "        <tr>\n",
       "            <td>1           </td>\n",
       "        </tr>\n",
       "        <tr>\n",
       "            <td>1           </td>\n",
       "        </tr>\n",
       "        <tr>\n",
       "            <td>1           </td>\n",
       "        </tr>\n",
       "        <tr>\n",
       "            <td>1           </td>\n",
       "        </tr>\n",
       "        <tr>\n",
       "            <td>1           </td>\n",
       "        </tr>\n",
       "    </tbody>\n",
       "</table>\n",
       "<p>... (2990 rows omitted)</p>"
      ],
      "text/plain": [
       "num_infected\n",
       "1\n",
       "2\n",
       "1\n",
       "1\n",
       "1\n",
       "1\n",
       "1\n",
       "1\n",
       "1\n",
       "1\n",
       "... (2990 rows omitted)"
      ]
     },
     "execution_count": 50,
     "metadata": {},
     "output_type": "execute_result"
    }
   ],
   "source": [
    "np.random.seed(99)\n",
    "num_infected_innocbc = make_array()\n",
    "\n",
    "for _ in range(num_sims):\n",
    "    num_infected_innocbc = np.append(num_infected_innocbc, \n",
    "                                         np.sum(sim_epidemic(official_congress_twitter, \n",
    "                                                             beta=beta_param,\n",
    "                                                             innoculated_nodes=top_bc_id)))\n",
    "    \n",
    "num_infected_table3=Table().with_column('num_infected', num_infected_innocbc)    \n",
    "num_infected_table3"
   ]
  },
  {
   "cell_type": "code",
   "execution_count": 51,
   "metadata": {
    "deletable": false,
    "editable": false
   },
   "outputs": [
    {
     "name": "stdout",
     "output_type": "stream",
     "text": [
      "~~~~~~~~~~~~~~~~~~~~~~~~~~~~~~~~~~~~~~~~~~~~~~~~~~~~~~~~~~~~~~~~~~~~~\n",
      "Running tests\n",
      "\n",
      "---------------------------------------------------------------------\n",
      "Test summary\n",
      "    Passed: 1\n",
      "    Failed: 0\n",
      "[ooooooooook] 100.0% passed\n",
      "\n"
     ]
    }
   ],
   "source": [
    "ok.grade(\"q20\");"
   ]
  },
  {
   "cell_type": "markdown",
   "metadata": {},
   "source": [
    "You can check the distribution of the simulated numbers of people infected using a histogram:"
   ]
  },
  {
   "cell_type": "code",
   "execution_count": 52,
   "metadata": {},
   "outputs": [
    {
     "data": {
      "image/png": "[encoded data removed]",
      "text/plain": [
       "<Figure size 432x288 with 1 Axes>"
      ]
     },
     "metadata": {
      "needs_background": "light"
     },
     "output_type": "display_data"
    }
   ],
   "source": [
    "num_infected_table3.hist()"
   ]
  },
  {
   "cell_type": "markdown",
   "metadata": {
    "deletable": false,
    "editable": false
   },
   "source": [
    "**Question 21** Now calculate the mean number infected in the simulations you just ran.\n",
    "\n",
    "<!--\n",
    "BEGIN QUESTION\n",
    "name: q21\n",
    "points: 3\n",
    "manual: False\n",
    "-->"
   ]
  },
  {
   "cell_type": "code",
   "execution_count": 53,
   "metadata": {},
   "outputs": [
    {
     "data": {
      "text/plain": [
       "1.3206666666666667"
      ]
     },
     "execution_count": 53,
     "metadata": {},
     "output_type": "execute_result"
    }
   ],
   "source": [
    "moc_target_bc_mean_infected = np.mean(num_infected_innocbc)\n",
    "\n",
    "moc_target_bc_mean_infected"
   ]
  },
  {
   "cell_type": "code",
   "execution_count": 54,
   "metadata": {
    "deletable": false,
    "editable": false
   },
   "outputs": [
    {
     "name": "stdout",
     "output_type": "stream",
     "text": [
      "~~~~~~~~~~~~~~~~~~~~~~~~~~~~~~~~~~~~~~~~~~~~~~~~~~~~~~~~~~~~~~~~~~~~~\n",
      "Running tests\n",
      "\n",
      "---------------------------------------------------------------------\n",
      "Test summary\n",
      "    Passed: 1\n",
      "    Failed: 0\n",
      "[ooooooooook] 100.0% passed\n",
      "\n"
     ]
    }
   ],
   "source": [
    "ok.grade(\"q21\");"
   ]
  },
  {
   "cell_type": "markdown",
   "metadata": {},
   "source": [
    "### Innocluate at random"
   ]
  },
  {
   "cell_type": "markdown",
   "metadata": {},
   "source": [
    "Finally, we'll compare the previous approaches to just vaccinating people at random."
   ]
  },
  {
   "cell_type": "markdown",
   "metadata": {},
   "source": [
    "In order to do this, we'll take a random sample of nodes in the MOC Twitter network and innoculate them."
   ]
  },
  {
   "cell_type": "code",
   "execution_count": 55,
   "metadata": {
    "scrolled": true
   },
   "outputs": [
    {
     "data": {
      "text/plain": [
       "array([  21269970,   18773159, 1155335864,  322013313, 1058051748,\n",
       "        476256944,  510516465,  234053893,  248735463,  199325935,\n",
       "        242873057,  150078976,  108376246,  229966028,  234822928,\n",
       "       1080844782,   51228911,  245451804,   15751083, 1155212191,\n",
       "        111635980, 1055685948, 1289319271,  216503958, 1083448909,\n",
       "        584012853,  237299871,   56864092, 3018670151,  249288197,\n",
       "       1058345042,   29766367, 1410590874,   43910797,   22545491,\n",
       "       1880674038, 1080509366,  242836537,  281540744,  231510077,\n",
       "         22523087,   22012091,   57065141,   13491312, 1623308912,\n",
       "       1051127714,  241207373, 2953922782,  138770045,  296361085,\n",
       "         18166778,   19726613, 1058917562,   15600527,  404132211,\n",
       "        234057152,  278145569,  117501995,  132201224,  221162525,\n",
       "         18915145,  211420609,   88784440,   22812754,  164007407,\n",
       "         26424123, 2973870195,  600463589,  960696949,   26778110,\n",
       "        231108733,  237814920,   63169388,   39249305,   23970171,\n",
       "         52503751, 1069124515,  377534571,   18805303,   24183358,\n",
       "        221793778,   26051676,  555474658,   78403308, 2964949642,\n",
       "         21312077,   75364211,   17896154,  993153006, 1128781184,\n",
       "        518644221,   20546536,   29442313,  234014087,  234937222,\n",
       "       2730150631,  211588974,   40302336, 2962813893,  168502762,\n",
       "       2962923040, 2964174789, 1072008757,   16102244,  236899846,\n",
       "        232992031,  310310133,   48117116, 2964222544, 1009269193,\n",
       "       1077121945,  995193054,  211901075,   34972633,  312134473,\n",
       "        222286905,  240760644,    6577802, 1071900114, 1072467470,\n",
       "         18909919,   80612021,  558769636,  303861808, 1135486501,\n",
       "        242761889,   58928690,   22527499,  942156122,  240427862,\n",
       "        229197216, 2966205003,  234812598, 3091316093,  381152398,\n",
       "         16789970,  339822881,  237770636,  242426145,  950783972,\n",
       "       2964287128,  249410485,   37094727, 2962994194,  137794015,\n",
       "         28602948,  950328072, 1074101017, 1849261916,   21406834,\n",
       "       1499993378,  339852137, 2863006655,   24735461,  240363117,\n",
       "        239871673,  834069080,  153486399,  156333623,   23712174,\n",
       "       1048784496,   25781141, 2382685057, 2953494478,  188019606,\n",
       "        198526130,   92186819,  242926427, 1267940407,   76456274,\n",
       "       2560169238,   19739126,  163570705, 2891210047,   27676828,\n",
       "        234837632,   21111098, 2965083477,  236479311, 1531521632,\n",
       "       2930635215, 1055730738, 1092979962, 1061385474,  292990703,\n",
       "         36686040,  235312723, 2962891515, 1262814457,   24913074,\n",
       "         15394954,   15764644, 1060487274,  171968009,   30216513,\n",
       "         17513304,  249787913,  193872188, 2916086925, 1074480192,\n",
       "        233949261,  111635527, 3353670647,  224294785, 1068481578,\n",
       "       2853309155,  247334603,  235271965,   33563161,  137407124,\n",
       "       1444015610,   73303753, 1060370282, 1090002997,   14845376,\n",
       "       1222257180,   23124635,   31611298,   72198806, 2929491549,\n",
       "        148006729,   76350004,    7429102,  968650362,   20552026,\n",
       "       1134292500,  364415553,  219429281,   20053279,  234469322,\n",
       "        516880804,  190328374,  432771620,  233737858, 1065995022,\n",
       "        235190657,  133832049,   84119348,   18967498,   17494010,\n",
       "        161411080, 1262099252,  344972339,  291756142,  252249233,\n",
       "         17976923,   15356407,  140519774, 1061029050,  236511574,\n",
       "        240385577,   10615232,  252819642,  236279233,  305216911,\n",
       "        112740986, 1074129612, 2869746172,  242892689,   33655490,\n",
       "        264219447,   74508260,  432676344,  171598736,  242772524,\n",
       "        239905257, 1077446982, 1382011333,  110545675,  164369297,\n",
       "        202206694,   76649729,   47798449, 1071402577, 2966570782,\n",
       "        109071031,  435500714,  975200486, 2962681881,   23976316,\n",
       "        193732179,  168673083,  305620929, 2914515430,  293131808,\n",
       "        213634439,  384913290,  581141508,   19318314,   18916432,\n",
       "       2964877294,  935033864, 2968451607,   18061669, 1060984272,\n",
       "        155669457,  224285242,   19658173,   33977070,  776664410])"
      ]
     },
     "execution_count": 55,
     "metadata": {},
     "output_type": "execute_result"
    }
   ],
   "source": [
    "random_id = get_random_k(moc_data, num_vaccines)\n",
    "random_id"
   ]
  },
  {
   "cell_type": "markdown",
   "metadata": {
    "deletable": false,
    "editable": false
   },
   "source": [
    "**Question 22** Now, let's re-run our epidemic simulation, this time innoculating the nodes that we just randomly picked.\n",
    "\n",
    "<!--\n",
    "BEGIN QUESTION\n",
    "name: q22\n",
    "points: 1\n",
    "manual: False\n",
    "-->"
   ]
  },
  {
   "cell_type": "code",
   "execution_count": 56,
   "metadata": {},
   "outputs": [
    {
     "data": {
      "text/html": [
       "<table border=\"1\" class=\"dataframe\">\n",
       "    <thead>\n",
       "        <tr>\n",
       "            <th>num_infected</th>\n",
       "        </tr>\n",
       "    </thead>\n",
       "    <tbody>\n",
       "        <tr>\n",
       "            <td>1           </td>\n",
       "        </tr>\n",
       "        <tr>\n",
       "            <td>1           </td>\n",
       "        </tr>\n",
       "        <tr>\n",
       "            <td>19          </td>\n",
       "        </tr>\n",
       "        <tr>\n",
       "            <td>11          </td>\n",
       "        </tr>\n",
       "        <tr>\n",
       "            <td>1           </td>\n",
       "        </tr>\n",
       "        <tr>\n",
       "            <td>1           </td>\n",
       "        </tr>\n",
       "        <tr>\n",
       "            <td>36          </td>\n",
       "        </tr>\n",
       "        <tr>\n",
       "            <td>39          </td>\n",
       "        </tr>\n",
       "        <tr>\n",
       "            <td>7           </td>\n",
       "        </tr>\n",
       "        <tr>\n",
       "            <td>25          </td>\n",
       "        </tr>\n",
       "    </tbody>\n",
       "</table>\n",
       "<p>... (2990 rows omitted)</p>"
      ],
      "text/plain": [
       "num_infected\n",
       "1\n",
       "1\n",
       "19\n",
       "11\n",
       "1\n",
       "1\n",
       "36\n",
       "39\n",
       "7\n",
       "25\n",
       "... (2990 rows omitted)"
      ]
     },
     "execution_count": 56,
     "metadata": {},
     "output_type": "execute_result"
    }
   ],
   "source": [
    "np.random.seed(99)\n",
    "num_infected_innocrandom = make_array()\n",
    "\n",
    "for _ in range(num_sims):\n",
    "    num_infected_innocrandom = np.append(num_infected_innocrandom, \n",
    "                                         np.sum(sim_epidemic(official_congress_twitter, \n",
    "                                                             beta=beta_param,\n",
    "                                                             innoculated_nodes=random_id)))\n",
    "    \n",
    "num_infected_table4=Table().with_column('num_infected', num_infected_innocrandom)    \n",
    "num_infected_table4"
   ]
  },
  {
   "cell_type": "code",
   "execution_count": 57,
   "metadata": {
    "deletable": false,
    "editable": false
   },
   "outputs": [
    {
     "name": "stdout",
     "output_type": "stream",
     "text": [
      "~~~~~~~~~~~~~~~~~~~~~~~~~~~~~~~~~~~~~~~~~~~~~~~~~~~~~~~~~~~~~~~~~~~~~\n",
      "Running tests\n",
      "\n",
      "---------------------------------------------------------------------\n",
      "Test summary\n",
      "    Passed: 1\n",
      "    Failed: 0\n",
      "[ooooooooook] 100.0% passed\n",
      "\n"
     ]
    }
   ],
   "source": [
    "ok.grade(\"q22\");"
   ]
  },
  {
   "cell_type": "markdown",
   "metadata": {},
   "source": [
    "You can check the distribution of the simulated numbers of people infected using a histogram:"
   ]
  },
  {
   "cell_type": "code",
   "execution_count": 58,
   "metadata": {},
   "outputs": [
    {
     "data": {
      "image/png": "[encoded data removed]",
      "text/plain": [
       "<Figure size 432x288 with 1 Axes>"
      ]
     },
     "metadata": {
      "needs_background": "light"
     },
     "output_type": "display_data"
    }
   ],
   "source": [
    "num_infected_table4.hist()"
   ]
  },
  {
   "cell_type": "markdown",
   "metadata": {
    "deletable": false,
    "editable": false
   },
   "source": [
    "**Question 23** Now calculate the mean number infected in the simulations you just ran.\n",
    "\n",
    "<!--\n",
    "BEGIN QUESTION\n",
    "name: q23\n",
    "points: 3\n",
    "manual: True\n",
    "-->\n",
    "<!-- EXPORT TO PDF -->"
   ]
  },
  {
   "cell_type": "code",
   "execution_count": 59,
   "metadata": {},
   "outputs": [
    {
     "data": {
      "text/plain": [
       "5.440666666666667"
      ]
     },
     "execution_count": 59,
     "metadata": {},
     "output_type": "execute_result"
    }
   ],
   "source": [
    "moc_target_random_mean_infected = np.mean(num_infected_innocrandom)\n",
    "\n",
    "moc_target_random_mean_infected"
   ]
  },
  {
   "cell_type": "code",
   "execution_count": 60,
   "metadata": {
    "deletable": false,
    "editable": false
   },
   "outputs": [
    {
     "name": "stdout",
     "output_type": "stream",
     "text": [
      "~~~~~~~~~~~~~~~~~~~~~~~~~~~~~~~~~~~~~~~~~~~~~~~~~~~~~~~~~~~~~~~~~~~~~\n",
      "Running tests\n",
      "\n",
      "---------------------------------------------------------------------\n",
      "Test summary\n",
      "    Passed: 2\n",
      "    Failed: 0\n",
      "[ooooooooook] 100.0% passed\n",
      "\n"
     ]
    }
   ],
   "source": [
    "ok.grade(\"q23\");"
   ]
  },
  {
   "cell_type": "markdown",
   "metadata": {},
   "source": [
    "## Compare the different strategies"
   ]
  },
  {
   "cell_type": "markdown",
   "metadata": {},
   "source": [
    "Finally, let's compare the four innoculation strategies that we just simulated."
   ]
  },
  {
   "cell_type": "code",
   "execution_count": 61,
   "metadata": {},
   "outputs": [
    {
     "data": {
      "text/html": [
       "<table border=\"1\" class=\"dataframe\">\n",
       "    <thead>\n",
       "        <tr>\n",
       "            <th>random</th> <th>eigenvector</th> <th>betweenness</th> <th>degree</th>\n",
       "        </tr>\n",
       "    </thead>\n",
       "    <tbody>\n",
       "        <tr>\n",
       "            <td>1     </td> <td>1          </td> <td>1          </td> <td>1     </td>\n",
       "        </tr>\n",
       "        <tr>\n",
       "            <td>1     </td> <td>1          </td> <td>2          </td> <td>2     </td>\n",
       "        </tr>\n",
       "        <tr>\n",
       "            <td>19    </td> <td>1          </td> <td>1          </td> <td>1     </td>\n",
       "        </tr>\n",
       "        <tr>\n",
       "            <td>11    </td> <td>1          </td> <td>1          </td> <td>1     </td>\n",
       "        </tr>\n",
       "        <tr>\n",
       "            <td>1     </td> <td>1          </td> <td>1          </td> <td>1     </td>\n",
       "        </tr>\n",
       "        <tr>\n",
       "            <td>1     </td> <td>1          </td> <td>1          </td> <td>1     </td>\n",
       "        </tr>\n",
       "        <tr>\n",
       "            <td>36    </td> <td>1          </td> <td>1          </td> <td>1     </td>\n",
       "        </tr>\n",
       "        <tr>\n",
       "            <td>39    </td> <td>1          </td> <td>1          </td> <td>1     </td>\n",
       "        </tr>\n",
       "        <tr>\n",
       "            <td>7     </td> <td>1          </td> <td>1          </td> <td>1     </td>\n",
       "        </tr>\n",
       "        <tr>\n",
       "            <td>25    </td> <td>2          </td> <td>1          </td> <td>1     </td>\n",
       "        </tr>\n",
       "    </tbody>\n",
       "</table>\n",
       "<p>... (2990 rows omitted)</p>"
      ],
      "text/plain": [
       "random | eigenvector | betweenness | degree\n",
       "1      | 1           | 1           | 1\n",
       "1      | 1           | 2           | 2\n",
       "19     | 1           | 1           | 1\n",
       "11     | 1           | 1           | 1\n",
       "1      | 1           | 1           | 1\n",
       "1      | 1           | 1           | 1\n",
       "36     | 1           | 1           | 1\n",
       "39     | 1           | 1           | 1\n",
       "7      | 1           | 1           | 1\n",
       "25     | 2           | 1           | 1\n",
       "... (2990 rows omitted)"
      ]
     },
     "execution_count": 61,
     "metadata": {},
     "output_type": "execute_result"
    }
   ],
   "source": [
    "innoc_results = Table().with_columns('random', num_infected_innocrandom,\n",
    "                                     'eigenvector', num_infected_innocec,\n",
    "                                     'betweenness', num_infected_innocbc,\n",
    "                                     'degree', num_infected_innocdegree)\n",
    "\n",
    "innoc_results"
   ]
  },
  {
   "cell_type": "code",
   "execution_count": 62,
   "metadata": {},
   "outputs": [
    {
     "data": {
      "image/png": "[encoded data removed]",
      "text/plain": [
       "<Figure size 432x1152 with 4 Axes>"
      ]
     },
     "metadata": {
      "needs_background": "light"
     },
     "output_type": "display_data"
    }
   ],
   "source": [
    "innoc_results.hist(['random', 'eigenvector', 'degree', 'betweenness'], overlay=False)"
   ]
  },
  {
   "cell_type": "code",
   "execution_count": 63,
   "metadata": {},
   "outputs": [
    {
     "name": "stdout",
     "output_type": "stream",
     "text": [
      "Average difference in # infected under eigenvector - random targeting strategy:  -3.814\n"
     ]
    },
    {
     "data": {
      "image/png": "[encoded data removed]",
      "text/plain": [
       "<Figure size 432x288 with 1 Axes>"
      ]
     },
     "metadata": {
      "needs_background": "light"
     },
     "output_type": "display_data"
    }
   ],
   "source": [
    "diff_ec_rand = innoc_results.column('eigenvector') - innoc_results.column('random')\n",
    "\n",
    "Table().with_column('Eigenvector - Random', diff_ec_rand).hist()\n",
    "print(\"Average difference in # infected under eigenvector - random targeting strategy: \", np.mean(diff_ec_rand))"
   ]
  },
  {
   "cell_type": "code",
   "execution_count": 64,
   "metadata": {},
   "outputs": [
    {
     "name": "stdout",
     "output_type": "stream",
     "text": [
      "Average difference in # infected under Degree - random targeting strategy:  -4.073666666666667\n"
     ]
    },
    {
     "data": {
      "image/png": "[encoded data removed]",
      "text/plain": [
       "<Figure size 432x288 with 1 Axes>"
      ]
     },
     "metadata": {
      "needs_background": "light"
     },
     "output_type": "display_data"
    }
   ],
   "source": [
    "diff_deg_rand = innoc_results.column('degree') - innoc_results.column('random')\n",
    "\n",
    "Table().with_column('Degree - Random', diff_deg_rand).hist()\n",
    "print(\"Average difference in # infected under Degree - random targeting strategy: \", np.mean(diff_deg_rand))"
   ]
  },
  {
   "cell_type": "code",
   "execution_count": 65,
   "metadata": {},
   "outputs": [
    {
     "name": "stdout",
     "output_type": "stream",
     "text": [
      "Average difference in # infected under betweenness - random targeting strategy:  -4.12\n"
     ]
    },
    {
     "data": {
      "image/png": "[encoded data removed]",
      "text/plain": [
       "<Figure size 432x288 with 1 Axes>"
      ]
     },
     "metadata": {
      "needs_background": "light"
     },
     "output_type": "display_data"
    }
   ],
   "source": [
    "diff_bc_rand = innoc_results.column('betweenness') - innoc_results.column('random')\n",
    "\n",
    "Table().with_column('Betweenness - Random', diff_bc_rand).hist()\n",
    "print(\"Average difference in # infected under betweenness - random targeting strategy: \", np.mean(diff_bc_rand))"
   ]
  },
  {
   "cell_type": "markdown",
   "metadata": {
    "deletable": false,
    "editable": false
   },
   "source": [
    "**Question 24** Based on these results, which innoculation strategy appears to be most effective?\n",
    "\n",
    "<!--\n",
    "BEGIN QUESTION\n",
    "name: q24\n",
    "points: 3\n",
    "manual: True\n",
    "-->\n",
    "<!-- EXPORT TO PDF -->"
   ]
  },
  {
   "cell_type": "code",
   "execution_count": null,
   "metadata": {
    "collapsed": true
   },
   "outputs": [],
   "source": [
    "# according to the result above, I think innoculate by betweenness centrality is the best choise. Because the average \n",
    "# difference in infected under betweenness - random targeting strategy is the lowest.(-4.12). And we can also find \n",
    "# that in the histgram above 'betweenness' method has obvious infected people. "
   ]
  },
  {
   "cell_type": "markdown",
   "metadata": {},
   "source": [
    "### Examing the strategies with different budgets"
   ]
  },
  {
   "cell_type": "markdown",
   "metadata": {},
   "source": [
    "Now we're going to conduct one final analysis to understand this problem. Above, we assumed that we always had a fixed number of vaccines. Next, we'll repeat the analysis we did above many different times, each time changing the number of vaccines that we have to distribute. This will help us understand whether or not our conclusions depend on the budget."
   ]
  },
  {
   "cell_type": "markdown",
   "metadata": {
    "deletable": false,
    "editable": false
   },
   "source": [
    "**Question 25** The loop below repeats the analysis above many times across different parameter values. Fill in the missing pieces.   \n",
    "[NOTE: This will take 1-2 minutes to run]\n",
    "\n",
    "<!--\n",
    "BEGIN QUESTION\n",
    "name: q25\n",
    "points: 5\n",
    "manual: False\n",
    "-->"
   ]
  },
  {
   "cell_type": "code",
   "execution_count": 71,
   "metadata": {},
   "outputs": [
    {
     "data": {
      "text/html": [
       "<table border=\"1\" class=\"dataframe\">\n",
       "    <thead>\n",
       "        <tr>\n",
       "            <th>num_vaccines</th> <th>num_infected_random</th> <th>num_infected_degree</th> <th>num_infected_bc</th> <th>num_infected_ec</th>\n",
       "        </tr>\n",
       "    </thead>\n",
       "    <tbody>\n",
       "        <tr>\n",
       "            <td>50          </td> <td>1                  </td> <td>234                </td> <td>288            </td> <td>261            </td>\n",
       "        </tr>\n",
       "        <tr>\n",
       "            <td>50          </td> <td>332                </td> <td>2                  </td> <td>270            </td> <td>260            </td>\n",
       "        </tr>\n",
       "        <tr>\n",
       "            <td>50          </td> <td>348                </td> <td>238                </td> <td>1              </td> <td>2              </td>\n",
       "        </tr>\n",
       "        <tr>\n",
       "            <td>50          </td> <td>331                </td> <td>284                </td> <td>1              </td> <td>189            </td>\n",
       "        </tr>\n",
       "        <tr>\n",
       "            <td>50          </td> <td>365                </td> <td>278                </td> <td>3              </td> <td>2              </td>\n",
       "        </tr>\n",
       "        <tr>\n",
       "            <td>50          </td> <td>357                </td> <td>2                  </td> <td>189            </td> <td>297            </td>\n",
       "        </tr>\n",
       "        <tr>\n",
       "            <td>50          </td> <td>312                </td> <td>1                  </td> <td>1              </td> <td>2              </td>\n",
       "        </tr>\n",
       "        <tr>\n",
       "            <td>50          </td> <td>335                </td> <td>274                </td> <td>240            </td> <td>279            </td>\n",
       "        </tr>\n",
       "        <tr>\n",
       "            <td>50          </td> <td>360                </td> <td>1                  </td> <td>242            </td> <td>2              </td>\n",
       "        </tr>\n",
       "        <tr>\n",
       "            <td>50          </td> <td>330                </td> <td>1                  </td> <td>273            </td> <td>2              </td>\n",
       "        </tr>\n",
       "    </tbody>\n",
       "</table>\n",
       "<p>... (790 rows omitted)</p>"
      ],
      "text/plain": [
       "num_vaccines | num_infected_random | num_infected_degree | num_infected_bc | num_infected_ec\n",
       "50           | 1                   | 234                 | 288             | 261\n",
       "50           | 332                 | 2                   | 270             | 260\n",
       "50           | 348                 | 238                 | 1               | 2\n",
       "50           | 331                 | 284                 | 1               | 189\n",
       "50           | 365                 | 278                 | 3               | 2\n",
       "50           | 357                 | 2                   | 189             | 297\n",
       "50           | 312                 | 1                   | 1               | 2\n",
       "50           | 335                 | 274                 | 240             | 279\n",
       "50           | 360                 | 1                   | 242             | 2\n",
       "50           | 330                 | 1                   | 273             | 2\n",
       "... (790 rows omitted)"
      ]
     },
     "execution_count": 71,
     "metadata": {},
     "output_type": "execute_result"
    }
   ],
   "source": [
    "np.random.seed(99)\n",
    "reps_per_param = 10\n",
    "\n",
    "num_vaccines = np.repeat(np.array([50, 100, 150, 200, 250, 300, 350, 400]),\n",
    "                         reps_per_param)\n",
    "\n",
    "num_infected_random = make_array()\n",
    "num_infected_degree = make_array()\n",
    "num_infected_bc = make_array()\n",
    "num_infected_ec = make_array()\n",
    "\n",
    "for cur_num_vaccines in np.repeat(num_vaccines, reps_per_param):\n",
    "\n",
    "        random_ids = get_random_k(moc_data, cur_num_vaccines)\n",
    "        top_ec_ids = get_top_k(moc_data, \"eigenvector_centrality\" , cur_num_vaccines)\n",
    "        top_bc_ids = get_top_k(moc_data, \"betweenness_centrality\", cur_num_vaccines)\n",
    "        top_degree_ids = get_top_k(moc_data, \"degree\", cur_num_vaccines)\n",
    "\n",
    "        num_infected_random = np.append(num_infected_random, \n",
    "                                    np.sum(sim_epidemic(official_congress_twitter, \n",
    "                                                        beta=beta_param,\n",
    "                                                        innoculated_nodes=random_ids)))\n",
    "        \n",
    "        num_infected_ec = np.append(num_infected_ec, \n",
    "                                    np.sum(sim_epidemic(official_congress_twitter, \n",
    "                                                        beta=beta_param,\n",
    "                                                        innoculated_nodes=top_ec_ids)))\n",
    "        num_infected_bc = np.append(num_infected_bc, \n",
    "                                    np.sum(sim_epidemic(official_congress_twitter, \n",
    "                                                        beta=beta_param,\n",
    "                                                        innoculated_nodes=top_bc_ids)))\n",
    "        num_infected_degree = np.append(num_infected_degree, \n",
    "                                        np.sum(sim_epidemic(official_congress_twitter, \n",
    "                                                            beta=beta_param,\n",
    "                                                            innoculated_nodes=top_degree_ids)))\n",
    "\n",
    "sim_results = Table().with_columns('num_vaccines', np.repeat(num_vaccines, reps_per_param),\n",
    "                                  'num_infected_random', num_infected_random,\n",
    "                                  'num_infected_degree', num_infected_degree,\n",
    "                                  'num_infected_bc', num_infected_bc,\n",
    "                                  'num_infected_ec', num_infected_ec)\n",
    "sim_results"
   ]
  },
  {
   "cell_type": "code",
   "execution_count": 72,
   "metadata": {
    "deletable": false,
    "editable": false
   },
   "outputs": [
    {
     "name": "stdout",
     "output_type": "stream",
     "text": [
      "~~~~~~~~~~~~~~~~~~~~~~~~~~~~~~~~~~~~~~~~~~~~~~~~~~~~~~~~~~~~~~~~~~~~~\n",
      "Running tests\n",
      "\n",
      "---------------------------------------------------------------------\n",
      "Test summary\n",
      "    Passed: 2\n",
      "    Failed: 0\n",
      "[ooooooooook] 100.0% passed\n",
      "\n"
     ]
    }
   ],
   "source": [
    "ok.grade(\"q25\");"
   ]
  },
  {
   "cell_type": "markdown",
   "metadata": {},
   "source": [
    "Next, let's plot the results of the simulation:"
   ]
  },
  {
   "cell_type": "code",
   "execution_count": 73,
   "metadata": {},
   "outputs": [
    {
     "data": {
      "image/png": "[encoded data removed]",
      "text/plain": [
       "<Figure size 360x360 with 1 Axes>"
      ]
     },
     "metadata": {
      "needs_background": "light"
     },
     "output_type": "display_data"
    }
   ],
   "source": [
    "sim_results.scatter('num_vaccines', overlay=True, alpha=.3)"
   ]
  },
  {
   "cell_type": "markdown",
   "metadata": {},
   "source": [
    "It's a little hard to tell what's going on because there's a lot of information being plotted. So we'll aggregate the results of the simulation by calculating the average outbreak size for each vaccination strategy and vaccine budget. Then we'll plot these averages."
   ]
  },
  {
   "cell_type": "markdown",
   "metadata": {
    "deletable": false,
    "editable": false
   },
   "source": [
    "**Question 26** Calculate the average number infected for each value of `num_vaccines` and for each innoculation strategy.\n",
    "\n",
    "<!--\n",
    "BEGIN QUESTION\n",
    "name: q26\n",
    "points: 2\n",
    "manual: False\n",
    "-->"
   ]
  },
  {
   "cell_type": "code",
   "execution_count": 75,
   "metadata": {},
   "outputs": [
    {
     "data": {
      "text/html": [
       "<table border=\"1\" class=\"dataframe\">\n",
       "    <thead>\n",
       "        <tr>\n",
       "            <th>num_vaccines</th> <th>num_infected_random mean</th> <th>num_infected_degree mean</th> <th>num_infected_bc mean</th> <th>num_infected_ec mean</th>\n",
       "        </tr>\n",
       "    </thead>\n",
       "    <tbody>\n",
       "        <tr>\n",
       "            <td>50          </td> <td>249.4                   </td> <td>131.98                  </td> <td>123.53              </td> <td>138.93              </td>\n",
       "        </tr>\n",
       "        <tr>\n",
       "            <td>100         </td> <td>156.98                  </td> <td>29.22                   </td> <td>22.93               </td> <td>52.49               </td>\n",
       "        </tr>\n",
       "        <tr>\n",
       "            <td>150         </td> <td>96.58                   </td> <td>4.18                    </td> <td>4.66                </td> <td>28.53               </td>\n",
       "        </tr>\n",
       "        <tr>\n",
       "            <td>200         </td> <td>41.78                   </td> <td>2.59                    </td> <td>2.92                </td> <td>9.31                </td>\n",
       "        </tr>\n",
       "        <tr>\n",
       "            <td>250         </td> <td>15.73                   </td> <td>1.76                    </td> <td>1.7                 </td> <td>2.95                </td>\n",
       "        </tr>\n",
       "        <tr>\n",
       "            <td>300         </td> <td>3.93                    </td> <td>1.35                    </td> <td>1.43                </td> <td>1.84                </td>\n",
       "        </tr>\n",
       "        <tr>\n",
       "            <td>350         </td> <td>2.82                    </td> <td>1.19                    </td> <td>1.21                </td> <td>1.38                </td>\n",
       "        </tr>\n",
       "        <tr>\n",
       "            <td>400         </td> <td>1.56                    </td> <td>1.14                    </td> <td>1.07                </td> <td>1.13                </td>\n",
       "        </tr>\n",
       "    </tbody>\n",
       "</table>"
      ],
      "text/plain": [
       "num_vaccines | num_infected_random mean | num_infected_degree mean | num_infected_bc mean | num_infected_ec mean\n",
       "50           | 249.4                    | 131.98                   | 123.53               | 138.93\n",
       "100          | 156.98                   | 29.22                    | 22.93                | 52.49\n",
       "150          | 96.58                    | 4.18                     | 4.66                 | 28.53\n",
       "200          | 41.78                    | 2.59                     | 2.92                 | 9.31\n",
       "250          | 15.73                    | 1.76                     | 1.7                  | 2.95\n",
       "300          | 3.93                     | 1.35                     | 1.43                 | 1.84\n",
       "350          | 2.82                     | 1.19                     | 1.21                 | 1.38\n",
       "400          | 1.56                     | 1.14                     | 1.07                 | 1.13"
      ]
     },
     "execution_count": 75,
     "metadata": {},
     "output_type": "execute_result"
    }
   ],
   "source": [
    "sim_results_aggregate = sim_results.group('num_vaccines', np.mean)\n",
    "\n",
    "sim_results_aggregate"
   ]
  },
  {
   "cell_type": "code",
   "execution_count": 76,
   "metadata": {
    "deletable": false,
    "editable": false
   },
   "outputs": [
    {
     "name": "stdout",
     "output_type": "stream",
     "text": [
      "~~~~~~~~~~~~~~~~~~~~~~~~~~~~~~~~~~~~~~~~~~~~~~~~~~~~~~~~~~~~~~~~~~~~~\n",
      "Running tests\n",
      "\n",
      "---------------------------------------------------------------------\n",
      "Test summary\n",
      "    Passed: 1\n",
      "    Failed: 0\n",
      "[ooooooooook] 100.0% passed\n",
      "\n"
     ]
    }
   ],
   "source": [
    "ok.grade(\"q26\");"
   ]
  },
  {
   "cell_type": "code",
   "execution_count": 78,
   "metadata": {},
   "outputs": [
    {
     "name": "stdout",
     "output_type": "stream",
     "text": [
      "avg infected when innoculation based on:\n",
      "... degree:  21.67625\n",
      "... betweenness centrality:  19.931250000000002\n",
      "... eigenvector centrality:  29.570000000000004\n",
      "... random: 71.0975\n"
     ]
    }
   ],
   "source": [
    "print('avg infected when innoculation based on:')\n",
    "print('... degree: ', sim_results_aggregate.column('num_infected_degree mean').mean())\n",
    "print('... betweenness centrality: ', sim_results_aggregate.column('num_infected_bc mean').mean())\n",
    "print('... eigenvector centrality: ', sim_results_aggregate.column('num_infected_ec mean').mean())\n",
    "print('... random:', sim_results_aggregate.column('num_infected_random mean').mean())"
   ]
  },
  {
   "cell_type": "markdown",
   "metadata": {},
   "source": [
    "Finally, let's plot the aggregate results; we'll see a clearer pattern here:"
   ]
  },
  {
   "cell_type": "code",
   "execution_count": 77,
   "metadata": {},
   "outputs": [
    {
     "data": {
      "image/png": "[encoded data removed]",
      "text/plain": [
       "<Figure size 360x360 with 1 Axes>"
      ]
     },
     "metadata": {
      "needs_background": "light"
     },
     "output_type": "display_data"
    }
   ],
   "source": [
    "sim_results_aggregate.scatter('num_vaccines', overlay=True)"
   ]
  },
  {
   "cell_type": "markdown",
   "metadata": {
    "deletable": false,
    "editable": false
   },
   "source": [
    "**Question 27** Based on these results, which innoculation strategy appears to be most effective across the range of vaccine budgets we investigated? Does this change your conclusion from before?\n",
    "\n",
    "<!--\n",
    "BEGIN QUESTION\n",
    "name: q27\n",
    "points: 2\n",
    "manual: True\n",
    "-->\n",
    "<!-- EXPORT TO PDF -->"
   ]
  },
  {
   "cell_type": "code",
   "execution_count": null,
   "metadata": {
    "collapsed": true
   },
   "outputs": [],
   "source": [
    "# Based on these results, It confirms me about my former result - innoculate by betweenness centrality is the most\n",
    "# effective way accross the range of vaccine budgets we investigated.\n",
    "\n",
    "# Because we can easily find that whatever the number of vaccines is, number of infected people using \"innoculate by\n",
    "# betweenness centrality\" is the smallest in the test."
   ]
  },
  {
   "cell_type": "markdown",
   "metadata": {
    "collapsed": true
   },
   "source": [
    "# SUBMIT YOUR ASSIGNMENT"
   ]
  },
  {
   "cell_type": "code",
   "execution_count": 79,
   "metadata": {},
   "outputs": [
    {
     "name": "stdout",
     "output_type": "stream",
     "text": [
      "Running all tests...\n",
      "~~~~~~~~~~~~~~~~~~~~~~~~~~~~~~~~~~~~~~~~~~~~~~~~~~~~~~~~~~~~~~~~~~~~~\n",
      "Running tests\n",
      "\n",
      "---------------------------------------------------------------------\n",
      "Test summary\n",
      "    Passed: 1\n",
      "    Failed: 0\n",
      "[ooooooooook] 100.0% passed\n",
      "\n",
      "~~~~~~~~~~~~~~~~~~~~~~~~~~~~~~~~~~~~~~~~~~~~~~~~~~~~~~~~~~~~~~~~~~~~~\n",
      "Running tests\n",
      "\n",
      "---------------------------------------------------------------------\n",
      "Test summary\n",
      "    Passed: 1\n",
      "    Failed: 0\n",
      "[ooooooooook] 100.0% passed\n",
      "\n",
      "~~~~~~~~~~~~~~~~~~~~~~~~~~~~~~~~~~~~~~~~~~~~~~~~~~~~~~~~~~~~~~~~~~~~~\n",
      "Running tests\n",
      "\n",
      "---------------------------------------------------------------------\n",
      "Test summary\n",
      "    Passed: 1\n",
      "    Failed: 0\n",
      "[ooooooooook] 100.0% passed\n",
      "\n",
      "~~~~~~~~~~~~~~~~~~~~~~~~~~~~~~~~~~~~~~~~~~~~~~~~~~~~~~~~~~~~~~~~~~~~~\n",
      "Running tests\n",
      "\n",
      "---------------------------------------------------------------------\n",
      "Test summary\n",
      "    Passed: 1\n",
      "    Failed: 0\n",
      "[ooooooooook] 100.0% passed\n",
      "\n",
      "~~~~~~~~~~~~~~~~~~~~~~~~~~~~~~~~~~~~~~~~~~~~~~~~~~~~~~~~~~~~~~~~~~~~~\n",
      "Running tests\n",
      "\n",
      "---------------------------------------------------------------------\n",
      "Test summary\n",
      "    Passed: 2\n",
      "    Failed: 0\n",
      "[ooooooooook] 100.0% passed\n",
      "\n",
      "~~~~~~~~~~~~~~~~~~~~~~~~~~~~~~~~~~~~~~~~~~~~~~~~~~~~~~~~~~~~~~~~~~~~~\n",
      "Running tests\n",
      "\n",
      "---------------------------------------------------------------------\n",
      "Test summary\n",
      "    Passed: 2\n",
      "    Failed: 0\n",
      "[ooooooooook] 100.0% passed\n",
      "\n",
      "~~~~~~~~~~~~~~~~~~~~~~~~~~~~~~~~~~~~~~~~~~~~~~~~~~~~~~~~~~~~~~~~~~~~~\n",
      "Running tests\n",
      "\n",
      "---------------------------------------------------------------------\n",
      "Test summary\n",
      "    Passed: 2\n",
      "    Failed: 0\n",
      "[ooooooooook] 100.0% passed\n",
      "\n",
      "~~~~~~~~~~~~~~~~~~~~~~~~~~~~~~~~~~~~~~~~~~~~~~~~~~~~~~~~~~~~~~~~~~~~~\n",
      "Running tests\n",
      "\n",
      "---------------------------------------------------------------------\n",
      "Test summary\n",
      "    Passed: 1\n",
      "    Failed: 0\n",
      "[ooooooooook] 100.0% passed\n",
      "\n",
      "~~~~~~~~~~~~~~~~~~~~~~~~~~~~~~~~~~~~~~~~~~~~~~~~~~~~~~~~~~~~~~~~~~~~~\n",
      "Running tests\n",
      "\n",
      "---------------------------------------------------------------------\n",
      "Test summary\n",
      "    Passed: 2\n",
      "    Failed: 0\n",
      "[ooooooooook] 100.0% passed\n",
      "\n",
      "~~~~~~~~~~~~~~~~~~~~~~~~~~~~~~~~~~~~~~~~~~~~~~~~~~~~~~~~~~~~~~~~~~~~~\n",
      "Running tests\n",
      "\n",
      "---------------------------------------------------------------------\n",
      "Test summary\n",
      "    Passed: 2\n",
      "    Failed: 0\n",
      "[ooooooooook] 100.0% passed\n",
      "\n",
      "~~~~~~~~~~~~~~~~~~~~~~~~~~~~~~~~~~~~~~~~~~~~~~~~~~~~~~~~~~~~~~~~~~~~~\n",
      "Running tests\n",
      "\n",
      "---------------------------------------------------------------------\n",
      "Test summary\n",
      "    Passed: 1\n",
      "    Failed: 0\n",
      "[ooooooooook] 100.0% passed\n",
      "\n",
      "~~~~~~~~~~~~~~~~~~~~~~~~~~~~~~~~~~~~~~~~~~~~~~~~~~~~~~~~~~~~~~~~~~~~~\n",
      "Running tests\n",
      "\n",
      "---------------------------------------------------------------------\n",
      "Test summary\n",
      "    Passed: 4\n",
      "    Failed: 0\n",
      "[ooooooooook] 100.0% passed\n",
      "\n",
      "~~~~~~~~~~~~~~~~~~~~~~~~~~~~~~~~~~~~~~~~~~~~~~~~~~~~~~~~~~~~~~~~~~~~~\n",
      "Running tests\n",
      "\n",
      "---------------------------------------------------------------------\n",
      "Test summary\n",
      "    Passed: 3\n",
      "    Failed: 0\n",
      "[ooooooooook] 100.0% passed\n",
      "\n",
      "~~~~~~~~~~~~~~~~~~~~~~~~~~~~~~~~~~~~~~~~~~~~~~~~~~~~~~~~~~~~~~~~~~~~~\n",
      "Running tests\n",
      "\n",
      "---------------------------------------------------------------------\n",
      "Test summary\n",
      "    Passed: 1\n",
      "    Failed: 0\n",
      "[ooooooooook] 100.0% passed\n",
      "\n",
      "~~~~~~~~~~~~~~~~~~~~~~~~~~~~~~~~~~~~~~~~~~~~~~~~~~~~~~~~~~~~~~~~~~~~~\n",
      "Running tests\n",
      "\n",
      "---------------------------------------------------------------------\n",
      "Test summary\n",
      "    Passed: 1\n",
      "    Failed: 0\n",
      "[ooooooooook] 100.0% passed\n",
      "\n",
      "~~~~~~~~~~~~~~~~~~~~~~~~~~~~~~~~~~~~~~~~~~~~~~~~~~~~~~~~~~~~~~~~~~~~~\n",
      "Running tests\n",
      "\n",
      "---------------------------------------------------------------------\n",
      "Test summary\n",
      "    Passed: 1\n",
      "    Failed: 0\n",
      "[ooooooooook] 100.0% passed\n",
      "\n",
      "~~~~~~~~~~~~~~~~~~~~~~~~~~~~~~~~~~~~~~~~~~~~~~~~~~~~~~~~~~~~~~~~~~~~~\n",
      "Running tests\n",
      "\n",
      "---------------------------------------------------------------------\n",
      "Test summary\n",
      "    Passed: 1\n",
      "    Failed: 0\n",
      "[ooooooooook] 100.0% passed\n",
      "\n",
      "~~~~~~~~~~~~~~~~~~~~~~~~~~~~~~~~~~~~~~~~~~~~~~~~~~~~~~~~~~~~~~~~~~~~~\n",
      "Running tests\n",
      "\n",
      "---------------------------------------------------------------------\n",
      "Test summary\n",
      "    Passed: 2\n",
      "    Failed: 0\n",
      "[ooooooooook] 100.0% passed\n",
      "\n",
      "Finished running all tests.\n"
     ]
    }
   ],
   "source": [
    "import os\n",
    "print(\"Running all tests...\")\n",
    "_ = [ok.grade(q[:-3]) for q in os.listdir(\"tests\") if q.startswith('q')]\n",
    "print(\"Finished running all tests.\")"
   ]
  },
  {
   "cell_type": "markdown",
   "metadata": {},
   "source": [
    "The due time for this homework is Tuesday Aug 13th, at 11:59 pm."
   ]
  },
  {
   "cell_type": "code",
   "execution_count": 83,
   "metadata": {
    "deletable": false,
    "editable": false
   },
   "outputs": [
    {
     "name": "stdout",
     "output_type": "stream",
     "text": [
      "Generating PDF...\n",
      "Saved hw04.pdf\n"
     ]
    },
    {
     "data": {
      "application/javascript": [
       "IPython.notebook.save_checkpoint();"
      ],
      "text/plain": [
       "<IPython.core.display.Javascript object>"
      ]
     },
     "metadata": {},
     "output_type": "display_data"
    },
    {
     "data": {
      "application/javascript": [
       "IPython.notebook.save_notebook();"
      ],
      "text/plain": [
       "<IPython.core.display.Javascript object>"
      ]
     },
     "metadata": {},
     "output_type": "display_data"
    },
    {
     "name": "stdout",
     "output_type": "stream",
     "text": [
      "Saving notebook... Saved 'hw04.ipynb'.\n",
      "Submit... 100% complete\n",
      "Submission successful for user: ziqiyuan123@berkeley.edu\n",
      "URL: https://okpy.org/cal/demog180/su19/hw04/submissions/YW8ZpK\n",
      "\n"
     ]
    }
   ],
   "source": [
    "# Save your notebook first, then run this cell to submit.\n",
    "import jassign.to_pdf\n",
    "jassign.to_pdf.generate_pdf('hw04.ipynb', 'hw04.pdf')\n",
    "ok.submit()"
   ]
  },
  {
   "cell_type": "code",
   "execution_count": null,
   "metadata": {},
   "outputs": [],
   "source": []
  }
 ],
 "metadata": {
  "anaconda-cloud": {},
  "kernelspec": {
   "display_name": "Python 3",
   "language": "python",
   "name": "python3"
  },
  "language_info": {
   "codemirror_mode": {
    "name": "ipython",
    "version": 3
   },
   "file_extension": ".py",
   "mimetype": "text/x-python",
   "name": "python",
   "nbconvert_exporter": "python",
   "pygments_lexer": "ipython3",
   "version": "3.6.8"
  }
 },
 "nbformat": 4,
 "nbformat_minor": 1
}
